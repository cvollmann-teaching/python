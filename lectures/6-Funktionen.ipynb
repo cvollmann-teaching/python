{
 "cells": [
  {
   "cell_type": "markdown",
   "metadata": {
    "toc": true
   },
   "source": [
    "<h1>Funktionen<span class=\"tocSkip\"></span></h1>\n",
    "<div class=\"toc\"><ul class=\"toc-item\"><li><span><a href=\"#Funktionen\" data-toc-modified-id=\"Funktionen-6\"><span class=\"toc-item-num\">6&nbsp;&nbsp;</span>Funktionen</a></span><ul class=\"toc-item\"><li><span><a href=\"#Einleitung\" data-toc-modified-id=\"Einleitung-6.1\"><span class=\"toc-item-num\">6.1&nbsp;&nbsp;</span>Einleitung</a></span></li><li><span><a href=\"#Funktionsparameter\" data-toc-modified-id=\"Funktionsparameter-6.2\"><span class=\"toc-item-num\">6.2&nbsp;&nbsp;</span>Funktionsparameter</a></span><ul class=\"toc-item\"><li><span><a href=\"#Funktionsaufruf:-Positionsparameter-(positional-arguments)-und-Schlüsselwortparameter-(keyword-arguments)\" data-toc-modified-id=\"Funktionsaufruf:-Positionsparameter-(positional-arguments)-und-Schlüsselwortparameter-(keyword-arguments)-6.2.1\"><span class=\"toc-item-num\">6.2.1&nbsp;&nbsp;</span>Funktionsaufruf: Positionsparameter (<em>positional arguments</em>) und Schlüsselwortparameter (<em>keyword arguments</em>)</a></span></li><li><span><a href=\"#Optionale-Parameter-(default-argument)\" data-toc-modified-id=\"Optionale-Parameter-(default-argument)-6.2.2\"><span class=\"toc-item-num\">6.2.2&nbsp;&nbsp;</span>Optionale Parameter (default argument)</a></span></li><li><span><a href=\"#Beliebig-viele-Parameter\" data-toc-modified-id=\"Beliebig-viele-Parameter-6.2.3\"><span class=\"toc-item-num\">6.2.3&nbsp;&nbsp;</span>Beliebig viele Parameter</a></span></li><li><span><a href=\"#Parameter-ausschließlich-für-Aufruf-als-keyword-argument-zulassen-(keyword-only-argument)\" data-toc-modified-id=\"Parameter-ausschließlich-für-Aufruf-als-keyword-argument-zulassen-(keyword-only-argument)-6.2.4\"><span class=\"toc-item-num\">6.2.4&nbsp;&nbsp;</span>Parameter ausschließlich für Aufruf als keyword argument zulassen (<em>keyword-only argument</em>)</a></span></li><li><span><a href=\"#Zusammenfassung-der-Regeln\" data-toc-modified-id=\"Zusammenfassung-der-Regeln-6.2.5\"><span class=\"toc-item-num\">6.2.5&nbsp;&nbsp;</span>Zusammenfassung der Regeln</a></span><ul class=\"toc-item\"><li><span><a href=\"#Bei-der-Funktionsdefinition:\" data-toc-modified-id=\"Bei-der-Funktionsdefinition:-6.2.5.1\"><span class=\"toc-item-num\">6.2.5.1&nbsp;&nbsp;</span>Bei der <strong>Funktionsdefinition</strong>:</a></span></li><li><span><a href=\"#Bei-Funktionsaufruf-(Parameterübergabe-an-die-Schnittstelle):\" data-toc-modified-id=\"Bei-Funktionsaufruf-(Parameterübergabe-an-die-Schnittstelle):-6.2.5.2\"><span class=\"toc-item-num\">6.2.5.2&nbsp;&nbsp;</span>Bei <strong>Funktionsaufruf</strong> (Parameterübergabe an die Schnittstelle):</a></span></li></ul></li><li><span><a href=\"#Entpacken-einer-Parameterliste-(Unpacking)\" data-toc-modified-id=\"Entpacken-einer-Parameterliste-(Unpacking)-6.2.6\"><span class=\"toc-item-num\">6.2.6&nbsp;&nbsp;</span>Entpacken einer Parameterliste (Unpacking)</a></span></li></ul></li><li><span><a href=\"#Eingebaute-Funktionen-(built-in-functions)\" data-toc-modified-id=\"Eingebaute-Funktionen-(built-in-functions)-6.3\"><span class=\"toc-item-num\">6.3&nbsp;&nbsp;</span>Eingebaute Funktionen (built-in functions)</a></span></li><li><span><a href=\"#Rekursion-def-func():-return-func()\" data-toc-modified-id=\"Rekursion-def-func():-return-func()-6.4\"><span class=\"toc-item-num\">6.4&nbsp;&nbsp;</span>Rekursion <code>def func(): return func()</code></a></span></li><li><span><a href=\"#Anonyme-Funktionen-lambda\" data-toc-modified-id=\"Anonyme-Funktionen-lambda-6.5\"><span class=\"toc-item-num\">6.5&nbsp;&nbsp;</span>Anonyme Funktionen <code>lambda</code></a></span></li><li><span><a href=\"#Namensräume-(global,-nonlocal)\" data-toc-modified-id=\"Namensräume-(global,-nonlocal)-6.6\"><span class=\"toc-item-num\">6.6&nbsp;&nbsp;</span>Namensräume (<code>global</code>, <code>nonlocal</code>)</a></span><ul class=\"toc-item\"><li><span><a href=\"#Verschachtelte-Funktionen\" data-toc-modified-id=\"Verschachtelte-Funktionen-6.6.1\"><span class=\"toc-item-num\">6.6.1&nbsp;&nbsp;</span>Verschachtelte Funktionen</a></span></li><li><span><a href=\"#Seiteneffekte-(side-effects)-bei-mutable\" data-toc-modified-id=\"Seiteneffekte-(side-effects)-bei-mutable-6.6.2\"><span class=\"toc-item-num\">6.6.2&nbsp;&nbsp;</span>Seiteneffekte (side effects) bei mutable</a></span></li></ul></li><li><span><a href=\"#Magic-functions\" data-toc-modified-id=\"Magic-functions-6.7\"><span class=\"toc-item-num\">6.7&nbsp;&nbsp;</span>Magic functions</a></span></li></ul></li></ul></div>"
   ]
  },
  {
   "cell_type": "markdown",
   "metadata": {
    "slideshow": {
     "slide_type": "slide"
    }
   },
   "source": [
    "# Funktionen"
   ]
  },
  {
   "cell_type": "markdown",
   "metadata": {
    "slideshow": {
     "slide_type": "skip"
    }
   },
   "source": [
    "- Quellen: \n",
    "  - J.Ernesti, P.Kaiser, *Python 3 - Das umfassende Handbuch*: Teil 1 - Kapitel 9\n",
    "  - H-P. Gumm, M. Sommer: Programmierung, Algorithmen und Datenstrukturen - Kapitel 2.6"
   ]
  },
  {
   "cell_type": "markdown",
   "metadata": {
    "slideshow": {
     "slide_type": "subslide"
    }
   },
   "source": [
    "## Einleitung\n",
    "\n",
    "Funktionalitäten, die in einem Code öfter verwendet werden, sollten als Funktion implementiert werden, denn: (?)\n"
   ]
  },
  {
   "cell_type": "markdown",
   "metadata": {
    "slideshow": {
     "slide_type": "fragment"
    }
   },
   "source": [
    "Sinnvolle **Strukturierung** in autonome Unterprogramme, die man einzeln programmieren kann:\n",
    " - verhindert **Redundanz** im Quellcode\n",
    " - verbessert die **Lesbarkeit**\n",
    " - **Wartbarkeit**: Die einzelnen Bausteine können individuell ausgiebig getestet werden\n",
    " - **Wiederverwendbarkeit**: Falls eine klare Spezifikation und sinnvolle Schnittstellen definiert sind, kann ein anderer Programmierer sich darauf verlassen und die Funktion in seinem Programm verwenden.\n",
    " - **Zusammenarbeit:** Die einzelnen Bausteine können getrennt voneinander programmiert werden (wenn Schnittstellen klar)\n",
    "  \n",
    " $\\rightarrow$ Funktionen sind ein mächtiges Stukturierungswerkzeug"
   ]
  },
  {
   "cell_type": "markdown",
   "metadata": {
    "slideshow": {
     "slide_type": "subslide"
    }
   },
   "source": [
    "Syntaktisch korrekte Definition einer Funktion:"
   ]
  },
  {
   "cell_type": "code",
   "execution_count": null,
   "metadata": {
    "slideshow": {
     "slide_type": "fragment"
    }
   },
   "outputs": [],
   "source": [
    "def Funktionsname(Funktionsparameter):\n",
    "    \"\"\"\n",
    "        docstring\n",
    "    \"\"\"\n",
    "    \"Funktionskoerper\"\n",
    "    # return Rueckgabewert"
   ]
  },
  {
   "cell_type": "markdown",
   "metadata": {
    "slideshow": {
     "slide_type": "fragment"
    }
   },
   "source": [
    "Bestandteile einer Funktion\n",
    "   - *Funktionsname* \n",
    "       - damit kann die Funktion im Hauptprogramm aufgerufen werden\n",
    "       - es gelten dieselben Regeln wie bei der Namensgebung einer Referenz\n",
    "   - *Funktionsparameter/Argumente*\n",
    "       - Namentlicher Platzhalter für die übergebenen Instanzen (Anzahl Parameter $\\geq 0$)\n",
    "       - Gesamtheit der Parameter wird auch Funktionsschnittstelle genannt (hier fließt die Information vom aufrufenden Programm in den Funktionskörper)\n",
    "   - *Funktionsdokumentation* (optional)\n",
    "       - essentiell für die Dokumentation des Programms\n",
    "       - abrufbar via `Funktionsname.__doc__` oder `help(Funktionsname)`\n",
    "   - *Funktionskörper*\n",
    "       - besteht aus einem beliebigen Codeblock; kann  also insbesondere wieder Funktionen enthalten\n",
    "       - hier werden Parameternamen als Referenzen verwendet\n",
    "   - *Rückgabewert* (optional)\n",
    "       - Mit dem Schlüsselwort `return` kann der Funktionsablauf an einer **beliebigen** Stelle abgebrochen werden (vgl. `break` für Schleifen)\n",
    "       - `return` ohne Rückgabewert gibt `None` zurück"
   ]
  },
  {
   "cell_type": "markdown",
   "metadata": {
    "slideshow": {
     "slide_type": "subslide"
    }
   },
   "source": [
    "**Beispiel**"
   ]
  },
  {
   "cell_type": "code",
   "execution_count": 1,
   "metadata": {
    "slideshow": {
     "slide_type": "fragment"
    }
   },
   "outputs": [
    {
     "name": "stdout",
     "output_type": "stream",
     "text": [
      "Return value of the function is: 24\n",
      "\n",
      "The docstring is:\n",
      " \n",
      "    Compute factorial of a natural number n: \n",
      "            n! = n*(n-1)*...*2*1\n",
      "    \n"
     ]
    }
   ],
   "source": [
    "def factorial(n):\n",
    "    \"\"\"\n",
    "    Compute factorial of a natural number n: \n",
    "            n! = n*(n-1)*...*2*1\n",
    "    \"\"\"\n",
    "    result = 1\n",
    "    for i in range(2, n + 1):\n",
    "        result = result * i\n",
    "        #print(\"Print result within function:\", result)\n",
    "    return result\n",
    "ergebnis = factorial(4)\n",
    "print(\"Return value of the function is:\", ergebnis)\n",
    "print(\"\\nThe docstring is:\\n\",factorial.__doc__) #help(factorial)"
   ]
  },
  {
   "cell_type": "markdown",
   "metadata": {
    "slideshow": {
     "slide_type": "fragment"
    }
   },
   "source": [
    "Der Rückgabewert der Funktion kann nun über `ergebnis` referenziert werden."
   ]
  },
  {
   "cell_type": "markdown",
   "metadata": {
    "slideshow": {
     "slide_type": "subslide"
    }
   },
   "source": [
    "**Funktion als Unterprogramm verwenden**"
   ]
  },
  {
   "cell_type": "code",
   "execution_count": 4,
   "metadata": {
    "slideshow": {
     "slide_type": "fragment"
    }
   },
   "outputs": [
    {
     "name": "stdout",
     "output_type": "stream",
     "text": [
      "Enter integer: 42\n",
      "1405006117752879898543142606244511569936384000000000\n",
      "Enter integer: -2\n"
     ]
    }
   ],
   "source": [
    "n = 1\n",
    "while n:\n",
    "    n = int(input(\"Enter integer: \"))\n",
    "    if n < 0:\n",
    "        break\n",
    "    print(factorial(n))"
   ]
  },
  {
   "cell_type": "markdown",
   "metadata": {
    "slideshow": {
     "slide_type": "fragment"
    }
   },
   "source": [
    "Sinnvolle Struktur:\n",
    " - Das obige (Haupt-)Programm regelt allein die Interaktion mit dem Benutzer\n",
    " - Das Unterprogramm, d.h. die Funktion `factorial`, kümmert sich um die Berechnung des gewünschten Wertes und gibt diesen an das Hauptprogramm zurück.\n",
    " - Insbesondere ist es wünschenswert, dass die Funktion `factorial` auch für andere Programme zur Verfügung steht (Stichwort: Modularisierung)"
   ]
  },
  {
   "cell_type": "markdown",
   "metadata": {
    "slideshow": {
     "slide_type": "subslide"
    }
   },
   "source": [
    "## Funktionsparameter\n",
    "\n",
    "**Bei Funktionsaufruf:**\n",
    "   - Positionsparameter (positional arguments) und Schlüsselwortparameter (keyword arguments)\n",
    "   \n",
    "**Bei Funktionsdefinition:**\n",
    "   - Ausschließlich Positionsparameter:\n",
    "        - `func(par_1,...,par_n)`\n",
    "   - Zusatzoptionen:\n",
    "        - optionale Parameter:\n",
    "            - `func(par1,..., parn, optpar1[, optpar2[,...[,optparn]...])`\n",
    "        - beliebige Anzahl von Parametern: $^*$args, $^{**}$kwargs\n",
    "            - `func(par1,..., parn[, optpar1[,...[,optparn]...], *args, **kwargs)`\n",
    "        - keyword-only parameter\n"
   ]
  },
  {
   "cell_type": "markdown",
   "metadata": {
    "slideshow": {
     "slide_type": "subslide"
    }
   },
   "source": [
    "### Funktionsaufruf: Positionsparameter (*positional arguments*) und Schlüsselwortparameter (*keyword arguments*)\n",
    "\n",
    "- zwei Formen der Parameterübergabe beim **Funktionsaufruf**: Positionsparameter und Schlüsselwortparameter\n",
    "- Bemerkung! Es ändert sich nichts bei der **Funktionsdefinition** (dh. Deklaration ist wie gehabt)"
   ]
  },
  {
   "cell_type": "code",
   "execution_count": 5,
   "metadata": {
    "slideshow": {
     "slide_type": "fragment"
    }
   },
   "outputs": [
    {
     "name": "stdout",
     "output_type": "stream",
     "text": [
      "2\n",
      "2\n",
      "2\n",
      "2\n"
     ]
    }
   ],
   "source": [
    "# Beispiel \n",
    "def summe(a, b, c):\n",
    "    return a + b - c\n",
    "print(summe(1, 2, 1))                      # positional only\n",
    "print(summe(a = 1, b = 2, c = 1))          # keyword only\n",
    "print(summe(a = 1, c = 1, b = 2))          # keyword only, different order\n",
    "print(summe(1, 2, c = 1))                  # mixed: keyword and positional arguments"
   ]
  },
  {
   "cell_type": "markdown",
   "metadata": {
    "slideshow": {
     "slide_type": "subslide"
    }
   },
   "source": [
    "**Regeln:**\n",
    " - keyword arguments immer am Ende der Parameterliste sonst: \n",
    " \n",
    " `SyntaxError: positional argument follows keyword argument`"
   ]
  },
  {
   "cell_type": "code",
   "execution_count": 6,
   "metadata": {
    "scrolled": false,
    "slideshow": {
     "slide_type": "fragment"
    }
   },
   "outputs": [
    {
     "ename": "SyntaxError",
     "evalue": "positional argument follows keyword argument (<ipython-input-6-3e321b829d00>, line 1)",
     "output_type": "error",
     "traceback": [
      "\u001B[0;36m  File \u001B[0;32m\"<ipython-input-6-3e321b829d00>\"\u001B[0;36m, line \u001B[0;32m1\u001B[0m\n\u001B[0;31m    print(summe(c = 2, b = 5, 1))\u001B[0m\n\u001B[0m                              ^\u001B[0m\n\u001B[0;31mSyntaxError\u001B[0m\u001B[0;31m:\u001B[0m positional argument follows keyword argument\n"
     ]
    }
   ],
   "source": [
    "print(summe(c = 2, b = 5, 1))"
   ]
  },
  {
   "cell_type": "markdown",
   "metadata": {
    "slideshow": {
     "slide_type": "fragment"
    }
   },
   "source": [
    " - innerhalb der keyword arguments beliebige Reihenfolge möglich, da bei der Parameterübergabe eindeutige Parameternamen verwendet werden"
   ]
  },
  {
   "cell_type": "code",
   "execution_count": 7,
   "metadata": {
    "scrolled": true,
    "slideshow": {
     "slide_type": "fragment"
    }
   },
   "outputs": [
    {
     "name": "stdout",
     "output_type": "stream",
     "text": [
      "4\n",
      "4\n"
     ]
    }
   ],
   "source": [
    "print(summe(a = 1, b = 2, c = -1)) \n",
    "print(summe(a = 1, c = -1, b = 2))  "
   ]
  },
  {
   "cell_type": "markdown",
   "metadata": {
    "slideshow": {
     "slide_type": "skip"
    }
   },
   "source": [
    " - diese Aufrufstechnik funktioniert für optionale Parameter (s.u.) gleichermaßen"
   ]
  },
  {
   "cell_type": "markdown",
   "metadata": {
    "slideshow": {
     "slide_type": "subslide"
    }
   },
   "source": [
    "### Optionale Parameter (default argument)"
   ]
  },
  {
   "cell_type": "markdown",
   "metadata": {
    "slideshow": {
     "slide_type": "subslide"
    }
   },
   "source": [
    "**Beispiel:** `range`\n",
    "\n",
    "Ein Blick in die Dokumentation\n",
    "```python \n",
    "help(range)\n",
    "```\n",
    "liefert die Funktionsschnittstelle:\n",
    "```python\n",
    "range(start, stop[, step])\n",
    "```"
   ]
  },
  {
   "cell_type": "code",
   "execution_count": 10,
   "metadata": {
    "scrolled": true,
    "slideshow": {
     "slide_type": "fragment"
    }
   },
   "outputs": [
    {
     "name": "stdout",
     "output_type": "stream",
     "text": [
      "[0, 1, 2, 3, 4, 5, 6, 7, 8, 9]\n",
      "[3, 4, 5, 6, 7, 8, 9]\n",
      "[3, 5, 7, 9]\n"
     ]
    }
   ],
   "source": [
    "# example\n",
    "print(list(range(10)))\n",
    "print(list(range(3,10)))\n",
    "print(list(range(3,10,2)))"
   ]
  },
  {
   "cell_type": "markdown",
   "metadata": {
    "slideshow": {
     "slide_type": "fragment"
    }
   },
   "source": [
    "**Beobachtung**\n",
    " - manche Parameter scheinen optional zu sein, d.h., können beim Funktionsaufruf weggelassen werden (wie `step`)\n",
    "   - sog. **optionale Parameter** (*default arguments*)\n",
    "   - funktionsintern müssen sie mit einem Standardwert (default) vorbelegt sein\n",
    " - Dokumentation der Schnittstelle: `(pospar1,...,posparN, optpar1[, optpar2 [,..., optparM]...])`"
   ]
  },
  {
   "cell_type": "markdown",
   "metadata": {
    "slideshow": {
     "slide_type": "subslide"
    }
   },
   "source": [
    "Bleibt zu klären, wie wir optionale Parameter bei der **Funktionsdefinition** ausweisen:\n",
    "\n",
    "   - Schreibweise in der Parameterschnittstelle als Schlüssel-Wert Paar: `optionaler Parameter = Standardwert`"
   ]
  },
  {
   "cell_type": "code",
   "execution_count": 11,
   "metadata": {
    "slideshow": {
     "slide_type": "fragment"
    }
   },
   "outputs": [],
   "source": [
    "# Beispiel \n",
    "def summe(a, b, c = -1):\n",
    "    \"\"\"Compute the sum of input values.\"\"\"\n",
    "    return a + b + c"
   ]
  },
  {
   "cell_type": "markdown",
   "metadata": {
    "slideshow": {
     "slide_type": "fragment"
    }
   },
   "source": [
    "Nun verschiedene Funktionsaufrufe:"
   ]
  },
  {
   "cell_type": "code",
   "execution_count": 12,
   "metadata": {
    "slideshow": {
     "slide_type": "fragment"
    }
   },
   "outputs": [
    {
     "name": "stdout",
     "output_type": "stream",
     "text": [
      "2\n"
     ]
    }
   ],
   "source": [
    "# optionale Parameter koennen weggelassen werden:\n",
    "print(summe(1, 2))"
   ]
  },
  {
   "cell_type": "code",
   "execution_count": null,
   "metadata": {
    "slideshow": {
     "slide_type": "fragment"
    }
   },
   "outputs": [],
   "source": [
    "# Positionsparameter duerfen nicht weggelassen werden\n",
    "print(summe(1))"
   ]
  },
  {
   "cell_type": "code",
   "execution_count": 14,
   "metadata": {
    "slideshow": {
     "slide_type": "fragment"
    }
   },
   "outputs": [
    {
     "name": "stdout",
     "output_type": "stream",
     "text": [
      "6 6\n"
     ]
    }
   ],
   "source": [
    "# optionale Parameter koennen als Positions- oder Schluesselwortparameter uebergeben werden, wenn nur \n",
    "# endlich viele Positionsparameter definiert sind (dann klar wann optionale Parameter anfangen)\n",
    "print(summe(1, 2, 3), summe(1, 2, c=3))"
   ]
  },
  {
   "cell_type": "markdown",
   "metadata": {
    "slideshow": {
     "slide_type": "subslide"
    }
   },
   "source": [
    "**Regeln**\n",
    "\n",
    "Für die **Funktionsdefinition** gilt: Optionale Parameter müssen am Ende der Parameterliste stehen\n",
    "- damit ist sichergestellt, dass alle Positionsparameter eindeutig zugeordnet werden können\n",
    "\n",
    "Vgl.: Bei **Funktionsaufruf** gilt: Schlüsselwortparameter müssen am Ende der Parameterliste stehen"
   ]
  },
  {
   "cell_type": "code",
   "execution_count": 15,
   "metadata": {
    "scrolled": false,
    "slideshow": {
     "slide_type": "fragment"
    }
   },
   "outputs": [
    {
     "ename": "SyntaxError",
     "evalue": "non-default argument follows default argument (<ipython-input-15-aeb4011a9b51>, line 2)",
     "output_type": "error",
     "traceback": [
      "\u001B[0;36m  File \u001B[0;32m\"<ipython-input-15-aeb4011a9b51>\"\u001B[0;36m, line \u001B[0;32m2\u001B[0m\n\u001B[0;31m    def summe(a, c = 0, b):\u001B[0m\n\u001B[0m              ^\u001B[0m\n\u001B[0;31mSyntaxError\u001B[0m\u001B[0;31m:\u001B[0m non-default argument follows default argument\n"
     ]
    }
   ],
   "source": [
    "# Verstoß bei Definition\n",
    "def summe(a, c = 0, b):\n",
    "    \"\"\"Compute the sum of input values.\"\"\"\n",
    "    return a + b - c\n",
    "\n",
    "# wenn der optionale Parameter c weggelassen wird (summe(par1, par2)), dann ist nicht klar, \n",
    "# ob par2 für c oder b stehen soll"
   ]
  },
  {
   "cell_type": "markdown",
   "metadata": {
    "slideshow": {
     "slide_type": "subslide"
    }
   },
   "source": [
    "### Beliebig viele Parameter\n"
   ]
  },
  {
   "cell_type": "markdown",
   "metadata": {
    "slideshow": {
     "slide_type": "fragment"
    }
   },
   "source": [
    "Zunächst ein Beispiel: `print()`\n",
    "\n",
    "Ein Blick in die Dokumentation\n",
    "```python \n",
    "help(print)\n",
    "```\n",
    "liefert die Funktionsschnittstelle:\n",
    "```python\n",
    "print(value, ..., sep=' ', end='\\n', file=sys.stdout, flush=False)\n",
    "```"
   ]
  },
  {
   "cell_type": "code",
   "execution_count": 16,
   "metadata": {
    "slideshow": {
     "slide_type": "fragment"
    }
   },
   "outputs": [
    {
     "name": "stdout",
     "output_type": "stream",
     "text": [
      "T\n",
      "T R\n",
      "T-R-I-E-R\n"
     ]
    }
   ],
   "source": [
    "print(\"T\")\n",
    "print(\"T\", \"R\")\n",
    "print(\"T\", \"R\", \"I\", \"E\", \"R\", sep=\"-\")"
   ]
  },
  {
   "cell_type": "code",
   "execution_count": 18,
   "metadata": {
    "scrolled": false,
    "slideshow": {
     "slide_type": "subslide"
    }
   },
   "outputs": [
    {
     "name": "stdout",
     "output_type": "stream",
     "text": [
      "Leonhard\tEuler\t1707\n",
      "------------------------------\n",
      "Carl Friedrich\tGauß\t1777\n",
      "------------------------------\n",
      "Gilbert \tStrang\t1934\n",
      "------------------------------\n"
     ]
    }
   ],
   "source": [
    "Vornamen = [\"Leonhard\", \"Carl Friedrich\", \"Gilbert \"]\n",
    "Namen    = [\"Euler\", \"Gauß\", \"Strang\"]\n",
    "Geb      = [1707, 1777, 1934]\n",
    "for v, n, g in zip(Vornamen, Namen, Geb):\n",
    "    print(v, n, g, sep=\"\\t\", end=\"\\n\"+\"-\"*30+\"\\n\")"
   ]
  },
  {
   "cell_type": "markdown",
   "metadata": {
    "slideshow": {
     "slide_type": "fragment"
    }
   },
   "source": [
    "**Beobachtung**\n",
    " - wir können nicht nur optionale Parameter an `print()` übergeben, sondern auch **beliebig viele** Parameter"
   ]
  },
  {
   "cell_type": "markdown",
   "metadata": {
    "slideshow": {
     "slide_type": "subslide"
    }
   },
   "source": [
    "Bleibt zu klären, wie wir \"beliebig viele\" Parameter bei der **Funktionsdefinition** ausweisen:\n",
    "\n",
    "- `func(par1,..., parn, opar1=def1,...,oparn=defn, *args, **kwargs)`\n",
    "    - $^*$args = `tuple` bestehend aus übergebenen positional **arg**ument**s**\n",
    "    - $^{**}$kwargs = `dict` bestehend aus übergebenen **k**ey**w**ord **arg**ument**s**\n",
    "- Dokumentation der Schnittstelle:\n",
    "    - `func(par1,..., parn[, opar1[,...[,oparn]...], *args, **kwargs)`"
   ]
  },
  {
   "cell_type": "code",
   "execution_count": 19,
   "metadata": {
    "scrolled": true,
    "slideshow": {
     "slide_type": "fragment"
    }
   },
   "outputs": [
    {
     "name": "stdout",
     "output_type": "stream",
     "text": [
      "Help on function function in module __main__:\n",
      "\n",
      "function(a, b=0, *args, **kwargs)\n",
      "\n"
     ]
    }
   ],
   "source": [
    "def function(a, b = 0, *args, **kwargs):\n",
    "    print(\"Feste Positionsparameter:\", a)\n",
    "    print(\"Feste optionale Parameter:\",b)\n",
    "    print(\"Beliebig viele weitere Positionsparameter:\", args)\n",
    "    print(\"Beliebig viele weitere Schlüsselwortparameter:\",kwargs)\n",
    "    print()\n",
    "help(function)"
   ]
  },
  {
   "cell_type": "markdown",
   "metadata": {
    "slideshow": {
     "slide_type": "subslide"
    }
   },
   "source": [
    "- Syntax bei **Funktionsaufruf** (Parameterübergabe):\n",
    "    - `func(par1,...,parN, opar1[, opar2,...,oparM], arg1,...,argL, kwargs1 = (), ...,kwargsK = ())`"
   ]
  },
  {
   "cell_type": "code",
   "execution_count": 24,
   "metadata": {
    "scrolled": false,
    "slideshow": {
     "slide_type": "fragment"
    }
   },
   "outputs": [
    {
     "name": "stdout",
     "output_type": "stream",
     "text": [
      "Feste Positionsparameter: 1\n",
      "Feste optionale Parameter: 10\n",
      "Beliebig viele weitere Positionsparameter: ('args1', ['args2'], 'args3', 10, 15)\n",
      "Beliebig viele weitere Schlüsselwortparameter: {'kwargs1': 1, 'kwargs2': 2, 'hallo': 'Welt'}\n",
      "\n"
     ]
    }
   ],
   "source": [
    "def function(a, b = 0, *args, **kwargs):\n",
    "    print(\"Feste Positionsparameter:\", a)\n",
    "    print(\"Feste optionale Parameter:\",b)\n",
    "    print(\"Beliebig viele weitere Positionsparameter:\", args)\n",
    "    print(\"Beliebig viele weitere Schlüsselwortparameter:\",kwargs)\n",
    "    print()\n",
    "function(1, 10, \"args1\", [\"args2\"], \"args3\",10, 15, kwargs1 = 1, kwargs2 = 2, hallo=\"Welt\")"
   ]
  },
  {
   "cell_type": "markdown",
   "metadata": {
    "slideshow": {
     "slide_type": "skip"
    }
   },
   "source": [
    "**Regeln**"
   ]
  },
  {
   "cell_type": "markdown",
   "metadata": {
    "slideshow": {
     "slide_type": "skip"
    }
   },
   "source": [
    "**Funktionsdefinition**: Optionale Parameter müssen am Ende der Parameterliste stehen"
   ]
  },
  {
   "cell_type": "code",
   "execution_count": null,
   "metadata": {
    "slideshow": {
     "slide_type": "skip"
    }
   },
   "outputs": [],
   "source": [
    "def function(a, b = 0, *args, **kwargs, c):\n",
    "    print(\"Feste Positionsparameter:\", a)\n",
    "    print(\"Feste optionale Parameter:\",b)\n",
    "    print(\"Beliebig viele weitere Positionsparameter:\", args)\n",
    "    print(\"Beliebig viele weitere Schlüsselwortparameter:\",kwargs)\n",
    "    print()"
   ]
  },
  {
   "cell_type": "markdown",
   "metadata": {
    "slideshow": {
     "slide_type": "skip"
    }
   },
   "source": [
    "**Funktionsaufruf**: Schlüsselwortparameter müssen am Ende der Parameterliste stehen"
   ]
  },
  {
   "cell_type": "code",
   "execution_count": null,
   "metadata": {
    "slideshow": {
     "slide_type": "skip"
    }
   },
   "outputs": [],
   "source": [
    "def function(a, b = 0, *args, **kwargs):\n",
    "    print(\"Feste Positionsparameter:\", a)\n",
    "    print(\"Feste optionale Parameter:\",b)\n",
    "    print(\"Beliebig viele weitere Positionsparameter:\", args)\n",
    "    print(\"Beliebig viele weitere Schlüsselwortparameter:\",kwargs)\n",
    "    print()\n",
    "#function(1, keyword = \"hi\", \"args1\", [\"args2\"], \"args3\", kwargs1 = 1, kwargs2 = 2)\n",
    "function(1, \"hi\", \"args1\", [\"args2\"], \"args3\", kwargs1 = 1, kwargs2 = 2)"
   ]
  },
  {
   "cell_type": "markdown",
   "metadata": {
    "slideshow": {
     "slide_type": "skip"
    }
   },
   "source": []
  },
  {
   "cell_type": "markdown",
   "metadata": {
    "slideshow": {
     "slide_type": "subslide"
    }
   },
   "source": [
    "**Funktionsintern mit den Parametern arbeiten** `*args`\n",
    "\n",
    " - args referenziert funktionsintern ein Tupel\n",
    " - naheliegend, da Positionsparameter *geordnet* übergeben werden (ohne Schlüsselwort; Index ausreichend) und da Parameterliste nicht veränderlich sein muss\n",
    " - darf leer sein"
   ]
  },
  {
   "cell_type": "code",
   "execution_count": 29,
   "metadata": {
    "slideshow": {
     "slide_type": "fragment"
    }
   },
   "outputs": [],
   "source": [
    "def summe(*arg):\n",
    "    \"\"\"Compute sum of input values.\"\"\"\n",
    "    print(arg)\n",
    "    result = 0\n",
    "    for num in arg:  # tuple ist iterierbar\n",
    "        print(num, result)\n",
    "        result += num\n",
    "    return result"
   ]
  },
  {
   "cell_type": "code",
   "execution_count": null,
   "metadata": {
    "slideshow": {
     "slide_type": "fragment"
    }
   },
   "outputs": [],
   "source": [
    "summe(1, 2, 3, 4, 5, 6, -1)"
   ]
  },
  {
   "cell_type": "markdown",
   "metadata": {
    "slideshow": {
     "slide_type": "subslide"
    }
   },
   "source": [
    "**Funktionsintern mit den Parametern arbeiten** `**kwargs`\n",
    "\n",
    " - kwargs referenziert funktionsintern ein Dictionary\n",
    " - naheliegend, da Schlüsselwortparameter als Schlüssel-Wert Paar übergeben werden\n",
    " - darf leer sein"
   ]
  },
  {
   "cell_type": "code",
   "execution_count": 36,
   "metadata": {
    "slideshow": {
     "slide_type": "fragment"
    }
   },
   "outputs": [],
   "source": [
    "def create_dict(**kwargs):\n",
    "    \"\"\"Mimic built-in function dict().\"\"\"\n",
    "    for key in kwargs:  # ein Dictionary ist iterierbar\n",
    "        print(key, kwargs[key])\n",
    "    return kwargs"
   ]
  },
  {
   "cell_type": "code",
   "execution_count": 35,
   "metadata": {
    "slideshow": {
     "slide_type": "fragment"
    }
   },
   "outputs": [
    {
     "name": "stdout",
     "output_type": "stream",
     "text": [
      "program Programm\n",
      "bus Bus\n",
      "ice Eis\n",
      "day Tag\n",
      "\n",
      " Return value of create_dict:\n",
      " None\n"
     ]
    }
   ],
   "source": [
    "EN_DE = create_dict(program = \"Programm\", bus = \"Bus\", ice = \"Eis\", day = \"Tag\")\n",
    "print(\"\\n Return value of create_dict:\\n\", EN_DE)"
   ]
  },
  {
   "cell_type": "code",
   "execution_count": 37,
   "metadata": {
    "scrolled": false,
    "slideshow": {
     "slide_type": "fragment"
    }
   },
   "outputs": [
    {
     "name": "stdout",
     "output_type": "stream",
     "text": [
      "Return value of dict:\n",
      " {'program': 'Programm', 'bus': 'Bus', 'ice': 'Eis', 'day': 'Tag'}\n"
     ]
    }
   ],
   "source": [
    "EN_DE = dict(program = \"Programm\", bus = \"Bus\", ice = \"Eis\", day = \"Tag\")\n",
    "print(\"Return value of dict:\\n\",EN_DE)"
   ]
  },
  {
   "cell_type": "markdown",
   "metadata": {
    "slideshow": {
     "slide_type": "subslide"
    }
   },
   "source": [
    "### Parameter ausschließlich für Aufruf als keyword argument zulassen (*keyword-only argument*)\n",
    "\n",
    "Wir haben gesehen, dass wir Parameter sowohl als Positionsparameter, als auch als Schlüsselwortparameter übergeben können. \n",
    "\n",
    "Es gibt allerdings (mindestens) eine Ausnahme:\n",
    "\n",
    " - Parameter (ohne default Wert) nach `*` oder `*args` **müssen** als keyword argument an die Schnittstelle übergeben werden\n",
    " - Das ist sinnvoll, da sonst auch nicht klar, wann `*args` tatsächlich endet."
   ]
  },
  {
   "cell_type": "code",
   "execution_count": null,
   "metadata": {
    "slideshow": {
     "slide_type": "fragment"
    }
   },
   "outputs": [],
   "source": [
    "def function(a, keyword = 1, *args, kwonly, **kwargs):\n",
    "    print(\"a = \",a)\n",
    "    print(\"keyword = \", keyword)\n",
    "    print(\"args = \", args)\n",
    "    print(\"keyword-only = \", kwonly)\n",
    "    print(\"kwargs:\", kwargs)"
   ]
  },
  {
   "cell_type": "code",
   "execution_count": null,
   "metadata": {
    "slideshow": {
     "slide_type": "fragment"
    }
   },
   "outputs": [],
   "source": [
    "# richtig: kwonly argument nach *args\n",
    "function(1, \"a\" ,\"b1\", \"b2\", kwonly = 2, kwargs1 = 1, kwargs2 = 2)"
   ]
  },
  {
   "cell_type": "code",
   "execution_count": null,
   "metadata": {
    "slideshow": {
     "slide_type": "fragment"
    }
   },
   "outputs": [],
   "source": [
    "# ansonsten: \n",
    "function(1, \"a\" ,\"b1\", \"b2\", 2, kwargs1 = 1, kwargs2 = 2)"
   ]
  },
  {
   "cell_type": "markdown",
   "metadata": {
    "slideshow": {
     "slide_type": "skip"
    }
   },
   "source": [
    "Reine Schlüsselwortparameter können auch definiert werden, ohne gleichzeitig beliebig viele Positionsparameter zuzulassen: Trennung durch `*`"
   ]
  },
  {
   "cell_type": "code",
   "execution_count": null,
   "metadata": {
    "slideshow": {
     "slide_type": "skip"
    }
   },
   "outputs": [],
   "source": [
    "def function(a, *, keyword):\n",
    "    print(\"a =\",a)    \n",
    "    print(\"keyword =\", keyword)\n",
    "function(1, keyword = \"hallo\")\n",
    "function(1, \"hallo\")"
   ]
  },
  {
   "cell_type": "markdown",
   "metadata": {
    "slideshow": {
     "slide_type": "subslide"
    }
   },
   "source": [
    "### Zusammenfassung der Regeln\n",
    "\n",
    "#### Bei der **Funktionsdefinition**:\n"
   ]
  },
  {
   "cell_type": "markdown",
   "metadata": {
    "slideshow": {
     "slide_type": "fragment"
    }
   },
   "source": [
    "1. positional vor optional \n",
    "     - sonst `SyntaxError: non-default argument follows default argument`"
   ]
  },
  {
   "cell_type": "code",
   "execution_count": 38,
   "metadata": {
    "scrolled": true,
    "slideshow": {
     "slide_type": "fragment"
    }
   },
   "outputs": [
    {
     "ename": "SyntaxError",
     "evalue": "non-default argument follows default argument (<ipython-input-38-17bd9705dc6a>, line 2)",
     "output_type": "error",
     "traceback": [
      "\u001B[0;36m  File \u001B[0;32m\"<ipython-input-38-17bd9705dc6a>\"\u001B[0;36m, line \u001B[0;32m2\u001B[0m\n\u001B[0;31m    def function(keyword=0, a):\u001B[0m\n\u001B[0m                 ^\u001B[0m\n\u001B[0;31mSyntaxError\u001B[0m\u001B[0;31m:\u001B[0m non-default argument follows default argument\n"
     ]
    }
   ],
   "source": [
    "# positional vor optional\n",
    "def function(keyword=0, a):\n",
    "    pass"
   ]
  },
  {
   "cell_type": "code",
   "execution_count": null,
   "metadata": {
    "slideshow": {
     "slide_type": "skip"
    }
   },
   "outputs": [],
   "source": [
    "# allerdings:\n",
    "def function(*,keyword=0, a):\n",
    "    pass"
   ]
  },
  {
   "cell_type": "markdown",
   "metadata": {
    "slideshow": {
     "slide_type": "subslide"
    }
   },
   "source": [
    " 2. `**kwargs` immer am Ende\n",
    "     - sonst `SyntaxError: invalid syntax`"
   ]
  },
  {
   "cell_type": "code",
   "execution_count": 39,
   "metadata": {
    "slideshow": {
     "slide_type": "fragment"
    }
   },
   "outputs": [
    {
     "ename": "SyntaxError",
     "evalue": "invalid syntax (<ipython-input-39-86b97c620d6c>, line 2)",
     "output_type": "error",
     "traceback": [
      "\u001B[0;36m  File \u001B[0;32m\"<ipython-input-39-86b97c620d6c>\"\u001B[0;36m, line \u001B[0;32m2\u001B[0m\n\u001B[0;31m    def function(**kwargs, optional = 0):\u001B[0m\n\u001B[0m                           ^\u001B[0m\n\u001B[0;31mSyntaxError\u001B[0m\u001B[0;31m:\u001B[0m invalid syntax\n"
     ]
    }
   ],
   "source": [
    "# **kwargs zum Schluss\n",
    "def function(**kwargs, optional = 0):\n",
    "    pass"
   ]
  },
  {
   "cell_type": "markdown",
   "metadata": {
    "slideshow": {
     "slide_type": "fragment"
    }
   },
   "source": [
    "**Zusammenfassende Empfehlung**:\n",
    "```python\n",
    "def func(par1,..., parN, opar1=val1,...,oparM=valM, *args, kwonly1=val1,...,kwonlyK=valK, **kwargs):\n",
    "    \"\"\"docstring\"\"\"\n",
    "    return\n",
    "```"
   ]
  },
  {
   "cell_type": "markdown",
   "metadata": {
    "slideshow": {
     "slide_type": "subslide"
    }
   },
   "source": [
    "#### Bei **Funktionsaufruf** (Parameterübergabe an die Schnittstelle):"
   ]
  },
  {
   "cell_type": "markdown",
   "metadata": {
    "slideshow": {
     "slide_type": "fragment"
    }
   },
   "source": [
    "1. positional vor keyword argument\n",
    "     - sonst `SyntaxError: positional argument follows keyword argument` "
   ]
  },
  {
   "cell_type": "code",
   "execution_count": null,
   "metadata": {
    "slideshow": {
     "slide_type": "fragment"
    }
   },
   "outputs": [],
   "source": [
    "def function(a, keyword = 1, *args, kwonly, **kwargs):\n",
    "    print(\"a = \",a)\n",
    "    print(\"keyword = \", keyword)\n",
    "    print(\"args = \", args)\n",
    "    print(\"keyword-only = \", kwonly)\n",
    "    print(\"kwargs:\", kwargs)\n",
    "\n",
    "function(111, 111, \"args1\", \"args2\", kwonly = 2, kwargs1 = 1, kwargs2 = 2, 2)"
   ]
  },
  {
   "cell_type": "markdown",
   "metadata": {
    "slideshow": {
     "slide_type": "subslide"
    }
   },
   "source": [
    "2. keyword-only arguments **ohne** default-Wert als keyword argument übergeben\n",
    "     - sonst `TypeError: function() missing 1 required keyword-only argument: 'kwonly'` <br><br>\n"
   ]
  },
  {
   "cell_type": "code",
   "execution_count": null,
   "metadata": {
    "slideshow": {
     "slide_type": "fragment"
    }
   },
   "outputs": [],
   "source": [
    "def function(a, keyword = 1, *args, kwonly, **kwargs):\n",
    "    print(\"a = \",a)\n",
    "    print(\"keyword = \", keyword)\n",
    "    print(\"args = \", args)\n",
    "    print(\"keyword-only = \", kwonly)\n",
    "    print(\"kwargs:\", kwargs)\n",
    "\n",
    "function(111, 111, \"args1\", \"args2\", 2,  kwargs1 = 1, kwargs2 = 2)"
   ]
  },
  {
   "cell_type": "markdown",
   "metadata": {
    "slideshow": {
     "slide_type": "skip"
    }
   },
   "source": [
    "### Entpacken einer Parameterliste (Unpacking)\n",
    "\n",
    "Beim Funktionsaufruf (Parameterübergabe an die Schnittstelle) lautet die Syntax:\n",
    "- Liste und Tuple:\n",
    "    - `*list`\n",
    "    - `*tuple`\n",
    "- Dictionary:\n",
    "    - `**dict`"
   ]
  },
  {
   "cell_type": "code",
   "execution_count": null,
   "metadata": {
    "slideshow": {
     "slide_type": "skip"
    }
   },
   "outputs": [],
   "source": [
    "a = 3,4,5 # packing\n",
    "print(*a)  # unpacking"
   ]
  },
  {
   "cell_type": "code",
   "execution_count": null,
   "metadata": {
    "slideshow": {
     "slide_type": "skip"
    }
   },
   "outputs": [],
   "source": [
    "a = {\"a\":1, \"b\":2}\n",
    "print(*a)       # unpacking"
   ]
  },
  {
   "cell_type": "code",
   "execution_count": null,
   "metadata": {
    "slideshow": {
     "slide_type": "skip"
    }
   },
   "outputs": [],
   "source": [
    "[*a]"
   ]
  },
  {
   "cell_type": "code",
   "execution_count": null,
   "metadata": {
    "slideshow": {
     "slide_type": "skip"
    }
   },
   "outputs": [],
   "source": [
    "def summe(*args):\n",
    "    result = 0\n",
    "    for i in args:\n",
    "        result += i\n",
    "    return result\n",
    "\n",
    "a = 1,2,3 # tuple packing, equivalent: (1,2,3,4)\n",
    "b = [1,2,3] # [*a]\n"
   ]
  },
  {
   "cell_type": "code",
   "execution_count": null,
   "metadata": {
    "slideshow": {
     "slide_type": "skip"
    }
   },
   "outputs": [],
   "source": [
    "print(summe(*a))\n",
    "print(summe(*b))\n",
    "print(summe(*a, *b))\n"
   ]
  },
  {
   "cell_type": "markdown",
   "metadata": {
    "slideshow": {
     "slide_type": "subslide"
    }
   },
   "source": [
    "## Eingebaute Funktionen (built-in functions)\n",
    "\n",
    " - vordefinierte Funktionen, die dem Programmierer jederzeit zur Verfügung stehen\n",
    " - Vollständige Liste:\n",
    "https://docs.python.org/3/library/functions.html"
   ]
  },
  {
   "cell_type": "markdown",
   "metadata": {
    "slideshow": {
     "slide_type": "fragment"
    }
   },
   "source": [
    "https://www.math.uni-trier.de/~vollmann/prog/img/built-in-functions.png"
   ]
  },
  {
   "cell_type": "markdown",
   "metadata": {
    "slideshow": {
     "slide_type": "subslide"
    }
   },
   "source": [
    "## Rekursion `def func(): return func()`"
   ]
  },
  {
   "cell_type": "markdown",
   "metadata": {
    "slideshow": {
     "slide_type": "fragment"
    }
   },
   "source": [
    " - Ein Funktion `f()` ist rekursiv, falls im Funktionskörper schon ein Aufruf von `f()`vorkommt.\n",
    " - Die rekursiven Aufrufe müssen irgendwann in einen Basisfall münden, der keine rekursiven Aufrufe\n",
    "mehr enthält."
   ]
  },
  {
   "cell_type": "code",
   "execution_count": 41,
   "metadata": {
    "scrolled": true,
    "slideshow": {
     "slide_type": "fragment"
    }
   },
   "outputs": [
    {
     "data": {
      "text/plain": [
       "1405006117752879898543142606244511569936384000000000"
      ]
     },
     "execution_count": 41,
     "metadata": {},
     "output_type": "execute_result"
    }
   ],
   "source": [
    "def factorial(n): \n",
    "    if n > 0:\n",
    "        return factorial(n-1) * n\n",
    "    else:\n",
    "        return 1      # recursion + conditional expression\n",
    "factorial(42)"
   ]
  },
  {
   "cell_type": "code",
   "execution_count": 42,
   "metadata": {
    "slideshow": {
     "slide_type": "fragment"
    }
   },
   "outputs": [
    {
     "data": {
      "text/plain": [
       "120"
      ]
     },
     "execution_count": 42,
     "metadata": {},
     "output_type": "execute_result"
    }
   ],
   "source": [
    "# compare to:\n",
    "def factorial(n):\n",
    "    if n < 0:\n",
    "        return None\n",
    "    result = 1\n",
    "    for i in range(2, n + 1):\n",
    "        result *= i\n",
    "    return result\n",
    "factorial(5)"
   ]
  },
  {
   "cell_type": "markdown",
   "metadata": {
    "slideshow": {
     "slide_type": "fragment"
    }
   },
   "source": [
    "- Rekursionstiefe ist Python-intern auf einen bestimmten Wert beschränkt (avoid stack overflow)\n",
    "- Jede rekursive Funktion kann in eine iterative Funktion umgewandelt werden (mit Kontrollstrukturen).\n",
    "    - Rekursion: eleganter, kürzer, aber langsamer\n",
    "    - Iteration: schneller, aber evtl. komplizierter und länger"
   ]
  },
  {
   "cell_type": "markdown",
   "metadata": {
    "slideshow": {
     "slide_type": "subslide"
    }
   },
   "source": [
    "## Anonyme Funktionen `lambda ` "
   ]
  },
  {
   "cell_type": "markdown",
   "metadata": {
    "slideshow": {
     "slide_type": "fragment"
    }
   },
   "source": [
    " - Bisher: Schlüsselwort `def`\n",
    "   - Dadurch wird ein sogenanntes *Funktionsobjekt* (--> objektorientiertes Porgrammieren mit Python später) erzeugt.\n",
    " - Mit `type()` können wir den Datentyp bzw. Objekttyp abfragen"
   ]
  },
  {
   "cell_type": "code",
   "execution_count": 44,
   "metadata": {
    "slideshow": {
     "slide_type": "fragment"
    }
   },
   "outputs": [],
   "source": [
    "def f(x,y,z):\n",
    "    if z==0:\n",
    "        return x*y\n",
    "    else:\n",
    "        return z\n",
    "type(f)\n",
    "a = 5"
   ]
  },
  {
   "cell_type": "markdown",
   "metadata": {
    "slideshow": {
     "slide_type": "fragment"
    }
   },
   "source": [
    " - In Python sind Funktionen also letztlich wieder von einem bestimmten Datentyp bzw. Objekttyp. \n",
    " - Wir werden sehen: Instanzen können mit dem Zuweisungsoperatior `=` ähnlich erzeugt werden und zwar mit dem Schlüsselwort `lambda`."
   ]
  },
  {
   "cell_type": "code",
   "execution_count": 46,
   "metadata": {
    "slideshow": {
     "slide_type": "subslide"
    }
   },
   "outputs": [
    {
     "name": "stdout",
     "output_type": "stream",
     "text": [
      "3 2\n"
     ]
    }
   ],
   "source": [
    "f = lambda x, y, z: x*y if z == 0 else z\n",
    "print(f(1,2,3), f(1,2,0))"
   ]
  },
  {
   "cell_type": "markdown",
   "metadata": {
    "slideshow": {
     "slide_type": "fragment"
    }
   },
   "source": [
    " - Syntax `function_name = lambda par1, ..., parn: <arithmetic, logical, conditional> expression`\n",
    " - ` f = lambda parameter:wert` lesen wir \"f ist die Funktion, welche *parameter* den Wert *wert* zuordnet\"  "
   ]
  },
  {
   "cell_type": "markdown",
   "metadata": {
    "slideshow": {
     "slide_type": "subslide"
    }
   },
   "source": [
    "## Namensräume (`global`, `nonlocal`)\n",
    "\n",
    "Funktionen können eigene Hilfsvariablen definieren und verwenden. Dabei kann es vorkommen, dass ein Variablenname benutzt wird, welcher außerhalb der Funktion bereits vorgekommen ist.\n",
    "\n",
    "Wir schauen uns an wie Python sich hier verhält:"
   ]
  },
  {
   "cell_type": "markdown",
   "metadata": {
    "slideshow": {
     "slide_type": "fragment"
    }
   },
   "source": [
    "Im Kontext einer Funktion innerhalb eines Hauptprogramms:\n",
    "\n",
    " - **lokaler** Namensraum für Referenzen/Instanzen = innerhalb des Funktionskörpers\n",
    "\n",
    " - **globaler** Namensraum für Referenzen/Instanzen = im Hauptprogramm \n",
    "\n",
    "Wir unterscheiden analog auch *globale* und *lokale* Referenzen"
   ]
  },
  {
   "cell_type": "markdown",
   "metadata": {
    "slideshow": {
     "slide_type": "subslide"
    }
   },
   "source": [
    "**Standardverhalten in Python**\n",
    "\n",
    "global  $~~~~~\\rightarrow~~~~~$ lokal\n",
    " - Im Funktionskörper können wir immer globale Referenzen verwenden, sofern keine lokale Referenz mit demselben Namen existiert!"
   ]
  },
  {
   "cell_type": "code",
   "execution_count": null,
   "metadata": {
    "slideshow": {
     "slide_type": "fragment"
    }
   },
   "outputs": [],
   "source": [
    "def f():\n",
    "    print(s)\n",
    "s = \"global\"\n",
    "f()"
   ]
  },
  {
   "cell_type": "code",
   "execution_count": null,
   "metadata": {
    "slideshow": {
     "slide_type": "fragment"
    }
   },
   "outputs": [],
   "source": [
    "def f():\n",
    "    s = \"lokal\"\n",
    "    print(s)\n",
    "s = \"global\"\n",
    "f()\n",
    "print(s)"
   ]
  },
  {
   "cell_type": "markdown",
   "metadata": {
    "slideshow": {
     "slide_type": "subslide"
    }
   },
   "source": [
    "global  $~~~~~\\leftarrow~~~~~$ lokal\n",
    " - Möchten wir explizit im Funktionskörper eine globale Variable verändern, dann müssen wir dies im Funktionskörper explizit ausweisen.\n",
    " - Solche Variablen müssen mit dem Schlüsselwort `global` dekoriert werden."
   ]
  },
  {
   "cell_type": "code",
   "execution_count": null,
   "metadata": {
    "slideshow": {
     "slide_type": "fragment"
    }
   },
   "outputs": [],
   "source": [
    "s = [\"global\"]\n",
    "print(s)\n",
    "def f():\n",
    "    global s # wir verleihen Schreibrechte auf die globale Referenz\n",
    "    s += [\"lokal\"] # Wert [\"global\"] der Instanz aus dem Hauptprogramm wird verändert \n",
    "    print(s)\n",
    "f()"
   ]
  },
  {
   "cell_type": "markdown",
   "metadata": {
    "slideshow": {
     "slide_type": "fragment"
    }
   },
   "source": [
    " - Die lokale Referenz `s` mit gleichem Namen einer globalen Referenz, zeigt nun tatsächlich auf dieselbe entsprechende Instanz vom Hauptprogramm.\n",
    " - Hier im Beispiel können wir die Zeile `global s` nicht ohne Fehlermeldung löschen (*UnboundLocalError: local variable 's' referenced before assignment*)"
   ]
  },
  {
   "cell_type": "markdown",
   "metadata": {
    "slideshow": {
     "slide_type": "subslide"
    }
   },
   "source": [
    "### Verschachtelte Funktionen\n",
    "\n",
    "Was passiert wenn wir mehrere Funktionen ineinander verschachteln?\n",
    "\n",
    "`global` = äußester Namensraum\n",
    "\n",
    "`nonlocal` = einen Namensraum höher"
   ]
  },
  {
   "cell_type": "code",
   "execution_count": null,
   "metadata": {
    "slideshow": {
     "slide_type": "fragment"
    }
   },
   "outputs": [],
   "source": [
    "def f1():\n",
    "    a = \"lokal1\"\n",
    "    def f2():\n",
    "        #nonlocal a             # entscheidet ob wir Schreibrechte für a außerhalb von f2 haben oder nicht\n",
    "        #a = \"lokal2\"\n",
    "        return\n",
    "    f2()\n",
    "    print(a)\n",
    "f1()"
   ]
  },
  {
   "cell_type": "markdown",
   "metadata": {
    "slideshow": {
     "slide_type": "subslide"
    }
   },
   "source": [
    "### Seiteneffekte (side effects) bei mutable\n"
   ]
  },
  {
   "cell_type": "markdown",
   "metadata": {
    "slideshow": {
     "slide_type": "fragment"
    }
   },
   "source": [
    "**Vorsicht:** Python-Funktionen arbeiten nach dem Prinzip *call by reference* ($\\neq$ *call by value*), d.h., beim Funktionsaufruf (Parameterübergabe an die Funktionsschnittstelle) werden die Instanzen der übergebenen Parameter nicht kopiert (*call by value* - langsamer), sondern intern wird mit Referenzen auf diese gearbeitet"
   ]
  },
  {
   "cell_type": "code",
   "execution_count": null,
   "metadata": {
    "slideshow": {
     "slide_type": "fragment"
    }
   },
   "outputs": [],
   "source": [
    "def f(a,b):\n",
    "    print(id(a),id(b))\n",
    "p = 1\n",
    "q = [1,2]\n",
    "print(id(p),id(q))\n",
    "f(p,q)"
   ]
  },
  {
   "cell_type": "markdown",
   "metadata": {
    "slideshow": {
     "slide_type": "subslide"
    }
   },
   "source": [
    "**Also:** Vorsicht bei mutable Datentyp (`list`, `dict`)!!!"
   ]
  },
  {
   "cell_type": "code",
   "execution_count": null,
   "metadata": {
    "slideshow": {
     "slide_type": "fragment"
    }
   },
   "outputs": [],
   "source": [
    "a = [1,2]\n",
    "def f(p):\n",
    "    p += [3,4]\n",
    "print(a)\n",
    "f(a)\n",
    "print(a)"
   ]
  },
  {
   "cell_type": "markdown",
   "metadata": {
    "slideshow": {
     "slide_type": "subslide"
    }
   },
   "source": [
    "**Workaround**\n",
    "\n",
    "Falls das explizit nicht gewünscht ist, dann Kopie erstellen.\n",
    "\n",
    "**Bemerkung:** Kopien sequentieller Datentyp über den Zugriffsoperator (*slicing operator*) `seq_copy = seq[:]`"
   ]
  },
  {
   "cell_type": "code",
   "execution_count": null,
   "metadata": {
    "slideshow": {
     "slide_type": "fragment"
    }
   },
   "outputs": [],
   "source": [
    "a = [1,2]\n",
    "def f(p):\n",
    "    p += [3,4]\n",
    "print(a)\n",
    "f(a[:]) # wir übergeben hier eine Kopie (id(a[:] != id(a)))\n",
    "print(a)"
   ]
  },
  {
   "cell_type": "markdown",
   "metadata": {
    "slideshow": {
     "slide_type": "subslide"
    }
   },
   "source": [
    "**Vorischt 2:** Keine mutables als Defaultwerte\n",
    "\n",
    "Instanz wird nur einmalig beim *ersten* Funktionsaufruf erzeugt und nicht bei jedem Weiteren neu."
   ]
  },
  {
   "cell_type": "code",
   "execution_count": null,
   "metadata": {
    "slideshow": {
     "slide_type": "fragment"
    }
   },
   "outputs": [],
   "source": [
    "def f(a = [0]):\n",
    "    a += [1]\n",
    "    print(a)\n",
    "f()\n",
    "f()"
   ]
  },
  {
   "cell_type": "markdown",
   "metadata": {
    "slideshow": {
     "slide_type": "fragment"
    }
   },
   "source": [
    "##### Workaround 2"
   ]
  },
  {
   "cell_type": "code",
   "execution_count": null,
   "metadata": {
    "slideshow": {
     "slide_type": "fragment"
    }
   },
   "outputs": [],
   "source": [
    "def f(a = None):\n",
    "    if a == None:\n",
    "        a = [0]\n",
    "    print(a)\n",
    "f()\n",
    "f()"
   ]
  },
  {
   "cell_type": "markdown",
   "metadata": {
    "slideshow": {
     "slide_type": "subslide"
    }
   },
   "source": [
    "## Magic functions\n",
    "\n",
    "- Konsole und Python shell unterstützen sogenannte \"magic functions\", indem man vor einen Befehl `%` schreibt\n",
    "- zum Beispiel `%run myscript.py`, `%whos`, `%timeit`"
   ]
  },
  {
   "cell_type": "code",
   "execution_count": null,
   "metadata": {
    "scrolled": true,
    "slideshow": {
     "slide_type": "fragment"
    }
   },
   "outputs": [],
   "source": [
    "#%timeit x = 10\n",
    "%whos function"
   ]
  }
 ],
 "metadata": {
  "celltoolbar": "Slideshow",
  "kernelspec": {
   "display_name": "Python 3",
   "language": "python",
   "name": "python3"
  },
  "language_info": {
   "codemirror_mode": {
    "name": "ipython",
    "version": 3
   },
   "file_extension": ".py",
   "mimetype": "text/x-python",
   "name": "python",
   "nbconvert_exporter": "python",
   "pygments_lexer": "ipython3",
   "version": "3.8.10"
  },
  "latex_envs": {
   "LaTeX_envs_menu_present": true,
   "autoclose": false,
   "autocomplete": true,
   "bibliofile": "biblio.bib",
   "cite_by": "apalike",
   "current_citInitial": 1,
   "eqLabelWithNumbers": true,
   "eqNumInitial": 1,
   "hotkeys": {
    "equation": "Ctrl-E",
    "itemize": "Ctrl-I"
   },
   "labels_anchors": false,
   "latex_user_defs": false,
   "report_style_numbering": false,
   "user_envs_cfg": false
  },
  "toc": {
   "base_numbering": "6",
   "nav_menu": {},
   "number_sections": true,
   "sideBar": true,
   "skip_h1_title": false,
   "title_cell": "Funktionen",
   "title_sidebar": "Contents",
   "toc_cell": true,
   "toc_position": {
    "height": "calc(100% - 180px)",
    "left": "10px",
    "top": "150px",
    "width": "410.517px"
   },
   "toc_section_display": true,
   "toc_window_display": false
  },
  "varInspector": {
   "cols": {
    "lenName": 16,
    "lenType": 16,
    "lenVar": 40
   },
   "kernels_config": {
    "python": {
     "delete_cmd_postfix": "",
     "delete_cmd_prefix": "del ",
     "library": "var_list.py",
     "varRefreshCmd": "print(var_dic_list())"
    },
    "r": {
     "delete_cmd_postfix": ") ",
     "delete_cmd_prefix": "rm(",
     "library": "var_list.r",
     "varRefreshCmd": "cat(var_dic_list()) "
    }
   },
   "types_to_exclude": [
    "module",
    "function",
    "builtin_function_or_method",
    "instance",
    "_Feature"
   ],
   "window_display": false
  }
 },
 "nbformat": 4,
 "nbformat_minor": 2
}
