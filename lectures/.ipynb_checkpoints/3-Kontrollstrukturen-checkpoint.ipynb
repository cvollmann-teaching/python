{
 "cells": [
  {
   "cell_type": "markdown",
   "metadata": {
    "slideshow": {
     "slide_type": "slide"
    },
    "toc": true
   },
   "source": [
    "<h1>Kontrollstrukturen<span class=\"tocSkip\"></span></h1>\n",
    "<div class=\"toc\"><ul class=\"toc-item\"><li><span><a href=\"#Kontrollstrukturen\" data-toc-modified-id=\"Kontrollstrukturen-2\"><span class=\"toc-item-num\">2&nbsp;&nbsp;</span>Kontrollstrukturen</a></span><ul class=\"toc-item\"><li><span><a href=\"#Allgemeine-Anweisungsblöcke\" data-toc-modified-id=\"Allgemeine-Anweisungsblöcke-2.1\"><span class=\"toc-item-num\">2.1&nbsp;&nbsp;</span>Allgemeine Anweisungsblöcke</a></span></li><li><span><a href=\"#Fallunterscheidungen\" data-toc-modified-id=\"Fallunterscheidungen-2.2\"><span class=\"toc-item-num\">2.2&nbsp;&nbsp;</span>Fallunterscheidungen</a></span><ul class=\"toc-item\"><li><span><a href=\"#Der-Datentyp-bool\" data-toc-modified-id=\"Der-Datentyp-bool-2.2.1\"><span class=\"toc-item-num\">2.2.1&nbsp;&nbsp;</span>Der Datentyp <code>bool</code></a></span></li><li><span><a href=\"#if-if-vs.-if-elif\" data-toc-modified-id=\"if-if-vs.-if-elif-2.2.2\"><span class=\"toc-item-num\">2.2.2&nbsp;&nbsp;</span><code>if if</code> vs. <code>if elif</code></a></span></li><li><span><a href=\"#Und-else?\" data-toc-modified-id=\"Und-else?-2.2.3\"><span class=\"toc-item-num\">2.2.3&nbsp;&nbsp;</span>Und <code>else</code>?</a></span></li><li><span><a href=\"#Conditional-Expression-(dt.-&quot;bedingter-Ausdruck'')\" data-toc-modified-id=\"Conditional-Expression-(dt.-&quot;bedingter-Ausdruck'')-2.2.4\"><span class=\"toc-item-num\">2.2.4&nbsp;&nbsp;</span>Conditional Expression (dt. \"bedingter Ausdruck'')</a></span></li></ul></li><li><span><a href=\"#Schleifen\" data-toc-modified-id=\"Schleifen-2.3\"><span class=\"toc-item-num\">2.3&nbsp;&nbsp;</span>Schleifen</a></span><ul class=\"toc-item\"><li><span><a href=\"#while\" data-toc-modified-id=\"while-2.3.1\"><span class=\"toc-item-num\">2.3.1&nbsp;&nbsp;</span><code>while</code></a></span><ul class=\"toc-item\"><li><span><a href=\"#Vorzeitiger-Abbruch-einer-Schleife--break\" data-toc-modified-id=\"Vorzeitiger-Abbruch-einer-Schleife--break-2.3.1.1\"><span class=\"toc-item-num\">2.3.1.1&nbsp;&nbsp;</span>Vorzeitiger Abbruch einer Schleife  <code>break</code></a></span></li><li><span><a href=\"#Vorzeitiger-Abbruch-eines-Schleifen-durchlaufs-continue\" data-toc-modified-id=\"Vorzeitiger-Abbruch-eines-Schleifen-durchlaufs-continue-2.3.1.2\"><span class=\"toc-item-num\">2.3.1.2&nbsp;&nbsp;</span>Vorzeitiger Abbruch eines Schleifen-durchlaufs <code>continue</code></a></span></li></ul></li><li><span><a href=\"#for-Schleife\" data-toc-modified-id=\"for-Schleife-2.3.2\"><span class=\"toc-item-num\">2.3.2&nbsp;&nbsp;</span><code>for</code> Schleife</a></span></li><li><span><a href=\"#Beispiel:-Newtonverfahren-mit-Toleranz\" data-toc-modified-id=\"Beispiel:-Newtonverfahren-mit-Toleranz-2.3.3\"><span class=\"toc-item-num\">2.3.3&nbsp;&nbsp;</span>Beispiel: Newtonverfahren mit Toleranz</a></span></li></ul></li><li><span><a href=\"#Die-pass---Anweisung\" data-toc-modified-id=\"Die-pass---Anweisung-2.4\"><span class=\"toc-item-num\">2.4&nbsp;&nbsp;</span>Die <code>pass</code> - Anweisung</a></span></li></ul></li></ul></div>"
   ]
  },
  {
   "cell_type": "markdown",
   "metadata": {
    "slideshow": {
     "slide_type": "fragment"
    }
   },
   "source": [
    "- J.Ernesti, P.Kaiser, *Python 3 - Das umfassende Handbuch*: Teil 1 - Kapitel 5\n",
    "- Scipy Lecture Notes: <a href=\"https://scipy-lectures.org/intro/intro.html\"> 1.1.</a>, <a href=\"https://scipy-lectures.org/intro/language/python_language.html\"> 1.2.1-4</a>\n",
    "- https://de.wikipedia.org/wiki/Kontrollstruktur"
   ]
  },
  {
   "cell_type": "markdown",
   "metadata": {
    "slideshow": {
     "slide_type": "slide"
    }
   },
   "source": [
    "# Kontrollstrukturen\n",
    "\n",
    " - Mit **Kontrollstrukturen** bestimmen wir, in welcher Reihenfolge Anweisungen abgearbeitet werden\n",
    " - Wir betrachten in diesem Abschnitt:\n",
    "     - Fallunterscheidungen \n",
    "     - Schleifen\n",
    "       - `for`\n",
    "       - `while`"
   ]
  },
  {
   "cell_type": "markdown",
   "metadata": {
    "slideshow": {
     "slide_type": "skip"
    }
   },
   "source": [
    "## Allgemeine Anweisungsblöcke\n",
    "\n",
    "- Python-Programme bestehen aus mehreren sog.  *Anweisungen*, zB"
   ]
  },
  {
   "cell_type": "code",
   "execution_count": null,
   "metadata": {
    "slideshow": {
     "slide_type": "skip"
    }
   },
   "outputs": [],
   "source": [
    "text = \"hallo Welt\"\n",
    "text2 = 2 * text\n",
    "print(text, text2, text2.count(\"ll\"))"
   ]
  },
  {
   "cell_type": "markdown",
   "metadata": {
    "slideshow": {
     "slide_type": "skip"
    }
   },
   "source": [
    "Struktur durch Anweisungsblöcke:\n",
    "\n",
    "**Anweisungskopf:**\n",
    "\n",
    "&nbsp;&nbsp;&nbsp;&nbsp;&nbsp;*Anweisung* <br>\n",
    "&nbsp;&nbsp;&nbsp;&nbsp;&nbsp;&nbsp;&nbsp;&nbsp;&nbsp;   ...<br>\n",
    "&nbsp;&nbsp;&nbsp;&nbsp;&nbsp;*Anweisung*<br>"
   ]
  },
  {
   "cell_type": "markdown",
   "metadata": {
    "slideshow": {
     "slide_type": "skip"
    }
   },
   "source": [
    "Zugehörigkeit des Körpers zum Kopf durch: `:` und Einrücken (4 Leerzeichen) [Vorsicht mit Tabulatortaste]\n",
    " - hier unterscheidet sich Python stark von anderen Programmiersprachen (zugehörigkeit oft über geschweifte Klammern oder Schlüsselwörter `begin` und `end`)"
   ]
  },
  {
   "cell_type": "markdown",
   "metadata": {
    "slideshow": {
     "slide_type": "subslide"
    }
   },
   "source": [
    "## Fallunterscheidungen"
   ]
  },
  {
   "cell_type": "code",
   "execution_count": 3,
   "metadata": {
    "slideshow": {
     "slide_type": "fragment"
    }
   },
   "outputs": [
    {
     "name": "stdout",
     "output_type": "stream",
     "text": [
      "condition is true\n"
     ]
    }
   ],
   "source": [
    "condition = -4 #1 < 2 # -4 #   \n",
    "if condition:\n",
    "    print(\"condition is true\")"
   ]
  },
  {
   "cell_type": "markdown",
   "metadata": {
    "slideshow": {
     "slide_type": "fragment"
    }
   },
   "source": [
    "Eine Bedingung (`condition`) ist dabei ein **logischer Ausdruck**, der entweder wahr oder falsch sein kann, bzw. als solcher interpretiert werden kann:\n",
    "\n",
    "- Zahl `0`\n",
    "- arithmetischer Ausdruck: `2+2`\n",
    "- Vergleich: `a < b <= c `\n",
    "- boolscher Ausdruck: `not True`\n",
    "- ..."
   ]
  },
  {
   "cell_type": "markdown",
   "metadata": {
    "slideshow": {
     "slide_type": "skip"
    }
   },
   "source": [
    "- Wird zu `False` ausgewertet:\n",
    "\n",
    "   - jede Zahl gleich Null (0, 0.0, 0+0j)\n",
    "   - ein leerer Container (Liste, Tupel, Menge, Wörterbuch, ...)\n",
    "   - `False`, `None`\n",
    "\n",
    "\n",
    " - Wird als `True` ausgewertet:\n",
    "\n",
    "   - alles andere"
   ]
  },
  {
   "cell_type": "markdown",
   "metadata": {
    "slideshow": {
     "slide_type": "fragment"
    }
   },
   "source": [
    "Anwendungsbeispiel im Newtonverfahren:\n",
    "    \n",
    " - Wir könnten die Iteration vorzeitig abbrechen, falls \n",
    "   - $|f(x)| < \\text{tol}$\n",
    "   - oder keine wesentliche Veränderung mehr in den Iterierten zu erkennen ist, d.h. $|x_n-x_{n+1}|< \\text{tol}$ (siehe dazu auch in der Übung `isclose(a,b)`)."
   ]
  },
  {
   "cell_type": "markdown",
   "metadata": {
    "slideshow": {
     "slide_type": "subslide"
    }
   },
   "source": [
    "### Der Datentyp `bool`"
   ]
  },
  {
   "cell_type": "code",
   "execution_count": null,
   "metadata": {
    "slideshow": {
     "slide_type": "fragment"
    }
   },
   "outputs": [],
   "source": [
    "if True:\n",
    "    print(\"all\")"
   ]
  },
  {
   "cell_type": "markdown",
   "metadata": {
    "slideshow": {
     "slide_type": "fragment"
    }
   },
   "source": [
    " - Für die Wahrheitswerte `True` und  `False` gibt es den Datentyp `bool`, der auch genau nur diese Werte annehmen kann.\n",
    " - Beachte: `True` und  `False` sind daher reservierte Schlüsselwörter in Python (und in anderen Programmiersprachen)"
   ]
  },
  {
   "cell_type": "markdown",
   "metadata": {
    "slideshow": {
     "slide_type": "fragment"
    }
   },
   "source": [
    "Logische Ausdrücke entstehen zum Beispiel durch Anwendung von **Vergleichsoperatoren** (`>,>=,<,<=,!=,==`)"
   ]
  },
  {
   "cell_type": "code",
   "execution_count": null,
   "metadata": {
    "slideshow": {
     "slide_type": "fragment"
    }
   },
   "outputs": [],
   "source": [
    "2 == 3, 2 != 3, 2 <= 3, 2 >=3"
   ]
  },
  {
   "cell_type": "code",
   "execution_count": null,
   "metadata": {
    "slideshow": {
     "slide_type": "fragment"
    }
   },
   "outputs": [],
   "source": [
    "type(2 < 3)"
   ]
  },
  {
   "cell_type": "markdown",
   "metadata": {
    "slideshow": {
     "slide_type": "subslide"
    }
   },
   "source": [
    "### `if if` vs. `if elif` "
   ]
  },
  {
   "cell_type": "code",
   "execution_count": null,
   "metadata": {
    "slideshow": {
     "slide_type": "fragment"
    }
   },
   "outputs": [],
   "source": [
    "x = 0\n",
    "if x == 0:\n",
    "    print(\"x ist gleich 0\") \n",
    "if x == 1:\n",
    "    print(\"x ist gleich 1\")"
   ]
  },
  {
   "cell_type": "code",
   "execution_count": null,
   "metadata": {
    "slideshow": {
     "slide_type": "fragment"
    }
   },
   "outputs": [],
   "source": [
    "x = 0\n",
    "if x == 0:\n",
    "    print(\"x ist gleich 0\")\n",
    "elif x == 1:\n",
    "    print(\"x ist gleich 1\")\n",
    "elif x == 2:\n",
    "    pass"
   ]
  },
  {
   "cell_type": "markdown",
   "metadata": {
    "slideshow": {
     "slide_type": "fragment"
    }
   },
   "source": [
    "**Was ist der Unterschied?**"
   ]
  },
  {
   "cell_type": "markdown",
   "metadata": {
    "slideshow": {
     "slide_type": "fragment"
    }
   },
   "source": [
    "- **(1)** `if` wird vom interpreter *immer* gelesen\n",
    "\n",
    "- **(2)** gilt `if`, dann wird `elif` (für else if) nicht mehr gelesen\n",
    "    - performanter (Interpreter) und übersichtlicher (Programmierer)"
   ]
  },
  {
   "cell_type": "markdown",
   "metadata": {
    "slideshow": {
     "slide_type": "subslide"
    }
   },
   "source": [
    "### Und `else`?"
   ]
  },
  {
   "cell_type": "code",
   "execution_count": null,
   "metadata": {
    "slideshow": {
     "slide_type": "fragment"
    }
   },
   "outputs": [],
   "source": [
    "x = 2\n",
    "if x == 1:\n",
    "    print(\"x ist gleich 1\")\n",
    "if x == 3:\n",
    "    print(\"x ist gleich 3\")\n",
    "else:#\n",
    "    print(\"x ist nicht in {1,3}\")"
   ]
  },
  {
   "cell_type": "markdown",
   "metadata": {
    "slideshow": {
     "slide_type": "fragment"
    }
   },
   "source": [
    "- `else` fängt alle bisher **unbehandelten** Fälle ab\n",
    "- genau ein `else` zu einem `if`\n",
    "- es folgt ***kein*** logischer Ausdruck"
   ]
  },
  {
   "cell_type": "markdown",
   "metadata": {
    "slideshow": {
     "slide_type": "skip"
    }
   },
   "source": [
    "### Conditional Expression (dt. \"bedingter Ausdruck'')\n",
    "\n",
    "- Möglichkeit `if`-Anweisungen kurz und knapp zu schreiben\n",
    "- eingeführt ab Python 2.5"
   ]
  },
  {
   "cell_type": "code",
   "execution_count": null,
   "metadata": {
    "slideshow": {
     "slide_type": "skip"
    }
   },
   "outputs": [],
   "source": [
    "if 1 < 2:\n",
    "    a = 20\n",
    "else:\n",
    "    a = 21\n",
    "print(a)"
   ]
  },
  {
   "cell_type": "code",
   "execution_count": null,
   "metadata": {
    "slideshow": {
     "slide_type": "skip"
    }
   },
   "outputs": [],
   "source": [
    "print(20 if 1 > 2 else 21)"
   ]
  },
  {
   "cell_type": "markdown",
   "metadata": {
    "slideshow": {
     "slide_type": "skip"
    }
   },
   "source": [
    "Aufbau: `A if *Bedingung* else B`\n",
    "- A, B =  Wert oder arithmetischer Ausdruck\n",
    "- Bedingung = Wahrheitswert oder logischer Ausdruck"
   ]
  },
  {
   "cell_type": "code",
   "execution_count": null,
   "metadata": {
    "scrolled": true,
    "slideshow": {
     "slide_type": "skip"
    }
   },
   "outputs": [],
   "source": [
    "print((30 - 10) if (2-1 > 2*1 and 4 < 5) else (43 // 2))"
   ]
  },
  {
   "cell_type": "markdown",
   "metadata": {
    "slideshow": {
     "slide_type": "skip"
    }
   },
   "source": [
    "**Elegante Verkürzung, aber:** Man sollte einen frequentierten Gebrauch vermeiden, da zu Lasten der Lesbarkeit"
   ]
  },
  {
   "cell_type": "markdown",
   "metadata": {
    "slideshow": {
     "slide_type": "subslide"
    }
   },
   "source": [
    "## Schleifen\n",
    "\n"
   ]
  },
  {
   "cell_type": "markdown",
   "metadata": {
    "slideshow": {
     "slide_type": "fragment"
    }
   },
   "source": [
    "### `while`\n",
    "- Führt den Schleifenkörper solange aus, wie eine bestimmte Bedingung erfüllt ist.\n",
    "\n"
   ]
  },
  {
   "cell_type": "code",
   "execution_count": null,
   "metadata": {
    "scrolled": true,
    "slideshow": {
     "slide_type": "fragment"
    }
   },
   "outputs": [],
   "source": [
    "def f(x):\n",
    "    return x**4 - x**3 - 6 * x**2\n",
    "\n",
    "def df(x): \n",
    "    return 4 * x**3 - 3 * x**2 - 12 * x\n",
    "\n",
    "\n",
    "counter = 0\n",
    "maxiter = 10\n",
    "x = 0.5\n",
    "while counter < maxiter:\n",
    "    print(counter, x)\n",
    "    x = x - f(x) / df(x)\n",
    "    counter = counter + 1"
   ]
  },
  {
   "cell_type": "markdown",
   "metadata": {
    "slideshow": {
     "slide_type": "subslide"
    }
   },
   "source": [
    "#### Vorzeitiger Abbruch einer Schleife  `break`"
   ]
  },
  {
   "cell_type": "code",
   "execution_count": 2,
   "metadata": {
    "slideshow": {
     "slide_type": "fragment"
    }
   },
   "outputs": [
    {
     "name": "stdout",
     "output_type": "stream",
     "text": [
      "Have a good guess: 666\n"
     ]
    }
   ],
   "source": [
    "# Initialisierung\n",
    "secret = 666\n",
    "guess = 1\n",
    "# Schleife\n",
    "while guess != secret:\n",
    "    guess = int(input(\"Have a good guess: \")) # input() ermoeglicht Eingabe über Tastatur (liefert immer einen string)\n",
    "    if guess == 0:\n",
    "        break\n"
   ]
  },
  {
   "cell_type": "markdown",
   "metadata": {
    "slideshow": {
     "slide_type": "fragment"
    }
   },
   "source": [
    " - Nachteil: Mitunter nicht klar, wodurch die `while` Schleife abgebrochen wurde (`while`-Bedingung oder `break`)\n"
   ]
  },
  {
   "cell_type": "markdown",
   "metadata": {
    "slideshow": {
     "slide_type": "subslide"
    }
   },
   "source": [
    "- daher: `while` + `else`"
   ]
  },
  {
   "cell_type": "code",
   "execution_count": 5,
   "metadata": {
    "slideshow": {
     "slide_type": "fragment"
    }
   },
   "outputs": [
    {
     "name": "stdout",
     "output_type": "stream",
     "text": [
      "Have a good guess: 0\n",
      "Goodbye!\n"
     ]
    }
   ],
   "source": [
    "secret = 666\n",
    "guess = 0\n",
    "while guess != secret:\n",
    "    guess = int(input(\"Have a good guess: \"))\n",
    "    if guess == 0:\n",
    "        print(\"Goodbye!\")\n",
    "        break\n",
    "else:\n",
    "    print(\"Well done!\")\n"
   ]
  },
  {
   "cell_type": "markdown",
   "metadata": {
    "slideshow": {
     "slide_type": "fragment"
    }
   },
   "source": [
    "`else`-Zweig wird... \n",
    "   - ...ausgeführt, wenn while-Bedingung zum **ersten Mal** `False`\n",
    "   - ...**nicht ausgeführt**, wenn vorzeitiger Abbruch durch `break` erzwungen\n"
   ]
  },
  {
   "cell_type": "markdown",
   "metadata": {
    "slideshow": {
     "slide_type": "subslide"
    }
   },
   "source": [
    "#### Vorzeitiger Abbruch eines Schleifen-durchlaufs `continue` "
   ]
  },
  {
   "cell_type": "code",
   "execution_count": 6,
   "metadata": {
    "slideshow": {
     "slide_type": "fragment"
    }
   },
   "outputs": [
    {
     "name": "stdout",
     "output_type": "stream",
     "text": [
      "Have a good guess: -5\n",
      "No negative values!\n",
      "Have a good guess: 0\n",
      "Goodbye\n"
     ]
    }
   ],
   "source": [
    "secret = 666\n",
    "guess = 0\n",
    "while guess != secret:\n",
    "    guess = int(input(\"Have a good guess: \"))\n",
    "    if guess < 0:\n",
    "        print(\"No negative values!\")\n",
    "        continue #break  #\n",
    "    elif guess == 0:\n",
    "        print(\"Goodbye\")\n",
    "        break     \n",
    "else:\n",
    "    print(\"Well done!\")"
   ]
  },
  {
   "cell_type": "markdown",
   "metadata": {
    "slideshow": {
     "slide_type": "subslide"
    }
   },
   "source": [
    "### `for` Schleife\n",
    "\n",
    "- wird verwendet, um ein *iterierbares Objekt* (z.B. Listen, Strings) zu durchlaufen\n",
    "- `break` und `continue` können auch hier analog verwendet werden     \n",
    "- ebenfalls `else` (Block wird dann ausgeführt, wenn Schleife vollständig duchgelaufen ist und nicht vorzeitig abgebrochen wurde)\n",
    "            "
   ]
  },
  {
   "cell_type": "markdown",
   "metadata": {
    "slideshow": {
     "slide_type": "subslide"
    }
   },
   "source": [
    "**Als Zählschleife**\n",
    "\n"
   ]
  },
  {
   "cell_type": "code",
   "execution_count": null,
   "metadata": {
    "scrolled": false,
    "slideshow": {
     "slide_type": "fragment"
    }
   },
   "outputs": [],
   "source": [
    "start, stop, step = 10, 0, -2\n",
    "for i in range(start, stop, step): # start incl., stop excl.\n",
    "    print(i)\n",
    "else:\n",
    "    print(\"for loop finished\")"
   ]
  },
  {
   "cell_type": "markdown",
   "metadata": {
    "slideshow": {
     "slide_type": "subslide"
    }
   },
   "source": [
    "### Beispiel: Newtonverfahren mit Toleranz"
   ]
  },
  {
   "cell_type": "code",
   "execution_count": null,
   "metadata": {},
   "outputs": [],
   "source": [
    "def newton(func, x0, fprime, tol=1e-8, maxiter=50):\n",
    "    \"\"\"\n",
    "    documentation\n",
    "    \n",
    "    \"\"\"\n",
    "    for itr in range(maxiter):\n",
    "        newton_step = func(x0) / fprime(x0)\n",
    "        if abs(newton_step) < tol:\n",
    "            break\n",
    "        x0 = x0 - newton_step\n",
    "    return x0, itr"
   ]
  },
  {
   "cell_type": "code",
   "execution_count": null,
   "metadata": {
    "slideshow": {
     "slide_type": "fragment"
    }
   },
   "outputs": [],
   "source": [
    "def f(x):\n",
    "    return x**4 - x**3 - 6 * x**2\n",
    "\n",
    "def df(x): \n",
    "    return 4 * x**3 - 3 * x**2 - 12 * x\n",
    "\n",
    "newton(f, -0.5, df, tol=1e-12, maxiter=50)"
   ]
  },
  {
   "cell_type": "markdown",
   "metadata": {
    "slideshow": {
     "slide_type": "skip"
    }
   },
   "source": [
    "## Die `pass` - Anweisung\n",
    "\n",
    "- das Schlüsselwort `pass` kann als Platzhalter für Anweisungskörper gesetzt werden\n",
    "- in der Code-Entwicklung sehr nützlich zur Vermeidung von SyntaxError"
   ]
  },
  {
   "cell_type": "code",
   "execution_count": null,
   "metadata": {
    "scrolled": true,
    "slideshow": {
     "slide_type": "skip"
    }
   },
   "outputs": [],
   "source": [
    "if 1 < 2:\n",
    "    pass"
   ]
  }
 ],
 "metadata": {
  "celltoolbar": "Slideshow",
  "kernelspec": {
   "display_name": "Python 3",
   "language": "python",
   "name": "python3"
  },
  "language_info": {
   "codemirror_mode": {
    "name": "ipython",
    "version": 3
   },
   "file_extension": ".py",
   "mimetype": "text/x-python",
   "name": "python",
   "nbconvert_exporter": "python",
   "pygments_lexer": "ipython3",
   "version": "3.8.10"
  },
  "latex_envs": {
   "LaTeX_envs_menu_present": true,
   "autoclose": false,
   "autocomplete": true,
   "bibliofile": "biblio.bib",
   "cite_by": "apalike",
   "current_citInitial": 1,
   "eqLabelWithNumbers": true,
   "eqNumInitial": 1,
   "hotkeys": {
    "equation": "Ctrl-E",
    "itemize": "Ctrl-I"
   },
   "labels_anchors": false,
   "latex_user_defs": false,
   "report_style_numbering": false,
   "user_envs_cfg": false
  },
  "toc": {
   "base_numbering": "2",
   "nav_menu": {},
   "number_sections": true,
   "sideBar": true,
   "skip_h1_title": false,
   "title_cell": "Kontrollstrukturen",
   "title_sidebar": "Contents",
   "toc_cell": true,
   "toc_position": {
    "height": "calc(100% - 180px)",
    "left": "10px",
    "top": "150px",
    "width": "264.567px"
   },
   "toc_section_display": true,
   "toc_window_display": false
  },
  "varInspector": {
   "cols": {
    "lenName": 16,
    "lenType": 16,
    "lenVar": 40
   },
   "kernels_config": {
    "python": {
     "delete_cmd_postfix": "",
     "delete_cmd_prefix": "del ",
     "library": "var_list.py",
     "varRefreshCmd": "print(var_dic_list())"
    },
    "r": {
     "delete_cmd_postfix": ") ",
     "delete_cmd_prefix": "rm(",
     "library": "var_list.r",
     "varRefreshCmd": "cat(var_dic_list()) "
    }
   },
   "types_to_exclude": [
    "module",
    "function",
    "builtin_function_or_method",
    "instance",
    "_Feature"
   ],
   "window_display": false
  }
 },
 "nbformat": 4,
 "nbformat_minor": 4
}
