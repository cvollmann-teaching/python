{
 "cells": [
  {
   "cell_type": "markdown",
   "metadata": {
    "slideshow": {
     "slide_type": "skip"
    },
    "toc": true
   },
   "source": [
    "<h1>Basisdatentypen<span class=\"tocSkip\"></span></h1>\n",
    "<div class=\"toc\"><ul class=\"toc-item\"><li><span><a href=\"#Basisdatentypen-(built-in-types)\" data-toc-modified-id=\"Basisdatentypen-(built-in-types)-5\"><span class=\"toc-item-num\">5&nbsp;&nbsp;</span>Basisdatentypen (built-in types)</a></span><ul class=\"toc-item\"><li><span><a href=\"#Operatoren\" data-toc-modified-id=\"Operatoren-5.1\"><span class=\"toc-item-num\">5.1&nbsp;&nbsp;</span>Operatoren</a></span><ul class=\"toc-item\"><li><span><a href=\"#Operatorreihenfolge-(operator-precedence)\" data-toc-modified-id=\"Operatorreihenfolge-(operator-precedence)-5.1.1\"><span class=\"toc-item-num\">5.1.1&nbsp;&nbsp;</span>Operatorreihenfolge (operator precedence)</a></span></li></ul></li><li><span><a href=\"#Datentyp:-NoneType-None\" data-toc-modified-id=\"Datentyp:-NoneType-None-5.2\"><span class=\"toc-item-num\">5.2&nbsp;&nbsp;</span>Datentyp: NoneType <code>None</code></a></span></li><li><span><a href=\"#Numerische-Datentypen:-int,-float,-bool,-complex\" data-toc-modified-id=\"Numerische-Datentypen:-int,-float,-bool,-complex-5.3\"><span class=\"toc-item-num\">5.3&nbsp;&nbsp;</span>Numerische Datentypen: <code>int</code>, <code>float</code>, <code>bool</code>, <code>complex</code></a></span><ul class=\"toc-item\"><li><span><a href=\"#Ganze-Zahlen-int\" data-toc-modified-id=\"Ganze-Zahlen-int-5.3.1\"><span class=\"toc-item-num\">5.3.1&nbsp;&nbsp;</span>Ganze Zahlen <code>int</code></a></span></li><li><span><a href=\"#Gleitkommazahlen-float\" data-toc-modified-id=\"Gleitkommazahlen-float-5.3.2\"><span class=\"toc-item-num\">5.3.2&nbsp;&nbsp;</span>Gleitkommazahlen <code>float</code></a></span></li><li><span><a href=\"#Boolesche-Werte:-bool\" data-toc-modified-id=\"Boolesche-Werte:-bool-5.3.3\"><span class=\"toc-item-num\">5.3.3&nbsp;&nbsp;</span>Boolesche Werte: <code>bool</code></a></span><ul class=\"toc-item\"><li><span><a href=\"#logische-Operatoren\" data-toc-modified-id=\"logische-Operatoren-5.3.3.1\"><span class=\"toc-item-num\">5.3.3.1&nbsp;&nbsp;</span>logische Operatoren</a></span></li></ul></li><li><span><a href=\"#Komplexe-Zahlen-complex\" data-toc-modified-id=\"Komplexe-Zahlen-complex-5.3.4\"><span class=\"toc-item-num\">5.3.4&nbsp;&nbsp;</span>Komplexe Zahlen <code>complex</code></a></span></li></ul></li><li><span><a href=\"#Sequentielle-Datentypen-str,-list,-tuple\" data-toc-modified-id=\"Sequentielle-Datentypen-str,-list,-tuple-5.4\"><span class=\"toc-item-num\">5.4&nbsp;&nbsp;</span>Sequentielle Datentypen <code>str</code>, <code>list</code>, <code>tuple</code></a></span><ul class=\"toc-item\"><li><span><a href=\"#Was-für-alle-sequentiellen-Datentypen-gilt-(Auswahl)\" data-toc-modified-id=\"Was-für-alle-sequentiellen-Datentypen-gilt-(Auswahl)-5.4.1\"><span class=\"toc-item-num\">5.4.1&nbsp;&nbsp;</span>Was für <em>alle</em> sequentiellen Datentypen gilt (Auswahl)</a></span><ul class=\"toc-item\"><li><span><a href=\"#Zugehörigkeitsbestimmung-in,--not-in\" data-toc-modified-id=\"Zugehörigkeitsbestimmung-in,--not-in-5.4.1.1\"><span class=\"toc-item-num\">5.4.1.1&nbsp;&nbsp;</span>Zugehörigkeitsbestimmung <code>in</code>,  <code>not in</code></a></span></li><li><span><a href=\"#Manipulation-+,-+=,-*,-*=\" data-toc-modified-id=\"Manipulation-+,-+=,-*,-*=-5.4.1.2\"><span class=\"toc-item-num\">5.4.1.2&nbsp;&nbsp;</span>Manipulation <code>+</code>, <code>+=</code>, <code>*</code>, <code>*=</code></a></span></li><li><span><a href=\"#Slicing-[i],-[i:j],-[i:j:k]\" data-toc-modified-id=\"Slicing-[i],-[i:j],-[i:j:k]-5.4.1.3\"><span class=\"toc-item-num\">5.4.1.3&nbsp;&nbsp;</span>Slicing <code>[i]</code>, <code>[i:j]</code>, <code>[i:j:k]</code></a></span></li><li><span><a href=\"#built-in-functions-len,-min,-max\" data-toc-modified-id=\"built-in-functions-len,-min,-max-5.4.1.4\"><span class=\"toc-item-num\">5.4.1.4&nbsp;&nbsp;</span>built-in functions <code>len</code>, <code>min</code>, <code>max</code></a></span></li><li><span><a href=\"#Methods:-.index(value,-[start,-[stop]]),-und-.count(value)\" data-toc-modified-id=\"Methods:-.index(value,-[start,-[stop]]),-und-.count(value)-5.4.1.5\"><span class=\"toc-item-num\">5.4.1.5&nbsp;&nbsp;</span>Methods: <code>.index(value, [start, [stop]]),</code> und <code>.count(value)</code></a></span></li></ul></li><li><span><a href=\"#Besonderheiten-für-list\" data-toc-modified-id=\"Besonderheiten-für-list-5.4.2\"><span class=\"toc-item-num\">5.4.2&nbsp;&nbsp;</span>Besonderheiten für <code>list</code></a></span><ul class=\"toc-item\"><li><span><a href=\"#item-assignment\" data-toc-modified-id=\"item-assignment-5.4.2.1\"><span class=\"toc-item-num\">5.4.2.1&nbsp;&nbsp;</span>item assignment</a></span></li><li><span><a href=\"#item-deletion\" data-toc-modified-id=\"item-deletion-5.4.2.2\"><span class=\"toc-item-num\">5.4.2.2&nbsp;&nbsp;</span>item deletion</a></span></li><li><span><a href=\"#List-Comprehension-(&quot;Aussonderung&quot;)\" data-toc-modified-id=\"List-Comprehension-(&quot;Aussonderung&quot;)-5.4.2.3\"><span class=\"toc-item-num\">5.4.2.3&nbsp;&nbsp;</span>List Comprehension (\"Aussonderung\")</a></span></li><li><span><a href=\"#Arrays\" data-toc-modified-id=\"Arrays-5.4.2.4\"><span class=\"toc-item-num\">5.4.2.4&nbsp;&nbsp;</span>Arrays</a></span></li></ul></li><li><span><a href=\"#Besonderheiten-für-tuple\" data-toc-modified-id=\"Besonderheiten-für-tuple-5.4.3\"><span class=\"toc-item-num\">5.4.3&nbsp;&nbsp;</span>Besonderheiten für <code>tuple</code></a></span></li><li><span><a href=\"#Besonderheiten-für-Strings-str\" data-toc-modified-id=\"Besonderheiten-für-Strings-str-5.4.4\"><span class=\"toc-item-num\">5.4.4&nbsp;&nbsp;</span>Besonderheiten für Strings <code>str</code></a></span></li></ul></li><li><span><a href=\"#Dictionary:-dict\" data-toc-modified-id=\"Dictionary:-dict-5.5\"><span class=\"toc-item-num\">5.5&nbsp;&nbsp;</span>Dictionary: <code>dict</code></a></span><ul class=\"toc-item\"><li><span><a href=\"#Einleitung\" data-toc-modified-id=\"Einleitung-5.5.1\"><span class=\"toc-item-num\">5.5.1&nbsp;&nbsp;</span>Einleitung</a></span></li><li><span><a href=\"#Der-Basisdatentyp-dict-in-Python\" data-toc-modified-id=\"Der-Basisdatentyp-dict-in-Python-5.5.2\"><span class=\"toc-item-num\">5.5.2&nbsp;&nbsp;</span>Der Basisdatentyp <code>dict</code> in Python</a></span></li></ul></li><li><span><a href=\"#Iteration-von-seq.-Datentypen:-for,-zip\" data-toc-modified-id=\"Iteration-von-seq.-Datentypen:-for,-zip-5.6\"><span class=\"toc-item-num\">5.6&nbsp;&nbsp;</span>Iteration von seq. Datentypen: <code>for</code>, <code>zip</code></a></span><ul class=\"toc-item\"><li><span><a href=\"#Parallele-Iteration-mit-zip()\" data-toc-modified-id=\"Parallele-Iteration-mit-zip()-5.6.1\"><span class=\"toc-item-num\">5.6.1&nbsp;&nbsp;</span>Parallele Iteration mit <code>zip()</code></a></span></li></ul></li></ul></li></ul></div>"
   ]
  },
  {
   "cell_type": "markdown",
   "metadata": {
    "slideshow": {
     "slide_type": "skip"
    }
   },
   "source": [
    "- Quelle: J.Ernesti, P.Kaiser, *Python 3 - Das umfassende Handbuch*: Teil 1 - Kapitel 7\n",
    "- [Offizielle Dokumentation](https://docs.python.org/3/library/stdtypes.html)"
   ]
  },
  {
   "cell_type": "markdown",
   "metadata": {
    "slideshow": {
     "slide_type": "slide"
    }
   },
   "source": [
    "# Basisdatentypen (built-in types)\n",
    "\n",
    "  = eingebaute Datentypen, die dem Programmierer jeder Zeit zur Verfügung stehen\n",
    "\n",
    "Einfache Datentypen:\n",
    "  - numerische (`int`, `float`, `complex`)\n",
    "  - boolsche (`bool`)\n",
    "\n",
    "Container:\n",
    "  - sequentielle (`str`, `list`, `tuple`, `range`)\n",
    "  - \"binäre\" sequentielle (`bytes`, `bytearray`, `memoryview`)\n",
    "  - assoziative (`dict`)\n",
    "  - Mengen (`set`, `frozenset`)\n",
    "  \n",
    "Kriterien für Container: \n",
    "  - Reihenfolge fest?\n",
    "  - Veränderlich?\n",
    "  - Besonders bei Python: In einem Container können unterschiedliche Datentypen vorkommen"
   ]
  },
  {
   "cell_type": "markdown",
   "metadata": {
    "slideshow": {
     "slide_type": "subslide"
    }
   },
   "source": [
    "## Operatoren\n",
    "   "
   ]
  },
  {
   "cell_type": "markdown",
   "metadata": {
    "slideshow": {
     "slide_type": "fragment"
    }
   },
   "source": [
    "- Beispiele: `+, *, is`\n",
    "- Bedeutung eines Operators hängt davon ab, auf welchen Datentyp er angewendet wird"
   ]
  },
  {
   "cell_type": "code",
   "execution_count": 1,
   "metadata": {
    "slideshow": {
     "slide_type": "fragment"
    }
   },
   "outputs": [
    {
     "data": {
      "text/plain": [
       "[1, 2, 3, 4]"
      ]
     },
     "execution_count": 1,
     "metadata": {},
     "output_type": "execute_result"
    }
   ],
   "source": [
    "[1,2] + [3,4]"
   ]
  },
  {
   "cell_type": "code",
   "execution_count": 2,
   "metadata": {
    "slideshow": {
     "slide_type": "fragment"
    }
   },
   "outputs": [
    {
     "data": {
      "text/plain": [
       "4"
      ]
     },
     "execution_count": 2,
     "metadata": {},
     "output_type": "execute_result"
    }
   ],
   "source": [
    "1 + 3"
   ]
  },
  {
   "cell_type": "markdown",
   "metadata": {
    "slideshow": {
     "slide_type": "skip"
    }
   },
   "source": [
    "- **Operand** = Werte, auf denen ein Operator angewendet wird (zB. `1`, `1`, `[1,2]`)"
   ]
  },
  {
   "cell_type": "markdown",
   "metadata": {
    "slideshow": {
     "slide_type": "subslide"
    }
   },
   "source": [
    "Ein Ausdruck mit mehreren Operationen:"
   ]
  },
  {
   "cell_type": "code",
   "execution_count": 3,
   "metadata": {
    "slideshow": {
     "slide_type": "fragment"
    }
   },
   "outputs": [
    {
     "data": {
      "text/plain": [
       "(7, 9, 7)"
      ]
     },
     "execution_count": 3,
     "metadata": {},
     "output_type": "execute_result"
    }
   ],
   "source": [
    "1 + (2 * 3), (1 + 2) * 3, 1 + 2 * 3"
   ]
  },
  {
   "cell_type": "code",
   "execution_count": 5,
   "metadata": {},
   "outputs": [
    {
     "data": {
      "text/plain": [
       "-1"
      ]
     },
     "execution_count": 5,
     "metadata": {},
     "output_type": "execute_result"
    }
   ],
   "source": [
    "-1**2"
   ]
  },
  {
   "cell_type": "markdown",
   "metadata": {
    "slideshow": {
     "slide_type": "fragment"
    }
   },
   "source": [
    "**Frage:** Welcher Teil des Ausdrucks wird zuerst ausgeführt? Mit anderen Worten: Welcher Operator bindet stärker?\n",
    "\n",
    "-> Python implementiert dafür eine Operatorreihenfolge"
   ]
  },
  {
   "cell_type": "markdown",
   "metadata": {
    "slideshow": {
     "slide_type": "subslide"
    }
   },
   "source": [
    "###  Operatorreihenfolge (operator precedence) \n",
    "\n",
    "https://docs.python.org/3/reference/expressions.html#operator-precedence\n",
    "\n",
    " - Operatoren werden nach ihrer *Bindigkeit* geordnet.\n",
    " - Je höher der Operator in der Tabelle steht, desto stärker bindet er.\n",
    " - \"Op1 bindet stärker als Op2\" $~~~$bedeutet$~~~$ \"Op1 wird vor Op2 berechnet\"\n",
    " - zum Beispiel:\n",
    "     - `*` bindet stärker als `+`\n",
    "     - `**` bindet stärker als `*`\n"
   ]
  },
  {
   "cell_type": "code",
   "execution_count": 4,
   "metadata": {
    "scrolled": true,
    "slideshow": {
     "slide_type": "fragment"
    }
   },
   "outputs": [
    {
     "data": {
      "text/plain": [
       "(20, 8)"
      ]
     },
     "execution_count": 4,
     "metadata": {},
     "output_type": "execute_result"
    }
   ],
   "source": [
    "((2 ** 2) + 1) * 4,   2 ** 2 + 1 * 4  # links nach rechts vs. operatorreihenfolge"
   ]
  },
  {
   "cell_type": "markdown",
   "metadata": {
    "slideshow": {
     "slide_type": "subslide"
    }
   },
   "source": [
    "#### Was passiert bei Operatoren gleicher Bindigkeit? <a class=\"tocSkip\">\n",
    "   \n",
    " - Zum Beispiel: `a - b - c` (hier spielt die Reihenfolge eine bedeutende Rolle)\n",
    " - Bei __arithmetischen__ Operatoren gilt dann: $~~$ **\"von links nach rechts\"**"
   ]
  },
  {
   "cell_type": "code",
   "execution_count": 6,
   "metadata": {
    "slideshow": {
     "slide_type": "fragment"
    }
   },
   "outputs": [
    {
     "data": {
      "text/plain": [
       "-2"
      ]
     },
     "execution_count": 6,
     "metadata": {},
     "output_type": "execute_result"
    }
   ],
   "source": [
    "2 - 2 - 2  # Python Op-Reihenfolge"
   ]
  },
  {
   "cell_type": "code",
   "execution_count": 7,
   "metadata": {
    "slideshow": {
     "slide_type": "fragment"
    }
   },
   "outputs": [
    {
     "data": {
      "text/plain": [
       "-2"
      ]
     },
     "execution_count": 7,
     "metadata": {},
     "output_type": "execute_result"
    }
   ],
   "source": [
    "(2 - 2) - 2 # links nach rechts"
   ]
  },
  {
   "cell_type": "code",
   "execution_count": 8,
   "metadata": {
    "slideshow": {
     "slide_type": "fragment"
    }
   },
   "outputs": [
    {
     "data": {
      "text/plain": [
       "2"
      ]
     },
     "execution_count": 8,
     "metadata": {},
     "output_type": "execute_result"
    }
   ],
   "source": [
    "2 - (2 - 2) # rechts nach links"
   ]
  },
  {
   "cell_type": "markdown",
   "metadata": {
    "slideshow": {
     "slide_type": "subslide"
    }
   },
   "source": [
    "- Handhabung bei __logischen__ und __Vergleichsoperatoren__ (`<`,`<=`, `>`, `=>`, `==`, `!=`, `is`, `is not`, `in`, `not in` ):\n",
    "\n",
    "    - Beachte: Der Output eines logischen Ausdrucks ist vom Typ `bool` und unterscheidet sich damit ggf. vom Typ der Operanden \n",
    "    \n",
    "    $\\rightarrow$ eine Auswertung von links nach rechts ergibt also keinen Sinn\n",
    "    \n",
    "    ```python\n",
    "    a < b < c\n",
    "    (a < b) \\in \\{True, False\\}\n",
    "    True < c ?\n",
    "    ```\n",
    "    \n",
    " - Python geht wie folgt vor: $~~~$ op1 $~$ `and` $~$ op2 $~$ `and` $~$ op3 $~$ `and` $~\\ldots$\n",
    "    \n",
    "    $\\rightarrow$  Die Operationen werden also mit einem `and` verknüpft.    \n",
    "    $\\rightarrow$ Gibt eine Operation `False`zurück, dann ist der gesamte Ausdruck `False`."
   ]
  },
  {
   "cell_type": "code",
   "execution_count": 9,
   "metadata": {
    "slideshow": {
     "slide_type": "fragment"
    }
   },
   "outputs": [
    {
     "data": {
      "text/plain": [
       "True"
      ]
     },
     "execution_count": 9,
     "metadata": {},
     "output_type": "execute_result"
    }
   ],
   "source": [
    "1 < 2 < 3  # intuiv: liegt 2 zwischen 1 *und* 3 ?"
   ]
  },
  {
   "cell_type": "code",
   "execution_count": 10,
   "metadata": {
    "slideshow": {
     "slide_type": "fragment"
    }
   },
   "outputs": [
    {
     "data": {
      "text/plain": [
       "True"
      ]
     },
     "execution_count": 10,
     "metadata": {},
     "output_type": "execute_result"
    }
   ],
   "source": [
    "1 < 2 and 2 < 3"
   ]
  },
  {
   "cell_type": "code",
   "execution_count": 12,
   "metadata": {
    "slideshow": {
     "slide_type": "fragment"
    }
   },
   "outputs": [
    {
     "data": {
      "text/plain": [
       "False"
      ]
     },
     "execution_count": 12,
     "metadata": {},
     "output_type": "execute_result"
    }
   ],
   "source": [
    "1 < 2 < 3 == 1"
   ]
  },
  {
   "cell_type": "markdown",
   "metadata": {
    "slideshow": {
     "slide_type": "skip"
    }
   },
   "source": [
    "## Datentyp: NoneType `None`"
   ]
  },
  {
   "cell_type": "markdown",
   "metadata": {
    "slideshow": {
     "slide_type": "skip"
    }
   },
   "source": [
    "- Das *Nichts* ist ein eigener Datentyp (wie `int`, `float`,...).\n",
    "- Warum braucht das? Beispielsweise als Ausgabe für eine Funktion, die *nichts* ausgibt bzw. das *Nichts* ausgibt.\n",
    "- Es gibt nur **eine einzige** Instanz von diesem Datentyp: `None`\n",
    "    - `None` ist eine Konstante, die jederzeit im Quelltext verwendet werden kann"
   ]
  },
  {
   "cell_type": "code",
   "execution_count": null,
   "metadata": {
    "slideshow": {
     "slide_type": "skip"
    }
   },
   "outputs": [],
   "source": [
    "ref = None # Referenz (!) auf die Instanz None vom Typ NoneType\n",
    "ref # wie Sie sehen, sehen Sie nichts"
   ]
  },
  {
   "cell_type": "code",
   "execution_count": null,
   "metadata": {
    "slideshow": {
     "slide_type": "skip"
    }
   },
   "outputs": [],
   "source": [
    "print(None)"
   ]
  },
  {
   "cell_type": "code",
   "execution_count": null,
   "metadata": {
    "slideshow": {
     "slide_type": "skip"
    }
   },
   "outputs": [],
   "source": [
    "ref is None # dieselbe Identität"
   ]
  },
  {
   "cell_type": "code",
   "execution_count": null,
   "metadata": {
    "slideshow": {
     "slide_type": "skip"
    }
   },
   "outputs": [],
   "source": [
    "def func():\n",
    "    pass\n",
    "    return None\n",
    "print(type(func()))"
   ]
  },
  {
   "cell_type": "markdown",
   "metadata": {
    "slideshow": {
     "slide_type": "subslide"
    }
   },
   "source": [
    "## Numerische Datentypen: `int`, `float`, `bool`, `complex`"
   ]
  },
  {
   "cell_type": "markdown",
   "metadata": {
    "slideshow": {
     "slide_type": "fragment"
    }
   },
   "source": [
    "- Die numerischen Datentypen sind alle unveränderlich (immutable).\n",
    "\n",
    "**Operatoren**\n",
    "\n",
    "- arithmetische Operatoren: `+, -, *, /, **`, `+x, -x` (nur ein Operand), `%,//` (nicht für `complex`)\n",
    "- erweiterte/kombinierte Zuweisungen (*augmented assignments*): `+=, -=, *=, /=, %=, **=, //=`\n",
    "- Vergleichsoperatoren: `==, !=, <,<=, >, >=`\n",
    "\n",
    "**Konvertierungen**\n",
    "\n",
    "- Numerische Datentypen können ineinander umgeformt werden durch Aufrufen der built-in Funktionen `int`, `float`, `bool`, `complex`"
   ]
  },
  {
   "cell_type": "code",
   "execution_count": 13,
   "metadata": {
    "slideshow": {
     "slide_type": "subslide"
    }
   },
   "outputs": [
    {
     "name": "stdout",
     "output_type": "stream",
     "text": [
      "<class 'int'>\n",
      "<class 'complex'>\n"
     ]
    },
    {
     "data": {
      "text/plain": [
       "(1+0j)"
      ]
     },
     "execution_count": 13,
     "metadata": {},
     "output_type": "execute_result"
    }
   ],
   "source": [
    "a = 1\n",
    "print(type(a))\n",
    "a = complex(a)\n",
    "print(type(a))\n",
    "a "
   ]
  },
  {
   "cell_type": "code",
   "execution_count": 15,
   "metadata": {
    "slideshow": {
     "slide_type": "fragment"
    }
   },
   "outputs": [
    {
     "name": "stdout",
     "output_type": "stream",
     "text": [
      "12.8 <class 'float'>\n",
      "12 <class 'int'>\n"
     ]
    }
   ],
   "source": [
    "a = 12.8 # 0\n",
    "print(a, type(a))\n",
    "a = int(a)  # int rundet ab!\n",
    "print(a, type(a))"
   ]
  },
  {
   "cell_type": "markdown",
   "metadata": {
    "slideshow": {
     "slide_type": "subslide"
    }
   },
   "source": [
    "### Ganze Zahlen `int`\n",
    " - **Literal:** `0`, `-100`, ...\n",
    " - unbegrenzter Wertebereich **!** \n",
    "   - intern werden integers von Python mit variabler Bitlänge gespeichert\n",
    "   - siehe zum Beispiel das Tutorial: https://www.pythontutorial.net/advanced-python/python-integers/)"
   ]
  },
  {
   "cell_type": "code",
   "execution_count": 17,
   "metadata": {
    "slideshow": {
     "slide_type": "fragment"
    }
   },
   "outputs": [
    {
     "name": "stdout",
     "output_type": "stream",
     "text": [
      "4 16\n"
     ]
    }
   ],
   "source": [
    "a = 10\n",
    "b = 50000 \n",
    "print(a.bit_length(), b.bit_length())  # Methode für int, welche die Bitlaenge ausgibt; siehe help(int)"
   ]
  },
  {
   "cell_type": "markdown",
   "metadata": {
    "slideshow": {
     "slide_type": "subslide"
    }
   },
   "source": [
    " - In Python gibt es Literale zur Erzeugung ganzer Zahlen in verschiedenen Zahlensysteme (dezimal, binär, hexadezimal,...):"
   ]
  },
  {
   "cell_type": "code",
   "execution_count": 19,
   "metadata": {
    "scrolled": true,
    "slideshow": {
     "slide_type": "fragment"
    }
   },
   "outputs": [
    {
     "name": "stdout",
     "output_type": "stream",
     "text": [
      "10 10 10 10\n",
      "<class 'int'> <class 'int'> <class 'int'> <class 'int'>\n",
      "True\n"
     ]
    }
   ],
   "source": [
    "a = 10  # dezimal\n",
    "b = 0b1010  # binär\n",
    "c = 0xA  # hexadezimal\n",
    "d = 0o12  # octal\n",
    "print(a, b, c, d)\n",
    "print(type(a), type(b), type(c), type(d))\n",
    "print(a is b is c is d)\n",
    "# print(a.bit_length(), b.bit_length(), c.bit_length(), d.bit_length())"
   ]
  },
  {
   "cell_type": "code",
   "execution_count": 20,
   "metadata": {
    "slideshow": {
     "slide_type": "fragment"
    }
   },
   "outputs": [
    {
     "name": "stdout",
     "output_type": "stream",
     "text": [
      "0b1010 0b1100001101010000\n"
     ]
    }
   ],
   "source": [
    "print(bin(c), bin(50000)) # gibt das binaere Literal"
   ]
  },
  {
   "cell_type": "markdown",
   "metadata": {
    "slideshow": {
     "slide_type": "skip"
    }
   },
   "source": [
    " - Wir können auch die Funktion `int()` mit einem String von Ziffern und einer Basis aufrufen, um eine ganze Zahl zu erzeugen"
   ]
  },
  {
   "cell_type": "code",
   "execution_count": null,
   "metadata": {
    "slideshow": {
     "slide_type": "skip"
    }
   },
   "outputs": [],
   "source": [
    "basis = 3 # 3\n",
    "a = int(\"1010\", basis) # = 1 * zahlensys^0 + 0 * zahlensys^1 + 1 * zahlensys^2\n",
    "print(a)"
   ]
  },
  {
   "cell_type": "markdown",
   "metadata": {
    "slideshow": {
     "slide_type": "skip"
    }
   },
   "source": [
    "Nebenbemerkung:\n",
    "\n",
    " - es existieren zusätzlich Bit-Operatoren, die auf den Binärdarstellungen der ganzen Zahlen operieren\n",
    " - Zum Beispiel\n",
    "   - `&` bitweises UND\n",
    "   - `|` bitweises ODER\n",
    "   - `^` für XOR (`(x or y) and not (x and y)`)\n",
    " - Diese sind eher in der Informatik von Bedeutung, aber hier als kleine Übung zu Binärzahlen untergebracht:"
   ]
  },
  {
   "cell_type": "code",
   "execution_count": null,
   "metadata": {
    "slideshow": {
     "slide_type": "skip"
    }
   },
   "outputs": [],
   "source": [
    "a = 0b1010\n",
    "b = 0b1101\n",
    "print(bin(a & b), a & b)  # bitweises UND        (b1 & b2 = 1 iff b1=1 and b2=1)\n",
    "print(bin(a | b), a | b)  # bitweises ODER       (b1 | b2 = 1 iff b1=1 or b2=1)\n",
    "print(bin(a ^ b), a ^ b)  # ausschließendes ODER (b1 ^ b2 = 1 iff b1 != b2) "
   ]
  },
  {
   "cell_type": "markdown",
   "metadata": {
    "slideshow": {
     "slide_type": "skip"
    }
   },
   "source": [
    "### Gleitkommazahlen `float`\n",
    "- **Literal:** `0.0`, `0.`, `.1`\n",
    "- Auch ein gültiges Literal `2.1e-12` = $2.1 \\cdot 10^{-12}$"
   ]
  },
  {
   "cell_type": "code",
   "execution_count": null,
   "metadata": {
    "scrolled": true,
    "slideshow": {
     "slide_type": "skip"
    }
   },
   "outputs": [],
   "source": [
    "1e-2, 0.0, 0., .01"
   ]
  },
  {
   "cell_type": "markdown",
   "metadata": {
    "slideshow": {
     "slide_type": "skip"
    }
   },
   "source": [
    "**Achtung:** $\\mathbb{R}$ ist überabzählbar unendlich\n",
    " - Reelle Zahl können daher nicht beliebig exakt gespeichert werden.\n",
    " - Wir lernen im Theorieteil Gleitkommazahlen kennen.\n",
    " - Diese werden mit fixer Bitlänge implementiert und wir erhalten nicht nur Rundungsfehler, sondern auch einen beschränkten Wertebereich mit Grenzen `inf` und `-inf`."
   ]
  },
  {
   "cell_type": "code",
   "execution_count": null,
   "metadata": {
    "slideshow": {
     "slide_type": "skip"
    }
   },
   "outputs": [],
   "source": [
    "1.1 + 2.2  # Rundungsfehler"
   ]
  },
  {
   "cell_type": "markdown",
   "metadata": {
    "slideshow": {
     "slide_type": "skip"
    }
   },
   "source": [
    "Führt dann zu Rundunggsfehlern (*rounding errors*)"
   ]
  },
  {
   "cell_type": "code",
   "execution_count": null,
   "metadata": {
    "slideshow": {
     "slide_type": "skip"
    }
   },
   "outputs": [],
   "source": [
    "0.1 + 0.1 + 0.1 - 0.3 # = 0 ?"
   ]
  },
  {
   "cell_type": "code",
   "execution_count": null,
   "metadata": {
    "scrolled": true,
    "slideshow": {
     "slide_type": "skip"
    }
   },
   "outputs": [],
   "source": [
    "-1e999, 1e999"
   ]
  },
  {
   "cell_type": "code",
   "execution_count": null,
   "metadata": {
    "slideshow": {
     "slide_type": "skip"
    }
   },
   "outputs": [],
   "source": [
    "1e999 - 1e999"
   ]
  },
  {
   "cell_type": "markdown",
   "metadata": {
    "slideshow": {
     "slide_type": "skip"
    }
   },
   "source": [
    "Status `nan` = not a number"
   ]
  },
  {
   "cell_type": "markdown",
   "metadata": {
    "slideshow": {
     "slide_type": "subslide"
    }
   },
   "source": [
    "### Boolesche Werte: `bool`"
   ]
  },
  {
   "cell_type": "markdown",
   "metadata": {
    "slideshow": {
     "slide_type": "fragment"
    }
   },
   "source": [
    "- Eine Instanz vom Typ `bool` kann nur zwei Werte annehmen: `True` oder `False` (case-sensitive!)\n",
    "    - `True` analog zu `1`\n",
    "    - `False` analog zu `0`\n",
    "- `True` und `False` sind Konstanten die im Quellcode verwendet werden können\n",
    "- logische Operatoren: `not`, `and`, `or` (nicht ausschließendes oder (nicht XOR)) \n"
   ]
  },
  {
   "cell_type": "markdown",
   "metadata": {
    "slideshow": {
     "slide_type": "subslide"
    }
   },
   "source": [
    "- `bool()` überführt andere Instanzen in den Datentyp `bool`\n",
    "    - hilfreich, um herauszufinden ob eine Instanz \"leer\" ist (False entspricht dann leer)"
   ]
  },
  {
   "cell_type": "code",
   "execution_count": 21,
   "metadata": {
    "slideshow": {
     "slide_type": "fragment"
    }
   },
   "outputs": [
    {
     "data": {
      "text/plain": [
       "(False, True)"
      ]
     },
     "execution_count": 21,
     "metadata": {},
     "output_type": "execute_result"
    }
   ],
   "source": [
    "bool(\"\"), bool(\"h\")"
   ]
  },
  {
   "cell_type": "code",
   "execution_count": 23,
   "metadata": {
    "slideshow": {
     "slide_type": "fragment"
    }
   },
   "outputs": [
    {
     "data": {
      "text/plain": [
       "(False, True, '')"
      ]
     },
     "execution_count": 23,
     "metadata": {},
     "output_type": "execute_result"
    }
   ],
   "source": [
    "bool([]), bool([\"\"]), [\"\"][0]"
   ]
  },
  {
   "cell_type": "code",
   "execution_count": 28,
   "metadata": {
    "slideshow": {
     "slide_type": "fragment"
    }
   },
   "outputs": [
    {
     "name": "stdout",
     "output_type": "stream",
     "text": [
      "hallo\n"
     ]
    }
   ],
   "source": [
    "bool(0), bool(1), bool(-2.0) \n",
    "if not \"\":\n",
    "    print(\"hallo\")"
   ]
  },
  {
   "cell_type": "markdown",
   "metadata": {
    "slideshow": {
     "slide_type": "subslide"
    }
   },
   "source": [
    "#### logische Operatoren\n",
    "\n",
    "Neben arithmetischen und Vergleichsoperatoren gibt es noch drei **logische Operatoren**\n",
    "\n",
    "- `not` kehrt Ergebnis um (verändert logischen Ausdruck)\n",
    "- `and` vernüpft zwei logische Ausdrücke gemäß $\\land$\n",
    "- `or` vernüpft zwei logische Ausdrücke gemäß $\\lor$"
   ]
  },
  {
   "cell_type": "code",
   "execution_count": 29,
   "metadata": {
    "slideshow": {
     "slide_type": "fragment"
    }
   },
   "outputs": [
    {
     "data": {
      "text/plain": [
       "True"
      ]
     },
     "execution_count": 29,
     "metadata": {},
     "output_type": "execute_result"
    }
   ],
   "source": [
    "not (2 - 1) < -(4 - 2)"
   ]
  },
  {
   "cell_type": "markdown",
   "metadata": {
    "slideshow": {
     "slide_type": "skip"
    }
   },
   "source": [
    "a `and` b =  <br>\n",
    "&nbsp;&nbsp;&nbsp;&nbsp;&nbsp;`True`,&nbsp;&nbsp;&nbsp;&nbsp; falls a=`True` **und** b=`True`<br>\n",
    "&nbsp;&nbsp;&nbsp;&nbsp;&nbsp;`False`,&nbsp; sonst"
   ]
  },
  {
   "cell_type": "code",
   "execution_count": null,
   "metadata": {
    "slideshow": {
     "slide_type": "fragment"
    }
   },
   "outputs": [],
   "source": [
    "(2 < 3) and (2 > 3)"
   ]
  },
  {
   "cell_type": "code",
   "execution_count": null,
   "metadata": {
    "slideshow": {
     "slide_type": "skip"
    }
   },
   "outputs": [],
   "source": [
    "a = 10 # 0 #(2 < 3)\n",
    "b = (3 > 2)\n",
    "b and a "
   ]
  },
  {
   "cell_type": "markdown",
   "metadata": {
    "slideshow": {
     "slide_type": "skip"
    }
   },
   "source": [
    "a `or` b =  <br>\n",
    "&nbsp;&nbsp;&nbsp;&nbsp;&nbsp;`True`, &nbsp;&nbsp;&nbsp;&nbsp;&nbsp;falls a=`True` **oder** b=`True`<br>\n",
    "&nbsp;&nbsp;&nbsp;&nbsp;&nbsp;`False`,&nbsp;&nbsp; sonst"
   ]
  },
  {
   "cell_type": "code",
   "execution_count": null,
   "metadata": {
    "slideshow": {
     "slide_type": "fragment"
    }
   },
   "outputs": [],
   "source": [
    "(2 < 3) or (2 > 3)"
   ]
  },
  {
   "cell_type": "markdown",
   "metadata": {
    "slideshow": {
     "slide_type": "skip"
    }
   },
   "source": [
    "*Beobachtung:* Keine Klammern gesetzt.\n",
    "\n",
    "Die Operatoren werden gemäß der definierten **Operatorrangfolge** (https://docs.python.org/3/reference/expressions.html#operator-precedence) ausgeführt."
   ]
  },
  {
   "cell_type": "markdown",
   "metadata": {
    "slideshow": {
     "slide_type": "subslide"
    }
   },
   "source": [
    "### Komplexe Zahlen `complex`"
   ]
  },
  {
   "cell_type": "markdown",
   "metadata": {
    "slideshow": {
     "slide_type": "fragment"
    }
   },
   "source": [
    "- Literal: `a + bj`\n"
   ]
  },
  {
   "cell_type": "code",
   "execution_count": 31,
   "metadata": {
    "slideshow": {
     "slide_type": "fragment"
    }
   },
   "outputs": [
    {
     "data": {
      "text/plain": [
       "complex"
      ]
     },
     "execution_count": 31,
     "metadata": {},
     "output_type": "execute_result"
    }
   ],
   "source": [
    "z = 1 + 2j\n",
    "type(z)"
   ]
  },
  {
   "cell_type": "markdown",
   "metadata": {
    "slideshow": {
     "slide_type": "subslide"
    }
   },
   "source": [
    "- arithmetische Operatoren\n",
    "- Vergleichsoperatoren nur: `==`, `!= ` (wie wir wissen: $\\mathbb{C}$ ist kein geordneter Körper)"
   ]
  },
  {
   "cell_type": "code",
   "execution_count": 35,
   "metadata": {
    "slideshow": {
     "slide_type": "fragment"
    }
   },
   "outputs": [
    {
     "name": "stdout",
     "output_type": "stream",
     "text": [
      "(2+0j) (2+0j)\n"
     ]
    }
   ],
   "source": [
    "z1 = 1 + 1j\n",
    "z2 = 1 - 1j\n",
    "print(z1 + z2, z1 * z2)"
   ]
  },
  {
   "cell_type": "markdown",
   "metadata": {
    "slideshow": {
     "slide_type": "fragment"
    }
   },
   "source": [
    "- zwei *Attribute*: `real` und `imag` (später bei Objektorientierung mehr zu Attributen etc)"
   ]
  },
  {
   "cell_type": "code",
   "execution_count": 34,
   "metadata": {
    "slideshow": {
     "slide_type": "fragment"
    }
   },
   "outputs": [
    {
     "data": {
      "text/plain": [
       "(1.0, -1.0)"
      ]
     },
     "execution_count": 34,
     "metadata": {},
     "output_type": "execute_result"
    }
   ],
   "source": [
    "z1.real, z2.imag  "
   ]
  },
  {
   "cell_type": "markdown",
   "metadata": {
    "slideshow": {
     "slide_type": "skip"
    }
   },
   "source": [
    "- eine *Methode*: `conjugate`"
   ]
  },
  {
   "cell_type": "code",
   "execution_count": null,
   "metadata": {
    "slideshow": {
     "slide_type": "skip"
    }
   },
   "outputs": [],
   "source": [
    "print(z1, z1.conjugate())"
   ]
  },
  {
   "cell_type": "markdown",
   "metadata": {
    "slideshow": {
     "slide_type": "subslide"
    }
   },
   "source": [
    "## Sequentielle Datentypen `str`, `list`, `tuple`\n",
    "\n",
    "= Datentypen, die eine **geordnete** Folge von Elementen verwalten, auf die mit **eindeutigen** Indizes zugegriffen werden kann \n",
    "\n"
   ]
  },
  {
   "cell_type": "markdown",
   "metadata": {
    "slideshow": {
     "slide_type": "fragment"
    }
   },
   "source": [
    " - `str`  \n",
    "     - **Literal** = `\"abc\"` \n",
    "     - immutable\n",
    "     - Speicherung und Verarbeitung von Texten"
   ]
  },
  {
   "cell_type": "markdown",
   "metadata": {
    "slideshow": {
     "slide_type": "fragment"
    }
   },
   "source": [
    " - `list`\n",
    "     - **Literal** = `[123,\"\",var, 0]`  \n",
    "     - mutable $\\rightarrow$ flexibel, daher intern sehr ressourcenaufwendig\n",
    "     - Besonders: kann Daten verschiedenster Typen beinhalten"
   ]
  },
  {
   "cell_type": "markdown",
   "metadata": {
    "slideshow": {
     "slide_type": "subslide"
    }
   },
   "source": [
    " - `tuple` ()\n",
    "     - **Literal** = `(123,\"\",var, 0)` oder `123,\"\",var, 0`<p></p><p></p>\n",
    "     - **immutable**,  gehandhabt wie Liste\n",
    "     - list kann alles was tuple kann\n",
    "     - aber Flexibilität von list nicht immer notwendig, sondern nur: Referenzen auf beliebige Instanzen verwalten\n",
    "     - Unveränderlichkeit bezieht sich auf enthaltenen Referenzen (nicht auf die dahintersteheneden Instanzen, welche durchaus veränderlich sein können)\n",
    "     \n",
    "     `tup = (10, [1,2.3])`"
   ]
  },
  {
   "cell_type": "markdown",
   "metadata": {
    "slideshow": {
     "slide_type": "skip"
    }
   },
   "source": [
    "*Tuple Packing* "
   ]
  },
  {
   "cell_type": "code",
   "execution_count": null,
   "metadata": {
    "slideshow": {
     "slide_type": "skip"
    }
   },
   "outputs": [],
   "source": [
    "date = 5, 3, 2020\n",
    "date"
   ]
  },
  {
   "cell_type": "markdown",
   "metadata": {
    "slideshow": {
     "slide_type": "skip"
    }
   },
   "source": [
    "*Tuple Unpacking*"
   ]
  },
  {
   "cell_type": "code",
   "execution_count": null,
   "metadata": {
    "slideshow": {
     "slide_type": "skip"
    }
   },
   "outputs": [],
   "source": [
    "date = 5, 3, 2020\n",
    "day, month, year = date\n",
    "day"
   ]
  },
  {
   "cell_type": "markdown",
   "metadata": {
    "slideshow": {
     "slide_type": "subslide"
    }
   },
   "source": [
    "**Neben `str`, `list`, `tuple` gibt es noch**\n",
    " - `bytes` (unveränderliche Datenströme von Bytes)\n",
    " - `bytearray` (veränderliche Datenströme von Bytes)"
   ]
  },
  {
   "cell_type": "markdown",
   "metadata": {
    "slideshow": {
     "slide_type": "subslide"
    }
   },
   "source": [
    "### Was für *alle* sequentiellen Datentypen gilt (Auswahl)\n",
    " - Zugehörigkeitsbestimmung `in`,  `not in`\n",
    " - Manipulation `+`, `+=`, `*`, `*=`\n",
    " - slicing `[i]`, `[i:j]`, `[i:j:k]`\n",
    " - built-in functions `len`, `min`, `max`\n",
    " - methods `.index(i,...)`, `.count(x)`"
   ]
  },
  {
   "cell_type": "markdown",
   "metadata": {
    "slideshow": {
     "slide_type": "subslide"
    }
   },
   "source": [
    "#### Zugehörigkeitsbestimmung `in`,  `not in`\n",
    "Wir können überprüfen, ob ein Element (nicht) enthalten ist. Das Resultat ist vom Typ `bool`"
   ]
  },
  {
   "cell_type": "code",
   "execution_count": 42,
   "metadata": {
    "slideshow": {
     "slide_type": "fragment"
    }
   },
   "outputs": [
    {
     "name": "stdout",
     "output_type": "stream",
     "text": [
      "True\n",
      "False\n",
      "True\n"
     ]
    }
   ],
   "source": [
    "text = \"Hallo\"\n",
    "liste = [1, 2, 3]\n",
    "tup = (1, \"hi\", 4)\n",
    "\n",
    "print(a in text) #print(a in text)\n",
    "print([1] in liste)\n",
    "print(text not in tup)"
   ]
  },
  {
   "cell_type": "markdown",
   "metadata": {
    "slideshow": {
     "slide_type": "skip"
    }
   },
   "source": [
    "Im Gegensatz zu `list` und `tuple` können wir in einer Zeichenkette Teilmengenbeziehung abfragen:"
   ]
  },
  {
   "cell_type": "code",
   "execution_count": null,
   "metadata": {
    "slideshow": {
     "slide_type": "skip"
    }
   },
   "outputs": [],
   "source": [
    "text = \"Hallo\"\n",
    "print(\"Ha\" in text)\n"
   ]
  },
  {
   "cell_type": "code",
   "execution_count": null,
   "metadata": {
    "slideshow": {
     "slide_type": "skip"
    }
   },
   "outputs": [],
   "source": [
    "print(list(text))  # str in list umwanlden\n",
    "print([\"H\", \"a\"] in list(text))  # is [\"H\", \"a\"] an element of list(text)?"
   ]
  },
  {
   "cell_type": "markdown",
   "metadata": {
    "slideshow": {
     "slide_type": "skip"
    }
   },
   "source": [
    "#### Manipulation `+`, `+=`, `*`, `*=`"
   ]
  },
  {
   "cell_type": "code",
   "execution_count": null,
   "metadata": {
    "scrolled": true,
    "slideshow": {
     "slide_type": "skip"
    }
   },
   "outputs": [],
   "source": [
    "# immutable\n",
    "text = \"hallo\"\n",
    "print(text, id(text))\n",
    "text += 3 * (\" \" + text)  # text = text + (...)\n",
    "print(text, id(text))"
   ]
  },
  {
   "cell_type": "code",
   "execution_count": null,
   "metadata": {
    "slideshow": {
     "slide_type": "skip"
    }
   },
   "outputs": [],
   "source": [
    "# mutable\n",
    "liste = [1,2,3]\n",
    "print(liste, id(liste))\n",
    "liste = 2 * liste  # Zuweisungsoperator\n",
    "print(liste, id(liste))\n",
    "liste *= 2  # kombinierter Zuweisungsoperator\n",
    "print(liste, id(liste))"
   ]
  },
  {
   "cell_type": "code",
   "execution_count": null,
   "metadata": {
    "slideshow": {
     "slide_type": "skip"
    }
   },
   "outputs": [],
   "source": [
    "# get back value by just the id number:\n",
    "import ctypes\n",
    "id_num = id(liste)  # 140003994926784\n",
    "print(ctypes.cast(id_num, ctypes.py_object).value)"
   ]
  },
  {
   "cell_type": "markdown",
   "metadata": {
    "slideshow": {
     "slide_type": "skip"
    }
   },
   "source": [
    "#### Slicing `[i]`, `[i:j]`, `[i:j:k]` "
   ]
  },
  {
   "cell_type": "code",
   "execution_count": null,
   "metadata": {
    "slideshow": {
     "slide_type": "skip"
    }
   },
   "outputs": [],
   "source": [
    "print(text)\n",
    "print(liste)\n",
    "print(tup) "
   ]
  },
  {
   "cell_type": "code",
   "execution_count": null,
   "metadata": {
    "slideshow": {
     "slide_type": "skip"
    }
   },
   "outputs": [],
   "source": [
    "print(text[0:-1:2])\n",
    "print(liste[0])\n",
    "print(tup[2:0:-1]) "
   ]
  },
  {
   "cell_type": "markdown",
   "metadata": {
    "slideshow": {
     "slide_type": "subslide"
    }
   },
   "source": [
    "#### built-in functions `len`, `min`, `max` "
   ]
  },
  {
   "cell_type": "code",
   "execution_count": 48,
   "metadata": {
    "slideshow": {
     "slide_type": "fragment"
    }
   },
   "outputs": [
    {
     "data": {
      "text/plain": [
       "False"
      ]
     },
     "execution_count": 48,
     "metadata": {},
     "output_type": "execute_result"
    }
   ],
   "source": [
    "text = \"AabcdefghijklmnopqrzjksdhfstuvwxyaZ\" \n",
    "\"ab\" < \"Ab\""
   ]
  },
  {
   "cell_type": "code",
   "execution_count": 50,
   "metadata": {
    "scrolled": true,
    "slideshow": {
     "slide_type": "fragment"
    }
   },
   "outputs": [
    {
     "ename": "TypeError",
     "evalue": "'>' not supported between instances of 'int' and 'str'",
     "output_type": "error",
     "traceback": [
      "\u001b[0;31m---------------------------------------------------------------------------\u001b[0m",
      "\u001b[0;31mTypeError\u001b[0m                                 Traceback (most recent call last)",
      "\u001b[0;32m/tmp/ipykernel_11242/1392889971.py\u001b[0m in \u001b[0;36m<module>\u001b[0;34m\u001b[0m\n\u001b[1;32m      1\u001b[0m \u001b[0mliste\u001b[0m \u001b[0;34m=\u001b[0m \u001b[0;34m[\u001b[0m\u001b[0;34m\"pop\"\u001b[0m\u001b[0;34m,\u001b[0m \u001b[0;34m\"rock\"\u001b[0m\u001b[0;34m,\u001b[0m \u001b[0;34m\"jazz\"\u001b[0m\u001b[0;34m,\u001b[0m \u001b[0;34m\"hip-hop\"\u001b[0m\u001b[0;34m,\u001b[0m \u001b[0;36m1\u001b[0m \u001b[0;34m]\u001b[0m\u001b[0;34m\u001b[0m\u001b[0;34m\u001b[0m\u001b[0m\n\u001b[0;32m----> 2\u001b[0;31m \u001b[0mmax\u001b[0m\u001b[0;34m(\u001b[0m\u001b[0mliste\u001b[0m\u001b[0;34m)\u001b[0m\u001b[0;34m\u001b[0m\u001b[0;34m\u001b[0m\u001b[0m\n\u001b[0m",
      "\u001b[0;31mTypeError\u001b[0m: '>' not supported between instances of 'int' and 'str'"
     ]
    }
   ],
   "source": [
    "liste = [\"pop\", \"rock\", \"jazz\", \"hip-hop\", 1 ]\n",
    "max(liste)"
   ]
  },
  {
   "cell_type": "markdown",
   "metadata": {
    "slideshow": {
     "slide_type": "subslide"
    }
   },
   "source": [
    "#### Methods: `.index(value, [start, [stop]]), ` und `.count(value)`"
   ]
  },
  {
   "cell_type": "code",
   "execution_count": null,
   "metadata": {
    "slideshow": {
     "slide_type": "skip"
    }
   },
   "outputs": [],
   "source": [
    "help(list)"
   ]
  },
  {
   "cell_type": "code",
   "execution_count": null,
   "metadata": {
    "slideshow": {
     "slide_type": "skip"
    }
   },
   "outputs": [],
   "source": [
    "help(tuple)"
   ]
  },
  {
   "cell_type": "code",
   "execution_count": null,
   "metadata": {
    "slideshow": {
     "slide_type": "fragment"
    }
   },
   "outputs": [],
   "source": [
    "liste = [1, [1], (\"hallo\", 5), \"rock\"]\n",
    "liste.index(1) # 3\n",
    "# liste.index(1, 2, 3) # ValueError"
   ]
  },
  {
   "cell_type": "code",
   "execution_count": null,
   "metadata": {
    "slideshow": {
     "slide_type": "fragment"
    }
   },
   "outputs": [],
   "source": [
    "tup = (1, [1], 3, \"h\", 1)\n",
    "tup.count(1)"
   ]
  },
  {
   "cell_type": "markdown",
   "metadata": {
    "slideshow": {
     "slide_type": "skip"
    }
   },
   "source": [
    "###  Besonderheiten für `list`\n",
    " \n",
    " ...da mutable"
   ]
  },
  {
   "cell_type": "markdown",
   "metadata": {
    "slideshow": {
     "slide_type": "skip"
    }
   },
   "source": [
    "Zusätzliche Methoden\n",
    "(https://www.math.uni-trier.de/~vollmann/prog/img/methods_list.png)\n"
   ]
  },
  {
   "cell_type": "code",
   "execution_count": null,
   "metadata": {
    "scrolled": true,
    "slideshow": {
     "slide_type": "skip"
    }
   },
   "outputs": [],
   "source": [
    "help(list)"
   ]
  },
  {
   "cell_type": "markdown",
   "metadata": {
    "slideshow": {
     "slide_type": "subslide"
    }
   },
   "source": [
    "#### item assignment\n",
    "##### Wert innerhalb der Liste verändern (*item assignment*)"
   ]
  },
  {
   "cell_type": "code",
   "execution_count": 51,
   "metadata": {
    "slideshow": {
     "slide_type": "fragment"
    }
   },
   "outputs": [
    {
     "name": "stdout",
     "output_type": "stream",
     "text": [
      "[1, 'rock', 4, ()]\n",
      "[0, 'rock', 4, (0,)]\n"
     ]
    }
   ],
   "source": [
    "liste = [1, \"rock\", 4, tuple()]\n",
    "print(liste)\n",
    "liste[0] = 0\n",
    "liste[-1] = (0,)\n",
    "print(liste)"
   ]
  },
  {
   "cell_type": "code",
   "execution_count": null,
   "metadata": {
    "slideshow": {
     "slide_type": "fragment"
    }
   },
   "outputs": [],
   "source": [
    "tup = (1,2,3)\n",
    "tup[0] = 2"
   ]
  },
  {
   "cell_type": "code",
   "execution_count": null,
   "metadata": {
    "slideshow": {
     "slide_type": "fragment"
    }
   },
   "outputs": [],
   "source": [
    "text = \"hallo\"\n",
    "text[3] = \"x\""
   ]
  },
  {
   "cell_type": "markdown",
   "metadata": {
    "slideshow": {
     "slide_type": "skip"
    }
   },
   "source": [
    "##### Teillisten ändern (*item assignment*)"
   ]
  },
  {
   "cell_type": "code",
   "execution_count": null,
   "metadata": {
    "slideshow": {
     "slide_type": "skip"
    }
   },
   "outputs": [],
   "source": [
    "shopping_list = [\"bread\", \"cheese\", \"flour\", \"water\", \"nuts\" ]\n",
    "print(shopping_list)\n",
    "shopping_list[2:3] = [\"beer\", \"chips\", 10]\n",
    "print(shopping_list) "
   ]
  },
  {
   "cell_type": "code",
   "execution_count": null,
   "metadata": {
    "slideshow": {
     "slide_type": "skip"
    }
   },
   "outputs": [],
   "source": [
    "text = \"Haköo\"\n",
    "text[1:3] = \"ll\"\n",
    "#textList = list(text)\n",
    "#print(textList, print(list(\"ll\")))\n",
    "#textList[2:4] = list(\"ll\")\n",
    "#print(textList)"
   ]
  },
  {
   "cell_type": "markdown",
   "metadata": {
    "slideshow": {
     "slide_type": "skip"
    }
   },
   "source": [
    "#### item deletion\n",
    "##### Löschen von Teillisten und Elementen"
   ]
  },
  {
   "cell_type": "code",
   "execution_count": null,
   "metadata": {
    "slideshow": {
     "slide_type": "skip"
    }
   },
   "outputs": [],
   "source": [
    "shopping_list = [\"bread\", \"cheese\", \"flour\", \"water\", \"nuts\" ]\n",
    "del shopping_list[1]\n",
    "shopping_list"
   ]
  },
  {
   "cell_type": "code",
   "execution_count": null,
   "metadata": {
    "slideshow": {
     "slide_type": "skip"
    }
   },
   "outputs": [],
   "source": [
    "tup = (1,2,3)\n",
    "del tup[0]"
   ]
  },
  {
   "cell_type": "code",
   "execution_count": null,
   "metadata": {
    "scrolled": false,
    "slideshow": {
     "slide_type": "skip"
    }
   },
   "outputs": [],
   "source": [
    "text = \"Das ist schlecht.\"\n",
    "index = text.index(\"schl\")\n",
    "# del text[index:index+4] \n",
    "# workaround: \n",
    "# text[0:index]+text[index+4:]"
   ]
  },
  {
   "cell_type": "markdown",
   "metadata": {
    "slideshow": {
     "slide_type": "skip"
    }
   },
   "source": [
    "**Methoden bei `list`**\n",
    "\n",
    "**Beispiel** `list.pop(index)`"
   ]
  },
  {
   "cell_type": "code",
   "execution_count": null,
   "metadata": {
    "slideshow": {
     "slide_type": "skip"
    }
   },
   "outputs": [],
   "source": [
    "# pull out an element from a particular position\n",
    "liste = [0, 2]\n",
    "a = liste.pop(1)\n",
    "print(a, liste)"
   ]
  },
  {
   "cell_type": "markdown",
   "metadata": {
    "slideshow": {
     "slide_type": "skip"
    }
   },
   "source": [
    "**Beispiel** `list.insert(index, object)`"
   ]
  },
  {
   "cell_type": "code",
   "execution_count": null,
   "metadata": {
    "slideshow": {
     "slide_type": "skip"
    }
   },
   "outputs": [],
   "source": [
    "# insert a new element at a particular position\n",
    "liste = [0, 2]\n",
    "liste.insert(1, 1)\n",
    "liste"
   ]
  },
  {
   "cell_type": "markdown",
   "metadata": {
    "slideshow": {
     "slide_type": "skip"
    }
   },
   "source": [
    "**Beispiel** `list.index(value, [start, [stop]])`"
   ]
  },
  {
   "cell_type": "code",
   "execution_count": null,
   "metadata": {
    "slideshow": {
     "slide_type": "skip"
    }
   },
   "outputs": [],
   "source": [
    "# get index (with respect to the global indexing!) out of sublist\n",
    "liste = [0, 1, 2, 3, 10, 5]\n",
    "#liste.index(1)"
   ]
  },
  {
   "cell_type": "code",
   "execution_count": null,
   "metadata": {
    "slideshow": {
     "slide_type": "skip"
    }
   },
   "outputs": [],
   "source": [
    "liste = [0, 1, 2, 3, 10, 5]\n",
    "liste.index(10)  # ValueError is value if not present!"
   ]
  },
  {
   "cell_type": "code",
   "execution_count": null,
   "metadata": {
    "slideshow": {
     "slide_type": "skip"
    }
   },
   "outputs": [],
   "source": [
    "liste = [0, 1, 2, 3, 10, 5]\n",
    "liste.index(1, 0, 2)  # one may have an idea where to search\n"
   ]
  },
  {
   "cell_type": "code",
   "execution_count": null,
   "metadata": {
    "slideshow": {
     "slide_type": "skip"
    }
   },
   "outputs": [],
   "source": [
    "liste = [0, 1, 2, 3, 10, 5]\n",
    "liste.index(10, 3, 6), liste[3:6].index(10)  #  global vs local indexing"
   ]
  },
  {
   "cell_type": "markdown",
   "metadata": {
    "slideshow": {
     "slide_type": "skip"
    }
   },
   "source": [
    "**Beispiel** `list.reverse()`"
   ]
  },
  {
   "cell_type": "code",
   "execution_count": null,
   "metadata": {
    "slideshow": {
     "slide_type": "skip"
    }
   },
   "outputs": [],
   "source": [
    "liste = [2, \"+\", 1]\n",
    "liste.reverse()\n",
    "liste"
   ]
  },
  {
   "cell_type": "markdown",
   "metadata": {
    "slideshow": {
     "slide_type": "subslide"
    }
   },
   "source": [
    " **Beispiel:** `list.sort(key=None, reverse=False)`"
   ]
  },
  {
   "cell_type": "code",
   "execution_count": null,
   "metadata": {
    "slideshow": {
     "slide_type": "fragment"
    }
   },
   "outputs": [],
   "source": [
    "liste = [0, 2, -1, 10, 11]\n",
    "liste.sort()\n",
    "print(liste)"
   ]
  },
  {
   "cell_type": "code",
   "execution_count": 56,
   "metadata": {
    "slideshow": {
     "slide_type": "subslide"
    }
   },
   "outputs": [
    {
     "name": "stdout",
     "output_type": "stream",
     "text": [
      "[0, 1, -1, 2, 10, 11]\n"
     ]
    }
   ],
   "source": [
    "liste = [0, 2, 1, -1, 10, 11]\n",
    "def key(x): \n",
    "    return abs(x)\n",
    "liste.sort(key=key)\n",
    "print(liste)"
   ]
  },
  {
   "cell_type": "markdown",
   "metadata": {
    "slideshow": {
     "slide_type": "subslide"
    }
   },
   "source": [
    "#### List Comprehension (\"Aussonderung\")"
   ]
  },
  {
   "cell_type": "markdown",
   "metadata": {
    "slideshow": {
     "slide_type": "fragment"
    }
   },
   "source": [
    "Zunächst vergleiche Mengendefinition in der Mathematik:\n",
    "\n",
    "Es sei $X$ eine Menge, dann können wir Teilmengen von $X$ definieren, indem wir bestimmte Elemente von $X$ \"aussondern\":\n",
    "$$M:=\\{x \\in X: x ~\\text{erfüllt eine bestimmte Eigenschaft} \\} \\subset X .$$\n",
    "Zum Beispiel\n",
    "$$X := \\mathbb{N},~~~ M:=\\{x \\in \\mathbb{N}: x ~\\text{ist gerade} \\} = \\{0,2,4,6,\\ldots \\}$$\n",
    "Wir können auch allgemeiner das Bild von $M$ unter einer Funktion $f$ betrachten:\n",
    "$$N := f(M) := \\{f(x): x \\in M\\} = \\{f(x): x \\in X ~~~\\text{und}~~~\\text{$x$ erfüllt eine bestimmte Eigenschaft} \\} .$$\n",
    "\n",
    "Das lässt sich wie folgt in ein Programm übersetzen:\n",
    "- $X$ kann eine Kollektion (zB Liste) sein,\n",
    "- die Eigenschaft wird mit `if` getestet,\n",
    "- $f$ wird ein arithmetischer Ausdruck oder eine Python-Funktion.\n",
    "\n",
    " \n",
    " ```python\n",
    "   [f(x) for x in X if (...)]\n",
    " ```"
   ]
  },
  {
   "cell_type": "code",
   "execution_count": 57,
   "metadata": {
    "slideshow": {
     "slide_type": "subslide"
    }
   },
   "outputs": [
    {
     "name": "stdout",
     "output_type": "stream",
     "text": [
      "[0, 1, 2, 3, 4, 5, 6, 7, 8, 9]\n",
      "[0, 2, 4, 6, 8]\n"
     ]
    }
   ],
   "source": [
    "X = range(10)\n",
    "print(list(X))\n",
    "M = [x for x in X if x%2==0]\n",
    "print(M)"
   ]
  },
  {
   "cell_type": "code",
   "execution_count": 60,
   "metadata": {
    "slideshow": {
     "slide_type": "fragment"
    }
   },
   "outputs": [
    {
     "name": "stdout",
     "output_type": "stream",
     "text": [
      "0.0026667118072509766\n"
     ]
    }
   ],
   "source": [
    "n = 10000\n",
    "X = range(n)\n",
    "from time import time\n",
    "start = time()\n",
    "N = [x**2 for x in X if x%2==1]\n",
    "end = time()\n",
    "print(end - start)"
   ]
  },
  {
   "cell_type": "code",
   "execution_count": 59,
   "metadata": {
    "slideshow": {
     "slide_type": "fragment"
    }
   },
   "outputs": [
    {
     "name": "stdout",
     "output_type": "stream",
     "text": [
      "0.0034189224243164062\n"
     ]
    }
   ],
   "source": [
    "# alternative\n",
    "start = time()\n",
    "liste = []\n",
    "for x in X:\n",
    "    if x%2==1:\n",
    "        liste.append(x**2)\n",
    "end = time()\n",
    "print(end - start)"
   ]
  },
  {
   "cell_type": "code",
   "execution_count": null,
   "metadata": {
    "slideshow": {
     "slide_type": "skip"
    }
   },
   "outputs": [],
   "source": [
    "def f(x):\n",
    "    return x+1\n",
    "N = [f(x) for x in X if x%2==0]\n",
    "print(N)"
   ]
  },
  {
   "cell_type": "markdown",
   "metadata": {
    "slideshow": {
     "slide_type": "skip"
    }
   },
   "source": [
    "#### Arrays\n",
    "\n",
    "- In der numerischen Mathematik werden wir hauptsächlich mit (numpy-) arrays arbeiten:\n",
    "    - Implementierung von Vektoren, Matrizen,...\n",
    "    - Sämtliche Maniputlationen möglich\n",
    "    - Arrays haben eine feste Dimension/Größe, was eine deutlich effizientere Implementierung ermöglicht (als zB Listen)\n",
    "\n",
    "\n"
   ]
  },
  {
   "cell_type": "markdown",
   "metadata": {
    "slideshow": {
     "slide_type": "skip"
    }
   },
   "source": [
    "### Besonderheiten für `tuple`"
   ]
  },
  {
   "cell_type": "markdown",
   "metadata": {
    "slideshow": {
     "slide_type": "skip"
    }
   },
   "source": [
    "Keine zusätzlichen Methoden (nur der Grundstock an Operatoren definiert, der für alle sequentiellen Datentypen vorgesehen ist)\n"
   ]
  },
  {
   "cell_type": "code",
   "execution_count": null,
   "metadata": {
    "scrolled": true,
    "slideshow": {
     "slide_type": "skip"
    }
   },
   "outputs": [],
   "source": [
    "help(tuple)"
   ]
  },
  {
   "cell_type": "markdown",
   "metadata": {
    "slideshow": {
     "slide_type": "skip"
    }
   },
   "source": [
    "### Besonderheiten für Strings `str`"
   ]
  },
  {
   "cell_type": "markdown",
   "metadata": {
    "slideshow": {
     "slide_type": "skip"
    }
   },
   "source": [
    "Viele zusätzliche Methoden"
   ]
  },
  {
   "cell_type": "code",
   "execution_count": null,
   "metadata": {
    "slideshow": {
     "slide_type": "skip"
    }
   },
   "outputs": [],
   "source": [
    "help(str)"
   ]
  },
  {
   "cell_type": "markdown",
   "metadata": {
    "slideshow": {
     "slide_type": "skip"
    }
   },
   "source": [
    "**Steuerzeichen**\n",
    "- Beispiele: *Whitespaces*\n",
    "    - `\\n` Linefeed (LF) - Ausgabeposition in die nächste Zeile\n",
    "    - `\\t`, `\\v` horizontale bzw. vertikale Tabulatortaste"
   ]
  },
  {
   "cell_type": "code",
   "execution_count": null,
   "metadata": {
    "scrolled": false,
    "slideshow": {
     "slide_type": "skip"
    }
   },
   "outputs": [],
   "source": [
    "print(\"\\t\\t\\t\\t\\t\\t {date}\\n Hallo Welt,\\n\\n\\tdies ist ein kleiner Brief.\\\n",
    "       \\n\\n Mit den besten Grüßen,\\n CV\".format(date=\"26. Januar, 2023\"))"
   ]
  },
  {
   "cell_type": "markdown",
   "metadata": {
    "slideshow": {
     "slide_type": "skip"
    }
   },
   "source": [
    "Characters werden als Byte-Folge kodiert (siehe zB ASCII); die entsprechenden Zahlenwerte können wir mit `chr` und `ord` erfragen"
   ]
  },
  {
   "cell_type": "code",
   "execution_count": null,
   "metadata": {
    "slideshow": {
     "slide_type": "skip"
    }
   },
   "outputs": [],
   "source": [
    "ord(\"a\"), chr(97)"
   ]
  },
  {
   "cell_type": "code",
   "execution_count": null,
   "metadata": {
    "slideshow": {
     "slide_type": "skip"
    }
   },
   "outputs": [],
   "source": []
  },
  {
   "cell_type": "markdown",
   "metadata": {
    "slideshow": {
     "slide_type": "subslide"
    }
   },
   "source": [
    "## Dictionary: `dict`"
   ]
  },
  {
   "cell_type": "markdown",
   "metadata": {
    "slideshow": {
     "slide_type": "fragment"
    }
   },
   "source": [
    "### Einleitung\n",
    "\n",
    "- Wdh.: Eine Liste oder ein Tupel ist eine **geordnete** Sammlung von Objekten\n",
    "  - Das bedeutet insbesondere: Die Elemente können eindeutig einem Index (Position in der Liste) zugeordnet werden!\n",
    "\n",
    "- In manchen Fällen ist es allerdings ungünstig, wenn man für den Zugriff auf ein Element eines Containers seine Position kennen muss!\n",
    "  - Probleme treten zum Beispiel auf, wenn die Kollektion unterschiedlich groß sein kann (dann ändern sich auch die Positionen).\n",
    "\n"
   ]
  },
  {
   "cell_type": "markdown",
   "metadata": {
    "slideshow": {
     "slide_type": "subslide"
    }
   },
   "source": [
    "**Kleines Beispiel**\n",
    "\n",
    " - Gegeben: Wir haben eine Sammlung von Videos (zB. Vorlesungsmitschnitte, Urlaubsaufnahmen,...)\n",
    " - Ziel: Wir wollen daraus neue Videos erstellen (zB. Videos inhaltlich zusammenfügen bei Themenwechsel innerhalb einer VL, Trailer erstellen,...) \n",
    " - Mögliche Operationen: cut (schneiden) und concat (zusammenkleben)\n",
    " \n",
    " - Selbstverständlich wollen wir das automatisiert über Python steuern. Damit das Programm weiß, was es zu tun hat, müssen wir eine geeignete Konfigurationsdatei übergeben, welche unser Vorhaben kodiert:\n",
    "   - `DateinameNeu1 = VidX[hh:mm:ss - hh:mm:ss] + VidY[hh:mm:ss - hh:mm:ss]`\n",
    "   - `DateinameNeu2 = VidZ[hh:mm:ss - hh:mm:ss] + VidU[hh:mm:ss - hh:mm:ss]+ VidV[hh:mm:ss - hh:mm:ss]`\n",
    "   - ...\n",
    " \n"
   ]
  },
  {
   "cell_type": "markdown",
   "metadata": {
    "slideshow": {
     "slide_type": "subslide"
    }
   },
   "source": [
    " - Das könnten wir zum Beispiel in Form einer Liste (von Listen) realisieren:\n",
    " \n",
    " ```python\n",
    " config = [[\"DateinameNeu1\", [\"VidX\", hh:mm:ss,hh:mm:ss],\n",
    "                             [\"VidY\", hh:mm:ss,hh:mm:ss]],\n",
    "           [\"DateinameNeu2\", [\"VidZ\", hh:mm:ss,hh:mm:ss],\n",
    "                             [\"VidU\", hh:mm:ss,hh:mm:ss],\n",
    "                             [\"VidV\", hh:mm:ss,hh:mm:ss]]]\n",
    "\n",
    " ```\n",
    " \n",
    " - Das erste zu erstellende Video würden wir im Programmcode erhalten über:\n",
    "  ```python\n",
    " vid1 = config[0] # [\"DateinameNeu1\", [\"VidX\", hh:mm:ss,hh:mm:ss], [\"VidY\", hh:mm:ss,hh:mm:ss]]\n",
    " ```\n",
    " - Den dezidierten Dateinamen finden wir dann laut Konvention an erster Stelle:\n",
    " ```python \n",
    "vidName1 = vid1[0] # \"DateinameNeu1\"\n",
    "```\n",
    " \n",
    " - Die Video-Bausteine für das erste neue Video `\"DateinameNeu1\"` mit Name sowie Start- und Endzeit erhalten wir über\n",
    "   ```python\n",
    " subVid1  = vid1[1] # [\"VidX\", hh:mm:ss,hh:mm:ss] \n",
    " subVid2  = vid1[2] # [\"VidY\", hh:mm:ss,hh:mm:ss] \n",
    " ```\n",
    " \n",
    " - Beobachtungen:\n",
    "   - Wir müssen vorher festlegen an welchen Positionen in der Liste die Information abspeichert ist! Machbar, aber fehleranfällig und umständlich!"
   ]
  },
  {
   "cell_type": "markdown",
   "metadata": {
    "slideshow": {
     "slide_type": "subslide"
    }
   },
   "source": [
    " - Noch komplizierter wird es, wenn wir zusätzliche Parameter übergeben wollen:\n",
    "   - diese stehen dann ebenfalls an festen Positionen\n",
    "   - allerdings sollten die alten Parameter weiterhin an der vorher festgelegten Position stehen (sonst funktioniert das Programm nicht mehr)\n",
    " \n",
    " - Zum Beispiel könnten wir festsstellen, dass wir die einzelnen Video-Bausteine ggf. nicht nur in der Zeit kürzen möchten (*cut*), sondern vielleicht auch in den Dimensionen Höhe und Breite (*crop*) (oder zusätzlich komprimieren, Dateien neu erstellen oder überschreiben,...)"
   ]
  },
  {
   "cell_type": "markdown",
   "metadata": {
    "slideshow": {
     "slide_type": "subslide"
    }
   },
   "source": [
    "**Eine Lösung:** \n",
    "\n",
    "Wir verwenden keinen Index für den Zugriff auf die benötigten Parameter**wert**e, sondern ein aussagekräftiges **Schlüssel**wort!\n",
    "\n",
    " ```python\n",
    " config = { \"fname_1\": {\"fname_1a\": {\"start\":hh:mm:ss, \"end\":hh:mm:ss, \"width\": 960, \"height\":620},\n",
    "                        \"fname_1b\": {\"start\":hh:mm:ss, \"end\":hh:mm:ss, \"width\": 980, \"height\":520}},\n",
    "          {\"fname_2\": {\"fname_2a\": {\"start\":hh:mm:ss, \"end\":hh:mm:ss, \"width\": 960, \"height\":520},\n",
    "                       \"fname_2b\": {\"start\":hh:mm:ss, \"end\":hh:mm:ss, \"width\": 1080, \"height\":620},\n",
    "                       \"fname_2c\": {\"start\":hh:mm:ss, \"end\":hh:mm:ss, \"width\": 1080, \"height\":620}}}\n",
    "\n",
    " ```\n",
    " \n",
    "$\\rightarrow$ Für solch einen assoziativen Container gibt es in Python den Basisdatentyp `dict`\n",
    "\n",
    "Der Zugriff erfolgt dann über die Schlüsselwörter, zum Beispiel:\n",
    "\n",
    "```python\n",
    "config[\"fname_1\"][\"fname_1a\"][\"start\"]\n",
    "```\n",
    "\n",
    "Wir werden unten sehen, dass wir die Schlüsselwörter `\"fname_1\"` (Dateiname des neuen Videos), `\"fname_1a\"` (Dateiname des Baustein-Videos) im Programm nicht hart implementieren müssen (siehe for loop)"
   ]
  },
  {
   "cell_type": "markdown",
   "metadata": {
    "slideshow": {
     "slide_type": "subslide"
    }
   },
   "source": [
    "- Typische Anwendungsfälle von assoziativen Datentypen:\n",
    "  - Wann immer man Elemente (value) effizient mithilfe eines Schlüssels (key) abgreifen muss oder dies sinnvoller ist als geordnete Kollektionen zu verwenden\n"
   ]
  },
  {
   "cell_type": "markdown",
   "metadata": {
    "slideshow": {
     "slide_type": "fragment"
    }
   },
   "source": [
    "- **Konfigurationsdateien**, zB:  \n",
    "  ```python\n",
    "   {\"maxiter\" : 100, \"tol\" : 1e-10, \"method\" : Richardson, ...}\n",
    "    ``` \n",
    "    - Siehe auch: JSON, XML, YAML,...\n",
    "    - Insb.: Format [JSON](https://de.wikipedia.org/wiki/JavaScript_Object_Notation) (JavaScript Object Notation) und das Python-Modul  [json](https://docs.python.org/3/library/json.html). \n",
    "\n"
   ]
  },
  {
   "cell_type": "markdown",
   "metadata": {
    "slideshow": {
     "slide_type": "subslide"
    }
   },
   "source": [
    "  - **Datenbank--Strukturen**, zB:   \n",
    "   -  für ein IT-Gerät können folgende Schlüssel-Wert Paare sinnvoll sein: \n",
    "   ```python\n",
    "        {\"mac\" : ..., \"user\" : user_1, \"id\" : ,...}\n",
    "    ``` \n",
    "   - wobei ein Nutzer wiederum selbst ein Dictionary sein kann mit \n",
    "    ```python\n",
    "        user_1 = {\"Name\" : ..., \"room\" : ...., \"phone\" : ...}\n",
    "    ``` \n",
    "    - Sehr populär ist gerade die Dokumentendatenbank: [MongoDB](https://www.mongodb.com)"
   ]
  },
  {
   "cell_type": "markdown",
   "metadata": {
    "slideshow": {
     "slide_type": "fragment"
    }
   },
   "source": [
    "  - **Sonstiges:** <br>\n",
    "     \n",
    "     - Öffne eine .ipynb Datei mit einem Texteditor.\n",
    "     - Siehe Parameterschnittstelle von Python-Funktionen mit *keyword arguments* (`**kwargs`)"
   ]
  },
  {
   "cell_type": "markdown",
   "metadata": {
    "slideshow": {
     "slide_type": "subslide"
    }
   },
   "source": [
    "### Der Basisdatentyp `dict` in Python\n",
    "\n",
    "- Literal = `{key1 : value1, key2 : value2,...}`\n",
    "- Ein dictionary enthält beliebig viele Schlüssel-Wert-Paare (*key-value pairs*).\n",
    "  - Ist also ungeordnet (sonst hätten wir `list` oder `tuple` verwenden können)\n",
    "- Dictionaries sind **veränderlich** (*mutable*).\n",
    "- In anderen Programmiersprachen gibt es ähnliche Datentypen: *Assoziativer Array*, *Map*, *Hash*."
   ]
  },
  {
   "cell_type": "code",
   "execution_count": null,
   "metadata": {
    "slideshow": {
     "slide_type": "fragment"
    }
   },
   "outputs": [],
   "source": [
    "# example\n",
    "dic = {\"Apfel\":\"Eppel\", \"Feuer\":\"fire\", (1):0, 1.0:3}\n",
    "print(dic, dic[1.0])"
   ]
  },
  {
   "cell_type": "code",
   "execution_count": null,
   "metadata": {
    "slideshow": {
     "slide_type": "skip"
    }
   },
   "outputs": [],
   "source": [
    "help(dict)"
   ]
  },
  {
   "cell_type": "markdown",
   "metadata": {
    "slideshow": {
     "slide_type": "skip"
    }
   },
   "source": [
    "**Regeln** \n",
    "\n",
    "Literal = `{key1 : value1, key2 : value2, ...}`\n",
    "\n",
    "| |key | value|\n",
    "|-|-|-|\n",
    "|`list`| int| Wert einer Instanz von beliebigem Typ|\n",
    "|`dict`|immutable |Wert einer Instanz von beliebigem Typ|\n",
    "\n",
    " - key = nur immutable Datentyp erlaubt: `str`, `int`, `tuple`,.. (alle außer `list` und `dict`)\n",
    " - sonst: `TypeError: unhashable type: 'list'/'dict'`\n"
   ]
  },
  {
   "cell_type": "code",
   "execution_count": null,
   "metadata": {
    "scrolled": true,
    "slideshow": {
     "slide_type": "skip"
    }
   },
   "outputs": [],
   "source": [
    "# list not allowed\n",
    "dic = {\"Apfel\":\"apple\", \"Feuer\":\"fire\", [1]:0}"
   ]
  },
  {
   "cell_type": "code",
   "execution_count": null,
   "metadata": {
    "slideshow": {
     "slide_type": "skip"
    }
   },
   "outputs": [],
   "source": [
    "# tuple is a valid key type\n",
    "dic = {\"Apfel\":\"Eppel\", \"Feuer\":\"fire\", (1):0, 1.0:3}\n",
    "dic[1.0]"
   ]
  },
  {
   "cell_type": "markdown",
   "metadata": {
    "slideshow": {
     "slide_type": "skip"
    }
   },
   "source": [
    "**Operatoren**\n",
    " - Zugehörigkeitsbestimmung `in`,  `not in` (bezogen auf die Schlüssel)\n"
   ]
  },
  {
   "cell_type": "code",
   "execution_count": null,
   "metadata": {
    "slideshow": {
     "slide_type": "skip"
    }
   },
   "outputs": [],
   "source": [
    "dic = {\"Apfel\":\"Eppel\", \"Feuer\":\"fire\", (1):0}\n",
    "print(\"Apfel\" in dic)\n",
    "print(\"Eppel\" in dic, \"Eppel\" not in dic)"
   ]
  },
  {
   "cell_type": "markdown",
   "metadata": {
    "slideshow": {
     "slide_type": "skip"
    }
   },
   "source": [
    " - Elementzugriff über Schlüssel"
   ]
  },
  {
   "cell_type": "code",
   "execution_count": null,
   "metadata": {
    "slideshow": {
     "slide_type": "skip"
    }
   },
   "outputs": [],
   "source": [
    "dic = {\"Apfel\":\"Eppel\", \"Feuer\":\"fire\", (1):0}\n",
    "dic[\"Apfel\"], dic[(1)]"
   ]
  },
  {
   "cell_type": "markdown",
   "metadata": {
    "slideshow": {
     "slide_type": "skip"
    }
   },
   "source": [
    " - Schlüssel-Wert Paar aus Dictionary entfernen"
   ]
  },
  {
   "cell_type": "code",
   "execution_count": null,
   "metadata": {
    "slideshow": {
     "slide_type": "skip"
    }
   },
   "outputs": [],
   "source": [
    "dic = {\"Apfel\":\"Eppel\", \"Feuer\":\"fire\", (1):0}\n",
    "del dic[\"Apfel\"], dic[(1)]\n",
    "print(dic)"
   ]
  },
  {
   "cell_type": "markdown",
   "metadata": {
    "slideshow": {
     "slide_type": "skip"
    }
   },
   "source": [
    " - Länge eines Dictionaries `len` = Anzahl Schlüssel-Wert Paare"
   ]
  },
  {
   "cell_type": "code",
   "execution_count": null,
   "metadata": {
    "slideshow": {
     "slide_type": "skip"
    }
   },
   "outputs": [],
   "source": [
    "dic = {\"Apfel\":\"Eppel\", \"Feuer\":\"fire\", (1):0}\n",
    "len(dic)"
   ]
  },
  {
   "cell_type": "markdown",
   "metadata": {
    "slideshow": {
     "slide_type": "subslide"
    }
   },
   "source": [
    "**Manipulation eines Dictionaries**\n",
    "\n",
    " - Wdh: Dictionaries sind veränderlich!"
   ]
  },
  {
   "cell_type": "code",
   "execution_count": null,
   "metadata": {
    "slideshow": {
     "slide_type": "fragment"
    }
   },
   "outputs": [],
   "source": [
    "dic = {\"Apfel\":\"Eppel\", \"Feuer\":\"fire\", 1:0}\n",
    "print(dic)\n",
    "print(id(dic))"
   ]
  },
  {
   "cell_type": "code",
   "execution_count": null,
   "metadata": {
    "slideshow": {
     "slide_type": "fragment"
    }
   },
   "outputs": [],
   "source": [
    "# Werte eines bestimmten Schlüssels verändern, Paare hinzufügen\n",
    "dic[1] = 1\n",
    "dic[\"phone\"] = \"666\"\n",
    "print(dic)\n",
    "print(id(dic))"
   ]
  },
  {
   "cell_type": "code",
   "execution_count": null,
   "metadata": {
    "slideshow": {
     "slide_type": "skip"
    }
   },
   "outputs": [],
   "source": [
    "# Schlüssel-Wert Paare hinzufügen \n",
    "dic[\"Mathematik\"] = \"Mathematics\"\n",
    "print(dic)\n",
    "print(id(dic))"
   ]
  },
  {
   "cell_type": "markdown",
   "metadata": {
    "slideshow": {
     "slide_type": "subslide"
    }
   },
   "source": [
    "## Iteration von seq. Datentypen: `for`, `zip`\n",
    "\n",
    "Die vorgestellten sequentiellen Datentypen und Dictionaries sind mit einer `for` Schleife \"direkt\" iterierbar"
   ]
  },
  {
   "cell_type": "code",
   "execution_count": 61,
   "metadata": {
    "slideshow": {
     "slide_type": "fragment"
    }
   },
   "outputs": [
    {
     "name": "stdout",
     "output_type": "stream",
     "text": [
      "0\n",
      "1\n",
      "hallo\n",
      "(0, 1)\n"
     ]
    }
   ],
   "source": [
    "liste = [0, 1, \"hallo\", (0,1)]\n",
    "for _ in liste: \n",
    "    print(_)"
   ]
  },
  {
   "cell_type": "code",
   "execution_count": 62,
   "metadata": {
    "slideshow": {
     "slide_type": "fragment"
    }
   },
   "outputs": [
    {
     "name": "stdout",
     "output_type": "stream",
     "text": [
      "0\n",
      "1\n",
      "hallo\n",
      "(0, 1)\n"
     ]
    }
   ],
   "source": [
    "tupel = (0, 1, \"hallo\", (0,1))\n",
    "for _ in tupel: \n",
    "    print(_)"
   ]
  },
  {
   "cell_type": "code",
   "execution_count": 63,
   "metadata": {
    "slideshow": {
     "slide_type": "fragment"
    }
   },
   "outputs": [
    {
     "name": "stdout",
     "output_type": "stream",
     "text": [
      "H\n",
      "a\n",
      "l\n",
      "l\n",
      "o\n",
      "W\n",
      "e\n",
      "l\n",
      "t\n"
     ]
    }
   ],
   "source": [
    "kette = \"HalloWelt\"\n",
    "for _ in kette:\n",
    "    print(_)"
   ]
  },
  {
   "cell_type": "code",
   "execution_count": 64,
   "metadata": {
    "slideshow": {
     "slide_type": "subslide"
    }
   },
   "outputs": [
    {
     "name": "stdout",
     "output_type": "stream",
     "text": [
      "Apfel apple\n",
      "Feuer fire\n",
      "1 0\n"
     ]
    }
   ],
   "source": [
    "keyval = {\"Apfel\":\"apple\", \"Feuer\":\"fire\", 1:0}\n",
    "for key in keyval:\n",
    "    print(key, keyval[key])"
   ]
  },
  {
   "cell_type": "code",
   "execution_count": null,
   "metadata": {
    "slideshow": {
     "slide_type": "fragment"
    }
   },
   "outputs": [],
   "source": [
    "for key in keyval.keys():\n",
    "    print(key)"
   ]
  },
  {
   "cell_type": "code",
   "execution_count": null,
   "metadata": {
    "slideshow": {
     "slide_type": "fragment"
    }
   },
   "outputs": [],
   "source": [
    "for val in keyval.values():\n",
    "    print(val)"
   ]
  },
  {
   "cell_type": "code",
   "execution_count": null,
   "metadata": {
    "slideshow": {
     "slide_type": "fragment"
    }
   },
   "outputs": [],
   "source": [
    "for key, val in keyval.items():\n",
    "    print(key, val)"
   ]
  },
  {
   "cell_type": "markdown",
   "metadata": {
    "slideshow": {
     "slide_type": "subslide"
    }
   },
   "source": [
    "**Merke:** Wir iterieren **nicht** mithilfe von \"Dummy-Indizes\", da ineffizient\n",
    " - Dazu ein Beispiel:"
   ]
  },
  {
   "cell_type": "code",
   "execution_count": null,
   "metadata": {
    "slideshow": {
     "slide_type": "skip"
    }
   },
   "outputs": [],
   "source": [
    "Liste = [0, 1, \"hallo\", (0,1)]\n",
    "# direkt Liste iterieren\n",
    "for _ in Liste: \n",
    "    print(_)"
   ]
  },
  {
   "cell_type": "code",
   "execution_count": null,
   "metadata": {
    "slideshow": {
     "slide_type": "skip"
    }
   },
   "outputs": [],
   "source": [
    "print(len(Liste))\n",
    "print(range(len(Liste)))"
   ]
  },
  {
   "cell_type": "code",
   "execution_count": null,
   "metadata": {
    "slideshow": {
     "slide_type": "skip"
    }
   },
   "outputs": [],
   "source": [
    "# range iterieren und item an entsprechendem Index abrufen:\n",
    "for i in range(len(Liste)):\n",
    "    print(Liste[i])"
   ]
  },
  {
   "cell_type": "markdown",
   "metadata": {
    "slideshow": {
     "slide_type": "skip"
    }
   },
   "source": [
    " - Oberflächlich scheinen beide Ansätze äquivalent zu sein!\n",
    " - Im obigen zweiten Beispiel wird der Index \"i\" allerdings *lediglich* für das Abgreifen des i-ten Elements der Liste verwendet und sonst nicht weiter:\n",
    "     - Ein Integer `i` muss erzeugt werden und dann muss das i-te Element in der Liste gefunden werden"
   ]
  },
  {
   "cell_type": "markdown",
   "metadata": {
    "slideshow": {
     "slide_type": "skip"
    }
   },
   "source": [
    "Eine kleine Zeitmessung zeigt, dass der zweite Ansatz deutlich aufwändiger ist und damit vermieden werden sollte:"
   ]
  },
  {
   "cell_type": "code",
   "execution_count": 65,
   "metadata": {
    "slideshow": {
     "slide_type": "fragment"
    }
   },
   "outputs": [
    {
     "name": "stdout",
     "output_type": "stream",
     "text": [
      "t1 direct: 0.13\n",
      "t2 with indices: 0.26\n",
      "ratio t2/t1: 2.0\n"
     ]
    }
   ],
   "source": [
    "import timeit  # ein Modul für Zeitmessungen in Python\n",
    "# direkt die Liste iterieren:\n",
    "t1 = timeit.timeit('for _ in liste: _', setup=\"liste = [0]*10000\", number=1000)\n",
    "# Umweg über Indizes\n",
    "t2 = timeit.timeit('for i in range(len(liste)): liste[i]', setup =\"liste = [0]*10000\", number=1000)\n",
    "print(\"t1 direct: {t1:.2}\\nt2 with indices: {t2:.2}\\nratio t2/t1: {ratio:.2}\".format(t1=t1, t2=t2, ratio=t2/t1))\n",
    "# enumerate"
   ]
  },
  {
   "cell_type": "markdown",
   "metadata": {
    "slideshow": {
     "slide_type": "subslide"
    }
   },
   "source": [
    "### Parallele Iteration mit `zip()`\n",
    "\n",
    " - `zip()` ist eine eingebaute Funktion und erlaubt beispielsweise die parallele Iteration über mehrere iterierbare Objekte wie Listen, Strings, Tuple\n",
    " - Was `zip()` macht: Es nimmt (mehrere) iterierbare Objekte entgegen (Listen, Strings, Tuple) und generiert einen songenanntes Iterator-Objekt, mit dessen Hilfe wir über Tuple `(a_i, b_i, c_i)` $\\in$ `(A, B, C)` iterieren können"
   ]
  },
  {
   "cell_type": "code",
   "execution_count": null,
   "metadata": {
    "slideshow": {
     "slide_type": "fragment"
    }
   },
   "outputs": [],
   "source": [
    "a = [1, 2, 3, 4, 5]\n",
    "b = \"abc\"\n",
    "c = (1, 2, 3)\n",
    "d = {\"key\": 1, \"key2\": 2}\n",
    "for tup in zip(a, b, c, d):\n",
    "    print(tup)\n",
    "# Bemerkung: Objekte unterschiedlich lang, was passiert?"
   ]
  },
  {
   "cell_type": "code",
   "execution_count": null,
   "metadata": {
    "slideshow": {
     "slide_type": "fragment"
    }
   },
   "outputs": [],
   "source": [
    "for ai, bi, ci, di in zip(a, b, c, d):  # mit tuple unpacking\n",
    "    print(ai, bi, ci, di)"
   ]
  },
  {
   "cell_type": "code",
   "execution_count": null,
   "metadata": {
    "slideshow": {
     "slide_type": "subslide"
    }
   },
   "outputs": [],
   "source": [
    "# Einfaches Anwendungsbeispiel 1: Inneres Produkt\n",
    "liste     = [1, 2, 3, 4]\n",
    "activator = [1, 0, 1, 0]\n",
    "newList = []\n",
    "for a, b in zip(liste, activator):\n",
    "    if b:\n",
    "        newList.append(a)\n",
    "print(\"Das inner Produkt ist {}\".format(newList))"
   ]
  },
  {
   "cell_type": "code",
   "execution_count": null,
   "metadata": {
    "slideshow": {
     "slide_type": "fragment"
    }
   },
   "outputs": [],
   "source": [
    "# oder in einer Zeile mit list comprehension\n",
    "print([a for a, b in zip(liste, activator) if b])"
   ]
  },
  {
   "cell_type": "code",
   "execution_count": null,
   "metadata": {
    "slideshow": {
     "slide_type": "subslide"
    }
   },
   "outputs": [],
   "source": [
    "# Einfaches Anwendungsbeispiel 2\n",
    "userDict = {\"user1\": \n",
    "             {\"password\" : \"pwd\",  \n",
    "              \"name\" : \"Christian Vollmann\", \n",
    "              \"room\": \"E19\"},\n",
    "              \"user2\": \n",
    "             {\"password\" : \"pwd2\", \n",
    "              \"name\" : \"Petra Mueller\",     \n",
    "              \"room\": \"E09\"}}\n",
    "newPwd = [\"random1\", \"random2\"]\n",
    "print(\"Alt: {}\".format(userDict))\n",
    "for user, newPw in zip(userDict, newPwd):\n",
    "    userDict[user][\"password\"] = newPw\n",
    "print(\"Neu: {}\".format(userDict))"
   ]
  }
 ],
 "metadata": {
  "celltoolbar": "Slideshow",
  "kernelspec": {
   "display_name": "Python 3 (ipykernel)",
   "language": "python",
   "name": "python3"
  },
  "language_info": {
   "codemirror_mode": {
    "name": "ipython",
    "version": 3
   },
   "file_extension": ".py",
   "mimetype": "text/x-python",
   "name": "python",
   "nbconvert_exporter": "python",
   "pygments_lexer": "ipython3",
   "version": "3.10.6"
  },
  "latex_envs": {
   "LaTeX_envs_menu_present": true,
   "autoclose": false,
   "autocomplete": true,
   "bibliofile": "biblio.bib",
   "cite_by": "apalike",
   "current_citInitial": 1,
   "eqLabelWithNumbers": true,
   "eqNumInitial": 1,
   "hotkeys": {
    "equation": "Ctrl-E",
    "itemize": "Ctrl-I"
   },
   "labels_anchors": false,
   "latex_user_defs": false,
   "report_style_numbering": false,
   "user_envs_cfg": false
  },
  "toc": {
   "base_numbering": "5",
   "nav_menu": {},
   "number_sections": true,
   "sideBar": true,
   "skip_h1_title": false,
   "title_cell": "Basisdatentypen",
   "title_sidebar": "Contents",
   "toc_cell": true,
   "toc_position": {
    "height": "calc(100% - 180px)",
    "left": "10px",
    "top": "150px",
    "width": "165px"
   },
   "toc_section_display": true,
   "toc_window_display": false
  },
  "varInspector": {
   "cols": {
    "lenName": 16,
    "lenType": 16,
    "lenVar": 40
   },
   "kernels_config": {
    "python": {
     "delete_cmd_postfix": "",
     "delete_cmd_prefix": "del ",
     "library": "var_list.py",
     "varRefreshCmd": "print(var_dic_list())"
    },
    "r": {
     "delete_cmd_postfix": ") ",
     "delete_cmd_prefix": "rm(",
     "library": "var_list.r",
     "varRefreshCmd": "cat(var_dic_list()) "
    }
   },
   "types_to_exclude": [
    "module",
    "function",
    "builtin_function_or_method",
    "instance",
    "_Feature"
   ],
   "window_display": false
  }
 },
 "nbformat": 4,
 "nbformat_minor": 2
}
