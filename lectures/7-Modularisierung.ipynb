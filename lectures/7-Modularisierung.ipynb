{
 "cells": [
  {
   "cell_type": "markdown",
   "metadata": {
    "toc": true
   },
   "source": [
    "<h1>Modularisierung<span class=\"tocSkip\"></span></h1>\n",
    "<div class=\"toc\"><ul class=\"toc-item\"><li><span><a href=\"#Modularisierung\" data-toc-modified-id=\"Modularisierung-7\"><span class=\"toc-item-num\">7&nbsp;&nbsp;</span>Modularisierung</a></span><ul class=\"toc-item\"><li><span><a href=\"#Globale-Module-und-Importanweisungen\" data-toc-modified-id=\"Globale-Module-und-Importanweisungen-7.1\"><span class=\"toc-item-num\">7.1&nbsp;&nbsp;</span>Globale Module und Importanweisungen</a></span></li><li><span><a href=\"#Lokale-Module\" data-toc-modified-id=\"Lokale-Module-7.2\"><span class=\"toc-item-num\">7.2&nbsp;&nbsp;</span>Lokale Module</a></span></li><li><span><a href=\"#Suchpfad-(Module-Search-Path)\" data-toc-modified-id=\"Suchpfad-(Module-Search-Path)-7.3\"><span class=\"toc-item-num\">7.3&nbsp;&nbsp;</span>Suchpfad (<em>Module Search Path</em>)</a></span></li><li><span><a href=\"#Modulinterne-Referenzen\" data-toc-modified-id=\"Modulinterne-Referenzen-7.4\"><span class=\"toc-item-num\">7.4&nbsp;&nbsp;</span>Modulinterne Referenzen</a></span><ul class=\"toc-item\"><li><span><a href=\"#if-__name__-==-&quot;__main__&quot;\" data-toc-modified-id=\"if-__name__-==-&quot;__main__&quot;-7.4.1\"><span class=\"toc-item-num\">7.4.1&nbsp;&nbsp;</span>if __name__ == \"__main__\"</a></span></li></ul></li><li><span><a href=\"#Pakete-(Packages)\" data-toc-modified-id=\"Pakete-(Packages)-7.5\"><span class=\"toc-item-num\">7.5&nbsp;&nbsp;</span>Pakete (<em><a href=\"https://docs.python.org/3/tutorial/modules.html#packages\" target=\"_blank\">Packages</a></em>)</a></span><ul class=\"toc-item\"><li><span><a href=\"#Beispielanwendung\" data-toc-modified-id=\"Beispielanwendung-7.5.1\"><span class=\"toc-item-num\">7.5.1&nbsp;&nbsp;</span>Beispielanwendung</a></span></li><li><span><a href=\"#Absolute-vs.-relative-Importanweisung\" data-toc-modified-id=\"Absolute-vs.-relative-Importanweisung-7.5.2\"><span class=\"toc-item-num\">7.5.2&nbsp;&nbsp;</span>Absolute vs. relative Importanweisung</a></span></li><li><span><a href=\"#Alle-Module-eines-Pakets-importieren\" data-toc-modified-id=\"Alle-Module-eines-Pakets-importieren-7.5.3\"><span class=\"toc-item-num\">7.5.3&nbsp;&nbsp;</span>Alle Module eines Pakets importieren</a></span></li><li><span><a href=\"#Bibliotheken,-Module,-Pakete,-Skript,-Programm,...?\" data-toc-modified-id=\"Bibliotheken,-Module,-Pakete,-Skript,-Programm,...?-7.5.4\"><span class=\"toc-item-num\">7.5.4&nbsp;&nbsp;</span>Bibliotheken, Module, Pakete, Skript, Programm,...?</a></span></li></ul></li></ul></li></ul></div>"
   ]
  },
  {
   "cell_type": "markdown",
   "metadata": {
    "slideshow": {
     "slide_type": "subslide"
    }
   },
   "source": [
    "# Modularisierung\n",
    "\n"
   ]
  },
  {
   "cell_type": "markdown",
   "metadata": {
    "slideshow": {
     "slide_type": "skip"
    }
   },
   "source": [
    "**Quellen:** \n",
    "\n",
    "  - J.Ernesti, P.Kaiser, *Python 3 - Das umfassende Handbuch*: Teil II - Kapitel 10\n",
    "  - Pyton Tutorial zu Modulen: https://docs.python.org/3/tutorial/modules.html\n",
    "  - Python Language Reference zu Importanweisungen: https://docs.python.org/3/reference/import.html\n",
    "  - (Importmodule aus der Standardbibliothek: https://docs.python.org/3/library/modules.html)\n",
    "\n",
    "\n"
   ]
  },
  {
   "cell_type": "markdown",
   "metadata": {
    "slideshow": {
     "slide_type": "fragment"
    }
   },
   "source": [
    "Modularisierung = Aufteilung des Quelltextes in sogenannte *Module*\n",
    "\n",
    "- Module helfen den Programmcode überschaubar auf verschiedene Programmdateien aufzuteilen.\n",
    "- Wir können Namensräume erzeugen, um thematisch verwandte Bereiche voneinander abzugrenzen.\n",
    "- Module stellen meist Datentypen und Funktionen bereit, die einem bestimmten Zweck dienen.\n"
   ]
  },
  {
   "cell_type": "code",
   "execution_count": 4,
   "metadata": {
    "slideshow": {
     "slide_type": "fragment"
    }
   },
   "outputs": [
    {
     "data": {
      "text/plain": [
       "-1.0"
      ]
     },
     "execution_count": 4,
     "metadata": {},
     "output_type": "execute_result"
    }
   ],
   "source": [
    "import math # provides access to the mathematical functions\n",
    "import os # provides a portable way of using operating system dependent functionality\n",
    "directory = \"TestDirectory\"\n",
    "os.mkdir(directory)\n",
    "math.cos(math.pi)"
   ]
  },
  {
   "cell_type": "code",
   "execution_count": 5,
   "metadata": {
    "slideshow": {
     "slide_type": "subslide"
    }
   },
   "outputs": [],
   "source": [
    "os.rmdir(directory)"
   ]
  },
  {
   "cell_type": "code",
   "execution_count": 6,
   "metadata": {
    "slideshow": {
     "slide_type": "fragment"
    }
   },
   "outputs": [
    {
     "name": "stdout",
     "output_type": "stream",
     "text": [
 
     ]
    }
   ],
   "source": [
    "with os.scandir(\".\") as it:\n",
    "    for entry in it:\n",
    "        print(entry)"
   ]
  },
  {
   "cell_type": "markdown",
   "metadata": {
    "slideshow": {
     "slide_type": "subslide"
    }
   },
   "source": [
    "Die Unterscheidung nach dem Speicherort ergibt zwei Arten von Modulen:\n",
    "  \n",
    "  - **globale Module**: systemweit verfügbar, das heißt sie stehen allen Python-Programmen zur Verfügung\n",
    "       - meist unter 'site-packages'/ 'dist-packages' oder direkt im Interpreter eingebaut (*built-ins*)\n",
    "       - wir können eigene globale Module schreiben"
   ]
  },
  {
   "cell_type": "markdown",
   "metadata": {
    "slideshow": {
     "slide_type": "fragment"
    }
   },
   "source": [
    "   - **lokale Module**: befinden sich im Programmverzeichnis und sind zunächst nur für die lokalen Skripte verfügbar."
   ]
  },
  {
   "cell_type": "markdown",
   "metadata": {
    "slideshow": {
     "slide_type": "skip"
    }
   },
   "source": [
    "**Standardbibliothek (the \"Python Library\")** <br>\n",
    "https://docs.python.org/3/library/intro.html\n",
    " - (eingebaute) Funktionen\n",
    " - (eingebaute) Datentypen\n",
    " - Module\n",
    " \n",
    "(**Mathematik**, Textverarbeitung, Netzwerkkommunikation, Parallelisierung,...)"
   ]
  },
  {
   "cell_type": "markdown",
   "metadata": {
    "slideshow": {
     "slide_type": "skip"
    }
   },
   "source": [
    "Ubuntu: dist-packages vs site-packages\n",
    "https://stackoverflow.com/questions/9387928/whats-the-difference-between-dist-packages-and-site-packages\n",
    "\n",
    "- dist-packages: where apt-get and friends install things\n",
    "- site-packages: where system-python installs things"
   ]
  },
  {
   "cell_type": "markdown",
   "metadata": {
    "slideshow": {
     "slide_type": "subslide"
    }
   },
   "source": [
    "## Globale Module und Importanweisungen"
   ]
  },
  {
   "cell_type": "markdown",
   "metadata": {
    "slideshow": {
     "slide_type": "fragment"
    }
   },
   "source": [
    "**`import`** `Modul1, Modul2,...`\n",
    "- erstellt einen neuen Namensraum\n",
    "    - unter `Modul1.` alle Funktionen, Datentypen und Werte verfügbar"
   ]
  },
  {
   "cell_type": "code",
   "execution_count": 7,
   "metadata": {
    "slideshow": {
     "slide_type": "fragment"
    }
   },
   "outputs": [
    {
     "name": "stdout",
     "output_type": "stream",
     "text": [
      "1.2246467991473532e-16\n"
     ]
    }
   ],
   "source": [
    "import math\n",
    "#math.  # <tab>\n",
    "a = math.pi\n",
    "print(math.sin(a))"
   ]
  },
  {
   "cell_type": "markdown",
   "metadata": {
    "slideshow": {
     "slide_type": "skip"
    }
   },
   "source": [
    "- Wir können mehrere Module auf einmal importieren.\n",
    "- Alle Anweisungen eines Moduls werden beim ersten Import ausgeführt."
   ]
  },
  {
   "cell_type": "markdown",
   "metadata": {
    "slideshow": {
     "slide_type": "subslide"
    }
   },
   "source": [
    "**`import`** `Modulname as EigenerModulname`\n",
    " - Wir können den Namensraum-Titel ändern."
   ]
  },
  {
   "cell_type": "code",
   "execution_count": 8,
   "metadata": {
    "slideshow": {
     "slide_type": "fragment"
    }
   },
   "outputs": [
    {
     "name": "stdout",
     "output_type": "stream",
     "text": [
      "-1.0\n"
     ]
    }
   ],
   "source": [
    "import math as mathematik\n",
    "a = mathematik.pi\n",
    "print(mathematik.cos(a))"
   ]
  },
  {
   "cell_type": "markdown",
   "metadata": {
    "slideshow": {
     "slide_type": "subslide"
    }
   },
   "source": [
    "**`from Modulname import *`**"
   ]
  },
  {
   "cell_type": "code",
   "execution_count": 9,
   "metadata": {
    "slideshow": {
     "slide_type": "fragment"
    }
   },
   "outputs": [
    {
     "name": "stdout",
     "output_type": "stream",
     "text": [
      "-1.2246467991473532e-16\n"
     ]
    }
   ],
   "source": [
    "from math import *\n",
    "# b = math.pi\n",
    "a = pi\n",
    "print(tan(a))"
   ]
  },
  {
   "cell_type": "markdown",
   "metadata": {
    "slideshow": {
     "slide_type": "fragment"
    }
   },
   "source": [
    " - Es wird *kein* neuer Namensraum erstellt.\n",
    " - Alle Elemente von `Modulname` werden in den globalen Namensraum eingebunden \n",
    "    - Ausnahme: Elemente, deren Namen mit `__` beginnen (diese sind *modulintern*; später mehr dazu)"
   ]
  },
  {
   "cell_type": "markdown",
   "metadata": {
    "slideshow": {
     "slide_type": "subslide"
    }
   },
   "source": [
    "**Vorsicht:**\n",
    "  - Dadurch sind Referenzen-Kollisionen im globalen Namensraum möglich.\n",
    "  - Dies widerspricht dem Sinn, Funktionalitäten thematisch in Namensräume zu unterteilen und sollte vermieden werden!"
   ]
  },
  {
   "cell_type": "code",
   "execution_count": 10,
   "metadata": {
    "slideshow": {
     "slide_type": "fragment"
    }
   },
   "outputs": [
    {
     "name": "stdout",
     "output_type": "stream",
     "text": [
      "3.141592653589793\n",
      "1.0\n"
     ]
    }
   ],
   "source": [
    "from math import *\n",
    "print(pi)\n",
    "pi = 0\n",
    "print(cos(pi/2)) # != 0"
   ]
  },
  {
   "cell_type": "markdown",
   "metadata": {
    "slideshow": {
     "slide_type": "subslide"
    }
   },
   "source": [
    "**`from`** `Modulname` **`import`** `Modulelement1` **`as`** `model1`\n",
    "- Wir können einzelne Elemente (Funktionen, Module,...) eines Moduls in den globalen Namensraum eingliedern."
   ]
  },
  {
   "cell_type": "code",
   "execution_count": 11,
   "metadata": {
    "slideshow": {
     "slide_type": "fragment"
    }
   },
   "outputs": [
    {
     "name": "stdout",
     "output_type": "stream",
     "text": [
      "3.141592653589793\n",
      "-1.0 1.2246467991473532e-16\n"
     ]
    }
   ],
   "source": [
    "from math import cos as cosinus, sin as sinus, pi\n",
    "print(pi)\n",
    "print(cosinus(pi), sinus(pi))"
   ]
  },
  {
   "cell_type": "markdown",
   "metadata": {
    "slideshow": {
     "slide_type": "subslide"
    }
   },
   "source": [
    "**Zusammenfassung**\n",
    " - **`import`** `Modul`\n",
    "     - <span style=\"color:blue\"> *Modul unter dem Namensraum `Modul` einbinden*</span>\n",
    " - **`import`** `Modul` **`as`** `M`\n",
    "     - <span style=\"color:blue\">*Modul unter dem Namensraum `M` einbinden*</span>\n",
    " - **`from`** Modul **`import`** `*`\n",
    "     - <span style=\"color:blue\">*Alle Elemente des Moduls in den globalen Namensraum einbinden* [vermeiden!]</span>\n",
    " - **`from`** Modul **`import`** `Element1` **`as`** `E1`, `Element1` **`as`** `E1` `[,...]` \n",
    "     - <span style=\"color:blue\">*Einzelne Elemente des Moduls mit eigenen Namen in den globalen Namensraum eimbinden*</span>\n",
    " "
   ]
  },
  {
   "cell_type": "markdown",
   "metadata": {
    "slideshow": {
     "slide_type": "subslide"
    }
   },
   "source": [
    "## Lokale Module\n",
    "\n",
    "- Der Unterschied zu globalen Modulen: Lokale Module liegen meist im Unterverzeichnis und sind daher nur lokal verfügbar und nicht in beliebigen anderen Python-Programmen.\n",
    "- Importanweisungen bleiben gleich.\n",
    "- **Beispiel**\n",
    "    - Wir schreiben unser eigenes \"Mathematik\"-Modul `mathe.py` mit Hilfsfunktionen, Konstanten usw., welche wir in dem Hauptprogramm `main.py` verwenden werden."
   ]
  },
  {
   "cell_type": "code",
   "execution_count": 12,
   "metadata": {
    "slideshow": {
     "slide_type": "subslide"
    }
   },
   "outputs": [],
   "source": [
    "with open(\"mathe.py\", \"w\") as eigenesmodul:  # erstellen eine Datei mit dem Name <Par1> mit Lese/Schreibrechten <Par2>\n",
    "    eigenesmodul.writelines( \n",
    "\"\"\"\n",
    "def factorial(n): return factorial(n-1) * n if n > 0 else 1 \n",
    "\n",
    "def summe(*args):\n",
    "    result = 0\n",
    "    for i in range(len(args)):\n",
    "        result+= args[i]\n",
    "    return result\n",
    "\n",
    "constant = 5\n",
    "    \"\"\")"
   ]
  },
  {
   "cell_type": "code",
   "execution_count": 13,
   "metadata": {
    "slideshow": {
     "slide_type": "subslide"
    }
   },
   "outputs": [
    {
     "data": {
      "text/plain": [
       "5"
      ]
     },
     "execution_count": 13,
     "metadata": {},
     "output_type": "execute_result"
    }
   ],
   "source": [
    "import mathe\n",
    "mathe.constant"
   ]
  },
  {
   "cell_type": "code",
   "execution_count": 14,
   "metadata": {
    "slideshow": {
     "slide_type": "fragment"
    }
   },
   "outputs": [
    {
     "data": {
      "text/plain": [
       "120"
      ]
     },
     "execution_count": 14,
     "metadata": {},
     "output_type": "execute_result"
    }
   ],
   "source": [
    "mathe.factorial(5)"
   ]
  },
  {
   "cell_type": "code",
   "execution_count": 15,
   "metadata": {
    "slideshow": {
     "slide_type": "fragment"
    }
   },
   "outputs": [
    {
     "data": {
      "text/plain": [
       "5"
      ]
     },
     "execution_count": 15,
     "metadata": {},
     "output_type": "execute_result"
    }
   ],
   "source": [
    "import mathe as m\n",
    "m.constant"
   ]
  },
  {
   "cell_type": "code",
   "execution_count": 16,
   "metadata": {
    "slideshow": {
     "slide_type": "fragment"
    }
   },
   "outputs": [
    {
     "data": {
      "text/plain": [
       "(120, 120)"
      ]
     },
     "execution_count": 16,
     "metadata": {},
     "output_type": "execute_result"
    }
   ],
   "source": [
    "from mathe import factorial as F\n",
    "F(5), mathe.factorial(5)"
   ]
  },
  {
   "cell_type": "markdown",
   "metadata": {
    "slideshow": {
     "slide_type": "subslide"
    }
   },
   "source": [
    "Das Hauptprogramm `main.py`"
   ]
  },
  {
   "cell_type": "code",
   "execution_count": 17,
   "metadata": {
    "slideshow": {
     "slide_type": "fragment"
    }
   },
   "outputs": [],
   "source": [
    "with open(\"main.py\", \"w\") as main:\n",
    "    main.writelines(\"\"\"import mathe as m\n",
    "num = m.constant\n",
    "print(m.factorial(num))\n",
    "print(m.summe(num, num+1))\n",
    "\"\"\")\n"
   ]
  },
  {
   "cell_type": "code",
   "execution_count": 18,
   "metadata": {
    "slideshow": {
     "slide_type": "fragment"
    }
   },
   "outputs": [
    {
     "name": "stdout",
     "output_type": "stream",
     "text": [
      "120\n",
      "11\n"
     ]
    }
   ],
   "source": [
    "%run main.py # magic function %run, wie `python Hauptprogramm.py` im Terminal"
   ]
  },
  {
   "cell_type": "markdown",
   "metadata": {
    "slideshow": {
     "slide_type": "subslide"
    }
   },
   "source": [
    "## Suchpfad (*Module Search Path*) \n"
   ]
  },
  {
   "cell_type": "markdown",
   "metadata": {
    "slideshow": {
     "slide_type": "fragment"
    }
   },
   "source": [
    "**Wo wird nach Modulen gesucht?**\n",
    "\n",
    " - Der Interpreter sucht in einer Liste von Verzeichnissen in vorgegebener Reihenfolge nach den Modulen.\n",
    " - Die Variable `sys.path` verweist genau auf diese Liste."
   ]
  },
  {
   "cell_type": "code",
   "execution_count": 19,
   "metadata": {
    "slideshow": {
     "slide_type": "fragment"
    }
   },
   "outputs": [
    {
     "data": {
      "text/plain": [
       "['/home/vollmann/Seafile/2_TEACHING/3_prog/script/python',\n",
       " '/usr/lib/python310.zip',\n",
       " '/usr/lib/python3.10',\n",
       " '/usr/lib/python3.10/lib-dynload',\n",
       " '',\n",
       " '/usr/local/lib/python3.10/dist-packages',\n",
       " '/usr/lib/python3/dist-packages',\n",
       " '/usr/lib/python3/dist-packages/IPython/extensions',\n",
       " '/home/vollmann/.ipython']"
      ]
     },
     "execution_count": 19,
     "metadata": {},
     "output_type": "execute_result"
    }
   ],
   "source": [
    "import sys\n",
    "sys.path"
   ]
  },
  {
   "cell_type": "markdown",
   "metadata": {
    "slideshow": {
     "slide_type": "subslide"
    }
   },
   "source": [
    "Das Verzeichnis, welches das auszuführende Skript enthält, wird an den Anfang des Suchpfads gesetzt (noch vor dem Pfad der Standardbibliothek). Damit ergibt sich:\n",
    "\n",
    "  - **Fall 1**: Modul mit entsprechendem Name wird im lokalen Programmordner gefunden, dann import und STOP\n",
    "  - **Fall 2**: Modul nicht lokal gefunden\n",
    "     - **Fall 2.1**: Suche globales Modul. Falls gefunden, dann import und STOP\n",
    "     - **Fall 2.2**: `ImportError: No module named ...`\n"
   ]
  },
  {
   "cell_type": "code",
   "execution_count": 20,
   "metadata": {
    "slideshow": {
     "slide_type": "fragment"
    }
   },
   "outputs": [
    {
     "ename": "ModuleNotFoundError",
     "evalue": "No module named 'hallo'",
     "output_type": "error",
     "traceback": [
      "\u001b[0;31m---------------------------------------------------------------------------\u001b[0m",
      "\u001b[0;31mModuleNotFoundError\u001b[0m                       Traceback (most recent call last)",
      "\u001b[0;32m/tmp/ipykernel_6315/2299990577.py\u001b[0m in \u001b[0;36m<module>\u001b[0;34m\u001b[0m\n\u001b[0;32m----> 1\u001b[0;31m \u001b[0;32mimport\u001b[0m \u001b[0mhallo\u001b[0m\u001b[0;34m\u001b[0m\u001b[0;34m\u001b[0m\u001b[0m\n\u001b[0m",
      "\u001b[0;31mModuleNotFoundError\u001b[0m: No module named 'hallo'"
     ]
    }
   ],
   "source": [
    "import hallo"
   ]
  },
  {
   "cell_type": "markdown",
   "metadata": {
    "slideshow": {
     "slide_type": "subslide"
    }
   },
   "source": [
    "Wir können die Liste der Suchpfade auch erweiteren (um eigene Skripte auszulagern):"
   ]
  },
  {
   "cell_type": "code",
   "execution_count": null,
   "metadata": {
    "slideshow": {
     "slide_type": "fragment"
    }
   },
   "outputs": [],
   "source": [
    "import sys\n",
    "sys.path.append('/home/vollmann/python/lib')\n",
    "sys.path"
   ]
  },
  {
   "cell_type": "markdown",
   "metadata": {
    "slideshow": {
     "slide_type": "subslide"
    }
   },
   "source": [
    "## Modulinterne Referenzen\n",
    "\n",
    "In jedem Modul existieren Variablen, die Informationen über das Modul selbst enthalten. Zum Beispiel:\n",
    "\n",
    "|Referenz | Beschreibung|\n",
    "|---|---|\n",
    "|`__file__` | Referenziert einen String, der den Namen der Programmdatei des Moduls inklusive Pfad enthält.|\n",
    "|`__name__`| Referenziert einen String, der den Namen des Moduls enthält.|"
   ]
  },
  {
   "cell_type": "code",
   "execution_count": 21,
   "metadata": {
    "slideshow": {
     "slide_type": "fragment"
    }
   },
   "outputs": [],
   "source": [
    "import mathe as m"
   ]
  },
  {
   "cell_type": "code",
   "execution_count": 22,
   "metadata": {
    "slideshow": {
     "slide_type": "fragment"
    }
   },
   "outputs": [
    {
     "data": {
      "text/plain": [
       "'/home/vollmann/Seafile/2_TEACHING/3_prog/script/python/mathe.py'"
      ]
     },
     "execution_count": 22,
     "metadata": {},
     "output_type": "execute_result"
    }
   ],
   "source": [
    "m.__file__"
   ]
  },
  {
   "cell_type": "code",
   "execution_count": 23,
   "metadata": {
    "scrolled": true,
    "slideshow": {
     "slide_type": "fragment"
    }
   },
   "outputs": [
    {
     "data": {
      "text/plain": [
       "'mathe'"
      ]
     },
     "execution_count": 23,
     "metadata": {},
     "output_type": "execute_result"
    }
   ],
   "source": [
    "m.__name__"
   ]
  },
  {
   "cell_type": "code",
   "execution_count": null,
   "metadata": {
    "slideshow": {
     "slide_type": "fragment"
    }
   },
   "outputs": [],
   "source": [
    "import numpy as np\n",
    "np.__file__"
   ]
  },
  {
   "cell_type": "code",
   "execution_count": null,
   "metadata": {
    "slideshow": {
     "slide_type": "skip"
    }
   },
   "outputs": [],
   "source": [
    "dir(m) \n",
    "# https://docs.python.org/3/library/functions.html#dir\n",
    "# Without arguments, return the list of names in the current local scope."
   ]
  },
  {
   "cell_type": "markdown",
   "metadata": {
    "slideshow": {
     "slide_type": "subslide"
    }
   },
   "source": [
    "### if \\_\\_name\\_\\_ == \"\\_\\_main\\_\\_\""
   ]
  },
  {
   "cell_type": "markdown",
   "metadata": {
    "slideshow": {
     "slide_type": "fragment"
    }
   },
   "source": [
    " - Falls Modulname.py *direkt ausgeführt* wird, dann \\_\\_name\\_\\_ == \"\\_\\_main\\_\\_\"\n",
    " - Falls Modulname.py von einem anderen Skript *importiert* wird, dann \\_\\_name\\_\\_== \"Modulname\"\n",
    " - **Beispiel:** mathe.py erweitern"
   ]
  },
  {
   "cell_type": "code",
   "execution_count": 24,
   "metadata": {
    "slideshow": {
     "slide_type": "fragment"
    }
   },
   "outputs": [],
   "source": [
    "with open('mathe.py', 'a') as mathe: # \"append\" Modus\n",
    "    mathe.writelines(\n",
    "\"\"\"\n",
    "print(\"__name__ =\", __name__)\n",
    "\n",
    "if __name__ == \"__main__\":\n",
    "    print(\"Ich wurde direkt ausgeführt\")\n",
    "\"\"\"\n",
    ")"
   ]
  },
  {
   "cell_type": "code",
   "execution_count": 1,
   "metadata": {
    "scrolled": true,
    "slideshow": {
     "slide_type": "fragment"
    }
   },
   "outputs": [
    {
     "name": "stdout",
     "output_type": "stream",
     "text": [
      "__name__ = mathe\n"
     ]
    }
   ],
   "source": [
    "import mathe  # if already imported, restart kernel or import importlib, importlib.reload(mathe) "
   ]
  },
  {
   "cell_type": "code",
   "execution_count": 2,
   "metadata": {
    "slideshow": {
     "slide_type": "fragment"
    }
   },
   "outputs": [
    {
     "name": "stdout",
     "output_type": "stream",
     "text": [
      "__name__ = __main__\n",
      "Ich wurde direkt ausgeführt\n"
     ]
    }
   ],
   "source": [
    "%run mathe.py"
   ]
  },
  {
   "cell_type": "code",
   "execution_count": null,
   "metadata": {
    "slideshow": {
     "slide_type": "fragment"
    }
   },
   "outputs": [],
   "source": [
    "# Bemerkung:\n",
    "# Ein Modul wird in einer Session nur genau einmal importiert\n",
    "# (--> sehen den print also nur beim ersten mal)\n",
    "# wir bekommen lediglich eine Referenz auf das bereits importierte Modul\n",
    "import mathe\n",
    "# import importlib; importlib.reload(mathe)"
   ]
  },
  {
   "cell_type": "markdown",
   "metadata": {
    "slideshow": {
     "slide_type": "subslide"
    }
   },
   "source": [
    "Das kann zum Beispiel nützlich sein, um die Elemente einzelner Module zu testen:\n",
    "\n",
    "**Situation:** \n",
    " - Wir haben unser Software-Projekt sinnvoll in Module unterteilt.\n",
    " - Diese Module werden im Hauptprogramm eingebunden.\n",
    " - Um sicherzustellen, dass die einzelnen Elemente der jeweiligen Module funktionieren, möchten wir Tests schreiben.\n",
    " - Diese Tests könnten wir direkt in die Programmdateien der Module schreiben.\n",
    " - Allerdings wollen wir nicht, dass diese Tests jedes Mal ausgeführt werden, wenn die Module im Hauptteil \n",
    "importiert werden."
   ]
  },
  {
   "cell_type": "markdown",
   "metadata": {
    "slideshow": {
     "slide_type": "fragment"
    }
   },
   "source": [
    "**Lösung:**\n",
    "\n",
    "Mit der Konstruktion \n",
    " ```python \n",
    " if __name__ == \"__main__\" \n",
    " ```\n",
    " \n",
    "können wir eine Python Datei sowohl als eigenständiges Programm nutzen, als auch als importierbare Datei."
   ]
  },
  {
   "cell_type": "markdown",
   "metadata": {
    "slideshow": {
     "slide_type": "subslide"
    }
   },
   "source": [
    "## Pakete (*[Packages](https://docs.python.org/3/tutorial/modules.html#packages)*)"
   ]
  },
  {
   "cell_type": "markdown",
   "metadata": {
    "slideshow": {
     "slide_type": "fragment"
    }
   },
   "source": [
    " - Wir können mehrere Module, die thematisch zusammengehören, zu einem Paket zusammenfassen.\n",
    " - Pakete können Pakete und Module enthalten.\n"
   ]
  },
  {
   "cell_type": "markdown",
   "metadata": {
    "slideshow": {
     "slide_type": "skip"
    }
   },
   "source": [
    " - **Erstellung eines Pakets**: \n",
    "     - Erzeuge Unterverzeichnis im Programmverzeichnis\n",
    "     - Paket-Name = Name des Unterverzeichnisses\n",
    "     - in dieses Unterverzeichnis muss eine Datei namens `__init__.py` (darf leer sein)\n",
    "         - enthält Initialisierungscode, der beim import einmalig ausgeführt wird"
   ]
  },
  {
   "cell_type": "markdown",
   "metadata": {
    "slideshow": {
     "slide_type": "subslide"
    }
   },
   "source": [
    "### Beispielanwendung\n",
    "\n",
    "- **image_processing**/\n",
    "    - `__init__.py`\n",
    "    - <span style=\"color:red\">Paket (=Verzeichnis) **`effects/`** </span>\n",
    "        - `__init__.py`\n",
    "        - <span style=\"color:blue\">Modul `blur.py`</span>\n",
    "        - <span style=\"color:blue\">Modul `rotate.py`</span>\n",
    "    - <span style=\"color:red\">Paket (=Verzeichnis) **`formats`**</span>\n",
    "        - `__init__.py`\n",
    "            - <span style=\"color:red\">Paket (=Verzeichnis) **`jpeg/`**</span>\n",
    "                -  `__init__.py`\n",
    "                - <span style=\"color:blue\"> Modul `read.py` </span>\n",
    "                - <span style=\"color:blue\"> Modul `write.py`</span>\n",
    "            - <span style=\"color:red\">Paket (=Verzeichnis) **`png/`**</span>\n",
    "                -  `__init__.py`\n",
    "                - <span style=\"color:blue\"> Modul `read.py`</span>\n",
    "                - <span style=\"color:blue\"> Modul `write.py`</span>\n",
    "   \n"
   ]
  },
  {
   "cell_type": "markdown",
   "metadata": {
    "slideshow": {
     "slide_type": "fragment"
    }
   },
   "source": [
    "**Was passiert nun beim Import**\n",
    "\n",
    "Bei der Importanweisung \n",
    "```python\n",
    "import effects\n",
    "```\n",
    "wird die Datei `__init__.py` ausgeführt"
   ]
  },
  {
   "cell_type": "markdown",
   "metadata": {
    "slideshow": {
     "slide_type": "skip"
    }
   },
   "source": [
    "**Mögliche Namenskonflikte**\n",
    "\n",
    "Es kommt zu einem Namenskonflikt, wenn ein Paket und ein Modul denselben Namen besitzen. Es ist grundsätzlich so, dass bei Namensgleichheit ein Paket Vorrang vor einem Modul hat, es also keine Möglichkeit mehr gibt, das Modul zu importieren."
   ]
  },
  {
   "cell_type": "markdown",
   "metadata": {
    "slideshow": {
     "slide_type": "subslide"
    }
   },
   "source": [
    "**Beispiel:** Erstelle ein Paket `effects`"
   ]
  },
  {
   "cell_type": "code",
   "execution_count": 3,
   "metadata": {
    "slideshow": {
     "slide_type": "fragment"
    }
   },
   "outputs": [],
   "source": [
    "import os\n",
    "os.makedirs(\"effects\", exist_ok=True)\n",
    "with open(\"effects/__init__.py\", \"w\") as _: pass\n",
    "with open(\"effects/blur.py\", \"w\") as modul:\n",
    "    modul.writelines(\"\"\"\n",
    "def fun():\n",
    "    print(\"Hallo ich bin fun() in blur.py\")\n",
    "\n",
    "\"\"\"\n",
    ")"
   ]
  },
  {
   "cell_type": "markdown",
   "metadata": {
    "slideshow": {
     "slide_type": "subslide"
    }
   },
   "source": [
    "Wir können nun einzelne Module (.py) unter Angabe des **gesamten Pfads** importieren"
   ]
  },
  {
   "cell_type": "code",
   "execution_count": 4,
   "metadata": {
    "slideshow": {
     "slide_type": "fragment"
    }
   },
   "outputs": [
    {
     "name": "stdout",
     "output_type": "stream",
     "text": [
      "Hallo ich bin fun() in blur.py\n"
     ]
    }
   ],
   "source": [
    "# restart kernel\n",
    "import effects.blur\n",
    "effects.blur.fun()"
   ]
  },
  {
   "cell_type": "code",
   "execution_count": null,
   "metadata": {
    "slideshow": {
     "slide_type": "fragment"
    }
   },
   "outputs": [],
   "source": [
    "# restart kernel\n",
    "from effects import blur\n",
    "blur.fun()"
   ]
  },
  {
   "cell_type": "code",
   "execution_count": null,
   "metadata": {
    "slideshow": {
     "slide_type": "fragment"
    }
   },
   "outputs": [],
   "source": [
    "# restart kernel\n",
    "from effects.blur import fun\n",
    "fun()"
   ]
  },
  {
   "cell_type": "code",
   "execution_count": null,
   "metadata": {
    "slideshow": {
     "slide_type": "fragment"
    }
   },
   "outputs": [],
   "source": [
    "# restart kernel\n",
    "import effects    # we must provide full name of module, i.e., effects.blur # adaptable via __init__\n",
    "effects.blur.fun()"
   ]
  },
  {
   "cell_type": "markdown",
   "metadata": {
    "slideshow": {
     "slide_type": "subslide"
    }
   },
   "source": [
    "### Absolute vs. relative Importanweisung"
   ]
  },
  {
   "cell_type": "markdown",
   "metadata": {
    "slideshow": {
     "slide_type": "fragment"
    }
   },
   "source": [
    "- *absolute* Importanweisungen: **`import`** mit absolutem Pfad\n",
    "    - importiert gemäß der Liste sys.path (also globale Module/Pakete oder lokale Module/Pakete im selben Verzeichnis mit Gesamtpfad)\n",
    "- *relative* Importanweisungen: können durch Ebenen in der Verzeichnisstruktur navigieren (Eltern- und Kindverzeichnisse)\n",
    "    - `.` ein Level tiefer\n",
    "    - `..` ein Level höher"
   ]
  },
  {
   "cell_type": "markdown",
   "metadata": {
    "slideshow": {
     "slide_type": "subslide"
    }
   },
   "source": [
    "**Beispiel:** \n",
    " - Erstelle ein weiteres Paket `formats`\n",
    " - Darin ein Modul `./formats/read.py` welches das Modul `./effects/blur.py` laden soll\n",
    " - Bemerkung: Aus Sicht des Moduls `read.py` ist der relative Pfad zu `blur.py` gerade `../effects/blur.py`"
   ]
  },
  {
   "cell_type": "code",
   "execution_count": null,
   "metadata": {
    "slideshow": {
     "slide_type": "subslide"
    }
   },
   "outputs": [],
   "source": [
    "# generate subpackage effects (copy from above)\n",
    "import os\n",
    "os.makedirs(\"effects\", exist_ok=True)\n",
    "with open(\"effects/__init__.py\", \"w\") as _: pass\n",
    "with open(\"effects/blur.py\", \"w\") as modul:\n",
    "    modul.writelines(\n",
    "\"\"\"\n",
    "def fun():\n",
    "    print(\"Hallo ich bin fun() in blur.py\")\n",
    "\n",
    "\"\"\"\n",
    ")"
   ]
  },
  {
   "cell_type": "code",
   "execution_count": null,
   "metadata": {
    "scrolled": true,
    "slideshow": {
     "slide_type": "subslide"
    }
   },
   "outputs": [],
   "source": [
    "# generate subpackage formats\n",
    "import os\n",
    "os.makedirs(\"formats\", exist_ok=True)\n",
    "with open(\"formats/__init__.py\", \"w\") as _: pass\n",
    "with open(\"formats/read.py\", \"w\") as read:\n",
    "    read.writelines(\n",
    "\"\"\"\n",
    "from ..effects import blur\n",
    "blur.fun()\n",
    "print(\"in package/formats/read.py: __name__ =\", __name__)\n",
    "\"\"\"\n",
    ")"
   ]
  },
  {
   "cell_type": "code",
   "execution_count": null,
   "metadata": {
    "slideshow": {
     "slide_type": "subslide"
    }
   },
   "outputs": [],
   "source": [
    "# move effects and formats to package\n",
    "import os\n",
    "os.system(\"rm -r package; mkdir package; mv formats package; mv effects package\")\n",
    "with open(\"package/__init__.py\", \"w\") as _: pass"
   ]
  },
  {
   "cell_type": "code",
   "execution_count": null,
   "metadata": {
    "slideshow": {
     "slide_type": "subslide"
    }
   },
   "outputs": [],
   "source": [
    "# write a main file using package, importing read (so read is executed but not run directly as script)\n",
    "with open(\"main2.py\", \"w\") as main2:\n",
    "    main2.writelines(\"import package.formats.read\")"
   ]
  },
  {
   "cell_type": "code",
   "execution_count": null,
   "metadata": {
    "scrolled": true,
    "slideshow": {
     "slide_type": "fragment"
    }
   },
   "outputs": [],
   "source": [
    "%run main2.py  # restart kernel if needed"
   ]
  },
  {
   "cell_type": "markdown",
   "metadata": {
    "slideshow": {
     "slide_type": "skip"
    }
   },
   "source": [
    "**Caution**\n",
    "\n",
    "run formats/read.py directly\n",
    " - will result in an error, since the relative imports are based on the name of the current module, \n",
    "    i.e., the `__name__` variable\n",
    " -  if ran directly then `__name__ = \"__main__\"`, thus there is no way to find out the path\n",
    " - modules intended for use as the main module of a Python application must always use absolute imports."
   ]
  },
  {
   "cell_type": "markdown",
   "metadata": {
    "slideshow": {
     "slide_type": "skip"
    }
   },
   "source": [
    "### Alle Module eines Pakets importieren\n",
    "\n",
    "- siehe: https://docs.python.org/3/tutorial/modules.html#importing-from-a-package\n",
    "- ein naiver Versuch: **`from`** `Paket` **`import *`**\n",
    "    - was passiert?  **`import`** `Paket` und Ausführung von `__init__.py`\n",
    "        - müssen weiterhin durch `Paket.Modul.` auf das Modul zugreifen"
   ]
  },
  {
   "cell_type": "markdown",
   "metadata": {
    "slideshow": {
     "slide_type": "skip"
    }
   },
   "source": [
    "- ein möglicher workaround: Da `__init__.py` ausgeführt wird, könnten dort alle Importanweisungen für alle enthaltenen Module hineingeschrieben werden\n",
    "    - muss also vom Autor des Pakets implementiert werden"
   ]
  },
  {
   "cell_type": "code",
   "execution_count": null,
   "metadata": {
    "scrolled": false,
    "slideshow": {
     "slide_type": "skip"
    }
   },
   "outputs": [],
   "source": [
    "from package import *\n",
    "effects.blur.fun()"
   ]
  },
  {
   "cell_type": "code",
   "execution_count": null,
   "metadata": {
    "slideshow": {
     "slide_type": "skip"
    }
   },
   "outputs": [],
   "source": [
    "with open(\"package/__init__.py\", \"w\") as init:\n",
    "    init.writelines(\"from . import effects\")\n",
    "with open(\"package/effects/__init__.py\", \"w\") as init:\n",
    "    init.writelines(\"from . import blur\")"
   ]
  },
  {
   "cell_type": "code",
   "execution_count": null,
   "metadata": {
    "slideshow": {
     "slide_type": "skip"
    }
   },
   "outputs": [],
   "source": [
    "# restart kernel and rerun:\n",
    "from package import *\n",
    "effects.blur.fun()"
   ]
  },
  {
   "cell_type": "markdown",
   "metadata": {
    "slideshow": {
     "slide_type": "subslide"
    }
   },
   "source": [
    "### Bibliotheken, Module, Pakete, Skript, Programm,...?"
   ]
  },
  {
   "cell_type": "markdown",
   "metadata": {
    "slideshow": {
     "slide_type": "fragment"
    }
   },
   "source": [
    "- **Blibliothek** = beliebig komplexe Paketstruktur/ veröffentlichte Pakete\n",
    "    - <a href=\"https://docs.python.org/3/tutorial/modules.html#packages\">**Paket**</a> (\"Verzeichnis\") = enthält Module und Pakete unter einem gemeinsamen Namensraum (=Verzeichnisname)\n",
    "        - <a href=\"https://docs.python.org/3/tutorial/modules.html#modules\">**Modul**</a> (\"Datei mit .py extension\") = enthält Funktionen, Datentypen, Konstanten\n",
    "            - **Skript** (\"Datei mit .py extension\") = kleines Python-Programm (<1000 Zeilen), das als Hauptprogramm dient und ausgeführt werden soll"
   ]
  }
 ],
 "metadata": {
  "celltoolbar": "Slideshow",
  "kernelspec": {
   "display_name": "Python 3",
   "language": "python",
   "name": "python3"
  },
  "language_info": {
   "codemirror_mode": {
    "name": "ipython",
    "version": 3
   },
   "file_extension": ".py",
   "mimetype": "text/x-python",
   "name": "python",
   "nbconvert_exporter": "python",
   "pygments_lexer": "ipython3",
   "version": "3.8.10"
  },
  "latex_envs": {
   "LaTeX_envs_menu_present": true,
   "autoclose": false,
   "autocomplete": true,
   "bibliofile": "biblio.bib",
   "cite_by": "apalike",
   "current_citInitial": 1,
   "eqLabelWithNumbers": true,
   "eqNumInitial": 1,
   "hotkeys": {
    "equation": "Ctrl-E",
    "itemize": "Ctrl-I"
   },
   "labels_anchors": false,
   "latex_user_defs": false,
   "report_style_numbering": false,
   "user_envs_cfg": false
  },
  "toc": {
   "base_numbering": "7",
   "nav_menu": {},
   "number_sections": true,
   "sideBar": true,
   "skip_h1_title": false,
   "title_cell": "Modularisierung",
   "title_sidebar": "Contents",
   "toc_cell": true,
   "toc_position": {
    "height": "calc(100% - 180px)",
    "left": "10px",
    "top": "150px",
    "width": "314.5px"
   },
   "toc_section_display": true,
   "toc_window_display": false
  },
  "varInspector": {
   "cols": {
    "lenName": 16,
    "lenType": 16,
    "lenVar": 40
   },
   "kernels_config": {
    "python": {
     "delete_cmd_postfix": "",
     "delete_cmd_prefix": "del ",
     "library": "var_list.py",
     "varRefreshCmd": "print(var_dic_list())"
    },
    "r": {
     "delete_cmd_postfix": ") ",
     "delete_cmd_prefix": "rm(",
     "library": "var_list.r",
     "varRefreshCmd": "cat(var_dic_list()) "
    }
   },
   "types_to_exclude": [
    "module",
    "function",
    "builtin_function_or_method",
    "instance",
    "_Feature"
   ],
   "window_display": false
  }
 },
 "nbformat": 4,
 "nbformat_minor": 2
}
