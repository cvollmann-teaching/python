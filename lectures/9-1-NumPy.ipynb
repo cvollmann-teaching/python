{
 "cells": [
  {
   "cell_type": "markdown",
   "metadata": {
    "toc": true
   },
   "source": [
    "<h1>NumPy<span class=\"tocSkip\"></span></h1>\n",
    "<div class=\"toc\"><ul class=\"toc-item\"><li><span><a href=\"#NumPy\" data-toc-modified-id=\"NumPy-2\"><span class=\"toc-item-num\">2&nbsp;&nbsp;</span>NumPy</a></span><ul class=\"toc-item\"><li><span><a href=\"#Der-Datentyp-numpy.ndarray-(the-game-changer!)\" data-toc-modified-id=\"Der-Datentyp-numpy.ndarray-(the-game-changer!)-2.1\"><span class=\"toc-item-num\">2.1&nbsp;&nbsp;</span>Der Datentyp <code>numpy.ndarray</code> (the game changer!)</a></span><ul class=\"toc-item\"><li><ul class=\"toc-item\"><li><span><a href=\"#Grundlegendes-Konzept:-Vektorisierung\" data-toc-modified-id=\"Grundlegendes-Konzept:-Vektorisierung-2.1.0.1\"><span class=\"toc-item-num\">2.1.0.1&nbsp;&nbsp;</span>Grundlegendes Konzept: Vektorisierung</a></span></li></ul></li></ul></li><li><span><a href=\"#Vektorisierte-Funktion\" data-toc-modified-id=\"Vektorisierte-Funktion-2.2\"><span class=\"toc-item-num\">2.2&nbsp;&nbsp;</span>Vektorisierte Funktion</a></span></li><li><span><a href=\"#Das-Erzeugen-von-numpy.ndarrays\" data-toc-modified-id=\"Das-Erzeugen-von-numpy.ndarrays-2.3\"><span class=\"toc-item-num\">2.3&nbsp;&nbsp;</span>Das Erzeugen von numpy.ndarrays</a></span><ul class=\"toc-item\"><li><span><a href=\"#Ausgewählte-Attribute\" data-toc-modified-id=\"Ausgewählte-Attribute-2.3.1\"><span class=\"toc-item-num\">2.3.1&nbsp;&nbsp;</span>Ausgewählte Attribute</a></span></li><li><span><a href=\"#Funktionen-zum-Erzeugen-von-numpy.ndarray\" data-toc-modified-id=\"Funktionen-zum-Erzeugen-von-numpy.ndarray-2.3.2\"><span class=\"toc-item-num\">2.3.2&nbsp;&nbsp;</span>Funktionen zum Erzeugen von <code>numpy.ndarray</code></a></span></li><li><span><a href=\"#Kombinationen\" data-toc-modified-id=\"Kombinationen-2.3.3\"><span class=\"toc-item-num\">2.3.3&nbsp;&nbsp;</span>Kombinationen</a></span></li><li><span><a href=\"#Slicing-(Zugriff-auf-Elemente-im-numpy.ndarray)\" data-toc-modified-id=\"Slicing-(Zugriff-auf-Elemente-im-numpy.ndarray)-2.3.4\"><span class=\"toc-item-num\">2.3.4&nbsp;&nbsp;</span>Slicing (Zugriff auf Elemente im <code>numpy.ndarray</code>)</a></span></li></ul></li><li><span><a href=\"#Zfs\" data-toc-modified-id=\"Zfs-2.4\"><span class=\"toc-item-num\">2.4&nbsp;&nbsp;</span>Zfs</a></span></li><li><span><a href=\"#Operationen\" data-toc-modified-id=\"Operationen-2.5\"><span class=\"toc-item-num\">2.5&nbsp;&nbsp;</span>Operationen</a></span><ul class=\"toc-item\"><li><span><a href=\"#Elementweise-Operationen\" data-toc-modified-id=\"Elementweise-Operationen-2.5.1\"><span class=\"toc-item-num\">2.5.1&nbsp;&nbsp;</span>Elementweise Operationen</a></span></li><li><span><a href=\"#Matrix-Vektor-Produkt-np.dot,-`@'\" data-toc-modified-id=\"Matrix-Vektor-Produkt-np.dot,-`@'-2.5.2\"><span class=\"toc-item-num\">2.5.2&nbsp;&nbsp;</span>Matrix-Vektor Produkt <code>np.dot</code>, `@'</a></span></li><li><span><a href=\"#Matrix-Matrix-Produkt-np.dot,-@,-np.matmul\" data-toc-modified-id=\"Matrix-Matrix-Produkt-np.dot,-@,-np.matmul-2.5.3\"><span class=\"toc-item-num\">2.5.3&nbsp;&nbsp;</span>Matrix-Matrix Produkt <code>np.dot</code>, <code>@</code>, <code>np.matmul</code></a></span></li><li><span><a href=\"#Transponieren-.T,-.transpose()\" data-toc-modified-id=\"Transponieren-.T,-.transpose()-2.5.4\"><span class=\"toc-item-num\">2.5.4&nbsp;&nbsp;</span>Transponieren <code>.T</code>, <code>.transpose()</code></a></span></li><li><span><a href=\"#Vergleichen\" data-toc-modified-id=\"Vergleichen-2.5.5\"><span class=\"toc-item-num\">2.5.5&nbsp;&nbsp;</span>Vergleichen</a></span></li><li><span><a href=\"#Beachte:-numpy-arrays-sind-veränderlich!\" data-toc-modified-id=\"Beachte:-numpy-arrays-sind-veränderlich!-2.5.6\"><span class=\"toc-item-num\">2.5.6&nbsp;&nbsp;</span>Beachte: numpy arrays sind veränderlich!</a></span></li><li><span><a href=\"#Ausgewählte-Methoden\" data-toc-modified-id=\"Ausgewählte-Methoden-2.5.7\"><span class=\"toc-item-num\">2.5.7&nbsp;&nbsp;</span>Ausgewählte Methoden</a></span></li></ul></li></ul></li><li><span><a href=\"#Üben:-NumPy-and-Matplotlib\" data-toc-modified-id=\"Üben:-NumPy-and-Matplotlib-3\"><span class=\"toc-item-num\">3&nbsp;&nbsp;</span>Üben: NumPy and Matplotlib</a></span></li></ul></div>"
   ]
  },
  {
   "cell_type": "markdown",
   "metadata": {
    "slideshow": {
     "slide_type": "subslide"
    }
   },
   "source": [
    "# NumPy\n",
    "\n",
    "Tutorial: https://scipy-lectures.org/intro/numpy/index.html"
   ]
  },
  {
   "cell_type": "markdown",
   "metadata": {
    "slideshow": {
     "slide_type": "subslide"
    }
   },
   "source": [
    "- Der Datentyp `numpy.ndarray` und Vektorisierung\n",
    "- Das Erzeugen von arrays\n",
    "    - Ausgewählte Attribute\n",
    "    - Funktionen zum Erzeugen\n",
    "- Zugreifen auf Elemente des Arrays (slicing und indexing)\n",
    "- Operationen mit und Manipulation von Arrays\n",
    "    - Ausgewählte Methoden\n",
    "    - Ausgewählte Funktionen\n",
    "- (Broadcasting)"
   ]
  },
  {
   "cell_type": "markdown",
   "metadata": {
    "slideshow": {
     "slide_type": "subslide"
    }
   },
   "source": [
    "## Der Datentyp `numpy.ndarray` (the game changer!)\n",
    "- verwaltet mehrdimensionale Arrays\n",
    "- Array = geordnete Folge von gleichartigen Objekten, idR Zahlen\n",
    "- mutable (wie `list`)\n",
    "- sclicing/indexing über ganzzahlige Indices (wie bei `list` nur umfangreicher)"
   ]
  },
  {
   "cell_type": "code",
   "execution_count": null,
   "metadata": {},
   "outputs": [],
   "source": [
    "import numpy as np"
   ]
  },
  {
   "cell_type": "code",
   "execution_count": null,
   "metadata": {
    "slideshow": {
     "slide_type": "fragment"
    }
   },
   "outputs": [],
   "source": [
    "arr = np.array([1,2,3,4])\n",
    "print(arr)\n",
    "print(arr[0], arr[-1], arr[-2:-1])"
   ]
  },
  {
   "cell_type": "markdown",
   "metadata": {
    "slideshow": {
     "slide_type": "subslide"
    }
   },
   "source": [
    "Zwei Merkmale werden beim Erzeugen festgelegt:\n",
    "- **Form (Attribut `.shape`)**: Dimensionen des Arrays\n",
    "- **Datentyp (Attribut `.dtype`)**: Art der Daten die Elemente speichern können (kann nach Erzeugung nicht mehr verändert werden), z.B.:\n",
    "    - `numpy.bool`\n",
    "    - `numpy.int`\n",
    "    - `numpy.float`\n",
    "    - `numpy.complex`"
   ]
  },
  {
   "cell_type": "code",
   "execution_count": null,
   "metadata": {
    "scrolled": true,
    "slideshow": {
     "slide_type": "fragment"
    }
   },
   "outputs": [],
   "source": [
    "#print(arr, arr.shape, arr.dtype)\n",
    "#arr = np.array([[1],[2],3,4]])\n",
    "print(arr, arr.shape, arr.dtype)"
   ]
  },
  {
   "cell_type": "markdown",
   "metadata": {
    "slideshow": {
     "slide_type": "subslide"
    }
   },
   "source": [
    "#### Grundlegendes Konzept: Vektorisierung \n",
    "\n",
    "**Was ist das?**\n",
    "\n",
    "\"*Arrays are important because they enable you to express operations on data without writing any for loops. This is usually called vectorization.*\"\n",
    " - ```python     \n",
    "     arr = np.array([1,2,3,4])```\n",
    " - `arr` kann behandelt werden wie eine Zahl, zB `f(arr), arr+arr, 2*arr, arr+1`, wird dann elementweise ausgeführt\n",
    " - **Vorsicht (!!!):**\n",
    "     - Matrix-Vektor-Produkt: `np.dot(A,x)` oder `A@x`\n",
    "     - Matrix-Matrix-Produkt: `np.matmul(A,B)` oder `A@B`\n",
    " -  SciPy Stack ist hardwarenah implementiert (!)\n",
    "     - mithilfe der mitgelieferten Funktionen können effiziente Programme geschrieben werden"
   ]
  },
  {
   "cell_type": "code",
   "execution_count": null,
   "metadata": {
    "slideshow": {
     "slide_type": "fragment"
    }
   },
   "outputs": [],
   "source": [
    "arr = np.array([1,2,3,4])\n",
    "print(arr + arr)\n",
    "print(arr * arr)\n",
    "print(2 * arr)\n",
    "print(arr + 1)\n",
    "print(arr @ arr)"
   ]
  },
  {
   "cell_type": "code",
   "execution_count": null,
   "metadata": {
    "scrolled": true,
    "slideshow": {
     "slide_type": "subslide"
    }
   },
   "outputs": [],
   "source": [
    "def f(x):\n",
    "    return x*x\n",
    "\n",
    "# bisher \n",
    "y_list = []\n",
    "for x in [-3, -2, -1, 0, 1, 2, 3]:\n",
    "    y_list += [f(x)]   \n",
    "print(y_list)\n",
    "\n",
    "# jetzt\n",
    "print(f(np.array([-3, -2, -1, 0, 1, 2, 3])))"
   ]
  },
  {
   "cell_type": "markdown",
   "metadata": {
    "slideshow": {
     "slide_type": "fragment"
    }
   },
   "source": [
    "**Demonstration**\n",
    "\n",
    "Alle Array/Listen-Einträge Quadrieren"
   ]
  },
  {
   "cell_type": "code",
   "execution_count": null,
   "metadata": {
    "scrolled": true,
    "slideshow": {
     "slide_type": "fragment"
    }
   },
   "outputs": [],
   "source": [
    "L_list = range(5000000)\n",
    "time = %timeit -o -q -r 1 [i**2 for i in L_list]\n",
    "print(\"Zeit = \", time.best)\n"
   ]
  },
  {
   "cell_type": "code",
   "execution_count": null,
   "metadata": {
    "slideshow": {
     "slide_type": "fragment"
    }
   },
   "outputs": [],
   "source": [
    "import numpy as np\n",
    "L_numpy = np.arange(5000000)\n",
    "time = %timeit -o -q -r 1 L_numpy**2\n",
    "print(\"Zeit = \", time.best)"
   ]
  },
  {
   "cell_type": "markdown",
   "metadata": {
    "slideshow": {
     "slide_type": "subslide"
    }
   },
   "source": [
    "**Weitere Begriffe in diesem Kontext:**\n",
    "   - <a href =\"https://de.wikipedia.org/wiki/Flynnsche_Klassifikation#SIMD_(Single_Instruction,_Multiple_Data)\">**SIMD**</a> (Single Instruction, Multiple Data)\n",
    "       - bezeichnet Rechner-Architektur\n",
    "   -  <a href =\"https://de.wikipedia.org/wiki/Vektorprozessor\">**Vektorprozessor**</a> \n",
    "        - bestimmte Art von Prozessor (entwickelt für SIMD)"
   ]
  },
  {
   "cell_type": "markdown",
   "metadata": {
    "slideshow": {
     "slide_type": "fragment"
    }
   },
   "source": [
    "**Nicht zu verwechseln mit:**\n",
    " - einen Tensor zu einem Vektor transformieren (Mathematik)\n",
    " - Konvertierung von Rastergrafiken in Vektorgrafiken (Bildbearbeitung)"
   ]
  },
  {
   "cell_type": "markdown",
   "metadata": {
    "slideshow": {
     "slide_type": "subslide"
    }
   },
   "source": [
    "## Vektorisierte Funktion\n",
    "\n",
    "= Funktion kann auf Arrays angewendet werden\n",
    "\n",
    " - Verknüpfung vektorisierter Funktionen idR wieder vektorisiert\n",
    " - (vektorisierte) Funktion von numpy und scipy hardwarenah = effizient\n",
    " - Ansonsten: function decorator `np.vectorize` (häufiges Problem: `if`- Anweisungen) \n",
    "     - Achtung: Geschwindigkeitsvorteil dieser Vektorisierung kommt nicht zwingend zum tragen"
   ]
  },
  {
   "cell_type": "code",
   "execution_count": 12,
   "metadata": {
    "slideshow": {
     "slide_type": "fragment"
    }
   },
   "outputs": [
    {
     "data": {
      "text/plain": [
       "array([0, 0, 0, 0, 1, 4, 9])"
      ]
     },
     "execution_count": 12,
     "metadata": {},
     "output_type": "execute_result"
    }
   ],
   "source": [
    "import numpy as np\n",
    "\n",
    "@np.vectorize # = function decorator\n",
    "def f(x): \n",
    "    if x > 0:\n",
    "        return x**2  \n",
    "    else:\n",
    "        return 0\n",
    "X = np.array([-3, -2, -1, 0, 1, 2, 3])\n",
    "f(X)"
   ]
  },
  {
   "cell_type": "markdown",
   "metadata": {
    "slideshow": {
     "slide_type": "subslide"
    }
   },
   "source": [
    "## Das Erzeugen von numpy.ndarrays\n"
   ]
  },
  {
   "cell_type": "code",
   "execution_count": null,
   "metadata": {
    "slideshow": {
     "slide_type": "fragment"
    }
   },
   "outputs": [],
   "source": [
    "arr = np.array([1,-2,3])\n",
    "print(arr)\n",
    "print(arr.dtype) # Attribut\n",
    "print(arr.shape) # Attribut (gibt tuple zurück)\n",
    "#\n",
    "arr2 = np.array([ [1, 2 ],\n",
    "                  [3, 4 ] ])\n",
    "print(arr2)\n",
    "print(arr2.dtype)\n",
    "print(arr2.shape)"
   ]
  },
  {
   "cell_type": "markdown",
   "metadata": {
    "slideshow": {
     "slide_type": "fragment"
    }
   },
   "source": [
    "**Beobachtung:** Merkmal *Datentyp* wurde automatisch von numpy gewählt\n",
    " - numpy wählt den einfachsten Datentyp, um alle Werte zu speichern"
   ]
  },
  {
   "cell_type": "markdown",
   "metadata": {
    "slideshow": {
     "slide_type": "subslide"
    }
   },
   "source": [
    "Datentyp manuell wählen:"
   ]
  },
  {
   "cell_type": "code",
   "execution_count": null,
   "metadata": {
    "slideshow": {
     "slide_type": "fragment"
    }
   },
   "outputs": [],
   "source": [
    "arr = np.array([1,-2,3])\n",
    "print(arr)\n",
    "print(arr.dtype) # Attribut\n",
    "print(arr.shape) # Attribut"
   ]
  },
  {
   "cell_type": "code",
   "execution_count": null,
   "metadata": {
    "slideshow": {
     "slide_type": "fragment"
    }
   },
   "outputs": [],
   "source": [
    "arr[0] = 1.9\n",
    "print(arr)"
   ]
  },
  {
   "cell_type": "markdown",
   "metadata": {
    "slideshow": {
     "slide_type": "subslide"
    }
   },
   "source": [
    "Mehrdimensionale Arrays werden erzeugt durch verschachtelte Struktur"
   ]
  },
  {
   "cell_type": "code",
   "execution_count": 13,
   "metadata": {
    "slideshow": {
     "slide_type": "fragment"
    }
   },
   "outputs": [
    {
     "name": "stdout",
     "output_type": "stream",
     "text": [
      "[[ 2. -1.  0.]\n",
      " [-1.  2. -1.]\n",
      " [ 0. -1.  2.]] float64 (3, 3)\n"
     ]
    }
   ],
   "source": [
    "# Matrix 3x3\n",
    "A = np.array([ [ 2., -1.,  0.],\n",
    "               [-1.,  2., -1.],\n",
    "               [ 0., -1.,  2.] ])\n",
    "print(A, A.dtype, A.shape)"
   ]
  },
  {
   "cell_type": "code",
   "execution_count": 14,
   "metadata": {
    "slideshow": {
     "slide_type": "fragment"
    }
   },
   "outputs": [
    {
     "name": "stdout",
     "output_type": "stream",
     "text": [
      "[[[1. 0.]\n",
      "  [0. 1.]]\n",
      "\n",
      " [[2. 0.]\n",
      "  [0. 2.]]] float64 (2, 2, 2)\n"
     ]
    }
   ],
   "source": [
    "# Tensor  2 x 2 x 2\n",
    "T = np.array([ [ [1., 0.],\n",
    "                 [0., 1.]  ],\n",
    "              #\n",
    "               [ [2., 0.],\n",
    "                 [0., 2.]  ]\n",
    "             ])\n",
    "print(T, T.dtype, T.shape)"
   ]
  },
  {
   "cell_type": "markdown",
   "metadata": {
    "slideshow": {
     "slide_type": "subslide"
    }
   },
   "source": [
    "### Ausgewählte Attribute\n",
    "\n",
    "- Attribut = ein Wert, der mit einem Objekt assoziert ist und per `object.attribute` abgefragt werden kann\n",
    "- Begrifflichkeit aus der Objektorientierung von Python"
   ]
  },
  {
   "cell_type": "markdown",
   "metadata": {
    "slideshow": {
     "slide_type": "fragment"
    }
   },
   "source": [
    "- `.shape` $\\checkmark$\n",
    "- `.dtype` $\\checkmark$\n",
    "- `.ndim`\n",
    "- `.size`"
   ]
  },
  {
   "cell_type": "code",
   "execution_count": 15,
   "metadata": {
    "slideshow": {
     "slide_type": "fragment"
    }
   },
   "outputs": [
    {
     "name": "stdout",
     "output_type": "stream",
     "text": [
      "T = \n",
      " [[[1. 0.]\n",
      "  [0. 1.]]\n",
      "\n",
      " [[2. 0.]\n",
      "  [0. 2.]]] \n",
      "\n",
      "Form                 = (2, 2, 2)\n",
      "numpy-Datentyp       = float64\n",
      "Anzahl Dimensionen   = 3\n",
      "Anzahl Elemente      = 8\n"
     ]
    }
   ],
   "source": [
    "# Tensor  2x2x2\n",
    "T = np.array([ [ [1., 0.],\n",
    "                 [0., 1.]],\n",
    "              #\n",
    "               [ [2., 0.],\n",
    "                 [0., 2.]]\n",
    "             ])\n",
    "print(\"T = \\n\", T, \"\\n\")\n",
    "print(\"Form                 =\", T.shape)\n",
    "print(\"numpy-Datentyp       =\", T.dtype)\n",
    "print(\"Anzahl Dimensionen   =\", T.ndim)\n",
    "print(\"Anzahl Elemente      =\", T.size)"
   ]
  },
  {
   "cell_type": "markdown",
   "metadata": {
    "slideshow": {
     "slide_type": "subslide"
    }
   },
   "source": [
    "Bisher haben wir Arrays \"manuell\" erzeugt, nun:\n",
    "### Funktionen zum Erzeugen von `numpy.ndarray`"
   ]
  },
  {
   "cell_type": "markdown",
   "metadata": {
    "slideshow": {
     "slide_type": "fragment"
    }
   },
   "source": [
    "Folgende Funktionen werden häufig in der Numerik gebraucht:\n",
    "- `np.array(object)` \n",
    "- `np.ones(shape)`, `np.zeros(shape)`\n",
    "- `np.linspace(start, stop, num)`\n",
    "- `np.arange([start,] stop [,step])`\n",
    "- `np.diag(...)`\n",
    "- `np.eye(...)`\n",
    "- `np.tile`, `np.repeat`\n",
    "- `np.random.rand(d0, d1, ..., dn)`\n",
    "- `np.empty(...)`\n",
    "- (list comprehension)"
   ]
  },
  {
   "cell_type": "markdown",
   "metadata": {
    "slideshow": {
     "slide_type": "subslide"
    }
   },
   "source": [
    "##### Beispiele"
   ]
  },
  {
   "cell_type": "code",
   "execution_count": null,
   "metadata": {
    "slideshow": {
     "slide_type": "fragment"
    }
   },
   "outputs": [],
   "source": [
    "# np.array()\n",
    "objct = [0,1,2]\n",
    "arr = np.array(objct)\n",
    "print(arr)"
   ]
  },
  {
   "cell_type": "code",
   "execution_count": null,
   "metadata": {
    "scrolled": true,
    "slideshow": {
     "slide_type": "fragment"
    }
   },
   "outputs": [],
   "source": [
    "# np.ones(shape)\n",
    "\n",
    "shape = (5,) #  (5,5) \n",
    "np.ones(shape)  \n",
    "# shape must be tuple\n",
    "# np.ones(5,5)"
   ]
  },
  {
   "cell_type": "code",
   "execution_count": null,
   "metadata": {
    "slideshow": {
     "slide_type": "fragment"
    }
   },
   "outputs": [],
   "source": [
    "# np.zeros(shape)\n",
    "\n",
    "shape = (5, 10) #  (5,5) \n",
    "np.zeros(shape)  \n",
    "# shape must be tuple\n",
    "#np.zeros(5,5)"
   ]
  },
  {
   "cell_type": "markdown",
   "metadata": {
    "slideshow": {
     "slide_type": "subslide"
    }
   },
   "source": [
    "1d Gitter"
   ]
  },
  {
   "cell_type": "code",
   "execution_count": null,
   "metadata": {
    "slideshow": {
     "slide_type": "fragment"
    }
   },
   "outputs": [],
   "source": [
    "# np.arange([start,] stop [,step])\n",
    "import matplotlib.pyplot as plt\n",
    "# Return evenly spaced values within a given interval.\n",
    "# excluding `stop`\n",
    "# For integer arguments the function is equivalent to the Python built-in `range` function,\n",
    "# but returns an ndarray rather than a list.\n",
    "\n",
    "start, stop, step = 1, 10, 1\n",
    "rge = np.arange(start, stop, step)\n",
    "print(rge*rge)\n",
    "plt.plot(rge, np.zeros(len(rge)), 'ro')\n",
    "plt.show()"
   ]
  },
  {
   "cell_type": "code",
   "execution_count": null,
   "metadata": {
    "scrolled": false,
    "slideshow": {
     "slide_type": "fragment"
    }
   },
   "outputs": [],
   "source": [
    "# np.linspace(start, stop, step)\n",
    "num = 50\n",
    "X = np.linspace(-10, 10, num, endpoint = True)\n",
    "#print(grid)\n",
    "#def f(x):\n",
    "#    return x*x\n",
    "\n",
    "plt.plot(X, 3 * np.sin(X)**3 + 2*X**2 + np.sin(X) + 6   , 'r-')"
   ]
  },
  {
   "cell_type": "code",
   "execution_count": null,
   "metadata": {
    "slideshow": {
     "slide_type": "subslide"
    }
   },
   "outputs": [],
   "source": [
    "# np.diag(array_like [, k])\n",
    "# Extract a diagonal or construct a diagonal array.\n",
    "\n",
    "k = -1\n",
    "d = np.ones(5)\n",
    "D = np.diag(d, k)\n",
    "print(D)\n"
   ]
  },
  {
   "cell_type": "code",
   "execution_count": null,
   "metadata": {
    "scrolled": true,
    "slideshow": {
     "slide_type": "fragment"
    }
   },
   "outputs": [],
   "source": [
    "k2 = -1\n",
    "d2 = np.diag(D, k2)\n",
    "print(d2)"
   ]
  },
  {
   "cell_type": "code",
   "execution_count": null,
   "metadata": {
    "scrolled": true,
    "slideshow": {
     "slide_type": "subslide"
    }
   },
   "outputs": [],
   "source": [
    "# np.eye(N [, M, k])\n",
    "# Return a 2-D array with ones on the diagonal and zeros elsewhere.\n",
    "\n",
    "N, M, k = 40, 60, 10\n",
    "A = np.eye(N, M, k, dtype = int)\n",
    "B = np.eye(N,M, -k, dtype = int)\n",
    "#print(A)\n",
    "#print(B)\n",
    "#print(A+B)\n",
    "plt.figure()\n",
    "plt.imshow(A)\n",
    "plt.figure()\n",
    "plt.imshow(B)\n",
    "plt.figure()\n",
    "plt.imshow(A+B)\n",
    "plt.show()"
   ]
  },
  {
   "cell_type": "markdown",
   "metadata": {
    "slideshow": {
     "slide_type": "subslide"
    }
   },
   "source": [
    "Arrays vervielfachen"
   ]
  },
  {
   "cell_type": "code",
   "execution_count": null,
   "metadata": {
    "slideshow": {
     "slide_type": "fragment"
    }
   },
   "outputs": [],
   "source": [
    "# np.tile(arr, reps)\n",
    "# Construct an array by repeating >arr< reps times .\n",
    "\n",
    "arr = np.arange(5)\n",
    "print(arr)\n",
    "reps = 3\n",
    "np.tile(arr, reps)"
   ]
  },
  {
   "cell_type": "code",
   "execution_count": null,
   "metadata": {
    "slideshow": {
     "slide_type": "fragment"
    }
   },
   "outputs": [],
   "source": [
    "arr = np.array([[1, 2],\n",
    "                [3, 4]])\n",
    "print(arr)\n",
    "reps = (3,2) #(3,1) # (2,3)\n",
    "np.tile(arr, reps)"
   ]
  },
  {
   "cell_type": "markdown",
   "metadata": {
    "slideshow": {
     "slide_type": "subslide"
    }
   },
   "source": [
    "Elemente innerhalb der arrays vervielfachen"
   ]
  },
  {
   "cell_type": "code",
   "execution_count": null,
   "metadata": {
    "slideshow": {
     "slide_type": "fragment"
    }
   },
   "outputs": [],
   "source": [
    "# np.repeat(arr, reps, axis=None)\n",
    "# Repeat >elements< of an array.\n",
    "arr = np.arange(5)\n",
    "print(arr)\n",
    "reps, axis = 3, 0 # 1\n",
    "np.repeat(arr, reps, axis)\n"
   ]
  },
  {
   "cell_type": "code",
   "execution_count": null,
   "metadata": {
    "slideshow": {
     "slide_type": "fragment"
    }
   },
   "outputs": [],
   "source": [
    "# compare\n",
    "np.tile(arr, reps)"
   ]
  },
  {
   "cell_type": "code",
   "execution_count": null,
   "metadata": {
    "slideshow": {
     "slide_type": "fragment"
    }
   },
   "outputs": [],
   "source": [
    "arr = np.array([[1, 2],\n",
    "                [3, 4]])\n",
    "print(arr)\n",
    "reps, axis = 2, 1\n",
    "np.repeat(arr, reps, axis)"
   ]
  },
  {
   "cell_type": "markdown",
   "metadata": {
    "slideshow": {
     "slide_type": "subslide"
    }
   },
   "source": [
    "Arrays mit Zufallszahlen"
   ]
  },
  {
   "cell_type": "code",
   "execution_count": null,
   "metadata": {
    "slideshow": {
     "slide_type": "fragment"
    }
   },
   "outputs": [],
   "source": [
    "# np.random.rand(d0, d1, ..., dn)\n",
    "# Create an array of the given shape and populate it with random samples \n",
    "# from a uniform distribution over ``[0, 1)``.\n",
    "d0, d1 = 3, 4\n",
    "rndm1d = np.random.rand(d0)\n",
    "rndm2d = np.random.rand(d0, d1)\n",
    "print(rndm1d)\n",
    "print()\n",
    "print(rndm2d)"
   ]
  },
  {
   "cell_type": "markdown",
   "metadata": {
    "slideshow": {
     "slide_type": "subslide"
    }
   },
   "source": [
    "### Kombinationen"
   ]
  },
  {
   "cell_type": "code",
   "execution_count": 17,
   "metadata": {
    "slideshow": {
     "slide_type": "fragment"
    }
   },
   "outputs": [
    {
     "name": "stdout",
     "output_type": "stream",
     "text": [
      "[[ 2. -1.  0. ...  0.  0.  0.]\n",
      " [-1.  2. -1. ...  0.  0.  0.]\n",
      " [ 0. -1.  2. ...  0.  0.  0.]\n",
      " ...\n",
      " [ 0.  0.  0. ...  2. -1.  0.]\n",
      " [ 0.  0.  0. ... -1.  2. -1.]\n",
      " [ 0.  0.  0. ...  0. -1.  2.]]\n"
     ]
    }
   ],
   "source": [
    "dim = 50\n",
    "#A = np.zeros((dim,dim))\n",
    "A = 2*np.eye(dim, dim, 0) - np.eye(dim, dim, 1) - np.eye(dim, dim, -1)\n",
    "print(A)"
   ]
  },
  {
   "cell_type": "code",
   "execution_count": null,
   "metadata": {
    "slideshow": {
     "slide_type": "fragment"
    }
   },
   "outputs": [],
   "source": [
    "d = np.random.rand(dim)\n",
    "D = np.diag(d)\n",
    "print(D)"
   ]
  },
  {
   "cell_type": "markdown",
   "metadata": {
    "slideshow": {
     "slide_type": "subslide"
    }
   },
   "source": [
    "### Slicing (Zugriff auf Elemente im `numpy.ndarray`)"
   ]
  },
  {
   "cell_type": "markdown",
   "metadata": {},
   "source": [
    "http://scipy-lectures.org/intro/numpy/array_object.html#indexing-and-slicing"
   ]
  },
  {
   "cell_type": "markdown",
   "metadata": {
    "slideshow": {
     "slide_type": "fragment"
    }
   },
   "source": [
    "- für 1d arrays wie bei Listen\n",
    "    - Elemente, Teilarrays ersetzen\n",
    "- für mehrdimensionale arrays für jede dimension wie 1d\n",
    "    - Elemente, Teilarrays ersetzen"
   ]
  },
  {
   "cell_type": "markdown",
   "metadata": {
    "slideshow": {
     "slide_type": "subslide"
    }
   },
   "source": [
    "![](http://scipy-lectures.org/_images/numpy_indexing.png)"
   ]
  },
  {
   "cell_type": "markdown",
   "metadata": {
    "slideshow": {
     "slide_type": "subslide"
    }
   },
   "source": [
    "![](img/fancy_slicing_numpy.png)"
   ]
  },
  {
   "cell_type": "code",
   "execution_count": null,
   "metadata": {
    "slideshow": {
     "slide_type": "subslide"
    }
   },
   "outputs": [],
   "source": [
    "# Vektoren wie Listen\n",
    "x = np.array(range(4))\n",
    "print(x[2], x[2:], x[::-1])\n",
    "x[2] = 8\n",
    "print(x)"
   ]
  },
  {
   "cell_type": "code",
   "execution_count": null,
   "metadata": {},
   "outputs": [],
   "source": [
    "import numpy as np\n",
    "import scipy as sp\n",
    "import matplotlib.pyplot as plt"
   ]
  },
  {
   "cell_type": "markdown",
   "metadata": {
    "slideshow": {
     "slide_type": "subslide"
    }
   },
   "source": [
    "## Zfs"
   ]
  },
  {
   "cell_type": "markdown",
   "metadata": {
    "slideshow": {
     "slide_type": "fragment"
    }
   },
   "source": [
    "- Der Datentyp: `numpy.ndarray` : verwaltet flexibel mehrdimensionale Arrays, mutable\n",
    "- Vektorisierung: \"*Arrays are important because they enable you to express operations on data without writing any for loops. This is usually called vectorization.*\"\n",
    "- Attribute: `.shape`, `.dtype`, `.ndim`, `.size`"
   ]
  },
  {
   "cell_type": "markdown",
   "metadata": {
    "slideshow": {
     "slide_type": "subslide"
    }
   },
   "source": [
    "**Funktionen zum Erzeugen von numpy arrays**\n",
    "- `np.array(object)` \n",
    "- `np.ones(shape)`, `np.zeros(shape)`\n",
    "- `np.linspace(start, stop, num)`\n",
    "- `np.arange([start,] stop [,step])`\n",
    "- `np.diag(...)`\n",
    "- `np.eye(...)`\n",
    "- `np.tile`, `np.repeat`\n",
    "- `np.random.rand(d0, d1, ..., dn)`\n",
    "- (`np.empty(...)`)\n",
    "- (list comprehension)"
   ]
  },
  {
   "cell_type": "markdown",
   "metadata": {
    "slideshow": {
     "slide_type": "subslide"
    }
   },
   "source": [
    "Eine letzte sehr nützliche Funktion: `np.meshgrid`\n",
    "- zur Erzeugung mehrdimensionaler regulärer Gitter\n",
    "- Anwendung:\n",
    "    - plotten von Funktionen $\\mathbb{R}^2 \\to \\mathbb{R}$\n",
    "    - Finite Elemente/ Finite Differenzen Diskretisierung auf Hyperrechtecken"
   ]
  },
  {
   "cell_type": "code",
   "execution_count": null,
   "metadata": {
    "scrolled": true,
    "slideshow": {
     "slide_type": "fragment"
    }
   },
   "outputs": [],
   "source": [
    "x = np.linspace(0,1.5,6)\n",
    "y = np.linspace(0,0.5,6)\n",
    "X, Y = np.meshgrid(x, y)\n",
    "for i in range(len(X)):\n",
    "    for j in range(len(X)):\n",
    "        plt.plot(X[i][j], Y[i][j], 'o')\n",
    "        plt.annotate(str(i)+str(j), xy=(x[i], y[j]), xytext=(x[i], y[j]), fontsize=16)\n",
    "plt.axis('equal')\n",
    "plt.show()"
   ]
  },
  {
   "cell_type": "code",
   "execution_count": null,
   "metadata": {
    "slideshow": {
     "slide_type": "subslide"
    }
   },
   "outputs": [],
   "source": [
    "# X mit repeat\n",
    "print(\"X via repeat x\")\n",
    "print(\"x = \", x[np.newaxis, :])\n",
    "print(X)\n",
    "print(np.repeat(x[np.newaxis, :], 6, axis = 0))\n",
    "# Y mit tile\n",
    "print(\"Y via tile y\")\n",
    "print(\"y = \", y[np.newaxis, :])\n",
    "print(Y) \n",
    "print(np.tile(y[:,np.newaxis], 6))"
   ]
  },
  {
   "cell_type": "markdown",
   "metadata": {
    "slideshow": {
     "slide_type": "subslide"
    }
   },
   "source": [
    "**INDEXING and SLICING**"
   ]
  },
  {
   "cell_type": "markdown",
   "metadata": {
    "slideshow": {
     "slide_type": "fragment"
    }
   },
   "source": [
    "![](http://scipy-lectures.org/_images/numpy_indexing.png)"
   ]
  },
  {
   "cell_type": "markdown",
   "metadata": {
    "slideshow": {
     "slide_type": "fragment"
    }
   },
   "source": [
    "## Operationen\n",
    "\n",
    "- Elementweise\n",
    "- Matrix-Vektor, Matrix-Matrix\n",
    "- Transponieren\n",
    "- Vergleichen\n",
    "- Ausgewählte Methoden"
   ]
  },
  {
   "cell_type": "markdown",
   "metadata": {
    "slideshow": {
     "slide_type": "subslide"
    }
   },
   "source": [
    "### Elementweise Operationen"
   ]
  },
  {
   "cell_type": "code",
   "execution_count": null,
   "metadata": {
    "slideshow": {
     "slide_type": "fragment"
    }
   },
   "outputs": [],
   "source": [
    "x = np.arange(5)\n",
    "y = np.ones(5)\n",
    "print(x * y)\n",
    "print(x + y)\n",
    "print(x ** 2, x + 1)"
   ]
  },
  {
   "cell_type": "code",
   "execution_count": null,
   "metadata": {
    "slideshow": {
     "slide_type": "fragment"
    }
   },
   "outputs": [],
   "source": [
    "dim = 3\n",
    "x = np.arange(dim)\n",
    "A = np.eye(dim,dim,1)+np.eye(dim,dim,-1)-2*np.eye(dim,dim,0)\n",
    "print(A)\n",
    "print(x)\n",
    "print(A*x)"
   ]
  },
  {
   "cell_type": "markdown",
   "metadata": {
    "slideshow": {
     "slide_type": "subslide"
    }
   },
   "source": [
    "### Matrix-Vektor Produkt `np.dot`, `@'"
   ]
  },
  {
   "cell_type": "code",
   "execution_count": null,
   "metadata": {
    "slideshow": {
     "slide_type": "fragment"
    }
   },
   "outputs": [],
   "source": [
    "A = np.eye(5,5,0)\n",
    "x = np.arange(5)\n",
    "print(A)#, \"\\n\")\n",
    "print(str(x)+ \"\\n\")\n",
    "print(A.dot(x), \"\\n\")\n",
    "print(np.dot(A,x), \"\\n\")\n",
    "#print(A@x, \"\\n\")\n",
    "#print(x@x, \"\\n\")"
   ]
  },
  {
   "cell_type": "markdown",
   "metadata": {
    "slideshow": {
     "slide_type": "subslide"
    }
   },
   "source": [
    "### Matrix-Matrix Produkt `np.dot`, `@`, `np.matmul`"
   ]
  },
  {
   "cell_type": "code",
   "execution_count": null,
   "metadata": {
    "slideshow": {
     "slide_type": "fragment"
    }
   },
   "outputs": [],
   "source": [
    "A = np.eye(5,5,0)\n",
    "B = np.ones((5,5))\n",
    "print(A, \"\\n\")\n",
    "print(B, \"\\n\")\n",
    "print(A.dot(B), \"\\n\")\n",
    "print(np.matmul(A, B), \"\\n\")\n",
    "#print(A@B, \"\\n\")"
   ]
  },
  {
   "cell_type": "code",
   "execution_count": null,
   "metadata": {
    "slideshow": {
     "slide_type": "fragment"
    }
   },
   "outputs": [],
   "source": [
    "A = np.eye(5,5,0)\n",
    "x = np.ones(5)\n",
    "print(A)\n",
    "print(x)\n",
    "print(A.dot(x))"
   ]
  },
  {
   "cell_type": "markdown",
   "metadata": {
    "slideshow": {
     "slide_type": "subslide"
    }
   },
   "source": [
    "### Transponieren `.T`, `.transpose()`"
   ]
  },
  {
   "cell_type": "code",
   "execution_count": null,
   "metadata": {
    "scrolled": true,
    "slideshow": {
     "slide_type": "fragment"
    }
   },
   "outputs": [],
   "source": [
    "A = 10 * np.eye(5,5,2, dtype = int) + 20 * np.eye(5,5,-2, dtype = int)\n",
    "#print(A[:].T)\n",
    "print(A.T)\n",
    "print(A,\"\", [1,2])"
   ]
  },
  {
   "cell_type": "markdown",
   "metadata": {
    "slideshow": {
     "slide_type": "subslide"
    }
   },
   "source": [
    "### Vergleichen\n"
   ]
  },
  {
   "cell_type": "code",
   "execution_count": null,
   "metadata": {
    "slideshow": {
     "slide_type": "fragment"
    }
   },
   "outputs": [],
   "source": [
    "x = np.array([1  , 0,  1,  0])\n",
    "z = np.array([1. , 0., 1., 0.0001])"
   ]
  },
  {
   "cell_type": "code",
   "execution_count": null,
   "metadata": {
    "slideshow": {
     "slide_type": "fragment"
    }
   },
   "outputs": [],
   "source": [
    "# component-wise\n",
    "x == z"
   ]
  },
  {
   "cell_type": "code",
   "execution_count": null,
   "metadata": {
    "slideshow": {
     "slide_type": "fragment"
    }
   },
   "outputs": [],
   "source": [
    "# array-wise\n",
    "#np.array_equal(x,z)\n",
    "np.all(x == z), np.any(x == z)"
   ]
  },
  {
   "cell_type": "code",
   "execution_count": null,
   "metadata": {
    "slideshow": {
     "slide_type": "fragment"
    }
   },
   "outputs": [],
   "source": [
    "# array-wise up to tolerance\n",
    "# True <=> |x-z| <= (atol + rtol *|z|)\n",
    "np.allclose(x,z, rtol=1e-05, atol=1e-03), np.array_equal(x,z)"
   ]
  },
  {
   "cell_type": "markdown",
   "metadata": {
    "slideshow": {
     "slide_type": "subslide"
    }
   },
   "source": [
    "### Beachte: numpy arrays sind veränderlich!"
   ]
  },
  {
   "cell_type": "code",
   "execution_count": null,
   "metadata": {
    "slideshow": {
     "slide_type": "fragment"
    }
   },
   "outputs": [],
   "source": [
    "# Matrizen\n",
    "x = np.eye(10, 10, 0, dtype = int)\n",
    "x[6:10, 6:10] = 3 * np.ones((4,4), dtype = int)\n",
    "x[0:2,  7:10] = -2\n",
    "#print(x)\n",
    "plt.imshow(x, vmin=-10, vmax=10)\n",
    "plt.show()"
   ]
  },
  {
   "cell_type": "code",
   "execution_count": null,
   "metadata": {
    "scrolled": true,
    "slideshow": {
     "slide_type": "fragment"
    }
   },
   "outputs": [],
   "source": [
    "# Vorsicht bei mutable \n",
    "y = x[0:3, 0:3].copy()\n",
    "y[0:3, 0:3] = -10\n",
    "#print(x)\n",
    "plt.imshow(x, vmin=-10, vmax=10)\n"
   ]
  },
  {
   "cell_type": "markdown",
   "metadata": {
    "slideshow": {
     "slide_type": "subslide"
    }
   },
   "source": [
    "### Ausgewählte Methoden"
   ]
  },
  {
   "cell_type": "code",
   "execution_count": null,
   "metadata": {
    "slideshow": {
     "slide_type": "skip"
    }
   },
   "outputs": [],
   "source": [
    "dim = 4\n",
    "A = np.zeros((dim,dim))\n",
    "for i in range(dim):\n",
    "    A += (np.eye(dim,dim,i) + np.eye(dim,dim,-i))*i"
   ]
  },
  {
   "cell_type": "markdown",
   "metadata": {
    "slideshow": {
     "slide_type": "subslide"
    }
   },
   "source": [
    "- Allgemein\n",
    "    - `tolist()`\n",
    "    - `copy()`"
   ]
  },
  {
   "cell_type": "code",
   "execution_count": null,
   "metadata": {
    "slideshow": {
     "slide_type": "subslide"
    }
   },
   "outputs": [],
   "source": [
    "# .tolist()\n",
    "dim = 4\n",
    "A = np.zeros((dim,dim))\n",
    "for i in range(dim):\n",
    "    A += (-np.eye(dim,dim,i) + np.eye(dim,dim,-i))*i**2\n",
    "print(A)\n",
    "print(A.tolist())\n",
    "print(A)"
   ]
  },
  {
   "cell_type": "code",
   "execution_count": null,
   "metadata": {
    "slideshow": {
     "slide_type": "subslide"
    }
   },
   "outputs": [],
   "source": [
    "# .copy(), [:]\n",
    "dim = 4\n",
    "A = np.zeros((dim,dim))\n",
    "for i in range(dim):\n",
    "    A += np.eye(dim,dim,i)*i + np.eye(dim,dim,-i)*i**2\n",
    "B = A.copy() # A[:]\n",
    "np.fill_diagonal(A,666)\n",
    "print(A)\n",
    "print(B)"
   ]
  },
  {
   "cell_type": "markdown",
   "metadata": {
    "slideshow": {
     "slide_type": "subslide"
    }
   },
   "source": [
    "- Größenanpassung\n",
    "    - `.reshape()`"
   ]
  },
  {
   "cell_type": "code",
   "execution_count": null,
   "metadata": {
    "slideshow": {
     "slide_type": "fragment"
    }
   },
   "outputs": [],
   "source": [
    "# .reshape()\n",
    "num_el = A.size\n",
    "print(A)\n",
    "print(np.tile(A, 2).reshape(num_el,2))"
   ]
  },
  {
   "cell_type": "markdown",
   "metadata": {
    "slideshow": {
     "slide_type": "subslide"
    }
   },
   "source": [
    "- Berechnungen\n",
    "    - `.max`, `.argmax`(und `.min`, `.argmin`)\n",
    "    - `.sum` (und `.prod`)"
   ]
  },
  {
   "cell_type": "code",
   "execution_count": null,
   "metadata": {
    "scrolled": true,
    "slideshow": {
     "slide_type": "fragment"
    }
   },
   "outputs": [],
   "source": [
    "# .max(), .argmax()\n",
    "x = np.arange(5)\n",
    "x[3] = 10\n",
    "print(x)\n",
    "print(x.max())\n",
    "print(x.argmax())\n",
    "# analogously multi-dim arrays and min"
   ]
  },
  {
   "cell_type": "code",
   "execution_count": null,
   "metadata": {
    "scrolled": false,
    "slideshow": {
     "slide_type": "fragment"
    }
   },
   "outputs": [],
   "source": [
    "# .sum()\n",
    "print(A)\n",
    "print(A.sum())\n",
    "print(A.sum(axis = 0)) # Spaltensumme\n",
    "print(A.sum(axis = 1)) # Zeilensumme"
   ]
  },
  {
   "cell_type": "markdown",
   "metadata": {
    "slideshow": {
     "slide_type": "subslide"
    }
   },
   "source": [
    "Sortieren\n",
    " - `.sort()`"
   ]
  },
  {
   "cell_type": "code",
   "execution_count": null,
   "metadata": {
    "slideshow": {
     "slide_type": "fragment"
    }
   },
   "outputs": [],
   "source": [
    "dim = 4\n",
    "A = np.zeros((dim,dim), dtype=int)\n",
    "for i in range(dim):\n",
    "    A += -np.eye(dim,dim,i, dtype=int)*i +np.eye(dim,dim,-i, dtype=int)*i**2\n",
    "print(\"A =\\n \"+str(A)+ \"\\n\")\n",
    "B = A[:]\n",
    "B.sort(axis = 0)\n",
    "print(\"B2 =\\n \"+str(B)+\"\\n\")\n",
    "B = A[:]\n",
    "B.sort(axis = 1)\n",
    "print(\"B2 =\\n \"+str(B)+\"\\n\")\n",
    "B = A[:]\n",
    "B.sort()\n",
    "print(\"B3 =\\n \"+str(B)+\"\\n\")"
   ]
  },
  {
   "cell_type": "markdown",
   "metadata": {
    "slideshow": {
     "slide_type": "subslide"
    }
   },
   "source": [
    "Nicht besprochen:\n",
    " - broadcasting Prinzip von numpy\n",
    " - flattening `.ravel`\n",
    " - `np.newaxis`:Indexing with the np.newaxis object allows us to add an axis to an array (you have seen this already above in the broadcasting section)"
   ]
  },
  {
   "cell_type": "code",
   "execution_count": null,
   "metadata": {},
   "outputs": [],
   "source": [
    "x = np.array([0,1,2])\n",
    "print(x[:, np.newaxis].shape)"
   ]
  },
  {
   "cell_type": "code",
   "execution_count": null,
   "metadata": {
    "scrolled": true
   },
   "outputs": [],
   "source": []
  },
  {
   "cell_type": "code",
   "execution_count": null,
   "metadata": {},
   "outputs": [],
   "source": []
  },
  {
   "cell_type": "code",
   "execution_count": null,
   "metadata": {},
   "outputs": [],
   "source": []
  },
  {
   "cell_type": "code",
   "execution_count": null,
   "metadata": {},
   "outputs": [],
   "source": []
  },
  {
   "cell_type": "code",
   "execution_count": null,
   "metadata": {},
   "outputs": [],
   "source": []
  },
  {
   "cell_type": "code",
   "execution_count": null,
   "metadata": {},
   "outputs": [],
   "source": []
  },
  {
   "cell_type": "code",
   "execution_count": null,
   "metadata": {},
   "outputs": [],
   "source": []
  },
  {
   "cell_type": "code",
   "execution_count": null,
   "metadata": {},
   "outputs": [],
   "source": []
  },
  {
   "cell_type": "markdown",
   "metadata": {},
   "source": [
    "Üben: NumPy and Matplotlib\n",
    "====================\n",
    "\n",
    "\n",
    "1.  Have a look at the first chapter of the scipy-lectures:\n",
    "    https://scipy-lectures.org/ (namely, ’1. Getting started with Python\n",
    "    for science’)\n",
    "\n",
    "2.  Play around with the numpy functions: `arange`, `linspace`, `ones`,\n",
    "    `zeros`, `eye`, `diag`, `tile`, `repeat` and `reshape`.\n",
    "\n",
    "3.  Generate the following matrices:\n",
    "\n",
    "    1.  Identity matrix\n",
    "\n",
    "    2.  Zero matrix\n",
    "\n",
    "    3.  A diagonal matrix\n",
    "        $\\left(D \\in \\mathbb{F}^{m\\times n} ~\\text{is called diagonal, if}~ d_{ij}=0 ~\\forall i\\neq j \\right)$\n",
    "\n",
    "    4.  Example matrix\n",
    "        $$\\left(\\begin{array}{rrrr}                                \n",
    "            1 &  1& 1 & 1\\\\                                               \n",
    "            1 &  1& 1 & 1\\\\                                              \n",
    "            1 &  1 &  1 & 2   \\\\ \n",
    "            1 &  6 &  1 & 1\n",
    "            \\end{array}\\right) \\nonumber$$\n",
    "\n",
    "    5.  Example matrix\n",
    "        $$\\left(\\begin{array}{rrrrr}                                \n",
    "            0 &  0& 0 & 0&0\\\\                                               \n",
    "            2 &  0& 0 & 0&0\\\\                                              \n",
    "            0 &  3& 0 & 0&0\\\\ \n",
    "            0 &  0& 4 & 0&0\\\\ \n",
    "            0 &  0& 0 & 5&0\\\\ \n",
    "            0 &  0& 0 & 0&6\n",
    "            \\end{array}\\right) \\nonumber$$\n",
    "\n",
    "    6.  Example matrix\n",
    "        $$\\left(\\begin{array}{rrrrrr}                                \n",
    "            4 &  3& 4 &3&4&3\\\\                                               \n",
    "            2 &  1& 2 & 1&2&1\\\\                                              \n",
    "            4 &  3& 4 & 3&4&3\\\\   \n",
    "            2 &  1& 2 & 1&2&1\n",
    "            \\end{array}\\right) \\nonumber$$\n",
    "\n",
    "    7.  Example matrix\n",
    "        $$\\left(\\begin{array}{rrr}                                \n",
    "            1  &6 &11\\\\                                               \n",
    "            2  &7 &12\\\\                                              \n",
    "            3  &8 &13\\\\   \n",
    "            4  &9 &14\\\\\n",
    "            5& 10 &15\n",
    "            \\end{array}\\right) \\nonumber$$\n",
    "\n",
    "4.  Apply the functions `len()` and `numpy.shape()` to these arrays. How\n",
    "    do the values relate? What does the attribute `ndim` tell us?\n",
    "\n",
    "5.  Use `matplotlib.pyplot.imshow()` to visualize the matrices."
   ]
  },
  {
   "cell_type": "code",
   "execution_count": null,
   "metadata": {},
   "outputs": [],
   "source": [
    "import numpy as np\n",
    "import matplotlib.pyplot as plt\n",
    "\n",
    "\"\"\" 1. \"\"\" \n",
    "\n",
    "\"\"\" 2.\"\"\"\n",
    "\n",
    "m, n = 10, 5\n",
    "\n",
    "# help(np.arange)\n",
    "print(np.arange(1,n,2))\n",
    "print(np.arange(n))\n",
    "\n",
    "# help(np.linspace)\n",
    "print(np.linspace(0,1,n, endpoint = False))\n",
    "\n",
    "# help(np.ones)\n",
    "print(np.ones(n))\n",
    "print(np.ones((n,n)))\n",
    "\n",
    "# help(np.zeros)\n",
    "print(np.zeros(n))\n",
    "print(np.zeros((n,n)))\n",
    "\n",
    "# help(np.eye)\n",
    "print(np.eye(n))\n",
    "print(np.eye(m,n))\n",
    "print(np.eye(m,n, 3))\n",
    "\n",
    "# help(np.diag)\n",
    "print(np.diag(np.ones(n)))\n",
    "print(np.diag(np.ones(n), 3))\n",
    "\n",
    "\n",
    "# help(np.tile)\n",
    "print(np.tile(np.arange(3), 2))\n",
    "print(np.tile(np.arange(3), (2, 3)))\n",
    "print(np.tile(np.ones((2,2)), 3))\n",
    "\n",
    "# help(np.repeat)\n",
    "# Repeat elements of an array\n",
    "print(np.repeat(np.arange(3), 2))\n",
    "#print(np.repeat(np.arange(3), (2, 3)))\n",
    "print(np.repeat(np.ones((2,2)), 3))\n",
    "print(np.repeat(np.ones((2,2)), 3, axis = 1))\n",
    "\n",
    "# help(np.reshape)\n",
    "x = np.eye(3)\n",
    "print(x)\n",
    "print(np.reshape(x, 9))\n",
    "\n",
    "\"\"\" 3.\"\"\"\n",
    "# a) identity matrix\n",
    "\n",
    "# b) zero matrix\n",
    "\n",
    "# c) diagonal matrix\n",
    "d = np.arange(n)\n",
    "A = np.diag(d)\n",
    "print(np.diag(d))\n",
    "print(len(A), np.shape(A), A.ndim)\n",
    "plt.figure()\n",
    "plt.imshow(A)\n",
    "plt.show()\n",
    "\n",
    "# d) \n",
    "A = np.ones((4,4))\n",
    "A[3,1] = 6\n",
    "A[2, 3] = 2\n",
    "print(A)\n",
    "print(len(A), np.shape(A), A.ndim)\n",
    "plt.figure()\n",
    "plt.imshow(A)\n",
    "plt.show()\n",
    "\n",
    "# e)\n",
    "A = np.diag(np.arange(2,7,1), -1)\n",
    "print(A)\n",
    "print(len(A), np.shape(A), A.ndim)\n",
    "plt.figure()\n",
    "plt.imshow(A)\n",
    "plt.show()\n",
    "\n",
    "# f)\n",
    "x = np.arange(4, 0,-1).reshape(2,2)\n",
    "A = np.tile(x, (2, 3))\n",
    "print(A)\n",
    "print(len(A), np.shape(A), A.ndim)\n",
    "plt.figure()\n",
    "plt.imshow(A)\n",
    "plt.show()\n",
    "\n",
    "# g)\n",
    "x = np.arange(1, 16)\n",
    "A = np.reshape(x, (5,3), order = 'F')\n",
    "print(A)\n",
    "print(len(A), np.shape(A), A.ndim)\n",
    "plt.figure()\n",
    "plt.imshow(A)\n",
    "plt.show()"
   ]
  },
  {
   "cell_type": "code",
   "execution_count": null,
   "metadata": {},
   "outputs": [],
   "source": []
  }
 ],
 "metadata": {
  "celltoolbar": "Slideshow",
  "kernelspec": {
   "display_name": "Python 3",
   "language": "python",
   "name": "python3"
  },
  "language_info": {
   "codemirror_mode": {
    "name": "ipython",
    "version": 3
   },
   "file_extension": ".py",
   "mimetype": "text/x-python",
   "name": "python",
   "nbconvert_exporter": "python",
   "pygments_lexer": "ipython3",
   "version": "3.8.10"
  },
  "latex_envs": {
   "LaTeX_envs_menu_present": true,
   "autoclose": true,
   "autocomplete": true,
   "bibliofile": "biblio.bib",
   "cite_by": "apalike",
   "current_citInitial": 1,
   "eqLabelWithNumbers": true,
   "eqNumInitial": 1,
   "hotkeys": {
    "equation": "Ctrl-E",
    "itemize": "Ctrl-I"
   },
   "labels_anchors": false,
   "latex_user_defs": false,
   "report_style_numbering": false,
   "user_envs_cfg": false
  },
  "toc": {
   "base_numbering": "2",
   "nav_menu": {},
   "number_sections": true,
   "sideBar": true,
   "skip_h1_title": false,
   "title_cell": "NumPy",
   "title_sidebar": "Inhalt",
   "toc_cell": true,
   "toc_position": {
    "height": "calc(100% - 180px)",
    "left": "10px",
    "top": "150px",
    "width": "281.6px"
   },
   "toc_section_display": true,
   "toc_window_display": true
  }
 },
 "nbformat": 4,
 "nbformat_minor": 4
}
