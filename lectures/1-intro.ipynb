{
 "cells": [
  {
   "cell_type": "markdown",
   "metadata": {
    "slideshow": {
     "slide_type": "slide"
    }
   },
   "source": [
    "# Ein erster Überblick zu Python\n",
    "\n",
    "<br>\n",
    "<center><img src=\"Python_logo.png\" alt=\"\" align=\"center\" width=\"300\"/></center>"
   ]
  },
  {
   "cell_type": "markdown",
   "metadata": {
    "slideshow": {
     "slide_type": "subslide"
    }
   },
   "source": [
    "## Programmiersprachen in der numerischen Mathematik (Auswahl)"
   ]
  },
  {
   "cell_type": "markdown",
   "metadata": {
    "slideshow": {
     "slide_type": "fragment"
    }
   },
   "source": [
    "- **Fortran** (FORmula TRANslation) (1957): \n",
    "    - proprietäre (z.B. von IBM) und freie Compiler\n",
    "    - vorgesehen für numerische Berechnungen (Matrix- und Vektor-Operationen)\n",
    "    - umfangreiche Bibliotheken\n",
    "      - LAPACK (**L**inear **A**lgebra **Pack**age) Standard-Bibliothek für numerische Lineare Algebra"
   ]
  },
  {
   "cell_type": "markdown",
   "metadata": {
    "slideshow": {
     "slide_type": "fragment"
    }
   },
   "source": [
    "- **C** (1972)/ **C++** (1985):\n",
    "    - universelle Programmiersprache\n",
    "    - Standardbibliotheken für Numerik: Armadillo, LAPACK++ (basieren auf LAPACK)"
   ]
  },
  {
   "cell_type": "markdown",
   "metadata": {
    "slideshow": {
     "slide_type": "subslide"
    }
   },
   "source": [
    "- **MATLAB** (MATrix LABoratory) (1984): \n",
    "    - kommerzielle Software von MathWorks\n",
    "    - ausgelegt für numerische Mathematik (Matrix- und Vektor-Operationen)"
   ]
  },
  {
   "cell_type": "markdown",
   "metadata": {
    "slideshow": {
     "slide_type": "fragment"
    }
   },
   "source": [
    "- **Mathematica** (1988): \n",
    "    - kommerzielle Software von Wolfram Research\n",
    "    - Visualisierung von 2d/3d Objekten\n",
    "    - symbolische Verarbeitung von Gleichungen\n",
    "    - siehe auch: https://www.wolframalpha.com/"
   ]
  },
  {
   "cell_type": "markdown",
   "metadata": {
    "slideshow": {
     "slide_type": "subslide"
    }
   },
   "source": [
    "- **Python** (1990): \n",
    "    - quelloffen und frei\n",
    "    - universelle Programmiersprache (mehrere Anwendungsgebiete)\n",
    "    - für numerische Berechnungen: NumPy (1995,2006), SciPy (2001), matplotlib (2003)"
   ]
  },
  {
   "cell_type": "markdown",
   "metadata": {
    "slideshow": {
     "slide_type": "fragment"
    }
   },
   "source": [
    "- **Julia** (2012): \n",
    "    - quelloffen und frei\n",
    "    - vor allem für wissenschaftliches Rechnen entwickelt\n",
    "    - Syntax erinnert stark an MATLAB\n",
    "    - Ausführungsgeschwindigkeit liegt allerdings im Bereich von C und Fortran"
   ]
  },
  {
   "cell_type": "markdown",
   "metadata": {
    "slideshow": {
     "slide_type": "subslide"
    }
   },
   "source": [
    "Hier: **Python 3**  "
   ]
  },
  {
   "cell_type": "markdown",
   "metadata": {
    "slideshow": {
     "slide_type": "fragment"
    }
   },
   "source": [
    " - universelle Mehrzweck-Programmiersprache\n",
    "   - viele Pakete für wissenschaftliches Rechnen, Webentwicklung, Mail-Server, Input/Output-Streams,...\n",
    "   - Google Mail, Google Maps, YouTube, Dropbox, sphinx, Data Science,...\n",
    " - *open source* und *free* (Python Software Foundation License (PSFL), OSI und FSF konform)\n",
    " - multi-platform (läuft auf allen wichtigen Betriebssystemen)\n",
    "\n"
   ]
  },
  {
   "cell_type": "markdown",
   "metadata": {
    "slideshow": {
     "slide_type": "fragment"
    }
   },
   "source": [
    " - Design-Philosophie: einfache Syntax, lesbarer Code (sieht fast wie Pseudocode aus)\n",
    " - Interpretierte (scripting-) Programmiersprache ($\\neq$ kompilierte Sprache wie C oder Fortran)\n",
    " - Wurde Anfang der 90er-Jahre von dem Niederländer Guido van Rossum entwickelt.\n",
    "  - Der Name ist eine Hommage an Monty Python"
   ]
  },
  {
   "cell_type": "code",
   "execution_count": 2,
   "metadata": {
    "scrolled": true,
    "slideshow": {
     "slide_type": "subslide"
    }
   },
   "outputs": [
    {
     "data": {
      "text/html": [
       "<iframe width=\"560\" height=\"315\" src=\"https://www.youtube.com/embed/M0vBoBqqjr0\" title=\"YouTube video player\" frameborder=\"0\" allow=\"accelerometer; autoplay; clipboard-write; encrypted-media; gyroscope; picture-in-picture\" allowfullscreen></iframe>"
      ],
      "text/plain": [
       "<IPython.core.display.HTML object>"
      ]
     },
     "execution_count": 2,
     "metadata": {},
     "output_type": "execute_result"
    }
   ],
   "source": [
    "from IPython.display import HTML\n",
    "HTML('<iframe width=\"560\" height=\"315\" src=\"https://www.youtube.com/embed/M0vBoBqqjr0\" title=\"YouTube video player\" frameborder=\"0\" allow=\"accelerometer; autoplay; clipboard-write; encrypted-media; gyroscope; picture-in-picture\" allowfullscreen></iframe>')"
   ]
  },
  {
   "cell_type": "markdown",
   "metadata": {
    "slideshow": {
     "slide_type": "subslide"
    }
   },
   "source": [
    "## Mögliche Arbeitsabläufe\n",
    "\n",
    "\n",
    "### Command Line Interface (CLI)\n",
    "- Grundsätzlich kann jeder Texteditor verwendet werden (emacs, vi, vim, nano, geany, gedit,...)\n",
    "    - viele Editoren bieten Syntax-Highlighting\n",
    "- Installieren Sie Python und interpretieren Sie dann den Quellcode.\n",
    "- [Shebang](https://de.wikipedia.org/wiki/Shebang) und ausführebare Skripte.\n",
    "   \n"
   ]
  },
  {
   "cell_type": "markdown",
   "metadata": {
    "slideshow": {
     "slide_type": "subslide"
    }
   },
   "source": [
    "### Integrated Development Environment (IDE)\n",
    "\n",
    " - Für die Softwareentwicklung ist es nützlich, eine **integrierte Entwicklungsumgebung (IDE)** zu verwenden. \n",
    "  <img src=\"spyder.png\" alt=\"\" align=\"right\" width=\"100\"/>\n",
    "<img src=\"pycharm.png\" alt=\"\" align=\"right\" width=\"100\"/>\n",
    " - Speziell für Python: PyCharm, Spyder\n",
    " - Melden Sie sich mit Ihrem Uni-Account bei [jetbrains](https://account.jetbrains.com/login) an und Sie können die PyCharm Professional Edition kostenlos nutzen!\n",
    " \n"
   ]
  },
  {
   "cell_type": "code",
   "execution_count": 2,
   "metadata": {},
   "outputs": [
    {
     "name": "stdout",
     "output_type": "stream",
     "text": [
      "hello world\n"
     ]
    }
   ],
   "source": [
    "print(\"hello world\") "
   ]
  },
  {
   "cell_type": "markdown",
   "metadata": {
    "slideshow": {
     "slide_type": "subslide"
    }
   },
   "source": [
    "### Interactive Python Notebook (ipynb)\n",
    "\n",
    "<img src=\"jupyter.png\" alt=\"\" align=\"right\" width=\"100\"/>\n",
    "\n",
    "- quelloffene, *webbasierte* interaktive Umgebung $\\rightarrow$ also multi-platform\n",
    "- entwickelt von **Projekt Jupyter** (NPO)\n",
    "- Name bezieht sich auf: **Ju**lia, **Pyt**hon, **R**\n",
    "- kompletter Prozess kann erfasst werden:\n",
    "    - Entwicklung (coding) $\\rightarrow$ Dokumentation $\\rightarrow$ Ausführen $\\rightarrow$ Kommunikation und Präsentation\n",
    "- client VS server\n",
    "  - client (lokaler, kleiner Rechner): Webbrowser-basiertes Arbeiten \n",
    "  - server (remote, number cruncher): Eigentliche Berechnungen\n",
    "  \n"
   ]
  },
  {
   "cell_type": "markdown",
   "metadata": {
    "slideshow": {
     "slide_type": "subslide"
    }
   },
   "source": [
    "### Auswahl treffen\n",
    "\n",
    " - Das Arbeiten in der Konsole (CLI) kann helfen low-level Abläufe besser zu verstehen und wird manchmal auf entfernten Servern (number cruncher) notwendig. \n",
    " \n",
    " - Für die Softwareentwicklung empfehlen aufgrund der vielen zusätzlichen Tools das Arbeiten in einer IDE: Debugger und Variablen-Explorer, Versionskontrolle, Erweiterbarkeit durch Plug-ins, etc.\n",
    "\n",
    " - Jupyter Notebooks eignen sich sehr gut für kleinere Programmierprojekte und Präsentationen --  und damit für die Lehre. \n",
    " \n",
    " \n",
    " \n",
    " - Sie können frei wählen wie Sie Ihre Lösungen präsentieren! Spätestens in Teil 2 werden wir intensiv die IDE PyCharm verwenden."
   ]
  },
  {
   "cell_type": "markdown",
   "metadata": {
    "slideshow": {
     "slide_type": "subslide"
    }
   },
   "source": [
    "## Loslegen\n",
    "\n",
    "<img align = 'right' src=\"anaconda.png\" alt=\"\" width=\"350\"/>\n",
    "\n",
    " - Für den Start empfehlen wir den Download der Distribution ***Anaconda***: https://www.anaconda.com/distribution/\n",
    "\n",
    "   --> verfügbar for Linux, Windows, and MacOS\n",
    "\n",
    "\n",
    " - Kommt daher mit:\n",
    "    - grafischer Oberfläche zum Navigieren (*Anaconda Navigator*)\n",
    "    - Anwendungen: **Spyder** (IDE), **Jupyter Notebook**, RStudio (IDE für R)\n",
    "    - allen wichtigen Bibliotheken (NumPy, SciPy, matplotlib, TensorFlow, scikit-learn,$\\ldots$)\n",
    "    - package manager (*Conda*) (Standard ist *pip*)\n"
   ]
  },
  {
   "cell_type": "markdown",
   "metadata": {
    "slideshow": {
     "slide_type": "subslide"
    }
   },
   "source": [
    "### Tutorials\n",
    "      \n",
    " - Offizielle Online-Dokumentation: https://docs.python.org/3/\n",
    "       \n",
    "     - Offizielles Python-Tutorial: https://docs.python.org/3/tutorial/index.html\n",
    "\n",
    "\n",
    " - Schnellstart Jupyter Notebook: https://jupyter.readthedocs.io/en/latest/content-quickstart.html \n",
    " \n",
    " \n",
    " - Wissenschaftliches Rechnen mit Python: https://scipy-lectures.org/\n",
    "        \n",
    "    \n",
    "\n",
    " "
   ]
  }
 ],
 "metadata": {
  "celltoolbar": "Slideshow",
  "kernelspec": {
   "display_name": "Python 3",
   "language": "python",
   "name": "python3"
  },
  "language_info": {
   "codemirror_mode": {
    "name": "ipython",
    "version": 3
   },
   "file_extension": ".py",
   "mimetype": "text/x-python",
   "name": "python",
   "nbconvert_exporter": "python",
   "pygments_lexer": "ipython3",
   "version": "3.8.10"
  },
  "latex_envs": {
   "LaTeX_envs_menu_present": true,
   "autoclose": false,
   "autocomplete": true,
   "bibliofile": "biblio.bib",
   "cite_by": "apalike",
   "current_citInitial": 1,
   "eqLabelWithNumbers": true,
   "eqNumInitial": 1,
   "hotkeys": {
    "equation": "Ctrl-E",
    "itemize": "Ctrl-I"
   },
   "labels_anchors": false,
   "latex_user_defs": false,
   "report_style_numbering": false,
   "user_envs_cfg": false
  },
  "toc": {
   "base_numbering": "1",
   "nav_menu": {},
   "number_sections": true,
   "sideBar": true,
   "skip_h1_title": false,
   "title_cell": "Table of Contents",
   "title_sidebar": "Contents",
   "toc_cell": false,
   "toc_position": {},
   "toc_section_display": true,
   "toc_window_display": false
  },
  "varInspector": {
   "cols": {
    "lenName": 16,
    "lenType": 16,
    "lenVar": 40
   },
   "kernels_config": {
    "python": {
     "delete_cmd_postfix": "",
     "delete_cmd_prefix": "del ",
     "library": "var_list.py",
     "varRefreshCmd": "print(var_dic_list())"
    },
    "r": {
     "delete_cmd_postfix": ") ",
     "delete_cmd_prefix": "rm(",
     "library": "var_list.r",
     "varRefreshCmd": "cat(var_dic_list()) "
    }
   },
   "types_to_exclude": [
    "module",
    "function",
    "builtin_function_or_method",
    "instance",
    "_Feature"
   ],
   "window_display": false
  }
 },
 "nbformat": 4,
 "nbformat_minor": 4
}
