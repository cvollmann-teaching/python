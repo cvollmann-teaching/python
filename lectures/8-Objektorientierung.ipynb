{
 "cells": [
  {
   "cell_type": "markdown",
   "metadata": {
    "slideshow": {
     "slide_type": "slide"
    },
    "toc": true
   },
   "source": [
    "<h1>Inhalt<span class=\"tocSkip\"></span></h1>\n",
    "<div class=\"toc\"><ul class=\"toc-item\"><li><span><a href=\"#Objektorientierung\" data-toc-modified-id=\"Objektorientierung-1\"><span class=\"toc-item-num\">1&nbsp;&nbsp;</span>Objektorientierung</a></span><ul class=\"toc-item\"><li><span><a href=\"#Einleitung\" data-toc-modified-id=\"Einleitung-1.1\"><span class=\"toc-item-num\">1.1&nbsp;&nbsp;</span>Einleitung</a></span></li><li><span><a href=\"#Klassen\" data-toc-modified-id=\"Klassen-1.2\"><span class=\"toc-item-num\">1.2&nbsp;&nbsp;</span>Klassen</a></span><ul class=\"toc-item\"><li><span><a href=\"#Methoden\" data-toc-modified-id=\"Methoden-1.2.1\"><span class=\"toc-item-num\">1.2.1&nbsp;&nbsp;</span>Methoden</a></span></li><li><span><a href=\"#Konstruktor\" data-toc-modified-id=\"Konstruktor-1.2.2\"><span class=\"toc-item-num\">1.2.2&nbsp;&nbsp;</span>Konstruktor</a></span></li><li><span><a href=\"#Attribute\" data-toc-modified-id=\"Attribute-1.2.3\"><span class=\"toc-item-num\">1.2.3&nbsp;&nbsp;</span>Attribute</a></span></li></ul></li><li><span><a href=\"#Vererbung\" data-toc-modified-id=\"Vererbung-1.3\"><span class=\"toc-item-num\">1.3&nbsp;&nbsp;</span>Vererbung</a></span></li><li><span><a href=\"#Magic-Methods-and-Attributes\" data-toc-modified-id=\"Magic-Methods-and-Attributes-1.4\"><span class=\"toc-item-num\">1.4&nbsp;&nbsp;</span>Magic Methods and Attributes</a></span><ul class=\"toc-item\"><li><span><a href=\"#Ausgewählte-Beispiele\" data-toc-modified-id=\"Ausgewählte-Beispiele-1.4.1\"><span class=\"toc-item-num\">1.4.1&nbsp;&nbsp;</span>Ausgewählte Beispiele</a></span><ul class=\"toc-item\"><li><span><a href=\"#Magic-Function--__str__\" data-toc-modified-id=\"Magic-Function--__str__-1.4.1.1\"><span class=\"toc-item-num\">1.4.1.1&nbsp;&nbsp;</span>Magic Function  <code>__str__</code></a></span></li><li><span><a href=\"#Magic-Attribute--__dict__\" data-toc-modified-id=\"Magic-Attribute--__dict__-1.4.1.2\"><span class=\"toc-item-num\">1.4.1.2&nbsp;&nbsp;</span>Magic Attribute  <code>__dict__</code></a></span></li><li><span><a href=\"#Magic-Function-__setattr__\" data-toc-modified-id=\"Magic-Function-__setattr__-1.4.1.3\"><span class=\"toc-item-num\">1.4.1.3&nbsp;&nbsp;</span>Magic Function <code>__setattr__</code></a></span></li></ul></li><li><span><a href=\"#Operatoren-überladen-(Operator-Overloading)\" data-toc-modified-id=\"Operatoren-überladen-(Operator-Overloading)-1.4.2\"><span class=\"toc-item-num\">1.4.2&nbsp;&nbsp;</span>Operatoren überladen (<em>Operator Overloading</em>)</a></span><ul class=\"toc-item\"><li><span><a href=\"#Beispiel:--Datentyp-für-komplexe-Zahlen\" data-toc-modified-id=\"Beispiel:--Datentyp-für-komplexe-Zahlen-1.4.2.1\"><span class=\"toc-item-num\">1.4.2.1&nbsp;&nbsp;</span>Beispiel:  Datentyp für komplexe Zahlen</a></span></li><li><span><a href=\"#Beispiel:-Kommutativität\" data-toc-modified-id=\"Beispiel:-Kommutativität-1.4.2.2\"><span class=\"toc-item-num\">1.4.2.2&nbsp;&nbsp;</span>Beispiel: Kommutativität</a></span></li><li><span><a href=\"#Beispiel:-Vererbung-und-Multiplikation-von-Strings\" data-toc-modified-id=\"Beispiel:-Vererbung-und-Multiplikation-von-Strings-1.4.2.3\"><span class=\"toc-item-num\">1.4.2.3&nbsp;&nbsp;</span>Beispiel: Vererbung und Multiplikation von Strings</a></span></li></ul></li></ul></li><li><span><a href=\"#Beispiel:-Klassen-für-Matrizen-und-Vektoren\" data-toc-modified-id=\"Beispiel:-Klassen-für-Matrizen-und-Vektoren-1.5\"><span class=\"toc-item-num\">1.5&nbsp;&nbsp;</span>Beispiel: Klassen für Matrizen und Vektoren</a></span><ul class=\"toc-item\"><li><span><a href=\"#Vektoren\" data-toc-modified-id=\"Vektoren-1.5.1\"><span class=\"toc-item-num\">1.5.1&nbsp;&nbsp;</span>Vektoren</a></span></li><li><span><a href=\"#Matrizen-im-CSR-Format\" data-toc-modified-id=\"Matrizen-im-CSR-Format-1.5.2\"><span class=\"toc-item-num\">1.5.2&nbsp;&nbsp;</span>Matrizen im CSR Format</a></span></li></ul></li></ul></li></ul></div>"
   ]
  },
  {
   "cell_type": "markdown",
   "metadata": {
    "slideshow": {
     "slide_type": "slide"
    }
   },
   "source": [
    "# Objektorientierung\n",
    "\n",
    "Eine kleine Einführung in die Objektorientierung mit Python\n",
    "\n",
    "\n",
    "**Quellen:** \n",
    "  - J.Ernesti, P.Kaiser, *Python 3 - Das umfassende Handbuch*: Teil II - Kapitel 11\n",
    "    - [S.269]: *'In diesem Kapitel lassen wir endlich die Katze aus dem Sack'*\n",
    "  - Python Tutorial zu Klassen: https://docs.python.org/3/tutorial/classes.html\n"
   ]
  },
  {
   "cell_type": "markdown",
   "metadata": {
    "slideshow": {
     "slide_type": "subslide"
    }
   },
   "source": [
    "## Einleitung\n",
    "\n",
    "**Was ist Objektorientierung?**"
   ]
  },
  {
   "cell_type": "markdown",
   "metadata": {
    "slideshow": {
     "slide_type": "fragment"
    }
   },
   "source": [
    " -  [Engl. Wikipedia](https://en.wikipedia.org/wiki/Object-oriented_programming): *Object-oriented programming (OOP) is a __programming paradigm__ based on the concept of \"objects\", which can contain data and code: data in the form of fields (often known as __attributes__ or properties), and code, in the form of procedures (often known as __methods__).*"
   ]
  },
  {
   "cell_type": "markdown",
   "metadata": {
    "slideshow": {
     "slide_type": "fragment"
    }
   },
   "source": [
    " - [Engl. Wikipedia](https://en.wikipedia.org/wiki/Programming_paradigm): *Programming paradigms are a way to classify programming languages based on their features.*"
   ]
  },
  {
   "cell_type": "markdown",
   "metadata": {
    "slideshow": {
     "slide_type": "subslide"
    }
   },
   "source": [
    " - [Python Tutorial](https://docs.python.org/3/tutorial/classes.html): *__Classes__ provide a means of bundling data and functionality together. Creating a new class creates a new __type__ of object, allowing new __instances__ of that type to be made.*"
   ]
  },
  {
   "cell_type": "markdown",
   "metadata": {
    "slideshow": {
     "slide_type": "skip"
    }
   },
   "source": [
    " - *Each class instance can have attributes attached to it for maintaining its state.*\n",
    " - *Class instances can also have methods (defined by its class) for modifying its state.*"
   ]
  },
  {
   "cell_type": "markdown",
   "metadata": {
    "slideshow": {
     "slide_type": "subslide"
    }
   },
   "source": [
    "**Wir halten fest**\n",
    "\n",
    "Bei der objektorientierten Programmierung werden Daten und Verarbeitungsfunktionen zu Objekten zusammenfasst. \n",
    "\n",
    " - Daten eines solchen Objekts werden **Attribute** genannt\n",
    " - Die Verarbeitungsfunktionen werden **Methoden** genannt \n",
    " - Attribute und Methoden werden unter dem Begriff **Member einer Klasse** zusammengefasst. "
   ]
  },
  {
   "cell_type": "markdown",
   "metadata": {
    "slideshow": {
     "slide_type": "subslide"
    }
   },
   "source": [
    "**Beispiele**\n",
    "\n",
    "|Objekt | Attribute | Methoden |\n",
    "|:------|:----------:|:-|\n",
    "|**Konto** | Inhaber   | einzahlen()|\n",
    "|      | Guthaben  | auszahlen()|\n",
    "|      | ...       |neues_konto()|\n",
    "||||\n",
    "|**Vektor**|Einträge|add()|\n",
    "|||dot()|\n",
    "|||...|\n",
    "||||\n",
    "|**CSR Matrix**|data|add()|\n",
    "||indices|dot()||\n",
    "||indptr|toarray()|\n",
    "|||...|"
   ]
  },
  {
   "cell_type": "markdown",
   "metadata": {
    "slideshow": {
     "slide_type": "subslide"
    }
   },
   "source": [
    "**Unser Anwendungsbeispiel und Ziel**\n",
    "\n",
    "Wir werden unsere eigenen Datentypen (genauer Klassen) für Vektoren und Matrizen definieren und die für das relaxierte Richardson Verfahren benötigten Matrix- und Vektoroperationen als Methoden implementieren."
   ]
  },
  {
   "cell_type": "markdown",
   "metadata": {
    "slideshow": {
     "slide_type": "subslide"
    }
   },
   "source": [
    "## Klassen"
   ]
  },
  {
   "cell_type": "markdown",
   "metadata": {
    "slideshow": {
     "slide_type": "fragment"
    }
   },
   "source": [
    "Die wichtigen Begriffe in diesem Abschnitt sind:\n",
    "\n",
    " - Klassen (=Bauplan/Rezept) und Objekte (=Instanz einer Klasse/Kuchen)\n",
    " - Member: Attribute und Methoden\n",
    " - Konstruktor"
   ]
  },
  {
   "cell_type": "markdown",
   "metadata": {
    "slideshow": {
     "slide_type": "fragment"
    }
   },
   "source": [
    "**Klasse und Objekt/Instanz**\n",
    "\n",
    " - Eine **Klasse** ist dabei eine formale Beschreibung der Struktur eines Objekts, also welche Attribute und Methoden es besitzt.\n",
    " - Erst durch die Instanziierung einer Klasse entsteht ein **Objekt**, also eine Instanz dieser Klasse."
   ]
  },
  {
   "cell_type": "markdown",
   "metadata": {
    "slideshow": {
     "slide_type": "subslide"
    }
   },
   "source": [
    "Wir haben bereits **Basisdatentypen** kennengelernt:\n",
    "\n",
    "```python\n",
    "# Instanziierung\n",
    "zahlenListe = [1,3,2]\n",
    "```\n",
    "\n",
    " - Die Begriffe *Attribute* und *Methode* haben wir nicht ohne Grund in diesem Kontext verwendet.\n",
    " - `zahlenListe` ist eine Referenz auf eine Instanz (=Objekt) vom Typ (=Klasse) `list`"
   ]
  },
  {
   "cell_type": "markdown",
   "metadata": {
    "slideshow": {
     "slide_type": "fragment"
    }
   },
   "source": [
    " - Wir haben bereits auf Attribute und Methoden eines Objekts zugegriffen:\n",
    " ```python\n",
    "zahlenListe.sort()\n",
    "```\n",
    " - Über `help(list)` finden wir heraus, welche Attribute und Methoden definiert sind."
   ]
  },
  {
   "cell_type": "code",
   "execution_count": null,
   "metadata": {
    "slideshow": {
     "slide_type": "fragment"
    }
   },
   "outputs": [],
   "source": [
    "zahlenListe = [1,3,2]\n",
    "# Methoden/Attribute: zahlenListe.<TAB>\n",
    "help(list)"
   ]
  },
  {
   "cell_type": "markdown",
   "metadata": {
    "slideshow": {
     "slide_type": "skip"
    }
   },
   "source": [
    "**Analogie zum Backen**\n",
    "\n",
    "|             |                       |      |\n",
    "|-------------|:----------------------|------|\n",
    "|             |&#8594;                |Kuchen|\n",
    "|Kuchenrezept |&#8594; *backen* &#8594; |Kuchen|\n",
    "|             |&#8594;                |Kuchen|\n",
    "||||\n",
    "|             |&#8594;                |Objekt|\n",
    "|Klasse       |&#8594; *instanziieren* &#8594;|Objekt|\n",
    "|             |&#8594;                |Objekt|\n"
   ]
  },
  {
   "cell_type": "markdown",
   "metadata": {
    "slideshow": {
     "slide_type": "slide"
    }
   },
   "source": [
    "**Klasse definieren**\n",
    "\n",
    "Wir benutzen das Schlüsselwort \n",
    "```python \n",
    "class\n",
    "```"
   ]
  },
  {
   "cell_type": "code",
   "execution_count": null,
   "metadata": {
    "slideshow": {
     "slide_type": "fragment"
    }
   },
   "outputs": [],
   "source": [
    "class Klasse:\n",
    "    # hier werden Attribute und Methoden definiert\n",
    "    pass"
   ]
  },
  {
   "cell_type": "markdown",
   "metadata": {
    "slideshow": {
     "slide_type": "fragment"
    }
   },
   "source": [
    "**Objekt erzeugen** (=Klasse instanziieren) \n",
    "\n",
    "Den Klassennamen mit runden Klammern abschließen: \n",
    "\n",
    "```python\n",
    "Klasse()\n",
    "```"
   ]
  },
  {
   "cell_type": "code",
   "execution_count": null,
   "metadata": {
    "slideshow": {
     "slide_type": "fragment"
    }
   },
   "outputs": [],
   "source": [
    "Klasse()"
   ]
  },
  {
   "cell_type": "markdown",
   "metadata": {
    "slideshow": {
     "slide_type": "fragment"
    }
   },
   "source": [
    "`<__main__.Klasse at 0x7fdb514fe310>` \n",
    "\n",
    "\n",
    "Rückgabewert von `Klasse()` sagt aus, dass  eine Instanz der Klasse `Klasse` im Namensraum `__main__`ist und im Speicher unter der Adresse `0x******` zu finden ist."
   ]
  },
  {
   "cell_type": "markdown",
   "metadata": {
    "slideshow": {
     "slide_type": "slide"
    }
   },
   "source": [
    "### Methoden\n",
    "\n",
    "Eine Methode unterscheidet sich nur durch zwei Aspekte von einer normalen Funktion: \n",
    "\n",
    "1. Sie wird innerhalb eines **`class`**--Körpers definiert.\n",
    "2. Sie erhält als ersten Parameter *immer* eine Referenz auf die Instanz, über die sie aufgerufen wird. \n",
    "    ```python\n",
    "    class Klasse():\n",
    "        def method(self, x):\n",
    "            pass\n",
    "    ```\n",
    "\n",
    "   - Dieser erste Parameter *`self`* muss nur bei der Definition explizit hingeschrieben werden und wird beim Aufruf der Methode automatisch mit der entsprechenden Instanz verknüpft. \n",
    "    ```python\n",
    "    k = Klasse()\n",
    "    k.method(5)\n",
    "    ```\n",
    "   - Da sich die Referenz auf das Objekt selbst bezieht, gibt man diesem ersten Parameter den Namen *`self`*. "
   ]
  },
  {
   "cell_type": "markdown",
   "metadata": {
    "slideshow": {
     "slide_type": "skip"
    }
   },
   "source": [
    "Davon abgesehen verhalten sich Methoden wie Funktionen. \n",
    "\n",
    "Methoden... \n",
    " - ...besitzen einen eigenen Namensraum,\n",
    " - ...können auf globale Variablen zugreifen,\n",
    " - ...Können Werte per return an die aufrufende Ebene zurückgeben,\n",
    " - ...Parameterschnittstelle verhält sich nach *`self`* genauso: `methodName(self, ...)`."
   ]
  },
  {
   "cell_type": "markdown",
   "metadata": {
    "slideshow": {
     "slide_type": "slide"
    }
   },
   "source": [
    "**Definition**"
   ]
  },
  {
   "cell_type": "code",
   "execution_count": null,
   "metadata": {
    "slideshow": {
     "slide_type": "fragment"
    }
   },
   "outputs": [],
   "source": [
    "class Klasse:\n",
    "    def methode_1(self):\n",
    "        print(\"Ich bin methode_1\")\n",
    "    def methode_2(self, optionalParameter=666):\n",
    "        print(\"Der (optionale) Parameter lautet:\", optionalParameter)"
   ]
  },
  {
   "cell_type": "markdown",
   "metadata": {
    "slideshow": {
     "slide_type": "fragment"
    }
   },
   "source": [
    "**Aufruf**"
   ]
  },
  {
   "cell_type": "code",
   "execution_count": null,
   "metadata": {
    "slideshow": {
     "slide_type": "fragment"
    }
   },
   "outputs": [],
   "source": [
    "objekt = Klasse() # Instanziierung"
   ]
  },
  {
   "cell_type": "code",
   "execution_count": 8,
   "metadata": {
    "slideshow": {
     "slide_type": "fragment"
    }
   },
   "outputs": [
    {
     "name": "stdout",
     "output_type": "stream",
     "text": [
      "Ich bin methode_1\n",
      "Der (optionale) Parameter lautet: 666\n",
      "Der (optionale) Parameter lautet: 5\n"
     ]
    }
   ],
   "source": [
    "objekt.methode_1() # Methode aufrufen\n",
    "objekt.methode_2() # Methode aufrufen\n",
    "objekt.methode_2(5) # Methode aufrufen"
   ]
  },
  {
   "cell_type": "markdown",
   "metadata": {
    "slideshow": {
     "slide_type": "subslide"
    }
   },
   "source": [
    "Bemerkungen zu *`self`*:\n",
    "\n",
    " - *`self`* ist eine **automatisch** erzeugte Referenz auf die Instanz und kann als solche innerhalb der Methode verwendet werden"
   ]
  },
  {
   "cell_type": "code",
   "execution_count": 11,
   "metadata": {
    "slideshow": {
     "slide_type": "fragment"
    }
   },
   "outputs": [],
   "source": [
    "class Klasse:\n",
    "    def methode_1(self):\n",
    "        print(\"Ich bin methode_1\")\n",
    "        self.methode_2()\n",
    "    def methode_2(self, optionalParameter=666):\n",
    "        print(\"Der (optionale) Parameter lautet:\", optionalParameter)\n",
    "        self.methode_1()"
   ]
  },
  {
   "cell_type": "code",
   "execution_count": 12,
   "metadata": {
    "slideshow": {
     "slide_type": "fragment"
    }
   },
   "outputs": [
    {
     "name": "stdout",
     "output_type": "stream",
     "text": [

     ]
    },
    {
     "ename": "RecursionError",
     "evalue": "maximum recursion depth exceeded while calling a Python object",
     "output_type": "error",
     "traceback": [
      "\u001b[0;31m---------------------------------------------------------------------------\u001b[0m",
      "\u001b[0;31mRecursionError\u001b[0m                            Traceback (most recent call last)",
      "\u001b[0;32m/usr/lib/python3.10/threading.py\u001b[0m in \u001b[0;36m_wait_for_tstate_lock\u001b[0;34m(self, block, timeout)\u001b[0m\n\u001b[1;32m   1115\u001b[0m         \u001b[0;32mtry\u001b[0m\u001b[0;34m:\u001b[0m\u001b[0;34m\u001b[0m\u001b[0;34m\u001b[0m\u001b[0m\n\u001b[0;32m-> 1116\u001b[0;31m             \u001b[0;32mif\u001b[0m \u001b[0mlock\u001b[0m\u001b[0;34m.\u001b[0m\u001b[0macquire\u001b[0m\u001b[0;34m(\u001b[0m\u001b[0mblock\u001b[0m\u001b[0;34m,\u001b[0m \u001b[0mtimeout\u001b[0m\u001b[0;34m)\u001b[0m\u001b[0;34m:\u001b[0m\u001b[0;34m\u001b[0m\u001b[0;34m\u001b[0m\u001b[0m\n\u001b[0m\u001b[1;32m   1117\u001b[0m                 \u001b[0mlock\u001b[0m\u001b[0;34m.\u001b[0m\u001b[0mrelease\u001b[0m\u001b[0;34m(\u001b[0m\u001b[0;34m)\u001b[0m\u001b[0;34m\u001b[0m\u001b[0;34m\u001b[0m\u001b[0m\n",
      "\u001b[0;31mRecursionError\u001b[0m: maximum recursion depth exceeded while calling a Python object",
      "\nDuring handling of the above exception, another exception occurred:\n",
      "\u001b[0;31mRecursionError\u001b[0m                            Traceback (most recent call last)",
      "\u001b[0;32m/tmp/ipykernel_6234/636405936.py\u001b[0m in \u001b[0;36m<module>\u001b[0;34m\u001b[0m\n\u001b[1;32m      1\u001b[0m \u001b[0mobjekt\u001b[0m \u001b[0;34m=\u001b[0m \u001b[0mKlasse\u001b[0m\u001b[0;34m(\u001b[0m\u001b[0;34m)\u001b[0m \u001b[0;31m# Instanziierung\u001b[0m\u001b[0;34m\u001b[0m\u001b[0;34m\u001b[0m\u001b[0m\n\u001b[0;32m----> 2\u001b[0;31m \u001b[0mobjekt\u001b[0m\u001b[0;34m.\u001b[0m\u001b[0mmethode_1\u001b[0m\u001b[0;34m(\u001b[0m\u001b[0;34m)\u001b[0m \u001b[0;31m# Methode aufrufen\u001b[0m\u001b[0;34m\u001b[0m\u001b[0;34m\u001b[0m\u001b[0m\n\u001b[0m",
      "\u001b[0;32m/tmp/ipykernel_6234/1298521129.py\u001b[0m in \u001b[0;36mmethode_1\u001b[0;34m(self)\u001b[0m\n\u001b[1;32m      2\u001b[0m     \u001b[0;32mdef\u001b[0m \u001b[0mmethode_1\u001b[0m\u001b[0;34m(\u001b[0m\u001b[0mself\u001b[0m\u001b[0;34m)\u001b[0m\u001b[0;34m:\u001b[0m\u001b[0;34m\u001b[0m\u001b[0;34m\u001b[0m\u001b[0m\n\u001b[1;32m      3\u001b[0m         \u001b[0mprint\u001b[0m\u001b[0;34m(\u001b[0m\u001b[0;34m\"Ich bin methode_1\"\u001b[0m\u001b[0;34m)\u001b[0m\u001b[0;34m\u001b[0m\u001b[0;34m\u001b[0m\u001b[0m\n\u001b[0;32m----> 4\u001b[0;31m         \u001b[0mself\u001b[0m\u001b[0;34m.\u001b[0m\u001b[0mmethode_2\u001b[0m\u001b[0;34m(\u001b[0m\u001b[0;34m)\u001b[0m\u001b[0;34m\u001b[0m\u001b[0;34m\u001b[0m\u001b[0m\n\u001b[0m\u001b[1;32m      5\u001b[0m     \u001b[0;32mdef\u001b[0m \u001b[0mmethode_2\u001b[0m\u001b[0;34m(\u001b[0m\u001b[0mself\u001b[0m\u001b[0;34m,\u001b[0m \u001b[0moptionalParameter\u001b[0m\u001b[0;34m=\u001b[0m\u001b[0;36m666\u001b[0m\u001b[0;34m)\u001b[0m\u001b[0;34m:\u001b[0m\u001b[0;34m\u001b[0m\u001b[0;34m\u001b[0m\u001b[0m\n\u001b[1;32m      6\u001b[0m         \u001b[0mprint\u001b[0m\u001b[0;34m(\u001b[0m\u001b[0;34m\"Der (optionale) Parameter lautet:\"\u001b[0m\u001b[0;34m,\u001b[0m \u001b[0moptionalParameter\u001b[0m\u001b[0;34m)\u001b[0m\u001b[0;34m\u001b[0m\u001b[0;34m\u001b[0m\u001b[0m\n",
      "\u001b[0;32m/tmp/ipykernel_6234/1298521129.py\u001b[0m in \u001b[0;36mmethode_2\u001b[0;34m(self, optionalParameter)\u001b[0m\n\u001b[1;32m      5\u001b[0m     \u001b[0;32mdef\u001b[0m \u001b[0mmethode_2\u001b[0m\u001b[0;34m(\u001b[0m\u001b[0mself\u001b[0m\u001b[0;34m,\u001b[0m \u001b[0moptionalParameter\u001b[0m\u001b[0;34m=\u001b[0m\u001b[0;36m666\u001b[0m\u001b[0;34m)\u001b[0m\u001b[0;34m:\u001b[0m\u001b[0;34m\u001b[0m\u001b[0;34m\u001b[0m\u001b[0m\n\u001b[1;32m      6\u001b[0m         \u001b[0mprint\u001b[0m\u001b[0;34m(\u001b[0m\u001b[0;34m\"Der (optionale) Parameter lautet:\"\u001b[0m\u001b[0;34m,\u001b[0m \u001b[0moptionalParameter\u001b[0m\u001b[0;34m)\u001b[0m\u001b[0;34m\u001b[0m\u001b[0;34m\u001b[0m\u001b[0m\n\u001b[0;32m----> 7\u001b[0;31m         \u001b[0mself\u001b[0m\u001b[0;34m.\u001b[0m\u001b[0mmethode_1\u001b[0m\u001b[0;34m(\u001b[0m\u001b[0;34m)\u001b[0m\u001b[0;34m\u001b[0m\u001b[0;34m\u001b[0m\u001b[0m\n\u001b[0m",
      "... last 2 frames repeated, from the frame below ...\n",
      "\u001b[0;32m/tmp/ipykernel_6234/1298521129.py\u001b[0m in \u001b[0;36mmethode_1\u001b[0;34m(self)\u001b[0m\n\u001b[1;32m      2\u001b[0m     \u001b[0;32mdef\u001b[0m \u001b[0mmethode_1\u001b[0m\u001b[0;34m(\u001b[0m\u001b[0mself\u001b[0m\u001b[0;34m)\u001b[0m\u001b[0;34m:\u001b[0m\u001b[0;34m\u001b[0m\u001b[0;34m\u001b[0m\u001b[0m\n\u001b[1;32m      3\u001b[0m         \u001b[0mprint\u001b[0m\u001b[0;34m(\u001b[0m\u001b[0;34m\"Ich bin methode_1\"\u001b[0m\u001b[0;34m)\u001b[0m\u001b[0;34m\u001b[0m\u001b[0;34m\u001b[0m\u001b[0m\n\u001b[0;32m----> 4\u001b[0;31m         \u001b[0mself\u001b[0m\u001b[0;34m.\u001b[0m\u001b[0mmethode_2\u001b[0m\u001b[0;34m(\u001b[0m\u001b[0;34m)\u001b[0m\u001b[0;34m\u001b[0m\u001b[0;34m\u001b[0m\u001b[0m\n\u001b[0m\u001b[1;32m      5\u001b[0m     \u001b[0;32mdef\u001b[0m \u001b[0mmethode_2\u001b[0m\u001b[0;34m(\u001b[0m\u001b[0mself\u001b[0m\u001b[0;34m,\u001b[0m \u001b[0moptionalParameter\u001b[0m\u001b[0;34m=\u001b[0m\u001b[0;36m666\u001b[0m\u001b[0;34m)\u001b[0m\u001b[0;34m:\u001b[0m\u001b[0;34m\u001b[0m\u001b[0;34m\u001b[0m\u001b[0m\n\u001b[1;32m      6\u001b[0m         \u001b[0mprint\u001b[0m\u001b[0;34m(\u001b[0m\u001b[0;34m\"Der (optionale) Parameter lautet:\"\u001b[0m\u001b[0;34m,\u001b[0m \u001b[0moptionalParameter\u001b[0m\u001b[0;34m)\u001b[0m\u001b[0;34m\u001b[0m\u001b[0;34m\u001b[0m\u001b[0m\n",
      "\u001b[0;31mRecursionError\u001b[0m: maximum recursion depth exceeded while calling a Python object"
     ]
    }
   ],
   "source": [
    "objekt = Klasse() # Instanziierung\n",
    "objekt.methode_1() # Methode aufrufen"
   ]
  },
  {
   "cell_type": "markdown",
   "metadata": {
    "slideshow": {
     "slide_type": "subslide"
    }
   },
   "source": [
    "### Konstruktor\n",
    "\n",
    "Nun schauen wir uns an, wie wir in den Erzeugungsprozess neuer Objekte eingreifen und dabei zum Beispiel Attribute anlegen können.\n",
    "\n",
    " - Es gibt eine spezielle Methode mit dem Namen `__init__`, die **automatisch** beim Instanziieren eines Objekts aufgerufen wird, um das Objekt in einen gültigen Initialzustand zu versetzen. \n",
    "   - Man nennt diese Methode den **Konstruktor** einer Klasse.\n",
    "\n",
    " - Um den Konstruktor einer Klasse zu konfigurieren, müssen wir also eine Methode mit dem Namen `__init__` definieren.\n",
    "\n",
    "**Bemerkung:** Methoden mit der Namensstruktur `__WORD__` haben eine besondere Bedeutung; siehe später *Magic Functions and Magic Attributes*."
   ]
  },
  {
   "cell_type": "code",
   "execution_count": 15,
   "metadata": {
    "slideshow": {
     "slide_type": "fragment"
    }
   },
   "outputs": [],
   "source": [
    "class Klasse:\n",
    "    def __init__(self):\n",
    "        print(\"Ich bin der Konstruktor!\")"
   ]
  },
  {
   "cell_type": "code",
   "execution_count": 16,
   "metadata": {
    "scrolled": true,
    "slideshow": {
     "slide_type": "fragment"
    }
   },
   "outputs": [
    {
     "name": "stdout",
     "output_type": "stream",
     "text": [
      "Ich bin der Konstruktor!\n"
     ]
    }
   ],
   "source": [
    "objekt = Klasse()"
   ]
  },
  {
   "cell_type": "markdown",
   "metadata": {
    "slideshow": {
     "slide_type": "subslide"
    }
   },
   "source": [
    "**Was passiert?**\n",
    "\n",
    "```python\n",
    "class Klasse:\n",
    "    def __init__(self):\n",
    "        print(\"Ich bin der Konstruktor!\")\n",
    "objekt = Klasse()\n",
    "```\n",
    "\n",
    "&rarr; Bei der Instanziierung, also bei dem Aufruf `Klasse()`, wird die Funktion `__init__` automatisch ausgeführt."
   ]
  },
  {
   "cell_type": "markdown",
   "metadata": {
    "slideshow": {
     "slide_type": "fragment"
    }
   },
   "source": [
    "**Achtung:** Konstruktoren besitzen keinen Rückgabewert, bzw., geben **`None`** zurück!"
   ]
  },
  {
   "cell_type": "code",
   "execution_count": 17,
   "metadata": {
    "slideshow": {
     "slide_type": "fragment"
    }
   },
   "outputs": [],
   "source": [
    "class Klasse():\n",
    "    def __init__(self):\n",
    "        print(\"Ich bin der Konstruktor!\")\n",
    "        return 5"
   ]
  },
  {
   "cell_type": "code",
   "execution_count": 18,
   "metadata": {
    "slideshow": {
     "slide_type": "fragment"
    }
   },
   "outputs": [
    {
     "name": "stdout",
     "output_type": "stream",
     "text": [
      "Ich bin der Konstruktor!\n"
     ]
    },
    {
     "ename": "TypeError",
     "evalue": "__init__() should return None, not 'int'",
     "output_type": "error",
     "traceback": [
      "\u001b[0;31m---------------------------------------------------------------------------\u001b[0m",
      "\u001b[0;31mTypeError\u001b[0m                                 Traceback (most recent call last)",
      "\u001b[0;32m/tmp/ipykernel_6234/3102561470.py\u001b[0m in \u001b[0;36m<module>\u001b[0;34m\u001b[0m\n\u001b[0;32m----> 1\u001b[0;31m \u001b[0mobjekt\u001b[0m \u001b[0;34m=\u001b[0m \u001b[0mKlasse\u001b[0m\u001b[0;34m(\u001b[0m\u001b[0;34m)\u001b[0m\u001b[0;34m\u001b[0m\u001b[0;34m\u001b[0m\u001b[0m\n\u001b[0m",
      "\u001b[0;31mTypeError\u001b[0m: __init__() should return None, not 'int'"
     ]
    }
   ],
   "source": [
    "objekt = Klasse()"
   ]
  },
  {
   "cell_type": "markdown",
   "metadata": {
    "slideshow": {
     "slide_type": "subslide"
    }
   },
   "source": [
    "### Attribute\n",
    "\n",
    "- Da es die Hauptaufgabe eines Konstruktors ist, einen konsistenten Initialzustand der Instanz herzustellen, sollten alle Attribute einer Klasse auch dort definiert werden.\n",
    "\n",
    "- Die Definition neuer Attribute erfolgt durch den Zuweisungsoperator (wie wir es von normalen Variablen schon kennen)."
   ]
  },
  {
   "cell_type": "markdown",
   "metadata": {
    "slideshow": {
     "slide_type": "fragment"
    }
   },
   "source": [
    "**Beispiel 1: Attribute anlegen**"
   ]
  },
  {
   "cell_type": "code",
   "execution_count": 28,
   "metadata": {
    "slideshow": {
     "slide_type": "fragment"
    }
   },
   "outputs": [],
   "source": [
    "class Klasse:\n",
    "    def __init__(self, attributeValue):\n",
    "        self.attributeName = attributeValue"
   ]
  },
  {
   "cell_type": "code",
   "execution_count": 21,
   "metadata": {
    "collapsed": true,
    "slideshow": {
     "slide_type": "fragment"
    }
   },
   "outputs": [
    {
     "name": "stdout",
     "output_type": "stream",
     "text": [
      "Help on class Klasse in module __main__:\n",
      "\n",
      "class Klasse(builtins.object)\n",
      " |  Klasse(attributeValue)\n",
      " |  \n",
      " |  Methods defined here:\n",
      " |  \n",
      " |  __init__(self, attributeValue)\n",
      " |      Initialize self.  See help(type(self)) for accurate signature.\n",
      " |  \n",
      " |  ----------------------------------------------------------------------\n",
      " |  Data descriptors defined here:\n",
      " |  \n",
      " |  __dict__\n",
      " |      dictionary for instance variables (if defined)\n",
      " |  \n",
      " |  __weakref__\n",
      " |      list of weak references to the object (if defined)\n",
      "\n"
     ]
    }
   ],
   "source": [
    "help(Klasse)"
   ]
  },
  {
   "cell_type": "code",
   "execution_count": 29,
   "metadata": {
    "slideshow": {
     "slide_type": "fragment"
    }
   },
   "outputs": [
    {
     "data": {
      "text/plain": [
       "'Initialisierung von attributeName'"
      ]
     },
     "execution_count": 29,
     "metadata": {},
     "output_type": "execute_result"
    }
   ],
   "source": [
    "objekt = Klasse(\"Initialisierung von attributeName\") # Klasse(5)\n",
    "objekt.attributeName"
   ]
  },
  {
   "cell_type": "markdown",
   "metadata": {
    "slideshow": {
     "slide_type": "fragment"
    }
   },
   "source": [
    "Da *`self`* eine Referenz auf die zu erstellende Instanz enthält, können wir über sie die neuen Attribute anlegen, wie das Beispiel oben zeigt."
   ]
  },
  {
   "cell_type": "markdown",
   "metadata": {
    "slideshow": {
     "slide_type": "slide"
    }
   },
   "source": [
    "**Beispiel 2: Attribute in Methoden verwenden**\n",
    "\n",
    " - Wir können über `self.attributeName` in den definierten Methoden arbeiten."
   ]
  },
  {
   "cell_type": "code",
   "execution_count": 33,
   "metadata": {
    "slideshow": {
     "slide_type": "fragment"
    }
   },
   "outputs": [],
   "source": [
    "class Klasse:\n",
    "    \"\"\"\n",
    "    We can add a docstring here to describe our class.\n",
    "    This text is displayed when we call the built-in help()\n",
    "    \"\"\"\n",
    "    def __init__(self, positional, *args, **kwargs):\n",
    "        self.attrPositional = positional\n",
    "        self.attrTuple = args\n",
    "        self.attrDict = kwargs\n",
    "    def method_1(self):\n",
    "        print(\"I am method_1!\")\n",
    "        for element in self.attrTuple:\n",
    "            print(\"\\t Within Loop Body over attrTuple:\", element)\n",
    "        for element in self.attrDict:\n",
    "            print(\"\\t Within Loop Body over attrDict:\", element)"
   ]
  },
  {
   "cell_type": "code",
   "execution_count": 31,
   "metadata": {
    "collapsed": true,
    "slideshow": {
     "slide_type": "fragment"
    }
   },
   "outputs": [
    {
     "name": "stdout",
     "output_type": "stream",
     "text": [
      "Help on class Klasse in module __main__:\n",
      "\n",
      "class Klasse(builtins.object)\n",
      " |  Klasse(positional, *args, **kwargs)\n",
      " |  \n",
      " |  We can add a docstring here to describe our class.\n",
      " |  This text is displayed when we call the built-in help()\n",
      " |  \n",
      " |  Methods defined here:\n",
      " |  \n",
      " |  __init__(self, positional, *args, **kwargs)\n",
      " |      Initialize self.  See help(type(self)) for accurate signature.\n",
      " |  \n",
      " |  method_1(self)\n",
      " |  \n",
      " |  ----------------------------------------------------------------------\n",
      " |  Data descriptors defined here:\n",
      " |  \n",
      " |  __dict__\n",
      " |      dictionary for instance variables (if defined)\n",
      " |  \n",
      " |  __weakref__\n",
      " |      list of weak references to the object (if defined)\n",
      "\n"
     ]
    }
   ],
   "source": [
    "help(Klasse)"
   ]
  },
  {
   "cell_type": "code",
   "execution_count": 32,
   "metadata": {
    "slideshow": {
     "slide_type": "fragment"
    }
   },
   "outputs": [
    {
     "name": "stdout",
     "output_type": "stream",
     "text": [
      "I am method_1!\n",
      "\t Within Loop Body over attrTuple: args1\n",
      "\t Within Loop Body over attrTuple: 2\n",
      "\t Within Loop Body over attrTuple: args3\n",
      "\t Within Loop Body over attrDict: key1\n",
      "\t Within Loop Body over attrDict: key2\n"
     ]
    }
   ],
   "source": [
    "objekt = Klasse(6, \"args1\", 2, \"args3\", key1=\"kwargs1\", key2=2)\n",
    "objekt.method_1()"
   ]
  },
  {
   "cell_type": "code",
   "execution_count": 34,
   "metadata": {
    "slideshow": {
     "slide_type": "fragment"
    }
   },
   "outputs": [
    {
     "name": "stdout",
     "output_type": "stream",
     "text": [
      "\n",
      " Print Attributes:\n",
      " positional: 6\n",
      " args: ('args1', 2, 'args3')\n",
      " kwargs: {'key1': 'kwargs1', 'key2': 2}\n"
     ]
    }
   ],
   "source": [
    "print(\"\\n Print Attributes:\\n positional: {}\\n args: {}\\n kwargs: {}\".format(\n",
    "    objekt.attrPositional, objekt.attrTuple, objekt.attrDict))"
   ]
  },
  {
   "cell_type": "markdown",
   "metadata": {
    "slideshow": {
     "slide_type": "slide"
    }
   },
   "source": [
    "**Attribute manipulieren**\n",
    "\n",
    "Attribute können nach der Instanziierung verändert werden"
   ]
  },
  {
   "cell_type": "code",
   "execution_count": 35,
   "metadata": {
    "slideshow": {
     "slide_type": "fragment"
    }
   },
   "outputs": [
    {
     "name": "stdout",
     "output_type": "stream",
     "text": [
      "6\n",
      "new value\n"
     ]
    }
   ],
   "source": [
    "print(objekt.attrPositional)\n",
    "objekt.attrPositional = \"new value\"\n",
    "print(objekt.attrPositional)"
   ]
  },
  {
   "cell_type": "markdown",
   "metadata": {
    "slideshow": {
     "slide_type": "skip"
    }
   },
   "source": [
    "**Attribute anlegen**\n",
    "\n",
    "Wir können zur Laufzeit Attribute dynamisch hinzufügen. "
   ]
  },
  {
   "cell_type": "code",
   "execution_count": null,
   "metadata": {
    "slideshow": {
     "slide_type": "skip"
    }
   },
   "outputs": [],
   "source": [
    "objekt.newAttribute = 5\n",
    "objekt.newAttribute"
   ]
  },
  {
   "cell_type": "markdown",
   "metadata": {
    "slideshow": {
     "slide_type": "skip"
    }
   },
   "source": [
    "**Bemerkung:** \n",
    "\n",
    "Solche Verhaltensweisen lassen sich bei der Klassendefinition steuern\n",
    " - Die Anzahl an Attribute können wir beschränken\n",
    " - Wir können festlegen, welche Attribute erlaubt sind\n",
    " - ...\n",
    " \n",
    "(behandeln wir in dieser Einführung nicht!)"
   ]
  },
  {
   "cell_type": "markdown",
   "metadata": {
    "slideshow": {
     "slide_type": "skip"
    }
   },
   "source": [
    "## Vererbung\n",
    "\n",
    "Hier nur kurz an einem Beispiel unten demonstriert."
   ]
  },
  {
   "cell_type": "markdown",
   "metadata": {
    "slideshow": {
     "slide_type": "subslide"
    }
   },
   "source": [
    "## Magic Methods and Attributes\n",
    "Es gibt in Python eine Reihe spezieller Methoden und Attribute, um Klassen besondere Fähigkeiten zu verleihen. \n",
    " - Namensstruktur `__WORD__`\n",
    "\n",
    "Der Umgang mit diesen Methoden und Attributen ist insofern ***magisch***, als dass sie in der Regel nicht direkt mit ihrem Namen benutzt, sondern bei Bedarf implizit im Hintergrund verwendet werden. \n",
    " - Beispiel 1: Der Konstruktor `__init__` wird immer dann aufgerufen, wenn ein neues Objekt einer Klasse erzeugt wird."
   ]
  },
  {
   "cell_type": "markdown",
   "metadata": {
    "slideshow": {
     "slide_type": "fragment"
    }
   },
   "source": [
    "Mit vielen Magic Methods lässt sich das **Verhalten von Built-in Functions und Operatoren** für die eigenen Klassen anpassen.\n",
    "  - Beispiel 2: Der Operator `*` ruft beispielsweise die Methode `__mul__` auf. So kann die Operation `string * int` wohldefiniert sein."
   ]
  },
  {
   "cell_type": "markdown",
   "metadata": {
    "slideshow": {
     "slide_type": "subslide"
    }
   },
   "source": [
    "### Ausgewählte Beispiele\n",
    "\n",
    "#### Magic Function  `__str__`\n",
    "\n",
    " - Der Rückgabewert von `obj.__str__` gibt an, was die Built-in Function `str(obj)` zurückgeben soll. Dies sollte nach Möglichkeit eine für den Menschen lesbare Repräsentation von obj in Form einer str-Instanz sein.\n",
    " - Zum Beispiel können wir damit das Verhalten der Funktion `print()` steuern.\n",
    "   - [Aus der Dokumentation](https://docs.python.org/3/library/functions.html#print): *All non-keyword arguments are converted to strings like str() does (...))*"
   ]
  },
  {
   "cell_type": "markdown",
   "metadata": {
    "slideshow": {
     "slide_type": "subslide"
    }
   },
   "source": [
    "**Beispiel** Datentyp für komplexe Zahlen"
   ]
  },
  {
   "cell_type": "markdown",
   "metadata": {
    "slideshow": {
     "slide_type": "fragment"
    }
   },
   "source": [
    "**1. Ohne `__str__`**"
   ]
  },
  {
   "cell_type": "code",
   "execution_count": null,
   "metadata": {
    "slideshow": {
     "slide_type": "fragment"
    }
   },
   "outputs": [],
   "source": [
    "class Complex:\n",
    "    def __init__(self, _realPart, _imagPart):\n",
    "        self.real = _realPart\n",
    "        self.imag = _imagPart"
   ]
  },
  {
   "cell_type": "code",
   "execution_count": null,
   "metadata": {
    "slideshow": {
     "slide_type": "fragment"
    }
   },
   "outputs": [],
   "source": [
    "z1 = Complex(1, 2)\n",
    "print(z1)\n",
    "print(str(z1)) "
   ]
  },
  {
   "cell_type": "markdown",
   "metadata": {
    "slideshow": {
     "slide_type": "slide"
    }
   },
   "source": [
    "**2. Mit `__str__`**"
   ]
  },
  {
   "cell_type": "code",
   "execution_count": null,
   "metadata": {
    "slideshow": {
     "slide_type": "fragment"
    }
   },
   "outputs": [],
   "source": [
    "class Complex:\n",
    "    def __init__(self, _realPart, _imagPart):\n",
    "        self.real = _realPart\n",
    "        self.image = _imagPart\n",
    "    def __str__(self):\n",
    "        return \"{}+j{}\".format(self.real, self.image)"
   ]
  },
  {
   "cell_type": "code",
   "execution_count": null,
   "metadata": {
    "scrolled": true,
    "slideshow": {
     "slide_type": "fragment"
    }
   },
   "outputs": [],
   "source": [
    "z1 = Complex(1, 2)\n",
    "print(z1)\n",
    "print(str(z1))"
   ]
  },
  {
   "cell_type": "markdown",
   "metadata": {
    "slideshow": {
     "slide_type": "skip"
    }
   },
   "source": [
    "Die drei Merkmale einer Instanz: **Typ/Klasse**, **Wert**, **Identität**"
   ]
  },
  {
   "cell_type": "code",
   "execution_count": null,
   "metadata": {
    "slideshow": {
     "slide_type": "skip"
    }
   },
   "outputs": [],
   "source": [
    "type(z1)"
   ]
  },
  {
   "cell_type": "code",
   "execution_count": null,
   "metadata": {
    "slideshow": {
     "slide_type": "skip"
    }
   },
   "outputs": [],
   "source": [
    "print(z1)"
   ]
  },
  {
   "cell_type": "code",
   "execution_count": null,
   "metadata": {
    "slideshow": {
     "slide_type": "skip"
    }
   },
   "outputs": [],
   "source": [
    "id(z1)"
   ]
  },
  {
   "cell_type": "markdown",
   "metadata": {
    "slideshow": {
     "slide_type": "skip"
    }
   },
   "source": [
    "#### Magic Attribute  `__dict__`"
   ]
  },
  {
   "cell_type": "markdown",
   "metadata": {
    "slideshow": {
     "slide_type": "skip"
    }
   },
   "source": [
    "Jede Instanz besitzt ein Attribut namens `__dict__`, das die Attribute der Instanz in\n",
    "einem Dictionary speichert."
   ]
  },
  {
   "cell_type": "code",
   "execution_count": null,
   "metadata": {
    "slideshow": {
     "slide_type": "skip"
    }
   },
   "outputs": [],
   "source": [
    "class Klasse:\n",
    "    def __init__(self, _attributeValue):\n",
    "        self.attributeName_1 = _attributeValue\n",
    "        self.attributeName_2 = \"value of attribute with name <attributeName_2>\""
   ]
  },
  {
   "cell_type": "code",
   "execution_count": null,
   "metadata": {
    "slideshow": {
     "slide_type": "skip"
    }
   },
   "outputs": [],
   "source": [
    "objekt = Klasse(\"hallo\")\n",
    "objekt.__dict__"
   ]
  },
  {
   "cell_type": "markdown",
   "metadata": {
    "slideshow": {
     "slide_type": "skip"
    }
   },
   "source": [
    "#### Magic Function `__setattr__`"
   ]
  },
  {
   "cell_type": "markdown",
   "metadata": {
    "slideshow": {
     "slide_type": "skip"
    }
   },
   "source": [
    " - Die Methode `__setattr__` wird immer dann aufgerufen, wenn der Wert eines Attributs per Zuweisung geändert oder in neues Attribut erzeugt wird.\n",
    " - Mit `__setattr__` lässt sich zum Beispiel festlegen, welche Attribute eine Instanz überhaupt haben darf, indem alle anderen Werte einfach ignoriert oder mit Fehlerausgaben quittiert werden."
   ]
  },
  {
   "cell_type": "code",
   "execution_count": null,
   "metadata": {
    "slideshow": {
     "slide_type": "skip"
    }
   },
   "outputs": [],
   "source": [
    "class Klasse():\n",
    "    def __init__(self, _attributeValue):\n",
    "        self.attributeName = _attributeValue\n",
    "    def __setattr__(self, _name, _value):   \n",
    "        if _name in [\"attributeName\"]:\n",
    "            print(\"valid attribute name \\\"{}\\\" (its value is {})  \".format(_name, _value))\n",
    "            self.__dict__[_name] = _value  \n",
    "        else:\n",
    "            raise AttributeError(\"{} is not a valid attribute name!\".format(_name))"
   ]
  },
  {
   "cell_type": "code",
   "execution_count": null,
   "metadata": {
    "slideshow": {
     "slide_type": "skip"
    }
   },
   "outputs": [],
   "source": [
    "objekt = Klasse(5)\n",
    "objekt.attributeName = 10"
   ]
  },
  {
   "cell_type": "code",
   "execution_count": null,
   "metadata": {
    "slideshow": {
     "slide_type": "skip"
    }
   },
   "outputs": [],
   "source": [
    "# should raise exception\n",
    "objekt.Hans = 5"
   ]
  },
  {
   "cell_type": "markdown",
   "metadata": {
    "slideshow": {
     "slide_type": "slide"
    }
   },
   "source": [
    "### Operatoren überladen (*Operator Overloading*)\n",
    "\n",
    " - arithmetische Operatoren: `+, *, -, ...`\n",
    " - Vergleichsoperatoren: `<, >, <=, =>, ...`\n",
    " - ..."
   ]
  },
  {
   "cell_type": "markdown",
   "metadata": {
    "slideshow": {
     "slide_type": "slide"
    }
   },
   "source": [
    "**Beispiel:** `+`"
   ]
  },
  {
   "cell_type": "code",
   "execution_count": 36,
   "metadata": {
    "slideshow": {
     "slide_type": "fragment"
    }
   },
   "outputs": [],
   "source": [
    "# Erzeugung zweier Instanzen (Objekt) des Basisdatentyps (Klasse) int\n",
    "a = 5\n",
    "b = 10"
   ]
  },
  {
   "cell_type": "code",
   "execution_count": 37,
   "metadata": {
    "slideshow": {
     "slide_type": "fragment"
    }
   },
   "outputs": [
    {
     "data": {
      "text/plain": [
       "15"
      ]
     },
     "execution_count": 37,
     "metadata": {},
     "output_type": "execute_result"
    }
   ],
   "source": [
    "# Operator anwenden\n",
    "a + b"
   ]
  },
  {
   "cell_type": "code",
   "execution_count": 38,
   "metadata": {
    "slideshow": {
     "slide_type": "fragment"
    }
   },
   "outputs": [
    {
     "data": {
      "text/plain": [
       "'Hallo Welt!'"
      ]
     },
     "execution_count": 38,
     "metadata": {},
     "output_type": "execute_result"
    }
   ],
   "source": [
    "# Erzeugung zweier Instanzen (Objekte) des Basisdatentyps (Klasse) str\n",
    "a = \"Hallo\"\n",
    "b = \" Welt!\"\n",
    "# Operator anwenden\n",
    "a + b"
   ]
  },
  {
   "cell_type": "markdown",
   "metadata": {
    "slideshow": {
     "slide_type": "subslide"
    }
   },
   "source": [
    "Was passiert genau?\n",
    " - Bei der Instanziierung haben wir zwei Objekte der Klasse `int` (bzw. `str`) erzeugt\n",
    " - Die Klassen `int` und `str` definieren einen Satz von Methoden; siehe `help(int)` oder `help(str)`\n",
    " - Unter anderem die *Magic Method* `__add__`  \n"
   ]
  },
  {
   "cell_type": "code",
   "execution_count": 41,
   "metadata": {},
   "outputs": [
    {
     "data": {
      "text/plain": [
       "('Hallo Welt!', 'Hallo Welt!')"
      ]
     },
     "execution_count": 41,
     "metadata": {},
     "output_type": "execute_result"
    }
   ],
   "source": [
    "a.__add__(b), a + b"
   ]
  },
  {
   "cell_type": "markdown",
   "metadata": {
    "slideshow": {
     "slide_type": "fragment"
    }
   },
   "source": [
    " - Bei `a + b` wird tatsächlich genau diese Methode aufgerufen: `a.__add__(b)`\n",
    " - Die Schreibweise `a + b` mit dem `+`-Operator ist letztlich nur \"syntaktischer Zucker\" für `a.__add__(b)`\n",
    " - Da die Methode `__add__` für beide Datentypen definiert ist, wird kein Fehler ausgeworfen\n"
   ]
  },
  {
   "cell_type": "markdown",
   "metadata": {
    "slideshow": {
     "slide_type": "fragment"
    }
   },
   "source": [
    "**Wer merken uns:**\n",
    "\n",
    " - Ein Operator sucht nach einer bestimmten magischen Methode. \n",
    "   - Ist diese vorhanden, wird sie ausgeführt. \n",
    "   - Falls nicht, ergibt das (ggf.) einen Fehler.\n",
    " - Wir können demnach die entsprechende *Magic Method* selbst für unsere Klasse implementieren und das Verhalten des entsprechenden Operators für unsere Klasse anpassen; man sagt den *Operator überladen*.\n"
   ]
  },
  {
   "cell_type": "markdown",
   "metadata": {
    "slideshow": {
     "slide_type": "subslide"
    }
   },
   "source": [
    " - Dazu müssen wir die Methodennamen für die entsprechenden Operatoren kennen; hier ein paar Beispiele:\n",
    " \n",
    " |Operator| *Magic Method*\n",
    " |:-|:-|\n",
    " |+|`__add__`, `__radd__`|\n",
    " |-|`__sub__`, `__rsub__`|\n",
    " |*|`__mul__`, `__rmul__`|\n",
    " |@|`__matmul__`|\n",
    " |<=|`__le__`|"
   ]
  },
  {
   "cell_type": "markdown",
   "metadata": {
    "slideshow": {
     "slide_type": "slide"
    }
   },
   "source": [
    "#### Beispiel:  Datentyp für komplexe Zahlen"
   ]
  },
  {
   "cell_type": "code",
   "execution_count": null,
   "metadata": {
    "slideshow": {
     "slide_type": "fragment"
    }
   },
   "outputs": [],
   "source": [
    "class Complex:\n",
    "    def __init__(self, realPart, imagPart):\n",
    "        self.real = realPart\n",
    "        self.imag = imagPart\n",
    "    def __str__(self):\n",
    "        return \"{}+j{}\".format(self.real, self.imag) \n",
    "    def __add__(self, otherComplex):\n",
    "        realSum = self.real + otherComplex.real\n",
    "        imagSum = self.imag + otherComplex.imag\n",
    "        return Complex(realSum, imagSum)"
   ]
  },
  {
   "cell_type": "code",
   "execution_count": null,
   "metadata": {
    "slideshow": {
     "slide_type": "fragment"
    }
   },
   "outputs": [],
   "source": [
    "z1 = Complex(1, 2)\n",
    "z2 = Complex(-1, 1)\n",
    "z3 = z1 + z2\n",
    "print(\"z3 =\", z3)"
   ]
  },
  {
   "cell_type": "markdown",
   "metadata": {
    "slideshow": {
     "slide_type": "skip"
    }
   },
   "source": [
    "Wir sehen auch: Die neue Instanz `z3` ist wiederum ein gültiges Objekt der Klasse `Complex` und besitzt daher auch die entsprechenden Attribute"
   ]
  },
  {
   "cell_type": "code",
   "execution_count": null,
   "metadata": {
    "slideshow": {
     "slide_type": "skip"
    }
   },
   "outputs": [],
   "source": [
    "# the new instance, generated as a sum, is a\n",
    "z3.imag, z3.real"
   ]
  },
  {
   "cell_type": "markdown",
   "metadata": {
    "slideshow": {
     "slide_type": "skip"
    }
   },
   "source": [
    "Zudem können wir auf eine Complex-Instanz auch Instanzen anderer Klassen (zB. `int`, `float`) addieren, sofern diese die Attribute `real` und `imag` implementieren:"
   ]
  },
  {
   "cell_type": "code",
   "execution_count": null,
   "metadata": {
    "slideshow": {
     "slide_type": "skip"
    }
   },
   "outputs": [],
   "source": [
    "n = 1 # int\n",
    "z = Complex(0,1)\n",
    "print(z + n)"
   ]
  },
  {
   "cell_type": "markdown",
   "metadata": {
    "slideshow": {
     "slide_type": "subslide"
    }
   },
   "source": [
    "#### Beispiel: Kommutativität\n",
    "\n",
    " - Bemerkung: Bei der Operation `a + b` wird geschaut, ob das **linke** Objekt `a` die Methode `__add__` implementiert hat\n",
    " - Falls `__add__` links nicht vorhanden ist (oder vorhanden, aber nicht definiert ist für die Operanden-Klassen), dann wird beim **rechten** Objekt nach `__radd__` geschaut\n"
   ]
  },
  {
   "cell_type": "code",
   "execution_count": 42,
   "metadata": {
    "slideshow": {
     "slide_type": "fragment"
    }
   },
   "outputs": [],
   "source": [
    "class aClass:\n",
    "    def __add__(self, rightOperand):\n",
    "        print(\"Hi, I am __add__ from a\")\n",
    "class bClass:\n",
    "    pass"
   ]
  },
  {
   "cell_type": "code",
   "execution_count": 43,
   "metadata": {
    "slideshow": {
     "slide_type": "fragment"
    }
   },
   "outputs": [
    {
     "name": "stdout",
     "output_type": "stream",
     "text": [
      "Hi, I am __add__ from a\n",
      "Hi, I am __add__ from a\n"
     ]
    },
    {
     "data": {
      "text/plain": [
       "(None, None)"
      ]
     },
     "execution_count": 43,
     "metadata": {},
     "output_type": "execute_result"
    }
   ],
   "source": [
    "aObj = aClass()\n",
    "bObj = bClass()\n",
    "aObj + bObj, aObj.__add__(bObj)"
   ]
  },
  {
   "cell_type": "code",
   "execution_count": 45,
   "metadata": {
    "scrolled": true,
    "slideshow": {
     "slide_type": "fragment"
    }
   },
   "outputs": [
    {
     "ename": "TypeError",
     "evalue": "unsupported operand type(s) for +: 'bClass' and 'aClass'",
     "output_type": "error",
     "traceback": [
      "\u001b[0;31m---------------------------------------------------------------------------\u001b[0m",
      "\u001b[0;31mTypeError\u001b[0m                                 Traceback (most recent call last)",
      "\u001b[0;32m/tmp/ipykernel_6234/1626765637.py\u001b[0m in \u001b[0;36m<module>\u001b[0;34m\u001b[0m\n\u001b[1;32m      1\u001b[0m \u001b[0;31m# reverse order\u001b[0m\u001b[0;34m\u001b[0m\u001b[0;34m\u001b[0m\u001b[0m\n\u001b[0;32m----> 2\u001b[0;31m \u001b[0mbObj\u001b[0m \u001b[0;34m+\u001b[0m \u001b[0maObj\u001b[0m\u001b[0;34m\u001b[0m\u001b[0;34m\u001b[0m\u001b[0m\n\u001b[0m",
      "\u001b[0;31mTypeError\u001b[0m: unsupported operand type(s) for +: 'bClass' and 'aClass'"
     ]
    }
   ],
   "source": [
    "# reverse order\n",
    "bObj + aObj"
   ]
  },
  {
   "cell_type": "markdown",
   "metadata": {
    "slideshow": {
     "slide_type": "subslide"
    }
   },
   "source": [
    "Nun implementieren wir zusätzlich noch `__radd__` in `aClass`"
   ]
  },
  {
   "cell_type": "code",
   "execution_count": 48,
   "metadata": {
    "slideshow": {
     "slide_type": "fragment"
    }
   },
   "outputs": [],
   "source": [
    "class aClass:\n",
    "    def __add__(self, rightOperand):\n",
    "        print(\"Hi, I am __add__ from a\")\n",
    "    def __radd__(self, leftOperand):\n",
    "        print(\"Hi, I am __radd__ from a\")\n",
    "class bClass:\n",
    "    pass"
   ]
  },
  {
   "cell_type": "code",
   "execution_count": 49,
   "metadata": {
    "slideshow": {
     "slide_type": "fragment"
    }
   },
   "outputs": [
    {
     "name": "stdout",
     "output_type": "stream",
     "text": [
      "Hi, I am __add__ from a\n"
     ]
    }
   ],
   "source": [
    "aObj = aClass()\n",
    "bObj = bClass()\n",
    "aObj + bObj"
   ]
  },
  {
   "cell_type": "code",
   "execution_count": 50,
   "metadata": {
    "slideshow": {
     "slide_type": "fragment"
    }
   },
   "outputs": [
    {
     "name": "stdout",
     "output_type": "stream",
     "text": [
      "Hi, I am __radd__ from a\n"
     ]
    }
   ],
   "source": [
    "# reverse order\n",
    "bObj + aObj"
   ]
  },
  {
   "cell_type": "markdown",
   "metadata": {
    "slideshow": {
     "slide_type": "subslide"
    }
   },
   "source": [
    "Nun implementieren wir zusätzlich `__add__` in `bClass`"
   ]
  },
  {
   "cell_type": "code",
   "execution_count": 56,
   "metadata": {
    "slideshow": {
     "slide_type": "fragment"
    }
   },
   "outputs": [],
   "source": [
    "class aClass:\n",
    "    def __add__(self, rightOperand):\n",
    "        print(\"Hi, I am __add__ from a\")\n",
    "    def __radd__(self, leftOperand):\n",
    "        print(\"Hi, I am __radd__ from a\")\n",
    "class bClass:\n",
    "    def __add__(self, rightOperand):\n",
    "        print(\"Hi, I am __add__ from b\")"
   ]
  },
  {
   "cell_type": "code",
   "execution_count": 54,
   "metadata": {
    "scrolled": true,
    "slideshow": {
     "slide_type": "fragment"
    }
   },
   "outputs": [
    {
     "name": "stdout",
     "output_type": "stream",
     "text": [
      "Hi, I am __add__ from a\n"
     ]
    }
   ],
   "source": [
    "aObj = aClass()\n",
    "bObj = bClass()\n",
    "aObj + bObj"
   ]
  },
  {
   "cell_type": "code",
   "execution_count": 57,
   "metadata": {
    "slideshow": {
     "slide_type": "fragment"
    }
   },
   "outputs": [
    {
     "name": "stdout",
     "output_type": "stream",
     "text": [
      "Hi, I am __add__ from b\n"
     ]
    }
   ],
   "source": [
    "# reverse order\n",
    "bObj + aObj"
   ]
  },
  {
   "cell_type": "markdown",
   "metadata": {
    "slideshow": {
     "slide_type": "subslide"
    }
   },
   "source": [
    "#### Beispiel: Vererbung und Multiplikation von Strings"
   ]
  },
  {
   "cell_type": "code",
   "execution_count": 58,
   "metadata": {
    "collapsed": true,
    "slideshow": {
     "slide_type": "fragment"
    }
   },
   "outputs": [
    {
     "ename": "TypeError",
     "evalue": "can't multiply sequence by non-int of type 'str'",
     "output_type": "error",
     "traceback": [
      "\u001b[0;31m---------------------------------------------------------------------------\u001b[0m",
      "\u001b[0;31mTypeError\u001b[0m                                 Traceback (most recent call last)",
      "\u001b[0;32m/tmp/ipykernel_6234/3934112872.py\u001b[0m in \u001b[0;36m<module>\u001b[0;34m\u001b[0m\n\u001b[1;32m      1\u001b[0m \u001b[0;31m# Operator * not defined for string\u001b[0m\u001b[0;34m\u001b[0m\u001b[0;34m\u001b[0m\u001b[0m\n\u001b[0;32m----> 2\u001b[0;31m \u001b[0ma\u001b[0m \u001b[0;34m*\u001b[0m \u001b[0mb\u001b[0m\u001b[0;34m\u001b[0m\u001b[0;34m\u001b[0m\u001b[0m\n\u001b[0m",
      "\u001b[0;31mTypeError\u001b[0m: can't multiply sequence by non-int of type 'str'"
     ]
    }
   ],
   "source": [
    "# Operator * not defined for string\n",
    "a * b"
   ]
  },
  {
   "cell_type": "code",
   "execution_count": 64,
   "metadata": {
    "slideshow": {
     "slide_type": "fragment"
    }
   },
   "outputs": [],
   "source": [
    "# we could define our own string class by extending str with a method __mul__\n",
    "# class inheritance:\n",
    "class newStr(str):\n",
    "    def __mul__(self, b):\n",
    "        return \"(mul is add) \" + self + b"
   ]
  },
  {
   "cell_type": "code",
   "execution_count": 61,
   "metadata": {
    "collapsed": true,
    "slideshow": {
     "slide_type": "fragment"
    }
   },
   "outputs": [
    {
     "name": "stdout",
     "output_type": "stream",
     "text": [
     ]
    }
   ],
   "source": [
    "# compare docs\n",
    "help(str)"
   ]
  },
  {
   "cell_type": "code",
   "execution_count": 62,
   "metadata": {
    "collapsed": true,
    "slideshow": {
     "slide_type": "fragment"
    }
   },
   "outputs": [
    {
     "name": "stdout",
     "output_type": "stream",
     "text": [
      "Help on class newStr in module __main__:\n",
      "\n",
      "class newStr(builtins.str)\n",
      " |  Method resolution order:\n",
      " |      newStr\n",
      " |      builtins.str\n",
      " |      builtins.object\n",
      " |  \n",
      " |  Methods defined here:\n",
      " |  \n",
      " |  __mul__(self, b)\n",
      " |      Return self*value.\n",
      " |  \n",
      " |  ----------------------------------------------------------------------\n",
      " |  Data descriptors defined here:\n",
      " |  \n",
      " |  __dict__\n",
      " |      dictionary for instance variables (if defined)\n",
      " |  \n",
      " |  __weakref__\n",
      " |      list of weak references to the object (if defined)\n",
      " |  \n",
      " |  ----------------------------------------------------------------------\n",
      " |  Methods inherited from builtins.str:\n",
      " |  \n",
      " |  __add__(self, value, /)\n",
      " |      Return self+value.\n",
      " |  \n",
      " |  __contains__(self, key, /)\n",
      " |      Return key in self.\n",
      " |  \n",
      " |  __eq__(self, value, /)\n",
      " |      Return self==value.\n",
      " |  \n",
      " |  __format__(self, format_spec, /)\n",
      " |      Return a formatted version of the string as described by format_spec.\n",
      " |  \n",
      " |  __ge__(self, value, /)\n",
      " |      Return self>=value.\n",
      " |  \n",
      " |  __getattribute__(self, name, /)\n",
      " |      Return getattr(self, name).\n",
      " |  \n",
      " |  __getitem__(self, key, /)\n",
      " |      Return self[key].\n",
      " |  \n",
      " |  __getnewargs__(...)\n",
      " |  \n",
      " |  __gt__(self, value, /)\n",
      " |      Return self>value.\n",
      " |  \n",
      " |  __hash__(self, /)\n",
      " |      Return hash(self).\n",
      " |  \n",
      " |  __iter__(self, /)\n",
      " |      Implement iter(self).\n",
      " |  \n",
      " |  __le__(self, value, /)\n",
      " |      Return self<=value.\n",
      " |  \n",
      " |  __len__(self, /)\n",
      " |      Return len(self).\n",
      " |  \n",
      " |  __lt__(self, value, /)\n",
      " |      Return self<value.\n",
      " |  \n",
      " |  __mod__(self, value, /)\n",
      " |      Return self%value.\n",
      " |  \n",
      " |  __ne__(self, value, /)\n",
      " |      Return self!=value.\n",
      " |  \n",
      " |  __repr__(self, /)\n",
      " |      Return repr(self).\n",
      " |  \n",
      " |  __rmod__(self, value, /)\n",
      " |      Return value%self.\n",
      " |  \n",
      " |  __rmul__(self, value, /)\n",
      " |      Return value*self.\n",
      " |  \n",
      " |  __sizeof__(self, /)\n",
      " |      Return the size of the string in memory, in bytes.\n",
      " |  \n",
      " |  __str__(self, /)\n",
      " |      Return str(self).\n",
      " |  \n",
      " |  capitalize(self, /)\n",
      " |      Return a capitalized version of the string.\n",
      " |      \n",
      " |      More specifically, make the first character have upper case and the rest lower\n",
      " |      case.\n",
      " |  \n",
      " |  casefold(self, /)\n",
      " |      Return a version of the string suitable for caseless comparisons.\n",
      " |  \n",
      " |  center(self, width, fillchar=' ', /)\n",
      " |      Return a centered string of length width.\n",
      " |      \n",
      " |      Padding is done using the specified fill character (default is a space).\n",
      " |  \n",
      " |  count(...)\n",
      " |      S.count(sub[, start[, end]]) -> int\n",
      " |      \n",
      " |      Return the number of non-overlapping occurrences of substring sub in\n",
      " |      string S[start:end].  Optional arguments start and end are\n",
      " |      interpreted as in slice notation.\n",
      " |  \n",
      " |  encode(self, /, encoding='utf-8', errors='strict')\n",
      " |      Encode the string using the codec registered for encoding.\n",
      " |      \n",
      " |      encoding\n",
      " |        The encoding in which to encode the string.\n",
      " |      errors\n",
      " |        The error handling scheme to use for encoding errors.\n",
      " |        The default is 'strict' meaning that encoding errors raise a\n",
      " |        UnicodeEncodeError.  Other possible values are 'ignore', 'replace' and\n",
      " |        'xmlcharrefreplace' as well as any other name registered with\n",
      " |        codecs.register_error that can handle UnicodeEncodeErrors.\n",
      " |  \n",
      " |  endswith(...)\n",
      " |      S.endswith(suffix[, start[, end]]) -> bool\n",
      " |      \n",
      " |      Return True if S ends with the specified suffix, False otherwise.\n",
      " |      With optional start, test S beginning at that position.\n",
      " |      With optional end, stop comparing S at that position.\n",
      " |      suffix can also be a tuple of strings to try.\n",
      " |  \n",
      " |  expandtabs(self, /, tabsize=8)\n",
      " |      Return a copy where all tab characters are expanded using spaces.\n",
      " |      \n",
      " |      If tabsize is not given, a tab size of 8 characters is assumed.\n",
      " |  \n",
      " |  find(...)\n",
      " |      S.find(sub[, start[, end]]) -> int\n",
      " |      \n",
      " |      Return the lowest index in S where substring sub is found,\n",
      " |      such that sub is contained within S[start:end].  Optional\n",
      " |      arguments start and end are interpreted as in slice notation.\n",
      " |      \n",
      " |      Return -1 on failure.\n",
      " |  \n",
      " |  format(...)\n",
      " |      S.format(*args, **kwargs) -> str\n",
      " |      \n",
      " |      Return a formatted version of S, using substitutions from args and kwargs.\n",
      " |      The substitutions are identified by braces ('{' and '}').\n",
      " |  \n",
      " |  format_map(...)\n",
      " |      S.format_map(mapping) -> str\n",
      " |      \n",
      " |      Return a formatted version of S, using substitutions from mapping.\n",
      " |      The substitutions are identified by braces ('{' and '}').\n",
      " |  \n",
      " |  index(...)\n",
      " |      S.index(sub[, start[, end]]) -> int\n",
      " |      \n",
      " |      Return the lowest index in S where substring sub is found,\n",
      " |      such that sub is contained within S[start:end].  Optional\n",
      " |      arguments start and end are interpreted as in slice notation.\n",
      " |      \n",
      " |      Raises ValueError when the substring is not found.\n",
      " |  \n",
      " |  isalnum(self, /)\n",
      " |      Return True if the string is an alpha-numeric string, False otherwise.\n",
      " |      \n",
      " |      A string is alpha-numeric if all characters in the string are alpha-numeric and\n",
      " |      there is at least one character in the string.\n",
      " |  \n",
      " |  isalpha(self, /)\n",
      " |      Return True if the string is an alphabetic string, False otherwise.\n",
      " |      \n",
      " |      A string is alphabetic if all characters in the string are alphabetic and there\n",
      " |      is at least one character in the string.\n",
      " |  \n",
      " |  isascii(self, /)\n",
      " |      Return True if all characters in the string are ASCII, False otherwise.\n",
      " |      \n",
      " |      ASCII characters have code points in the range U+0000-U+007F.\n",
      " |      Empty string is ASCII too.\n",
      " |  \n",
      " |  isdecimal(self, /)\n",
      " |      Return True if the string is a decimal string, False otherwise.\n",
      " |      \n",
      " |      A string is a decimal string if all characters in the string are decimal and\n",
      " |      there is at least one character in the string.\n",
      " |  \n",
      " |  isdigit(self, /)\n",
      " |      Return True if the string is a digit string, False otherwise.\n",
      " |      \n",
      " |      A string is a digit string if all characters in the string are digits and there\n",
      " |      is at least one character in the string.\n",
      " |  \n",
      " |  isidentifier(self, /)\n",
      " |      Return True if the string is a valid Python identifier, False otherwise.\n",
      " |      \n",
      " |      Call keyword.iskeyword(s) to test whether string s is a reserved identifier,\n",
      " |      such as \"def\" or \"class\".\n",
      " |  \n",
      " |  islower(self, /)\n",
      " |      Return True if the string is a lowercase string, False otherwise.\n",
      " |      \n",
      " |      A string is lowercase if all cased characters in the string are lowercase and\n",
      " |      there is at least one cased character in the string.\n",
      " |  \n",
      " |  isnumeric(self, /)\n",
      " |      Return True if the string is a numeric string, False otherwise.\n",
      " |      \n",
      " |      A string is numeric if all characters in the string are numeric and there is at\n",
      " |      least one character in the string.\n",
      " |  \n",
      " |  isprintable(self, /)\n",
      " |      Return True if the string is printable, False otherwise.\n",
      " |      \n",
      " |      A string is printable if all of its characters are considered printable in\n",
      " |      repr() or if it is empty.\n",
      " |  \n",
      " |  isspace(self, /)\n",
      " |      Return True if the string is a whitespace string, False otherwise.\n",
      " |      \n",
      " |      A string is whitespace if all characters in the string are whitespace and there\n",
      " |      is at least one character in the string.\n",
      " |  \n",
      " |  istitle(self, /)\n",
      " |      Return True if the string is a title-cased string, False otherwise.\n",
      " |      \n",
      " |      In a title-cased string, upper- and title-case characters may only\n",
      " |      follow uncased characters and lowercase characters only cased ones.\n",
      " |  \n",
      " |  isupper(self, /)\n",
      " |      Return True if the string is an uppercase string, False otherwise.\n",
      " |      \n",
      " |      A string is uppercase if all cased characters in the string are uppercase and\n",
      " |      there is at least one cased character in the string.\n",
      " |  \n",
      " |  join(self, iterable, /)\n",
      " |      Concatenate any number of strings.\n",
      " |      \n",
      " |      The string whose method is called is inserted in between each given string.\n",
      " |      The result is returned as a new string.\n",
      " |      \n",
      " |      Example: '.'.join(['ab', 'pq', 'rs']) -> 'ab.pq.rs'\n",
      " |  \n",
      " |  ljust(self, width, fillchar=' ', /)\n",
      " |      Return a left-justified string of length width.\n",
      " |      \n",
      " |      Padding is done using the specified fill character (default is a space).\n",
      " |  \n",
      " |  lower(self, /)\n",
      " |      Return a copy of the string converted to lowercase.\n",
      " |  \n",
      " |  lstrip(self, chars=None, /)\n",
      " |      Return a copy of the string with leading whitespace removed.\n",
      " |      \n",
      " |      If chars is given and not None, remove characters in chars instead.\n",
      " |  \n",
      " |  partition(self, sep, /)\n",
      " |      Partition the string into three parts using the given separator.\n",
      " |      \n",
      " |      This will search for the separator in the string.  If the separator is found,\n",
      " |      returns a 3-tuple containing the part before the separator, the separator\n",
      " |      itself, and the part after it.\n",
      " |      \n",
      " |      If the separator is not found, returns a 3-tuple containing the original string\n",
      " |      and two empty strings.\n",
      " |  \n",
      " |  removeprefix(self, prefix, /)\n",
      " |      Return a str with the given prefix string removed if present.\n",
      " |      \n",
      " |      If the string starts with the prefix string, return string[len(prefix):].\n",
      " |      Otherwise, return a copy of the original string.\n",
      " |  \n",
      " |  removesuffix(self, suffix, /)\n",
      " |      Return a str with the given suffix string removed if present.\n",
      " |      \n",
      " |      If the string ends with the suffix string and that suffix is not empty,\n",
      " |      return string[:-len(suffix)]. Otherwise, return a copy of the original\n",
      " |      string.\n",
      " |  \n",
      " |  replace(self, old, new, count=-1, /)\n",
      " |      Return a copy with all occurrences of substring old replaced by new.\n",
      " |      \n",
      " |        count\n",
      " |          Maximum number of occurrences to replace.\n",
      " |          -1 (the default value) means replace all occurrences.\n",
      " |      \n",
      " |      If the optional argument count is given, only the first count occurrences are\n",
      " |      replaced.\n",
      " |  \n",
      " |  rfind(...)\n",
      " |      S.rfind(sub[, start[, end]]) -> int\n",
      " |      \n",
      " |      Return the highest index in S where substring sub is found,\n",
      " |      such that sub is contained within S[start:end].  Optional\n",
      " |      arguments start and end are interpreted as in slice notation.\n",
      " |      \n",
      " |      Return -1 on failure.\n",
      " |  \n",
      " |  rindex(...)\n",
      " |      S.rindex(sub[, start[, end]]) -> int\n",
      " |      \n",
      " |      Return the highest index in S where substring sub is found,\n",
      " |      such that sub is contained within S[start:end].  Optional\n",
      " |      arguments start and end are interpreted as in slice notation.\n",
      " |      \n",
      " |      Raises ValueError when the substring is not found.\n",
      " |  \n",
      " |  rjust(self, width, fillchar=' ', /)\n",
      " |      Return a right-justified string of length width.\n",
      " |      \n",
      " |      Padding is done using the specified fill character (default is a space).\n",
      " |  \n",
      " |  rpartition(self, sep, /)\n",
      " |      Partition the string into three parts using the given separator.\n",
      " |      \n",
      " |      This will search for the separator in the string, starting at the end. If\n",
      " |      the separator is found, returns a 3-tuple containing the part before the\n",
      " |      separator, the separator itself, and the part after it.\n",
      " |      \n",
      " |      If the separator is not found, returns a 3-tuple containing two empty strings\n",
      " |      and the original string.\n",
      " |  \n",
      " |  rsplit(self, /, sep=None, maxsplit=-1)\n",
      " |      Return a list of the substrings in the string, using sep as the separator string.\n",
      " |      \n",
      " |        sep\n",
      " |          The separator used to split the string.\n",
      " |      \n",
      " |          When set to None (the default value), will split on any whitespace\n",
      " |          character (including \\\\n \\\\r \\\\t \\\\f and spaces) and will discard\n",
      " |          empty strings from the result.\n",
      " |        maxsplit\n",
      " |          Maximum number of splits (starting from the left).\n",
      " |          -1 (the default value) means no limit.\n",
      " |      \n",
      " |      Splitting starts at the end of the string and works to the front.\n",
      " |  \n",
      " |  rstrip(self, chars=None, /)\n",
      " |      Return a copy of the string with trailing whitespace removed.\n",
      " |      \n",
      " |      If chars is given and not None, remove characters in chars instead.\n",
      " |  \n",
      " |  split(self, /, sep=None, maxsplit=-1)\n",
      " |      Return a list of the substrings in the string, using sep as the separator string.\n",
      " |      \n",
      " |        sep\n",
      " |          The separator used to split the string.\n",
      " |      \n",
      " |          When set to None (the default value), will split on any whitespace\n",
      " |          character (including \\\\n \\\\r \\\\t \\\\f and spaces) and will discard\n",
      " |          empty strings from the result.\n",
      " |        maxsplit\n",
      " |          Maximum number of splits (starting from the left).\n",
      " |          -1 (the default value) means no limit.\n",
      " |      \n",
      " |      Note, str.split() is mainly useful for data that has been intentionally\n",
      " |      delimited.  With natural text that includes punctuation, consider using\n",
      " |      the regular expression module.\n",
      " |  \n",
      " |  splitlines(self, /, keepends=False)\n",
      " |      Return a list of the lines in the string, breaking at line boundaries.\n",
      " |      \n",
      " |      Line breaks are not included in the resulting list unless keepends is given and\n",
      " |      true.\n",
      " |  \n",
      " |  startswith(...)\n",
      " |      S.startswith(prefix[, start[, end]]) -> bool\n",
      " |      \n",
      " |      Return True if S starts with the specified prefix, False otherwise.\n",
      " |      With optional start, test S beginning at that position.\n",
      " |      With optional end, stop comparing S at that position.\n",
      " |      prefix can also be a tuple of strings to try.\n",
      " |  \n",
      " |  strip(self, chars=None, /)\n",
      " |      Return a copy of the string with leading and trailing whitespace removed.\n",
      " |      \n",
      " |      If chars is given and not None, remove characters in chars instead.\n",
      " |  \n",
      " |  swapcase(self, /)\n",
      " |      Convert uppercase characters to lowercase and lowercase characters to uppercase.\n",
      " |  \n",
      " |  title(self, /)\n",
      " |      Return a version of the string where each word is titlecased.\n",
      " |      \n",
      " |      More specifically, words start with uppercased characters and all remaining\n",
      " |      cased characters have lower case.\n",
      " |  \n",
      " |  translate(self, table, /)\n",
      " |      Replace each character in the string using the given translation table.\n",
      " |      \n",
      " |        table\n",
      " |          Translation table, which must be a mapping of Unicode ordinals to\n",
      " |          Unicode ordinals, strings, or None.\n",
      " |      \n",
      " |      The table must implement lookup/indexing via __getitem__, for instance a\n",
      " |      dictionary or list.  If this operation raises LookupError, the character is\n",
      " |      left untouched.  Characters mapped to None are deleted.\n",
      " |  \n",
      " |  upper(self, /)\n",
      " |      Return a copy of the string converted to uppercase.\n",
      " |  \n",
      " |  zfill(self, width, /)\n",
      " |      Pad a numeric string with zeros on the left, to fill a field of the given width.\n",
      " |      \n",
      " |      The string is never truncated.\n",
      " |  \n",
      " |  ----------------------------------------------------------------------\n",
      " |  Static methods inherited from builtins.str:\n",
      " |  \n",
      " |  __new__(*args, **kwargs) from builtins.type\n",
      " |      Create and return a new object.  See help(type) for accurate signature.\n",
      " |  \n",
      " |  maketrans(...)\n",
      " |      Return a translation table usable for str.translate().\n",
      " |      \n",
      " |      If there is only one argument, it must be a dictionary mapping Unicode\n",
      " |      ordinals (integers) or characters to Unicode ordinals, strings or None.\n",
      " |      Character keys will be then converted to ordinals.\n",
      " |      If there are two arguments, they must be strings of equal length, and\n",
      " |      in the resulting dictionary, each character in x will be mapped to the\n",
      " |      character at the same position in y. If there is a third argument, it\n",
      " |      must be a string, whose characters will be mapped to None in the result.\n",
      "\n"
     ]
    }
   ],
   "source": [
    "# we have overwritten __mul__\n",
    "help(newStr)"
   ]
  },
  {
   "cell_type": "code",
   "execution_count": null,
   "metadata": {
    "slideshow": {
     "slide_type": "fragment"
    }
   },
   "outputs": [],
   "source": [
    "a = newStr(\"Hallo \")\n",
    "b = newStr(\"Welt!\")\n",
    "a * b"
   ]
  },
  {
   "cell_type": "markdown",
   "metadata": {
    "slideshow": {
     "slide_type": "slide"
    }
   },
   "source": [
    "## Beispiel: Klassen für Matrizen und Vektoren\n",
    "\n",
    "Wir benötigen ein Fundament für unseren iterativen Löser (Richardson Verfahren):\n",
    "\n",
    " - Baupläne (Klasse) für:\n",
    "   - Vektoren; vererben `list()`\n",
    "   - Matrizen; Vorlage: CSR Format\n",
    " - Prozeduren (Funktionen und/oder Methoden), die aufbauend auf diesen Bauplänen die mathematischen Funktionen implementieren:\n",
    "   - Skalarmultiplikation: $\\mathbb{R} \\times \\mathbb{R}^n \\to \\mathbb{R},~(\\lambda,x) \\mapsto \\lambda \\cdot x$\n",
    "   - Addition: $\\mathbb{R}^n \\times \\mathbb{R}^n \\to  \\mathbb{R}^n,~(x,y) \\mapsto  x+y$\n",
    "   - Euklidische Norm: $\\mathbb{R}^n \\to [0,+\\infty),~x \\mapsto \\|x\\|_2 := \\sqrt{\\sum_{i=1}^n x_i^2}$\n",
    "   - Matrix--Vektor Produkt (wir werden den `@` Operator überladen)\n",
    " - Optional: Funktionen zur Erzeugung von Matrix-Objekten mit bestimmter Struktur (zB. tridiagonal)"
   ]
  },
  {
   "cell_type": "markdown",
   "metadata": {
    "slideshow": {
     "slide_type": "fragment"
    }
   },
   "source": [
    "### Vektoren\n",
    "\n",
    "Für Vektoren werden wir auf den Basisdatentyp list() zurückgreifen.\n",
    "\n",
    "```python\n",
    "class vector(list):\n",
    "    pass\n",
    "```"
   ]
  },
  {
   "cell_type": "markdown",
   "metadata": {
    "slideshow": {
     "slide_type": "slide"
    }
   },
   "source": [
    "### Matrizen im CSR Format\n",
    "\n",
    "Um Matrizen im CSR Format zu implementieren bietet sich die Objektorientierung gut an.\n",
    "\n",
    "(Vgl. später auch mit https://docs.scipy.org/doc/scipy/reference/generated/scipy.sparse.csr_matrix.html)\n",
    "\n",
    "**Wiederholung:**\n",
    "\n",
    "Wir speichern eine Matrix $A\\in \\mathbb{R}^{m\\times n}$ mithilfe von 3 Listen:\n",
    "\n",
    "A $:=$ `(data, indices, indprt)`\n",
    "\n",
    " - `data` mit Länge `nnz`($:=$ Anzahl der Nichtnulleinträgen) enthält Werte der Nichtnulleinträge\n",
    " - `indices` mit Länge `nnz` enhält die entsprechenden **Spalten**-Indizes\n",
    " - `indprt` (index pointer) enthält ein Adjazenzpaare von Indizes im Wertebereich {0,...,nnz-1} pro Zeile\n",
    "\n",
    "Dann für die i-te Zeile:\n",
    " - Nichtnulleinträge ``data[indptr[i]:indptr[i+1]]``\n",
    " - mit zugehörigen Spaltenindizes``indices[indptr[i]:indptr[i+1]]``\n",
    "\n",
    "Das spart Speicherplatz bei hinreichend wenigen Nichtnulleinträgen :\n",
    "$$\\texttt{nnz} < \\frac{m (n − 1) − 1}{2}.$$ \n",
    "\n"
   ]
  },
  {
   "cell_type": "code",
   "execution_count": null,
   "metadata": {
    "slideshow": {
     "slide_type": "slide"
    }
   },
   "outputs": [],
   "source": [
    "class csr_matrix:\n",
    "    \"\"\"\n",
    "    Compressed Sparse Row matrix\n",
    "    \n",
    "    This can be instantiated via:\n",
    "        csr_matrix((data, indices, indptr), [shape=(m,n)])\n",
    "    \n",
    "    \n",
    "    Attributes\n",
    "    ----------\n",
    "    data\n",
    "        CSR format data array of the matrix\n",
    "    indices\n",
    "        CSR format column index array of the matrix\n",
    "    indptr\n",
    "        CSR format index pointer array of the matrix\n",
    "    shape : 2-tuple\n",
    "         Shape of the matrix\n",
    "    \"\"\"\n",
    "    def __init__(self, csrTuple, shape=None):\n",
    "        _data, _indices, _indptr = csrTuple\n",
    "        if shape:\n",
    "            self.shape = shape\n",
    "        self.data = _data\n",
    "        self.indices = _indices\n",
    "        self.indptr = _indptr\n",
    "    def dot():\n",
    "        pass\n",
    "    def __matmul__(a,b):\n",
    "        print(\"__matmul__\")\n",
    "        "
   ]
  },
  {
   "cell_type": "code",
   "execution_count": null,
   "metadata": {
    "slideshow": {
     "slide_type": "fragment"
    }
   },
   "outputs": [],
   "source": [
    "# Example\n",
    "data = [1, 2, 3]\n",
    "indices = [0, 1, 2]\n",
    "indptr = [0, 1, 2, 3]\n",
    "A = csr_matrix((data, indices, indptr), shape=(3,3))\n",
    "A @ 1"
   ]
  },
  {
   "cell_type": "code",
   "execution_count": null,
   "metadata": {
    "slideshow": {
     "slide_type": "fragment"
    }
   },
   "outputs": [],
   "source": [
    "A.__dict__"
   ]
  },
  {
   "cell_type": "markdown",
   "metadata": {
    "slideshow": {
     "slide_type": "slide"
    }
   },
   "source": [
    "**Erweiterungen**\n",
    "\n",
    " - Methode `dot(x)` für Matrix-Vektor Produkt `A.dot(x)`mit Vektor `x`\n",
    " - Operator `@` überladen mit Matrix-Vektor Produkt (Methode `__matmul__` implementieren)\n",
    " - Methode zum Skalieren der Matrix\n",
    " - Methode, um die dichte Matrix aufzubauen, zum Beispiel als eine Liste von Listen `[[row1], [row2],...,[rowM]]`\n",
    " - Funktion schreiben, die Objekte der Klasse csr_matrix mit einer bestimmten Struktur erstellt (zum Beispiel tridiagonal mit konstanten Diagonalen (Tridiagonal-Toeplitz-Matrix)) "
   ]
  }
 ],
 "metadata": {
  "celltoolbar": "Slideshow",
  "kernelspec": {
   "display_name": "Python 3 (ipykernel)",
   "language": "python",
   "name": "python3"
  },
  "language_info": {
   "codemirror_mode": {
    "name": "ipython",
    "version": 3
   },
   "file_extension": ".py",
   "mimetype": "text/x-python",
   "name": "python",
   "nbconvert_exporter": "python",
   "pygments_lexer": "ipython3",
   "version": "3.10.6"
  },
  "latex_envs": {
   "LaTeX_envs_menu_present": true,
   "autoclose": true,
   "autocomplete": true,
   "bibliofile": "biblio.bib",
   "cite_by": "apalike",
   "current_citInitial": 1,
   "eqLabelWithNumbers": true,
   "eqNumInitial": 1,
   "hotkeys": {
    "equation": "Ctrl-E",
    "itemize": "Ctrl-I"
   },
   "labels_anchors": false,
   "latex_user_defs": false,
   "report_style_numbering": false,
   "user_envs_cfg": false
  },
  "toc": {
   "base_numbering": 1,
   "nav_menu": {},
   "number_sections": true,
   "sideBar": true,
   "skip_h1_title": false,
   "title_cell": "Inhalt",
   "title_sidebar": "Inhalt",
   "toc_cell": true,
   "toc_position": {
    "height": "calc(100% - 180px)",
    "left": "10px",
    "top": "150px",
    "width": "377.5px"
   },
   "toc_section_display": true,
   "toc_window_display": false
  },
  "varInspector": {
   "cols": {
    "lenName": 16,
    "lenType": 16,
    "lenVar": 40
   },
   "kernels_config": {
    "python": {
     "delete_cmd_postfix": "",
     "delete_cmd_prefix": "del ",
     "library": "var_list.py",
     "varRefreshCmd": "print(var_dic_list())"
    },
    "r": {
     "delete_cmd_postfix": ") ",
     "delete_cmd_prefix": "rm(",
     "library": "var_list.r",
     "varRefreshCmd": "cat(var_dic_list()) "
    }
   },
   "types_to_exclude": [
    "module",
    "function",
    "builtin_function_or_method",
    "instance",
    "_Feature"
   ],
   "window_display": false
  }
 },
 "nbformat": 4,
 "nbformat_minor": 4
}
