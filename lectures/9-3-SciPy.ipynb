{
 "cells": [
  {
   "cell_type": "markdown",
   "metadata": {
    "toc": true
   },
   "source": [
    "<h1>SciPy<span class=\"tocSkip\"></span></h1>\n",
    "<div class=\"toc\"><ul class=\"toc-item\"><li><span><a href=\"#SciPy\" data-toc-modified-id=\"SciPy-3\"><span class=\"toc-item-num\">3&nbsp;&nbsp;</span>SciPy</a></span><ul class=\"toc-item\"><li><span><a href=\"#scipy.linalg\" data-toc-modified-id=\"scipy.linalg-3.1\"><span class=\"toc-item-num\">3.1&nbsp;&nbsp;</span><code>scipy.linalg</code></a></span></li><li><span><a href=\"#scipy.interpolate\" data-toc-modified-id=\"scipy.interpolate-3.2\"><span class=\"toc-item-num\">3.2&nbsp;&nbsp;</span><code>scipy.interpolate</code></a></span></li><li><span><a href=\"#scipy.optimize\" data-toc-modified-id=\"scipy.optimize-3.3\"><span class=\"toc-item-num\">3.3&nbsp;&nbsp;</span><code>scipy.optimize</code></a></span></li><li><span><a href=\"#scipy.integrate\" data-toc-modified-id=\"scipy.integrate-3.4\"><span class=\"toc-item-num\">3.4&nbsp;&nbsp;</span><code>scipy.integrate</code></a></span></li><li><span><a href=\"#scipy.sparse\" data-toc-modified-id=\"scipy.sparse-3.5\"><span class=\"toc-item-num\">3.5&nbsp;&nbsp;</span><code>scipy.sparse</code></a></span><ul class=\"toc-item\"><li><span><a href=\"#scipy.sparse.linalg\" data-toc-modified-id=\"scipy.sparse.linalg-3.5.1\"><span class=\"toc-item-num\">3.5.1&nbsp;&nbsp;</span><code>scipy.sparse.linalg</code></a></span></li><li><span><a href=\"#scipy.sparse.csgraph\" data-toc-modified-id=\"scipy.sparse.csgraph-3.5.2\"><span class=\"toc-item-num\">3.5.2&nbsp;&nbsp;</span><code>scipy.sparse.csgraph</code></a></span></li></ul></li><li><span><a href=\"#scipy.spatial\" data-toc-modified-id=\"scipy.spatial-3.6\"><span class=\"toc-item-num\">3.6&nbsp;&nbsp;</span><code>scipy.spatial</code></a></span></li><li><span><a href=\"#Partielle-Differentialgleichungen-(PDEs)\" data-toc-modified-id=\"Partielle-Differentialgleichungen-(PDEs)-3.7\"><span class=\"toc-item-num\">3.7&nbsp;&nbsp;</span>Partielle Differentialgleichungen (PDEs)</a></span></li></ul></li></ul></div>"
   ]
  },
  {
   "cell_type": "markdown",
   "metadata": {
    "slideshow": {
     "slide_type": "subslide"
    }
   },
   "source": [
    "## SciPy\n",
    "\n",
    " - Tutorial: https://scipy-lectures.org/intro/scipy.html\n",
    " - *\"scipy is the core package for scientific routines in Python; it is meant to operate efficiently on numpy arrays, so that numpy and scipy work hand in hand.\"*\n",
    "\n",
    "\n",
    " - **Untermodule** (Auswahl) unterteilt nach Anwendungsgebieten:\n",
    "     - constants\n",
    "     - integrate\n",
    "     - interpolate\n",
    "     - linalg\n",
    "     - sparse\n",
    "     - special"
   ]
  },
  {
   "cell_type": "markdown",
   "metadata": {
    "slideshow": {
     "slide_type": "subslide"
    }
   },
   "source": [
    "**Im Studium** *(hier: Programmierung, Lineare Optimierung, Numerik, Aufbaumodule Numerik und Optimierung)*\n",
    "\n",
    " - ...werden Algorithmen hinter den entsprechenden Routinen erklärt und selbst implementiert\n",
    "     - insbesondere `linalg`, `integrate`, `interpolate`\n",
    "     \n",
    "     \n",
    "- Python für Numerik: Umgang mit NumPy grundlegend und notwendig, denn mit dem Wissen über array-**Erzeugung** und  array-**Manipulation** (Matrix-Vektor-Rechnung) kann man letztlich alle grundlegenden numerischen Routinen implementieren\n",
    "\n",
    "\n",
    "- daher für SciPy hier nur ein Überblick (zur korrekten Verwendug Mathematik dahinter wichtig)\n",
    "\n",
    "\n",
    "    "
   ]
  },
  {
   "cell_type": "markdown",
   "metadata": {
    "slideshow": {
     "slide_type": "subslide"
    }
   },
   "source": [
    "**In der Praxis**\n",
    "  - Bevor man irgendetwas (!) selbst implementiert, sollte man immer vorher schauen, welche Routinen verfügbar sind\n",
    "  - das Rad nie neu erfinden (!!!), sondern nutzen was schon \"kampferprobt\" ist"
   ]
  },
  {
   "cell_type": "markdown",
   "metadata": {
    "slideshow": {
     "slide_type": "subslide"
    }
   },
   "source": [
    "### `scipy.linalg`\n",
    "\n",
    "https://docs.scipy.org/doc/scipy/reference/linalg.html\n",
    "\n",
    "**Vorab:** Das Untermodul `numpy.linalg` garantiert keine effiziente Implementierung (in kompilierten Sprachen) aller darunterliegenden Routinen, daher wird empfohlen stets `scipy.linalg` zu verwenden\n",
    "\n",
    "- Basics\n",
    "    - invertieren\n",
    "- Sämtliche Zerlegungn\n",
    "    - svd\n",
    "    - lu\n",
    "    - qr\n",
    "    - cholesky\n",
    "- Gleichungssysteme lösen\n",
    "    - `scipy.linalg.solve(A,b)` <> ' A \\ b' \n",
    "- Eigenwertprobleme\n"
   ]
  },
  {
   "cell_type": "markdown",
   "metadata": {
    "slideshow": {
     "slide_type": "subslide"
    }
   },
   "source": [
    "### `scipy.interpolate`\n",
    "\n",
    "https://docs.scipy.org/doc/scipy/reference/interpolate.html#module-scipy.interpolate\n",
    "\n",
    "- 1d\n",
    "- 2d\n",
    "- splines"
   ]
  },
  {
   "cell_type": "markdown",
   "metadata": {
    "slideshow": {
     "slide_type": "subslide"
    }
   },
   "source": [
    "###  `scipy.optimize`\n",
    "\n",
    "https://docs.scipy.org/doc/scipy/reference/optimize.html#module-scipy.optimize\n",
    "\n",
    "- (Multivariate) Optimierung\n",
    "    - CG\n",
    "    - (L-)BFGS\n",
    "    - Trust-Region\n",
    "    - (un-)beschränkt\n",
    "- Least-squares and Curve Fitting   \n",
    "    - (nicht-)linear\n",
    "    - (un-)beschränkt\n",
    "- Nullstellen\n",
    "    - Newton \n",
    "- Lineare Optimierung\n",
    "    - simplex"
   ]
  },
  {
   "cell_type": "markdown",
   "metadata": {
    "slideshow": {
     "slide_type": "subslide"
    }
   },
   "source": [
    "### `scipy.integrate`\n",
    "\n",
    "https://docs.scipy.org/doc/scipy/reference/tutorial/integrate.html\n",
    "\n",
    "- Funktionen integrieren (nD)\n",
    "    - Gauß\n",
    "    - Trapez\n",
    "    - adaptiv\n",
    "    - Romberg\n",
    "\n",
    "- Anfangswertprobleme (ODEs)\n",
    "    - expliziter/impliziter Euler\n",
    "    - Runge-Kutta"
   ]
  },
  {
   "cell_type": "markdown",
   "metadata": {
    "slideshow": {
     "slide_type": "subslide"
    }
   },
   "source": [
    "### `scipy.sparse`\n",
    "\n",
    "https://docs.scipy.org/doc/scipy/reference/sparse.html#module-scipy.sparse\n",
    "\n",
    "- numpy array Erzeugung in sämtlichen Sparse Formaten\n",
    "\n",
    "####   `scipy.sparse.linalg`\n",
    "\n",
    "   - alles was `scipy.linalg` kann für Sparse Formate\n",
    "\n",
    "####   `scipy.sparse.csgraph`\n",
    "\n",
    " - effiziente Algorithmen aus der Graphentheorie für Sparse Formate\n",
    "\n"
   ]
  },
  {
   "cell_type": "markdown",
   "metadata": {
    "slideshow": {
     "slide_type": "subslide"
    }
   },
   "source": [
    "### `scipy.spatial`\n",
    "\n",
    "https://docs.scipy.org/doc/scipy/reference/spatial.html#module-scipy.spatial\n",
    "\n",
    "- Graphen\n",
    "- Gitter\n",
    "    - Delaunay\n",
    "    \n",
    "    \n",
    "### Partielle Differentialgleichungen (PDEs)\n",
    "\n",
    "\n",
    "- FEniCS software library.\n",
    "https://fenicsproject.org/"
   ]
  },
  {
   "cell_type": "code",
   "execution_count": null,
   "metadata": {},
   "outputs": [],
   "source": []
  }
 ],
 "metadata": {
  "kernelspec": {
   "display_name": "Python 3",
   "language": "python",
   "name": "python3"
  },
  "language_info": {
   "codemirror_mode": {
    "name": "ipython",
    "version": 3
   },
   "file_extension": ".py",
   "mimetype": "text/x-python",
   "name": "python",
   "nbconvert_exporter": "python",
   "pygments_lexer": "ipython3",
   "version": "3.8.5"
  },
  "toc": {
   "base_numbering": "3",
   "nav_menu": {},
   "number_sections": true,
   "sideBar": true,
   "skip_h1_title": false,
   "title_cell": "SciPy",
   "title_sidebar": "Inhalt",
   "toc_cell": true,
   "toc_position": {},
   "toc_section_display": true,
   "toc_window_display": true
  }
 },
 "nbformat": 4,
 "nbformat_minor": 4
}
