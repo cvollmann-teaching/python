{
 "cells": [
  {
   "cell_type": "markdown",
   "metadata": {
    "slideshow": {
     "slide_type": "slide"
    },
    "toc": true
   },
   "source": [
    "<h1><span class=\"tocSkip\"></span></h1>\n",
    "<div class=\"toc\"><ul class=\"toc-item\"><li><span><a href=\"#Das-Datenmodell-von-Python\" data-toc-modified-id=\"Das-Datenmodell-von-Python-4\"><span class=\"toc-item-num\">4&nbsp;&nbsp;</span>Das Datenmodell von Python</a></span><ul class=\"toc-item\"><li><span><a href=\"#Struktur-eines-Objekts\" data-toc-modified-id=\"Struktur-eines-Objekts-4.1\"><span class=\"toc-item-num\">4.1&nbsp;&nbsp;</span>Struktur eines Objekts</a></span><ul class=\"toc-item\"><li><span><a href=\"#Datentyp\" data-toc-modified-id=\"Datentyp-4.1.1\"><span class=\"toc-item-num\">4.1.1&nbsp;&nbsp;</span>Datentyp</a></span></li><li><span><a href=\"#Wert\" data-toc-modified-id=\"Wert-4.1.2\"><span class=\"toc-item-num\">4.1.2&nbsp;&nbsp;</span>Wert</a></span></li><li><span><a href=\"#Identität\" data-toc-modified-id=\"Identität-4.1.3\"><span class=\"toc-item-num\">4.1.3&nbsp;&nbsp;</span>Identität</a></span></li></ul></li><li><span><a href=\"#Referenzen-und-Objekte-freigeben\" data-toc-modified-id=\"Referenzen-und-Objekte-freigeben-4.2\"><span class=\"toc-item-num\">4.2&nbsp;&nbsp;</span>Referenzen und Objekte freigeben</a></span></li><li><span><a href=\"#Mutable-vs.-Immutable-Datentypen\" data-toc-modified-id=\"Mutable-vs.-Immutable-Datentypen-4.3\"><span class=\"toc-item-num\">4.3&nbsp;&nbsp;</span>Mutable vs. Immutable Datentypen</a></span><ul class=\"toc-item\"><li><span><a href=\"#Immutable-Datentypen\" data-toc-modified-id=\"Immutable-Datentypen-4.3.1\"><span class=\"toc-item-num\">4.3.1&nbsp;&nbsp;</span>Immutable Datentypen</a></span></li><li><span><a href=\"#Mutable-Datentypen\" data-toc-modified-id=\"Mutable-Datentypen-4.3.2\"><span class=\"toc-item-num\">4.3.2&nbsp;&nbsp;</span>Mutable Datentypen</a></span></li><li><span><a href=\"#Effekte\" data-toc-modified-id=\"Effekte-4.3.3\"><span class=\"toc-item-num\">4.3.3&nbsp;&nbsp;</span>Effekte</a></span></li><li><span><a href=\"#Gegenüberstellung\" data-toc-modified-id=\"Gegenüberstellung-4.3.4\"><span class=\"toc-item-num\">4.3.4&nbsp;&nbsp;</span>Gegenüberstellung</a></span></li></ul></li></ul></li></ul></div>"
   ]
  },
  {
   "cell_type": "markdown",
   "metadata": {
    "slideshow": {
     "slide_type": "fragment"
    }
   },
   "source": [
    "Quellen: \n",
    "  - J.Ernesti, P.Kaiser, *Python 3 - Das umfassende Handbuch*: Teil 1 - Kapitel 6\n",
    "  - https://docs.python.org/3/reference/datamodel.html"
   ]
  },
  {
   "cell_type": "markdown",
   "metadata": {
    "slideshow": {
     "slide_type": "slide"
    }
   },
   "source": [
    "# Das Datenmodell von Python\n",
    "\n"
   ]
  },
  {
   "cell_type": "markdown",
   "metadata": {
    "slideshow": {
     "slide_type": "fragment"
    }
   },
   "source": [
    "- Wir schauen uns an wie Python Objekte zur Laufzeit verwaltet inkl. sich ergebender Besonderheiten\n",
    "- Um zu verstehen, was intern passiert, unterscheiden wir: **Referenz** und **(Daten-)Objekt** \n",
    "    - **Objekt** = Abstraktion für ein konkretes Datenobjekt im Speicher\n",
    "        - Ein Objekt kann als Instanziierung eines Datentyps aufgefasst werden.\n",
    "    \n",
    "    - **Referenz** = ermöglicht im Quelltext den Zugriff  auf ein Objekt (i.d.R. durch Variablennamen)\n",
    "        - Wir erzeugen eine Referenz mit dem Zuweisungsoperator `=`, indem wir schreiben: `Referenz = Literal`"
   ]
  },
  {
   "cell_type": "markdown",
   "metadata": {
    "slideshow": {
     "slide_type": "subslide"
    }
   },
   "source": [
    "**Beispiel**"
   ]
  },
  {
   "cell_type": "code",
   "execution_count": null,
   "metadata": {
    "slideshow": {
     "slide_type": "fragment"
    }
   },
   "outputs": [],
   "source": [
    "ref1 = 100."
   ]
  },
  {
   "cell_type": "markdown",
   "metadata": {
    "slideshow": {
     "slide_type": "fragment"
    }
   },
   "source": [
    "`ref1` $\\rightarrow$ referenziert $\\rightarrow$ `100.`"
   ]
  },
  {
   "cell_type": "markdown",
   "metadata": {
    "slideshow": {
     "slide_type": "fragment"
    }
   },
   "source": [
    "Bereits referenzierte Objekte können wir mit weiteren Referenzen versehen:"
   ]
  },
  {
   "cell_type": "code",
   "execution_count": null,
   "metadata": {
    "slideshow": {
     "slide_type": "fragment"
    }
   },
   "outputs": [],
   "source": [
    "ref2 = ref1 \n",
    "print(ref2)"
   ]
  },
  {
   "cell_type": "markdown",
   "metadata": {
    "slideshow": {
     "slide_type": "fragment"
    }
   },
   "source": [
    "&nbsp;&nbsp;&nbsp;&nbsp;&nbsp;`ref1`  $\\rightarrow$ \n",
    "\n",
    "&nbsp;&nbsp;&nbsp;&nbsp;&nbsp;&nbsp;&nbsp;&nbsp;&nbsp;&nbsp;&nbsp;&nbsp;&nbsp;&nbsp;&nbsp;&nbsp;&nbsp;&nbsp;&nbsp;&nbsp;&nbsp;&nbsp;&nbsp;&nbsp;&nbsp;&nbsp;&nbsp; `100.` \n",
    "\n",
    "&nbsp;&nbsp;&nbsp;&nbsp;&nbsp;`ref2`  $\\rightarrow$"
   ]
  },
  {
   "cell_type": "markdown",
   "metadata": {
    "slideshow": {
     "slide_type": "fragment"
    }
   },
   "source": [
    "**Wichtige Beobachtung:** Im Speicher gibt es nach wie vor nur einmal das Objekt vom Typ `float` mit dem Wert `100.`\n",
    "   - Durch `ref2 = ref1` wird das Objekt mit dem Wert `100.` also nicht kopiert, sondern lediglich ein zweites Mal referenziert."
   ]
  },
  {
   "cell_type": "markdown",
   "metadata": {
    "slideshow": {
     "slide_type": "subslide"
    }
   },
   "source": [
    "**Referenzen auf dasselbe Objekt sind unabhängig im folgenden Sinne**\n",
    "\n",
    "Zunächst das Beispiel von oben mit zwei Referenzen auf ein Objekt"
   ]
  },
  {
   "cell_type": "code",
   "execution_count": null,
   "metadata": {
    "slideshow": {
     "slide_type": "fragment"
    }
   },
   "outputs": [],
   "source": [
    "ref1 = 100.\n",
    "ref2 = ref1\n",
    "print(ref1, ref2) \n",
    "# ref1 is ref2 "
   ]
  },
  {
   "cell_type": "markdown",
   "metadata": {
    "slideshow": {
     "slide_type": "fragment"
    }
   },
   "source": [
    "Nun richten wir `ref1` auf ein anderes Objekt:"
   ]
  },
  {
   "cell_type": "code",
   "execution_count": null,
   "metadata": {
    "scrolled": true,
    "slideshow": {
     "slide_type": "fragment"
    }
   },
   "outputs": [],
   "source": [
    "ref1 = 200.  # erzeugt ein neues Objekt mit Referenz ref1!\n",
    "print(ref1, ref2)\n",
    "# ref1 is ref2"
   ]
  },
  {
   "cell_type": "code",
   "execution_count": null,
   "metadata": {},
   "outputs": [],
   "source": [
    "ref1 = 100.\n",
    "ref2 = ref1\n",
    "ref1 = 200.\n",
    "ref2 = ref1\n",
    "print(ref2, ref1)"
   ]
  },
  {
   "cell_type": "markdown",
   "metadata": {
    "slideshow": {
     "slide_type": "fragment"
    }
   },
   "source": [
    "Wir bemerken, dass `ref2` weiterhin auf 100. verweist:\n",
    "\n",
    "`ref1` $\\rightarrow$ referenziert $\\rightarrow$ `200.`\n",
    "\n",
    "`ref2` $\\rightarrow$ referenziert $\\rightarrow$ `100.`"
   ]
  },
  {
   "cell_type": "markdown",
   "metadata": {
    "slideshow": {
     "slide_type": "slide"
    }
   },
   "source": [
    "## Struktur eines Objekts\n",
    "\n",
    "Ein Objekt in Python besitzt *drei* Merkmale:\n",
    "\n",
    "Merkmal | Beispiel | Abfrage\n",
    ":-|:-|:-\n",
    "**Datentyp** | `float` | `type()`\n",
    "**Wert** | `100.0` | `print()`\n",
    "**Identität** | `140101856400016` | `id()`"
   ]
  },
  {
   "cell_type": "markdown",
   "metadata": {
    "slideshow": {
     "slide_type": "subslide"
    }
   },
   "source": [
    "### Datentyp\n",
    "\n",
    "- Der Datentyp dient als Bauplan bei der Erzeugung eines Objekts\n",
    "- Er definiert die möglichen Werte und bestimmt die Operationen, die das Objekt unterstützt (z. B. \"hat es eine Länge?\"; siehe Methoden des Datentyps). \n",
    "- Beispiele:\n",
    "    - `int`/`float` erlauben das Speichern einer ganzen/Gleitkomma- Zahl und unterstützen u.a. die Operationen Addition, Mulitplikation, etc.\n",
    "    - `str` erlaubt speichern einer Zeichenkette\n",
    "- Den Datentyp eines Objekts können mit der eingebauten Funktion `type()` erfragen."
   ]
  },
  {
   "cell_type": "code",
   "execution_count": null,
   "metadata": {
    "slideshow": {
     "slide_type": "fragment"
    }
   },
   "outputs": [],
   "source": [
    "ref1 = 100\n",
    "ref2 = 100.\n",
    "print(type(ref1), type(ref2))"
   ]
  },
  {
   "cell_type": "code",
   "execution_count": null,
   "metadata": {
    "slideshow": {
     "slide_type": "fragment"
    }
   },
   "outputs": [],
   "source": [
    "type(ref1) == type(ref2)"
   ]
  },
  {
   "cell_type": "code",
   "execution_count": null,
   "metadata": {
    "scrolled": true,
    "slideshow": {
     "slide_type": "fragment"
    }
   },
   "outputs": [],
   "source": [
    "ref = \"string\"\n",
    "type(ref)"
   ]
  },
  {
   "cell_type": "code",
   "execution_count": null,
   "metadata": {
    "slideshow": {
     "slide_type": "fragment"
    }
   },
   "outputs": [],
   "source": [
    "ref = [1,1]\n",
    "type(ref)"
   ]
  },
  {
   "cell_type": "markdown",
   "metadata": {
    "slideshow": {
     "slide_type": "subslide"
    }
   },
   "source": [
    "### Wert\n",
    "\n",
    "Ein Objekt in Python besitzt *drei* Merkmale:\n",
    "\n",
    "Merkmal | Beispiel | Abfrage\n",
    ":-|:-|:-\n",
    "Datentyp | `float` | `type()`\n",
    "**Wert** | `100.` | `print()`  $~~~~~\\leftarrow$\n",
    "Identität | `140101856400016` | `id()`"
   ]
  },
  {
   "cell_type": "markdown",
   "metadata": {
    "slideshow": {
     "slide_type": "fragment"
    }
   },
   "source": [
    "Was den Wert ausmacht hängt vom Datentyp des Objekts ab"
   ]
  },
  {
   "cell_type": "code",
   "execution_count": null,
   "metadata": {
    "slideshow": {
     "slide_type": "fragment"
    }
   },
   "outputs": [],
   "source": [
    "# integer\n",
    "print(5)\n",
    "# float\n",
    "print(5.0)\n",
    "# string\n",
    "print(\"5\")\n",
    "# list\n",
    "print([5])"
   ]
  },
  {
   "cell_type": "markdown",
   "metadata": {
    "slideshow": {
     "slide_type": "subslide"
    }
   },
   "source": [
    "**Werte können wir mit dem Vergleichsoperator `==` vergleichen:**"
   ]
  },
  {
   "cell_type": "markdown",
   "metadata": {},
   "source": [
    "Objekt 1 | Beispiel|     |Objekt 2 | Beispiel \n",
    ":---------|:---------|:-----|:-----------|:----------\n",
    " Datentyp | `int` |   |Datentyp| `float` \n",
    "  **Wert** | 5 | $~~~~~$ `==` $~~~~~$ |**Wert**| 5.0 \n",
    "   Identität | 124213453125 ||Identität| 984248753125"
   ]
  },
  {
   "cell_type": "markdown",
   "metadata": {
    "slideshow": {
     "slide_type": "fragment"
    }
   },
   "source": [
    "Nur sinnvoll für strukturell ähnliche Datentypen:\n",
    "- `int == int`, `int == float`\n",
    "- `str == str`\n",
    "- `list == list`"
   ]
  },
  {
   "cell_type": "code",
   "execution_count": 8,
   "metadata": {
    "slideshow": {
     "slide_type": "subslide"
    }
   },
   "outputs": [
    {
     "data": {
      "text/plain": [
       "False"
      ]
     },
     "execution_count": 8,
     "metadata": {},
     "output_type": "execute_result"
    }
   ],
   "source": [
    "ref1 = 10\n",
    "ref2 = 10.1\n",
    "ref1 == ref2"
   ]
  },
  {
   "cell_type": "code",
   "execution_count": 9,
   "metadata": {
    "slideshow": {
     "slide_type": "fragment"
    }
   },
   "outputs": [
    {
     "name": "stdout",
     "output_type": "stream",
     "text": [
      "True <class 'int'> <class 'int'>\n",
      "True <class 'int'> <class 'float'>\n",
      "False <class 'int'> <class 'str'>\n"
     ]
    }
   ],
   "source": [
    "print(5 == 5, type(5), type(5))\n",
    "print(5 == 5.0, type(5), type(5.0))\n",
    "print(5 == \"5\", type(5), type(\"5\"))\n",
    "# print(\"hallo\" == \"hallo\", type(\"hallo\"), type(\"hallo\"))\n",
    "# print([0, 1] == range(2), type([0,1]), type(range(2))) "
   ]
  },
  {
   "cell_type": "markdown",
   "metadata": {
    "slideshow": {
     "slide_type": "fragment"
    }
   },
   "source": [
    " - Zum Beispiel: `int == string` ist immer False\n",
    " - Ist der Operator `==` für zwei bestimmte Typen nicht definiert, wird deren Identität herangezogen "
   ]
  },
  {
   "cell_type": "markdown",
   "metadata": {
    "slideshow": {
     "slide_type": "subslide"
    }
   },
   "source": [
    "### Identität\n",
    "\n",
    "Ein Objekt in Python besitzt *drei* Merkmale:\n",
    "\n",
    "\n",
    "Merkmal | Beispiel | Abfrage\n",
    ":-|:-|:-\n",
    "Datentyp | `float` | `type()`\n",
    "Wert | `100.` | `print()`  \n",
    "**Identität** | `140101856400016` | `id()`$~~~~~\\leftarrow$"
   ]
  },
  {
   "cell_type": "markdown",
   "metadata": {
    "slideshow": {
     "slide_type": "fragment"
    }
   },
   "source": [
    "Zwei unterschiedliche Objekte können durchaus denselben Typ und Wert besitzen. Wie können wir diese also unterscheiden?"
   ]
  },
  {
   "cell_type": "code",
   "execution_count": 10,
   "metadata": {
    "slideshow": {
     "slide_type": "fragment"
    }
   },
   "outputs": [
    {
     "data": {
      "text/plain": [
       "(True, True)"
      ]
     },
     "execution_count": 10,
     "metadata": {},
     "output_type": "execute_result"
    }
   ],
   "source": [
    "ref1 = 5.  # erzeugt ein Objekt mit Typ=float, Wert=5.\n",
    "ref2 = 5.  # erzeugt ein weiteres Objekt mit Typ=float, Wert=5.\n",
    "type(ref1) == type(ref2), ref1 == ref2"
   ]
  },
  {
   "cell_type": "markdown",
   "metadata": {
    "slideshow": {
     "slide_type": "subslide"
    }
   },
   "source": [
    "**Identität** eines Objekts = ganze Zahl, die einem Objekt programmweit *eindeutig* zugeordnet ist \n",
    "\n",
    " - ändert sich nie, sobald Objekt angelegt\n",
    " - kann als Abstraktion der Speicheradresse aufgefasst werden\n",
    " - Abfrage mit der eingebauten Funktion `id()`"
   ]
  },
  {
   "cell_type": "code",
   "execution_count": 11,
   "metadata": {
    "slideshow": {
     "slide_type": "fragment"
    }
   },
   "outputs": [
    {
     "data": {
      "text/plain": [
       "(140036387780304, 140036387774704, False)"
      ]
     },
     "execution_count": 11,
     "metadata": {},
     "output_type": "execute_result"
    }
   ],
   "source": [
    "ref1 = 5.  # erzeugt ein Objekt mit Typ=float, Wert=5.\n",
    "ref2 = 5.  # erzeugt ein weiteres Objekt mit Typ=float, Wert=5.\n",
    "id(ref1), id(ref2), id(ref1) == id(ref2)"
   ]
  },
  {
   "cell_type": "code",
   "execution_count": 12,
   "metadata": {
    "slideshow": {
     "slide_type": "fragment"
    }
   },
   "outputs": [
    {
     "name": "stdout",
     "output_type": "stream",
     "text": [
      "True\n",
      "False\n"
     ]
    }
   ],
   "source": [
    "a = [0,1]\n",
    "b = a\n",
    "c = [0,1]\n",
    "#c = a\n",
    "print(id(a) == id(b))\n",
    "print(id(a) == id(c))"
   ]
  },
  {
   "cell_type": "markdown",
   "metadata": {
    "slideshow": {
     "slide_type": "subslide"
    }
   },
   "source": [
    "**Ausnahmen:** integers von -5 bis 256 werden python-intern in einem array gespeichert\n",
    "    \n",
    "Bei der vermeintlichen Instanziierung `a = 5` wird tatsächlich nur eine neue Referenz erzeugt"
   ]
  },
  {
   "cell_type": "code",
   "execution_count": 15,
   "metadata": {
    "slideshow": {
     "slide_type": "fragment"
    }
   },
   "outputs": [
    {
     "data": {
      "text/plain": [
       "False"
      ]
     },
     "execution_count": 15,
     "metadata": {},
     "output_type": "execute_result"
    }
   ],
   "source": [
    "a = 190.\n",
    "b = 190.\n",
    "id(a) == id(b)"
   ]
  },
  {
   "cell_type": "markdown",
   "metadata": {
    "slideshow": {
     "slide_type": "subslide"
    }
   },
   "source": [
    "**Identitäten-Vergleich besitzt einen eigenen Operator: `is`**\n",
    "\n",
    "`id(a) == id(b)` $\\Leftrightarrow$ `a is b`"
   ]
  },
  {
   "cell_type": "markdown",
   "metadata": {
    "slideshow": {
     "slide_type": "fragment"
    }
   },
   "source": [
    "Objekt 1 | Beispiel|     |Objekt 2 | Beispiel \n",
    ":---------|:---------|:-----|:-----------|:----------\n",
    " Datentyp | `int` |   |Datentyp| `float` \n",
    "  Wert | 5 |   |Wert| 5. \n",
    "   **Identität** | 124213453125 |$~~~~~$**`is`**$~~~~~$|**Identität**| 984248753125"
   ]
  },
  {
   "cell_type": "code",
   "execution_count": 16,
   "metadata": {
    "slideshow": {
     "slide_type": "fragment"
    }
   },
   "outputs": [
    {
     "data": {
      "text/plain": [
       "(True, False, False)"
      ]
     },
     "execution_count": 16,
     "metadata": {},
     "output_type": "execute_result"
    }
   ],
   "source": [
    "a = 190\n",
    "b = 190. # 190\n",
    "a == b, id(a) == id(b), a is b"
   ]
  },
  {
   "cell_type": "code",
   "execution_count": null,
   "metadata": {
    "slideshow": {
     "slide_type": "subslide"
    }
   },
   "outputs": [],
   "source": [
    "a = [0, 1]\n",
    "b = [0, 1]\n",
    "print(a is b)\n",
    "# erzeugt zwei Objekte und benötigt mehr Speicher als\n",
    "# die Erzeugung zweier Referenzen:\n",
    "a = [0, 1]\n",
    "b = a\n",
    "print(a is b)"
   ]
  },
  {
   "cell_type": "markdown",
   "metadata": {
    "slideshow": {
     "slide_type": "subslide"
    }
   },
   "source": [
    "## Referenzen und Objekte freigeben"
   ]
  },
  {
   "cell_type": "markdown",
   "metadata": {
    "slideshow": {
     "slide_type": "fragment"
    }
   },
   "source": [
    "Objekte werden letztlich im Speicher (Hardware) angelegt. Wenn Objekte nicht mehr gebraucht werden, sollte dieser Speicher freigegeben werden, um nicht unnötig Ressourcen zu verbrauchen.\n",
    " - Programmierer kann den Speicher nicht direkt verwalten (das übernimmt Python).\n",
    " - Allerdings: Python löscht Objekte automatisch, auf die keine Referenz mehr exisitert (*Garbage Collection*/  *Müllabfuhr*)\n",
    "     - Objekt ohne Referenz ist für den Programmierer ohnehin nicht mehr zugänglich (daher nicht mehr benötigt)\n",
    "     - Python benutzt dafür intern einen Referenzzähler (*reference count*)\n",
    "     - alle Referenzen entfernen $\\Rightarrow$ Objekt wird entfernt"
   ]
  },
  {
   "cell_type": "markdown",
   "metadata": {
    "slideshow": {
     "slide_type": "subslide"
    }
   },
   "source": [
    "**Referenz entfernen/freigeben mit `del`-Anweisung**\n",
    "\n",
    "[Skizze zu `del`](4_LaufzeitModell_5.png)"
   ]
  },
  {
   "cell_type": "code",
   "execution_count": 17,
   "metadata": {
    "slideshow": {
     "slide_type": "fragment"
    }
   },
   "outputs": [
    {
     "ename": "NameError",
     "evalue": "name 'a' is not defined",
     "output_type": "error",
     "traceback": [
      "\u001b[0;31m---------------------------------------------------------------------------\u001b[0m",
      "\u001b[0;31mNameError\u001b[0m                                 Traceback (most recent call last)",
      "\u001b[0;32m/tmp/ipykernel_5925/3113516970.py\u001b[0m in \u001b[0;36m<module>\u001b[0;34m\u001b[0m\n\u001b[1;32m      1\u001b[0m \u001b[0ma\u001b[0m \u001b[0;34m=\u001b[0m \u001b[0;34m[\u001b[0m\u001b[0;36m1\u001b[0m\u001b[0;34m,\u001b[0m\u001b[0;36m5\u001b[0m\u001b[0;34m]\u001b[0m\u001b[0;34m\u001b[0m\u001b[0;34m\u001b[0m\u001b[0m\n\u001b[1;32m      2\u001b[0m \u001b[0;32mdel\u001b[0m \u001b[0ma\u001b[0m\u001b[0;34m\u001b[0m\u001b[0;34m\u001b[0m\u001b[0m\n\u001b[0;32m----> 3\u001b[0;31m \u001b[0mprint\u001b[0m\u001b[0;34m(\u001b[0m\u001b[0ma\u001b[0m\u001b[0;34m)\u001b[0m\u001b[0;34m\u001b[0m\u001b[0;34m\u001b[0m\u001b[0m\n\u001b[0m",
      "\u001b[0;31mNameError\u001b[0m: name 'a' is not defined"
     ]
    }
   ],
   "source": [
    "a = [1,5]\n",
    "del a\n",
    "print(a) "
   ]
  },
  {
   "cell_type": "code",
   "execution_count": 18,
   "metadata": {
    "slideshow": {
     "slide_type": "fragment"
    }
   },
   "outputs": [
    {
     "name": "stdout",
     "output_type": "stream",
     "text": [
      "[1, 5]\n"
     ]
    }
   ],
   "source": [
    "a = [1,5]  # Anzahl Referenzen auf Objekt mit Wert [1,5] = 1\n",
    "b = a  # Anzahl Referenzen auf Objekt mit Wert [1,5] = 2\n",
    "del a #,b   # Anzahl Referenzen auf Objekt mit Wert [1,5] = 1\n",
    "print(b)"
   ]
  },
  {
   "cell_type": "markdown",
   "metadata": {
    "slideshow": {
     "slide_type": "subslide"
    }
   },
   "source": [
    "## Mutable vs. Immutable Datentypen\n",
    "\n",
    "(im)mutable = (un)veränderlich\n",
    "\n",
    "Häufig unterscheiden Programmiersprachen (so auch Python) zwei grundlegende Eigenschaften von Datentypen: **immutable** vs **mutable**\n",
    "\n",
    "**Wdh:** Ein Objekt in Python besitzt *drei* Merkmale:\n",
    "\n",
    "Merkmal | Beispiel | Abfrage\n",
    ":-|:-|:-\n",
    "Datentyp | `float` | `type()`\n",
    "***Wert*** | `100.0` | `print()`\n",
    "Identität | `140101856400016` | `id()`"
   ]
  },
  {
   "cell_type": "markdown",
   "metadata": {
    "slideshow": {
     "slide_type": "fragment"
    }
   },
   "source": [
    "Der Unterschied besteht darin, dass der **Wert** eines Objekts vom Typ (im)mutable nach Erzeugung (un)veränderlich ist!"
   ]
  },
  {
   "cell_type": "markdown",
   "metadata": {
    "slideshow": {
     "slide_type": "subslide"
    }
   },
   "source": [
    "### Immutable Datentypen"
   ]
  },
  {
   "cell_type": "markdown",
   "metadata": {
    "slideshow": {
     "slide_type": "fragment"
    }
   },
   "source": [
    "- Wert des Objekts ist unveränderlich.\n",
    "- Manipulation eines immutable Datentyps führt zur Erzeugung eines neuen Objekt.\n",
    "    - Manipulationen z.B. über *kombinierte Zuweisungsoperatoren*: `+=`,`-=`, `*=`, `/=`, `**=`, `//=`\n",
    "- Beispiele: `int`, `float`, `str`"
   ]
  },
  {
   "cell_type": "code",
   "execution_count": 19,
   "metadata": {
    "slideshow": {
     "slide_type": "subslide"
    }
   },
   "outputs": [
    {
     "name": "stdout",
     "output_type": "stream",
     "text": [
      "-6.0\n",
      "140036387780944 140036387780944 True\n"
     ]
    }
   ],
   "source": [
    "a = -6.\n",
    "b = a\n",
    "print(a)\n",
    "print(id(a), id(b), a is b)"
   ]
  },
  {
   "cell_type": "code",
   "execution_count": 20,
   "metadata": {
    "slideshow": {
     "slide_type": "fragment"
    }
   },
   "outputs": [
    {
     "name": "stdout",
     "output_type": "stream",
     "text": [
      "-12.0 -6.0\n",
      "140036387780784 140036387780944 False\n"
     ]
    }
   ],
   "source": [
    "# Nun manipulieren wir den Wert (= 6.) des Objekts\n",
    "a = a * 2 # oder aequivalent: a = a * 2\n",
    "print(a, b)\n",
    "print(id(a), id(b), a is b) "
   ]
  },
  {
   "cell_type": "code",
   "execution_count": null,
   "metadata": {
    "slideshow": {
     "slide_type": "skip"
    }
   },
   "outputs": [],
   "source": [
    "i = 256.\n",
    "print(id(i))\n",
    "while True:\n",
    "    i = i + 1\n",
    "    print(i, id(i))\n",
    "    if i == 268.:\n",
    "        break"
   ]
  },
  {
   "cell_type": "code",
   "execution_count": 21,
   "metadata": {
    "slideshow": {
     "slide_type": "subslide"
    }
   },
   "outputs": [
    {
     "name": "stdout",
     "output_type": "stream",
     "text": [
      "Hallo \n",
      "140036336396656 True\n"
     ]
    }
   ],
   "source": [
    "a = \"Hallo \"\n",
    "b = a\n",
    "print(a)\n",
    "print(id(a), a is b)\n"
   ]
  },
  {
   "cell_type": "code",
   "execution_count": 22,
   "metadata": {
    "slideshow": {
     "slide_type": "fragment"
    }
   },
   "outputs": [
    {
     "name": "stdout",
     "output_type": "stream",
     "text": [
      "Hallo Welt! Hallo \n",
      "140036336393904 False\n"
     ]
    }
   ],
   "source": [
    "# Nun manipulieren wir den Wert (= \"Hallo \") des Objekts\n",
    "a += \"Welt!\" # a = a + \"Welt!\"\n",
    "print(a, b)\n",
    "print(id(a), a is b)"
   ]
  },
  {
   "cell_type": "markdown",
   "metadata": {
    "slideshow": {
     "slide_type": "fragment"
    }
   },
   "source": [
    "[Skizze dazu](4_LaufzeitModell_6.png)"
   ]
  },
  {
   "cell_type": "markdown",
   "metadata": {
    "slideshow": {
     "slide_type": "subslide"
    }
   },
   "source": [
    "### Mutable Datentypen"
   ]
  },
  {
   "cell_type": "markdown",
   "metadata": {
    "slideshow": {
     "slide_type": "fragment"
    }
   },
   "source": [
    "- Wert eines Objekts vom Typ *mutable* ist veränderlich.\n",
    "- Manipulation eines mutable Datentyps führt **nicht** zur Erzeugung eines neuen Objekts.\n",
    "- Beispiel: `list`"
   ]
  },
  {
   "cell_type": "code",
   "execution_count": 23,
   "metadata": {
    "slideshow": {
     "slide_type": "fragment"
    }
   },
   "outputs": [
    {
     "name": "stdout",
     "output_type": "stream",
     "text": [
      "[1, 2]\n",
      "140036336393408 True\n"
     ]
    }
   ],
   "source": [
    "a = [1,2]\n",
    "b = a\n",
    "print(a)\n",
    "print(id(a), a is b)\n"
   ]
  },
  {
   "cell_type": "code",
   "execution_count": 25,
   "metadata": {
    "slideshow": {
     "slide_type": "fragment"
    }
   },
   "outputs": [
    {
     "name": "stdout",
     "output_type": "stream",
     "text": [
      "[1, 2, 3, 4, 3, [4]]\n",
      "140036336393408 True\n"
     ]
    }
   ],
   "source": [
    "# Nun manipulieren wir den Wert des Objekts\n",
    "a += [3,[4]] \n",
    "# a = a + [3,4]  # Achtung: Syntax a = a + [3,4] bewirkt Objekterzeugung, da Zuweisungsoperator!\n",
    "print(b)\n",
    "print(id(a), a is b)"
   ]
  },
  {
   "cell_type": "markdown",
   "metadata": {
    "slideshow": {
     "slide_type": "fragment"
    }
   },
   "source": [
    "[Skizze dazu](4_LaufzeitModell_7.png)"
   ]
  },
  {
   "cell_type": "markdown",
   "metadata": {
    "slideshow": {
     "slide_type": "subslide"
    }
   },
   "source": [
    "### Effekte"
   ]
  },
  {
   "cell_type": "markdown",
   "metadata": {
    "slideshow": {
     "slide_type": "fragment"
    }
   },
   "source": [
    "Da sich der Wert von immutable Objekten nicht ändern kann, ist es nicht \"sinnvoll\" zwei unterschiedliche Objekte mit demselben Wert zu erzeugen, da im Optimalfall ein Objekt ausreicht, auf die dann Referenzen verweisen."
   ]
  },
  {
   "cell_type": "code",
   "execution_count": null,
   "metadata": {
    "slideshow": {
     "slide_type": "fragment"
    }
   },
   "outputs": [],
   "source": [
    "a = 1  # Referenzerzeugung 1\n",
    "b = 1  # vermeintliche Objekterzeugung 2, aber\n",
    "a is b  # a und b sind nur Referenzen auf das Objekt mit dem Wert 1"
   ]
  },
  {
   "cell_type": "markdown",
   "metadata": {
    "slideshow": {
     "slide_type": "subslide"
    }
   },
   "source": [
    "Wird im Programm ein immutable angefordert hat Python zwei Möglichkeiten\n",
    " - (1) Objekt erzeugen\n",
    " - (2) Referenz auf bestehendes Objekt erzeugen"
   ]
  },
  {
   "cell_type": "markdown",
   "metadata": {
    "slideshow": {
     "slide_type": "fragment"
    }
   },
   "source": [
    "(1) Objekterzeugung = Speicher anfordern +  mit Information befüllen (kostet Rechenzeit und Speicherplatz )\n",
    " "
   ]
  },
  {
   "cell_type": "markdown",
   "metadata": {
    "slideshow": {
     "slide_type": "fragment"
    }
   },
   "source": [
    "(2) ein bestehendes Objekt nochmal referenzieren = Referenzzähler erhöhen + Speicheradresse ermitteln und kopieren (billiger, sofern schnell ermittlet werden kann, wo das Objekt mit dem entsprechenden Wert gespeichert ist)\n",
    "\n",
    "Daher für immutable Datentypen im Optimalfall nur eine einzige Instanz mit mehreren Referenzen darauf, **aber**...\n",
    "\n",
    "je mehr Objekte im Speicher existieren, desto aufwändiger ist die Ermittlung der Speicheradresse, daher ab einem gewissen Punkt Instanzerzeugung billiger.\n",
    "\n",
    "$\\rightarrow$ ob er Programmier darauf Einfluss hat hängt von der Umsetzung der Programmiersprache ab. In Python haben wir zunächst keinen direkten Einfluss darauf."
   ]
  },
  {
   "cell_type": "markdown",
   "metadata": {
    "slideshow": {
     "slide_type": "subslide"
    }
   },
   "source": [
    "### Gegenüberstellung"
   ]
  },
  {
   "cell_type": "code",
   "execution_count": null,
   "metadata": {
    "slideshow": {
     "slide_type": "subslide"
    }
   },
   "outputs": [],
   "source": [
    "a = \"Hallo \" # Objekterzeugung\n",
    "b = a      \n",
    "print(a is b) \n",
    "a += \"Welt!\" # Objekterzeugung (da Wert unveränderlich), a referenziert andere Instanz mit dem neuen Wert\n",
    "print(a, b)"
   ]
  },
  {
   "cell_type": "code",
   "execution_count": null,
   "metadata": {
    "slideshow": {
     "slide_type": "subslide"
    }
   },
   "outputs": [],
   "source": [
    "a = [1,2]\n",
    "b = a # später Modul copy\n",
    "c = a\n",
    "a += [3,4] # *keine* Objekterzeugung (da Wert veränderlich), b und a referenzieren dieselbe Instanz\n",
    "print(a, b, c)"
   ]
  },
  {
   "cell_type": "markdown",
   "metadata": {
    "slideshow": {
     "slide_type": "fragment"
    }
   },
   "source": [
    "Also **Vorsicht** bei mehrfach referenzierten Objekten des Datentyps (im)mutable"
   ]
  },
  {
   "cell_type": "markdown",
   "metadata": {
    "slideshow": {
     "slide_type": "skip"
    }
   },
   "source": [
    "**Abschließende Bemerkungen aus der offiziellen Python Dokumentation**\n",
    "\n",
    " - Der Wert eines unveränderlichen Container-Objekts, das einen Verweis auf ein veränderliches Objekt enthält, kann sich ändern, wenn der Wert des letzteren geändert wird; der Container wird jedoch immer noch als unveränderlich angesehen, da die Sammlung der darin enthaltenen Objekte nicht geändert werden kann. Unveränderlichkeit ist also nicht unbedingt dasselbe wie ein unveränderlicher Wert, sondern etwas subtiler.\n",
    " \n",
    " - Typen beeinflussen fast alle Aspekte des Objektverhaltens. Selbst die Bedeutung der Objektidentität wird in gewisser Weise beeinflusst: Bei unveränderlichen Typen können Operationen, die neue Werte berechnen, tatsächlich einen Verweis auf ein beliebiges vorhandenes Objekt desselben Typs und desselben Werts zurückgeben, während dies bei veränderlichen Objekten nicht zulässig ist. So können sich z. B. nach a = 1; b = 1 a und b je nach Implementierung auf dasselbe Objekt mit dem Wert 1 beziehen, aber nach c = []; d = [] beziehen sich c und d garantiert auf zwei verschiedene, eindeutige, neu erstellte leere Listen. (Man beachte, dass c = d = [] sowohl c als auch d das gleiche Objekt zuweist)."
   ]
  }
 ],
 "metadata": {
  "celltoolbar": "Slideshow",
  "kernelspec": {
   "display_name": "Python 3",
   "language": "python",
   "name": "python3"
  },
  "language_info": {
   "codemirror_mode": {
    "name": "ipython",
    "version": 3
   },
   "file_extension": ".py",
   "mimetype": "text/x-python",
   "name": "python",
   "nbconvert_exporter": "python",
   "pygments_lexer": "ipython3",
   "version": "3.8.10"
  },
  "latex_envs": {
   "LaTeX_envs_menu_present": true,
   "autoclose": false,
   "autocomplete": true,
   "bibliofile": "biblio.bib",
   "cite_by": "apalike",
   "current_citInitial": 1,
   "eqLabelWithNumbers": true,
   "eqNumInitial": 1,
   "hotkeys": {
    "equation": "Ctrl-E",
    "itemize": "Ctrl-I"
   },
   "labels_anchors": false,
   "latex_user_defs": false,
   "report_style_numbering": false,
   "user_envs_cfg": false
  },
  "toc": {
   "base_numbering": "4",
   "nav_menu": {},
   "number_sections": true,
   "sideBar": true,
   "skip_h1_title": false,
   "title_cell": "",
   "title_sidebar": "",
   "toc_cell": true,
   "toc_position": {
    "height": "calc(100% - 180px)",
    "left": "10px",
    "top": "150px",
    "width": "165px"
   },
   "toc_section_display": true,
   "toc_window_display": true
  },
  "varInspector": {
   "cols": {
    "lenName": 16,
    "lenType": 16,
    "lenVar": 40
   },
   "kernels_config": {
    "python": {
     "delete_cmd_postfix": "",
     "delete_cmd_prefix": "del ",
     "library": "var_list.py",
     "varRefreshCmd": "print(var_dic_list())"
    },
    "r": {
     "delete_cmd_postfix": ") ",
     "delete_cmd_prefix": "rm(",
     "library": "var_list.r",
     "varRefreshCmd": "cat(var_dic_list()) "
    }
   },
   "types_to_exclude": [
    "module",
    "function",
    "builtin_function_or_method",
    "instance",
    "_Feature"
   ],
   "window_display": false
  }
 },
 "nbformat": 4,
 "nbformat_minor": 4
}
